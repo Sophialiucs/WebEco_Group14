{
 "cells": [
  {
   "cell_type": "code",
   "execution_count": 1,
   "metadata": {
    "collapsed": true
   },
   "outputs": [],
   "source": [
    "import pandas as pd\n",
    "import numpy as np"
   ]
  },
  {
   "cell_type": "code",
   "execution_count": 2,
   "metadata": {},
   "outputs": [],
   "source": [
    "pCTR_val = pd.read_csv('LR_pCTR_val_ceLiu.csv',index_col=0)\n",
    "pCTR_test = pd.read_csv('LR_pCTR_test_ceLiu.csv',index_col=0)\n",
    "click_val = pd.read_csv('LR_standard_val_ceLiu.csv',index_col=0)\n",
    "payprice_val = pd.read_csv('LR_payprice_val_ceLiu.csv',index_col=0)"
   ]
  },
  {
   "cell_type": "code",
   "execution_count": 99,
   "metadata": {},
   "outputs": [
    {
     "data": {
      "text/plain": [
       "0.00088126926688950969"
      ]
     },
     "execution_count": 99,
     "metadata": {},
     "output_type": "execute_result"
    }
   ],
   "source": [
    "pCTR_val.mean()"
   ]
  },
  {
   "cell_type": "code",
   "execution_count": 100,
   "metadata": {},
   "outputs": [
    {
     "data": {
      "text/plain": [
       "0.00090022758818608661"
      ]
     },
     "execution_count": 100,
     "metadata": {},
     "output_type": "execute_result"
    }
   ],
   "source": [
    "pCTR_test.mean()"
   ]
  },
  {
   "cell_type": "code",
   "execution_count": 3,
   "metadata": {
    "collapsed": true
   },
   "outputs": [],
   "source": [
    "bidid_test = pd.read_csv('LR_bidid_test_ceLiu.csv',index_col=0)"
   ]
  },
  {
   "cell_type": "code",
   "execution_count": 4,
   "metadata": {
    "collapsed": true
   },
   "outputs": [],
   "source": [
    "def evaluation (pBidprice, payprice, clicks, budget=6500000):\n",
    "    win_num = 0.\n",
    "    total_cost = 0.\n",
    "    click_num = 0.\n",
    "    for i in range(0, len(payprice)):\n",
    "        if pBidprice[i] > payprice[i]:\n",
    "            if total_cost + payprice[i] > budget:\n",
    "                break\n",
    "            win_num = win_num + 1\n",
    "            total_cost = total_cost + payprice[i]\n",
    "            click_num += clicks[i]\n",
    "    ctr = click_num / win_num\n",
    "    cpc = total_cost / click_num\n",
    "    print('win_num {}, total_cost {}, click_num {}, ctr {}, cpc {}'.format(win_num, total_cost, click_num, ctr, cpc))\n",
    "    return win_num, total_cost, click_num, ctr, cpc\n"
   ]
  },
  {
   "cell_type": "code",
   "execution_count": 5,
   "metadata": {
    "collapsed": true
   },
   "outputs": [],
   "source": [
    "def pbidprice(ctr, base_bid):\n",
    "    pbid = []\n",
    "    for i in range(len(ctr)):\n",
    "        p = base_bid * (ctr[i]/0.000738)\n",
    "        pbid.append(p)\n",
    "\n",
    "    return pbid"
   ]
  },
  {
   "cell_type": "code",
   "execution_count": 21,
   "metadata": {},
   "outputs": [
    {
     "data": {
      "text/plain": [
       "array([[  1.44498691e-07],\n",
       "       [  8.08571683e-08],\n",
       "       [  5.70512268e-08],\n",
       "       ..., \n",
       "       [  3.63783009e-07],\n",
       "       [  6.72731821e-08],\n",
       "       [  3.04173316e-07]])"
      ]
     },
     "execution_count": 21,
     "metadata": {},
     "output_type": "execute_result"
    }
   ],
   "source": [
    "np.array(pbidprice(np.array(pCTR_val), 1))"
   ]
  },
  {
   "cell_type": "code",
   "execution_count": 6,
   "metadata": {
    "collapsed": true
   },
   "outputs": [],
   "source": [
    "pCTR_val = np.array(pCTR_val)\n",
    "payprice_val = np.array(payprice_val)\n",
    "click_val = np.array(click_val)"
   ]
  },
  {
   "cell_type": "code",
   "execution_count": 30,
   "metadata": {},
   "outputs": [
    {
     "data": {
      "text/plain": [
       "array([  1.44498691e-07])"
      ]
     },
     "execution_count": 30,
     "metadata": {},
     "output_type": "execute_result"
    }
   ],
   "source": [
    "np.array(pbidprice(pCTR_val, 1))[0]"
   ]
  },
  {
   "cell_type": "code",
   "execution_count": 32,
   "metadata": {},
   "outputs": [
    {
     "data": {
      "text/plain": [
       "array([23])"
      ]
     },
     "execution_count": 32,
     "metadata": {},
     "output_type": "execute_result"
    }
   ],
   "source": [
    "np.array(payprice_val)[0]"
   ]
  },
  {
   "cell_type": "markdown",
   "metadata": {},
   "source": [
    "# Linear Bidding"
   ]
  },
  {
   "cell_type": "code",
   "execution_count": 36,
   "metadata": {},
   "outputs": [
    {
     "name": "stdout",
     "output_type": "stream",
     "text": [
      "win_num 997.0, total_cost [ 32073.], click_num [ 11.], ctr [ 0.0110331], cpc [ 2915.72727273]\n",
      "win_num 2336.0, total_cost [ 68463.], click_num [ 18.], ctr [ 0.00770548], cpc [ 3803.5]\n",
      "win_num 3370.0, total_cost [ 100219.], click_num [ 25.], ctr [ 0.0074184], cpc [ 4008.76]\n",
      "win_num 4473.0, total_cost [ 135185.], click_num [ 30.], ctr [ 0.00670691], cpc [ 4506.16666667]\n",
      "win_num 5652.0, total_cost [ 176801.], click_num [ 37.], ctr [ 0.00654636], cpc [ 4778.40540541]\n",
      "win_num 7044.0, total_cost [ 226560.], click_num [ 38.], ctr [ 0.00539466], cpc [ 5962.10526316]\n",
      "win_num 8382.0, total_cost [ 273829.], click_num [ 41.], ctr [ 0.00489143], cpc [ 6678.75609756]\n",
      "win_num 9660.0, total_cost [ 322284.], click_num [ 44.], ctr [ 0.00455487], cpc [ 7324.63636364]\n",
      "win_num 10941.0, total_cost [ 369597.], click_num [ 51.], ctr [ 0.00466137], cpc [ 7247.]\n",
      "win_num 12140.0, total_cost [ 414277.], click_num [ 55.], ctr [ 0.00453048], cpc [ 7532.30909091]\n",
      "win_num 13345.0, total_cost [ 459030.], click_num [ 59.], ctr [ 0.00442113], cpc [ 7780.16949153]\n",
      "win_num 14566.0, total_cost [ 506688.], click_num [ 63.], ctr [ 0.00432514], cpc [ 8042.66666667]\n",
      "win_num 15804.0, total_cost [ 554109.], click_num [ 64.], ctr [ 0.00404961], cpc [ 8657.953125]\n",
      "win_num 17031.0, total_cost [ 601026.], click_num [ 66.], ctr [ 0.00387529], cpc [ 9106.45454545]\n",
      "win_num 18260.0, total_cost [ 647378.], click_num [ 71.], ctr [ 0.00388828], cpc [ 9118.]\n",
      "win_num 19555.0, total_cost [ 698830.], click_num [ 74.], ctr [ 0.0037842], cpc [ 9443.64864865]\n",
      "win_num 20794.0, total_cost [ 745885.], click_num [ 77.], ctr [ 0.00370299], cpc [ 9686.81818182]\n",
      "win_num 22044.0, total_cost [ 795995.], click_num [ 81.], ctr [ 0.00367447], cpc [ 9827.09876543]\n",
      "win_num 23338.0, total_cost [ 845815.], click_num [ 84.], ctr [ 0.00359928], cpc [ 10069.22619048]\n",
      "win_num 24538.0, total_cost [ 894008.], click_num [ 86.], ctr [ 0.00350477], cpc [ 10395.44186047]\n",
      "win_num 25798.0, total_cost [ 944701.], click_num [ 88.], ctr [ 0.00341112], cpc [ 10735.23863636]\n",
      "win_num 27118.0, total_cost [ 997403.], click_num [ 88.], ctr [ 0.00324508], cpc [ 11334.125]\n",
      "win_num 28401.0, total_cost [ 1048668.], click_num [ 90.], ctr [ 0.0031689], cpc [ 11651.86666667]\n",
      "win_num 29634.0, total_cost [ 1098782.], click_num [ 91.], ctr [ 0.0030708], cpc [ 12074.52747253]\n",
      "win_num 30953.0, total_cost [ 1153473.], click_num [ 93.], ctr [ 0.00300456], cpc [ 12402.93548387]\n",
      "win_num 32152.0, total_cost [ 1201726.], click_num [ 96.], ctr [ 0.00298582], cpc [ 12517.97916667]\n",
      "win_num 33444.0, total_cost [ 1254407.], click_num [ 98.], ctr [ 0.00293027], cpc [ 12800.07142857]\n",
      "win_num 34721.0, total_cost [ 1307897.], click_num [ 101.], ctr [ 0.0029089], cpc [ 12949.47524752]\n",
      "win_num 36031.0, total_cost [ 1363149.], click_num [ 104.], ctr [ 0.0028864], cpc [ 13107.20192308]\n",
      "win_num 37315.0, total_cost [ 1415475.], click_num [ 106.], ctr [ 0.00284068], cpc [ 13353.53773585]\n",
      "win_num 38651.0, total_cost [ 1473776.], click_num [ 107.], ctr [ 0.00276836], cpc [ 13773.60747664]\n",
      "win_num 39892.0, total_cost [ 1527968.], click_num [ 107.], ctr [ 0.00268224], cpc [ 14280.07476636]\n",
      "win_num 41156.0, total_cost [ 1580963.], click_num [ 108.], ctr [ 0.00262416], cpc [ 14638.5462963]\n",
      "win_num 42442.0, total_cost [ 1637205.], click_num [ 112.], ctr [ 0.0026389], cpc [ 14617.90178571]\n",
      "win_num 43703.0, total_cost [ 1691724.], click_num [ 115.], ctr [ 0.0026314], cpc [ 14710.64347826]\n",
      "win_num 44934.0, total_cost [ 1745569.], click_num [ 115.], ctr [ 0.00255931], cpc [ 15178.86086957]\n",
      "win_num 46245.0, total_cost [ 1801837.], click_num [ 116.], ctr [ 0.00250838], cpc [ 15533.07758621]\n",
      "win_num 47496.0, total_cost [ 1856284.], click_num [ 116.], ctr [ 0.00244231], cpc [ 16002.44827586]\n",
      "win_num 48714.0, total_cost [ 1913130.], click_num [ 117.], ctr [ 0.00240177], cpc [ 16351.53846154]\n",
      "win_num 49931.0, total_cost [ 1967090.], click_num [ 117.], ctr [ 0.00234323], cpc [ 16812.73504274]\n",
      "win_num 51160.0, total_cost [ 2022142.], click_num [ 118.], ctr [ 0.00230649], cpc [ 17136.79661017]\n",
      "win_num 52420.0, total_cost [ 2082196.], click_num [ 119.], ctr [ 0.00227013], cpc [ 17497.44537815]\n",
      "win_num 53650.0, total_cost [ 2142164.], click_num [ 119.], ctr [ 0.00221808], cpc [ 18001.37815126]\n",
      "win_num 54914.0, total_cost [ 2199953.], click_num [ 119.], ctr [ 0.00216702], cpc [ 18487.]\n",
      "win_num 56126.0, total_cost [ 2256555.], click_num [ 122.], ctr [ 0.00217368], cpc [ 18496.35245902]\n",
      "win_num 57367.0, total_cost [ 2317052.], click_num [ 124.], ctr [ 0.00216152], cpc [ 18685.90322581]\n",
      "win_num 58574.0, total_cost [ 2375523.], click_num [ 124.], ctr [ 0.00211698], cpc [ 19157.44354839]\n",
      "win_num 59810.0, total_cost [ 2434570.], click_num [ 124.], ctr [ 0.00207323], cpc [ 19633.62903226]\n",
      "win_num 61029.0, total_cost [ 2493459.], click_num [ 127.], ctr [ 0.00208098], cpc [ 19633.53543307]\n",
      "win_num 62220.0, total_cost [ 2554301.], click_num [ 129.], ctr [ 0.00207329], cpc [ 19800.78294574]\n",
      "win_num 63366.0, total_cost [ 2609448.], click_num [ 130.], ctr [ 0.00205157], cpc [ 20072.67692308]\n",
      "win_num 64469.0, total_cost [ 2664939.], click_num [ 130.], ctr [ 0.00201647], cpc [ 20499.53076923]\n",
      "win_num 65684.0, total_cost [ 2726320.], click_num [ 132.], ctr [ 0.00200962], cpc [ 20653.93939394]\n",
      "win_num 66813.0, total_cost [ 2784070.], click_num [ 132.], ctr [ 0.00197566], cpc [ 21091.43939394]\n",
      "win_num 67962.0, total_cost [ 2845946.], click_num [ 134.], ctr [ 0.00197169], cpc [ 21238.40298507]\n",
      "win_num 69023.0, total_cost [ 2900800.], click_num [ 135.], ctr [ 0.00195587], cpc [ 21487.40740741]\n",
      "win_num 70160.0, total_cost [ 2957043.], click_num [ 136.], ctr [ 0.00193843], cpc [ 21742.96323529]\n",
      "win_num 71339.0, total_cost [ 3017289.], click_num [ 138.], ctr [ 0.00193443], cpc [ 21864.41304348]\n",
      "win_num 72487.0, total_cost [ 3073625.], click_num [ 139.], ctr [ 0.00191759], cpc [ 22112.41007194]\n",
      "win_num 73607.0, total_cost [ 3129842.], click_num [ 139.], ctr [ 0.00188841], cpc [ 22516.84892086]\n",
      "win_num 74722.0, total_cost [ 3188013.], click_num [ 139.], ctr [ 0.00186023], cpc [ 22935.34532374]\n",
      "win_num 75884.0, total_cost [ 3249666.], click_num [ 139.], ctr [ 0.00183174], cpc [ 23378.89208633]\n",
      "win_num 77047.0, total_cost [ 3315017.], click_num [ 139.], ctr [ 0.00180409], cpc [ 23849.04316547]\n",
      "win_num 78131.0, total_cost [ 3373067.], click_num [ 139.], ctr [ 0.00177906], cpc [ 24266.66906475]\n",
      "win_num 79260.0, total_cost [ 3432435.], click_num [ 140.], ctr [ 0.00176634], cpc [ 24517.39285714]\n",
      "win_num 80368.0, total_cost [ 3490502.], click_num [ 141.], ctr [ 0.00175443], cpc [ 24755.33333333]\n",
      "win_num 81455.0, total_cost [ 3547942.], click_num [ 141.], ctr [ 0.00173102], cpc [ 25162.70921986]\n",
      "win_num 82523.0, total_cost [ 3604473.], click_num [ 141.], ctr [ 0.00170861], cpc [ 25563.63829787]\n",
      "win_num 83680.0, total_cost [ 3667485.], click_num [ 143.], ctr [ 0.00170889], cpc [ 25646.74825175]\n",
      "win_num 84736.0, total_cost [ 3727087.], click_num [ 143.], ctr [ 0.00168759], cpc [ 26063.54545455]\n",
      "win_num 85858.0, total_cost [ 3787987.], click_num [ 143.], ctr [ 0.00166554], cpc [ 26489.41958042]\n",
      "win_num 86949.0, total_cost [ 3847169.], click_num [ 143.], ctr [ 0.00164464], cpc [ 26903.27972028]\n",
      "win_num 88000.0, total_cost [ 3905155.], click_num [ 143.], ctr [ 0.001625], cpc [ 27308.77622378]\n",
      "win_num 89053.0, total_cost [ 3965181.], click_num [ 144.], ctr [ 0.00161701], cpc [ 27535.97916667]\n",
      "win_num 90112.0, total_cost [ 4023152.], click_num [ 144.], ctr [ 0.00159801], cpc [ 27938.55555556]\n",
      "win_num 91090.0, total_cost [ 4079765.], click_num [ 144.], ctr [ 0.00158085], cpc [ 28331.70138889]\n",
      "win_num 92076.0, total_cost [ 4134159.], click_num [ 144.], ctr [ 0.00156393], cpc [ 28709.4375]\n",
      "win_num 93084.0, total_cost [ 4190615.], click_num [ 145.], ctr [ 0.00155773], cpc [ 28900.79310345]\n",
      "win_num 94133.0, total_cost [ 4249875.], click_num [ 146.], ctr [ 0.001551], cpc [ 29108.73287671]\n",
      "win_num 95064.0, total_cost [ 4302779.], click_num [ 148.], ctr [ 0.00155685], cpc [ 29072.83108108]\n",
      "win_num 96165.0, total_cost [ 4367261.], click_num [ 149.], ctr [ 0.00154942], cpc [ 29310.47651007]\n",
      "win_num 97171.0, total_cost [ 4425788.], click_num [ 149.], ctr [ 0.00153338], cpc [ 29703.27516779]\n",
      "win_num 98120.0, total_cost [ 4481705.], click_num [ 150.], ctr [ 0.00152874], cpc [ 29878.03333333]\n"
     ]
    },
    {
     "name": "stdout",
     "output_type": "stream",
     "text": [
      "win_num 99156.0, total_cost [ 4544084.], click_num [ 150.], ctr [ 0.00151277], cpc [ 30293.89333333]\n",
      "win_num 100122.0, total_cost [ 4602094.], click_num [ 150.], ctr [ 0.00149817], cpc [ 30680.62666667]\n",
      "win_num 101072.0, total_cost [ 4659610.], click_num [ 150.], ctr [ 0.00148409], cpc [ 31064.06666667]\n",
      "win_num 102094.0, total_cost [ 4719771.], click_num [ 150.], ctr [ 0.00146923], cpc [ 31465.14]\n",
      "win_num 103025.0, total_cost [ 4775658.], click_num [ 152.], ctr [ 0.00147537], cpc [ 31418.80263158]\n",
      "win_num 103971.0, total_cost [ 4833389.], click_num [ 152.], ctr [ 0.00146195], cpc [ 31798.61184211]\n",
      "win_num 104973.0, total_cost [ 4895677.], click_num [ 152.], ctr [ 0.00144799], cpc [ 32208.40131579]\n",
      "win_num 105948.0, total_cost [ 4953422.], click_num [ 153.], ctr [ 0.0014441], cpc [ 32375.30718954]\n",
      "win_num 106884.0, total_cost [ 5013602.], click_num [ 153.], ctr [ 0.00143146], cpc [ 32768.64052288]\n",
      "win_num 107792.0, total_cost [ 5068865.], click_num [ 154.], ctr [ 0.00142868], cpc [ 32914.70779221]\n",
      "win_num 108682.0, total_cost [ 5123309.], click_num [ 154.], ctr [ 0.00141698], cpc [ 33268.24025974]\n",
      "win_num 109627.0, total_cost [ 5181567.], click_num [ 154.], ctr [ 0.00140476], cpc [ 33646.53896104]\n",
      "win_num 110494.0, total_cost [ 5234373.], click_num [ 154.], ctr [ 0.00139374], cpc [ 33989.43506494]\n",
      "win_num 111321.0, total_cost [ 5286275.], click_num [ 154.], ctr [ 0.00138339], cpc [ 34326.46103896]\n",
      "win_num 112228.0, total_cost [ 5343773.], click_num [ 154.], ctr [ 0.00137221], cpc [ 34699.82467532]\n",
      "win_num 113066.0, total_cost [ 5398714.], click_num [ 154.], ctr [ 0.00136204], cpc [ 35056.58441558]\n",
      "win_num 113996.0, total_cost [ 5457414.], click_num [ 154.], ctr [ 0.00135092], cpc [ 35437.75324675]\n",
      "win_num 114925.0, total_cost [ 5517761.], click_num [ 154.], ctr [ 0.00134], cpc [ 35829.61688312]\n",
      "win_num 115798.0, total_cost [ 5572033.], click_num [ 154.], ctr [ 0.0013299], cpc [ 36182.03246753]\n",
      "win_num 116643.0, total_cost [ 5628615.], click_num [ 155.], ctr [ 0.00132884], cpc [ 36313.64516129]\n",
      "win_num 117495.0, total_cost [ 5686146.], click_num [ 155.], ctr [ 0.00131921], cpc [ 36684.81290323]\n",
      "win_num 118351.0, total_cost [ 5743519.], click_num [ 155.], ctr [ 0.00130966], cpc [ 37054.96129032]\n",
      "win_num 119238.0, total_cost [ 5800223.], click_num [ 156.], ctr [ 0.00130831], cpc [ 37180.91666667]\n",
      "win_num 120054.0, total_cost [ 5854899.], click_num [ 156.], ctr [ 0.00129942], cpc [ 37531.40384615]\n",
      "win_num 120915.0, total_cost [ 5910103.], click_num [ 156.], ctr [ 0.00129016], cpc [ 37885.27564103]\n",
      "win_num 121750.0, total_cost [ 5967416.], click_num [ 159.], ctr [ 0.00130595], cpc [ 37530.91823899]\n",
      "win_num 122605.0, total_cost [ 6023373.], click_num [ 159.], ctr [ 0.00129685], cpc [ 37882.8490566]\n",
      "win_num 123424.0, total_cost [ 6074935.], click_num [ 159.], ctr [ 0.00128824], cpc [ 38207.13836478]\n",
      "win_num 124339.0, total_cost [ 6135920.], click_num [ 159.], ctr [ 0.00127876], cpc [ 38590.6918239]\n",
      "win_num 125143.0, total_cost [ 6189036.], click_num [ 160.], ctr [ 0.00127854], cpc [ 38681.475]\n",
      "win_num 125963.0, total_cost [ 6244446.], click_num [ 160.], ctr [ 0.00127021], cpc [ 39027.7875]\n",
      "win_num 126747.0, total_cost [ 6297941.], click_num [ 160.], ctr [ 0.00126236], cpc [ 39362.13125]\n",
      "win_num 127535.0, total_cost [ 6349061.], click_num [ 160.], ctr [ 0.00125456], cpc [ 39681.63125]\n",
      "win_num 128387.0, total_cost [ 6405581.], click_num [ 162.], ctr [ 0.00126181], cpc [ 39540.62345679]\n",
      "win_num 129192.0, total_cost [ 6459106.], click_num [ 162.], ctr [ 0.00125395], cpc [ 39871.02469136]\n",
      "win_num 129669.0, total_cost [ 6499955.], click_num [ 162.], ctr [ 0.00124933], cpc [ 40123.17901235]\n",
      "win_num 129351.0, total_cost [ 6499973.], click_num [ 161.], ctr [ 0.00124468], cpc [ 40372.50310559]\n",
      "win_num 129083.0, total_cost [ 6499998.], click_num [ 159.], ctr [ 0.00123177], cpc [ 40880.49056604]\n",
      "win_num 128806.0, total_cost [ 6499939.], click_num [ 158.], ctr [ 0.00122665], cpc [ 41138.85443038]\n",
      "win_num 128547.0, total_cost [ 6499941.], click_num [ 156.], ctr [ 0.00121356], cpc [ 41666.28846154]\n",
      "win_num 128344.0, total_cost [ 6499905.], click_num [ 153.], ctr [ 0.00119211], cpc [ 42483.03921569]\n",
      "win_num 128031.0, total_cost [ 6499961.], click_num [ 149.], ctr [ 0.00116378], cpc [ 43623.89932886]\n",
      "win_num 127821.0, total_cost [ 6499990.], click_num [ 149.], ctr [ 0.00116569], cpc [ 43624.09395973]\n",
      "win_num 127529.0, total_cost [ 6499991.], click_num [ 149.], ctr [ 0.00116836], cpc [ 43624.10067114]\n",
      "win_num 127211.0, total_cost [ 6499925.], click_num [ 149.], ctr [ 0.00117128], cpc [ 43623.65771812]\n",
      "win_num 126996.0, total_cost [ 6499943.], click_num [ 148.], ctr [ 0.00116539], cpc [ 43918.53378378]\n",
      "win_num 126718.0, total_cost [ 6499988.], click_num [ 147.], ctr [ 0.00116006], cpc [ 44217.60544218]\n",
      "win_num 126460.0, total_cost [ 6499973.], click_num [ 147.], ctr [ 0.00116242], cpc [ 44217.50340136]\n",
      "win_num 126187.0, total_cost [ 6499943.], click_num [ 147.], ctr [ 0.00116494], cpc [ 44217.29931973]\n",
      "win_num 125910.0, total_cost [ 6499944.], click_num [ 146.], ctr [ 0.00115956], cpc [ 44520.16438356]\n",
      "win_num 125632.0, total_cost [ 6499991.], click_num [ 145.], ctr [ 0.00115416], cpc [ 44827.52413793]\n",
      "win_num 125370.0, total_cost [ 6499998.], click_num [ 144.], ctr [ 0.0011486], cpc [ 45138.875]\n",
      "win_num 125168.0, total_cost [ 6499955.], click_num [ 144.], ctr [ 0.00115045], cpc [ 45138.57638889]\n",
      "win_num 124919.0, total_cost [ 6499989.], click_num [ 145.], ctr [ 0.00116075], cpc [ 44827.51034483]\n",
      "win_num 124741.0, total_cost [ 6499994.], click_num [ 144.], ctr [ 0.00115439], cpc [ 45138.84722222]\n",
      "win_num 124448.0, total_cost [ 6499976.], click_num [ 144.], ctr [ 0.00115711], cpc [ 45138.72222222]\n",
      "win_num 124197.0, total_cost [ 6499900.], click_num [ 142.], ctr [ 0.00114334], cpc [ 45773.94366197]\n",
      "win_num 124002.0, total_cost [ 6499967.], click_num [ 141.], ctr [ 0.00113708], cpc [ 46099.05673759]\n",
      "win_num 123777.0, total_cost [ 6499999.], click_num [ 141.], ctr [ 0.00113915], cpc [ 46099.28368794]\n",
      "win_num 123501.0, total_cost [ 6499959.], click_num [ 139.], ctr [ 0.0011255], cpc [ 46762.29496403]\n",
      "win_num 123256.0, total_cost [ 6499937.], click_num [ 138.], ctr [ 0.00111962], cpc [ 47100.99275362]\n",
      "win_num 123023.0, total_cost [ 6499967.], click_num [ 137.], ctr [ 0.00111361], cpc [ 47445.01459854]\n",
      "win_num 122811.0, total_cost [ 6500000.], click_num [ 136.], ctr [ 0.00110739], cpc [ 47794.11764706]\n",
      "win_num 122570.0, total_cost [ 6499992.], click_num [ 135.], ctr [ 0.00110141], cpc [ 48148.08888889]\n",
      "win_num 122344.0, total_cost [ 6499990.], click_num [ 134.], ctr [ 0.00109527], cpc [ 48507.3880597]\n",
      "win_num 122203.0, total_cost [ 6499985.], click_num [ 135.], ctr [ 0.00110472], cpc [ 48148.03703704]\n",
      "win_num 121952.0, total_cost [ 6499976.], click_num [ 135.], ctr [ 0.00110699], cpc [ 48147.97037037]\n",
      "win_num 121753.0, total_cost [ 6499921.], click_num [ 133.], ctr [ 0.00109238], cpc [ 48871.58646617]\n",
      "win_num 121538.0, total_cost [ 6499940.], click_num [ 133.], ctr [ 0.00109431], cpc [ 48871.72932331]\n",
      "win_num 121325.0, total_cost [ 6500000.], click_num [ 133.], ctr [ 0.00109623], cpc [ 48872.18045113]\n",
      "win_num 121143.0, total_cost [ 6499988.], click_num [ 133.], ctr [ 0.00109788], cpc [ 48872.09022556]\n",
      "win_num 120961.0, total_cost [ 6499982.], click_num [ 132.], ctr [ 0.00109126], cpc [ 49242.28787879]\n",
      "win_num 120757.0, total_cost [ 6499989.], click_num [ 133.], ctr [ 0.00110139], cpc [ 48872.09774436]\n",
      "win_num 120566.0, total_cost [ 6499999.], click_num [ 132.], ctr [ 0.00109484], cpc [ 49242.41666667]\n",
      "win_num 120428.0, total_cost [ 6499983.], click_num [ 131.], ctr [ 0.00108779], cpc [ 49618.19083969]\n",
      "win_num 120186.0, total_cost [ 6499980.], click_num [ 129.], ctr [ 0.00107334], cpc [ 50387.44186047]\n",
      "win_num 119978.0, total_cost [ 6499925.], click_num [ 129.], ctr [ 0.0010752], cpc [ 50387.01550388]\n",
      "win_num 119824.0, total_cost [ 6499954.], click_num [ 128.], ctr [ 0.00106823], cpc [ 50780.890625]\n",
      "win_num 119589.0, total_cost [ 6499954.], click_num [ 128.], ctr [ 0.00107033], cpc [ 50780.890625]\n",
      "win_num 119447.0, total_cost [ 6499957.], click_num [ 128.], ctr [ 0.0010716], cpc [ 50780.9140625]\n",
      "win_num 119279.0, total_cost [ 6499964.], click_num [ 128.], ctr [ 0.00107311], cpc [ 50780.96875]\n"
     ]
    },
    {
     "name": "stdout",
     "output_type": "stream",
     "text": [
      "win_num 119083.0, total_cost [ 6499991.], click_num [ 129.], ctr [ 0.00108328], cpc [ 50387.52713178]\n",
      "win_num 118906.0, total_cost [ 6499969.], click_num [ 129.], ctr [ 0.00108489], cpc [ 50387.35658915]\n",
      "win_num 118685.0, total_cost [ 6499957.], click_num [ 129.], ctr [ 0.00108691], cpc [ 50387.26356589]\n",
      "win_num 118449.0, total_cost [ 6499954.], click_num [ 129.], ctr [ 0.00108908], cpc [ 50387.24031008]\n",
      "win_num 118267.0, total_cost [ 6499845.], click_num [ 128.], ctr [ 0.0010823], cpc [ 50780.0390625]\n",
      "win_num 118126.0, total_cost [ 6499884.], click_num [ 127.], ctr [ 0.00107512], cpc [ 51180.18897638]\n",
      "win_num 117984.0, total_cost [ 6499986.], click_num [ 126.], ctr [ 0.00106794], cpc [ 51587.19047619]\n",
      "win_num 117818.0, total_cost [ 6499922.], click_num [ 126.], ctr [ 0.00106945], cpc [ 51586.68253968]\n",
      "win_num 117628.0, total_cost [ 6499943.], click_num [ 125.], ctr [ 0.00106267], cpc [ 51999.544]\n",
      "win_num 117472.0, total_cost [ 6499955.], click_num [ 125.], ctr [ 0.00106408], cpc [ 51999.64]\n",
      "win_num 117293.0, total_cost [ 6499871.], click_num [ 124.], ctr [ 0.00105718], cpc [ 52418.31451613]\n",
      "win_num 117124.0, total_cost [ 6499974.], click_num [ 124.], ctr [ 0.00105871], cpc [ 52419.14516129]\n",
      "win_num 116973.0, total_cost [ 6499985.], click_num [ 122.], ctr [ 0.00104298], cpc [ 53278.56557377]\n",
      "win_num 116822.0, total_cost [ 6499866.], click_num [ 122.], ctr [ 0.00104432], cpc [ 53277.59016393]\n",
      "win_num 116698.0, total_cost [ 6499971.], click_num [ 121.], ctr [ 0.00103686], cpc [ 53718.76859504]\n",
      "win_num 116508.0, total_cost [ 6499858.], click_num [ 120.], ctr [ 0.00102997], cpc [ 54165.48333333]\n"
     ]
    }
   ],
   "source": [
    "base = 1\n",
    "bidp = []\n",
    "win_number = []\n",
    "totalcost = []\n",
    "clicknum = []\n",
    "ctr_p = []\n",
    "cpc_p = []\n",
    "\n",
    "for i in range(180):\n",
    "    bid_p = np.array(pbidprice(pCTR_val, base)) # the list of predicted price\n",
    "    payprice = payprice_val\n",
    "    clicks   = click_val\n",
    "    \n",
    "    # 打乱顺序\n",
    "    #shuffle  = np.random.permutation(len(payprice))\n",
    "    #payprice = payprice[shuffle]\n",
    "    #bid_p    = bid_p[shuffle]\n",
    "    #clicks   = clicks[shuffle]\n",
    "    \n",
    "    win_num, total_cost, click_num, ctr, cpc = evaluation(bid_p, payprice, clicks)\n",
    "    #print(base)\n",
    "    win_number.append(win_num)\n",
    "    totalcost.append(total_cost)\n",
    "    clicknum.append(click_num)\n",
    "    ctr_p.append(ctr)\n",
    "    cpc_p.append(cpc)\n",
    "    bidp.append(bid_p)\n",
    "    \n",
    "    base += 1 # a new base bid price"
   ]
  },
  {
   "cell_type": "code",
   "execution_count": 28,
   "metadata": {},
   "outputs": [
    {
     "data": {
      "text/plain": [
       "180"
      ]
     },
     "execution_count": 28,
     "metadata": {},
     "output_type": "execute_result"
    }
   ],
   "source": [
    "baseBidPrice = list(range(1, 181))\n",
    "len(baseBidPrice)"
   ]
  },
  {
   "cell_type": "code",
   "execution_count": 38,
   "metadata": {},
   "outputs": [
    {
     "data": {
      "text/html": [
       "<div>\n",
       "<style>\n",
       "    .dataframe thead tr:only-child th {\n",
       "        text-align: right;\n",
       "    }\n",
       "\n",
       "    .dataframe thead th {\n",
       "        text-align: left;\n",
       "    }\n",
       "\n",
       "    .dataframe tbody tr th {\n",
       "        vertical-align: top;\n",
       "    }\n",
       "</style>\n",
       "<table border=\"1\" class=\"dataframe\">\n",
       "  <thead>\n",
       "    <tr style=\"text-align: right;\">\n",
       "      <th></th>\n",
       "      <th>basebid</th>\n",
       "      <th>clicks</th>\n",
       "      <th>cpc</th>\n",
       "      <th>ctr</th>\n",
       "      <th>imp</th>\n",
       "      <th>totalcost</th>\n",
       "    </tr>\n",
       "  </thead>\n",
       "  <tbody>\n",
       "    <tr>\n",
       "      <th>0</th>\n",
       "      <td>1</td>\n",
       "      <td>[11.0]</td>\n",
       "      <td>[2915.72727273]</td>\n",
       "      <td>[0.0110330992979]</td>\n",
       "      <td>997.0</td>\n",
       "      <td>[32073.0]</td>\n",
       "    </tr>\n",
       "    <tr>\n",
       "      <th>1</th>\n",
       "      <td>2</td>\n",
       "      <td>[18.0]</td>\n",
       "      <td>[3803.5]</td>\n",
       "      <td>[0.00770547945205]</td>\n",
       "      <td>2336.0</td>\n",
       "      <td>[68463.0]</td>\n",
       "    </tr>\n",
       "    <tr>\n",
       "      <th>2</th>\n",
       "      <td>3</td>\n",
       "      <td>[25.0]</td>\n",
       "      <td>[4008.76]</td>\n",
       "      <td>[0.00741839762611]</td>\n",
       "      <td>3370.0</td>\n",
       "      <td>[100219.0]</td>\n",
       "    </tr>\n",
       "    <tr>\n",
       "      <th>3</th>\n",
       "      <td>4</td>\n",
       "      <td>[30.0]</td>\n",
       "      <td>[4506.16666667]</td>\n",
       "      <td>[0.00670690811536]</td>\n",
       "      <td>4473.0</td>\n",
       "      <td>[135185.0]</td>\n",
       "    </tr>\n",
       "    <tr>\n",
       "      <th>4</th>\n",
       "      <td>5</td>\n",
       "      <td>[37.0]</td>\n",
       "      <td>[4778.40540541]</td>\n",
       "      <td>[0.00654635527247]</td>\n",
       "      <td>5652.0</td>\n",
       "      <td>[176801.0]</td>\n",
       "    </tr>\n",
       "  </tbody>\n",
       "</table>\n",
       "</div>"
      ],
      "text/plain": [
       "   basebid  clicks              cpc                 ctr     imp   totalcost\n",
       "0        1  [11.0]  [2915.72727273]   [0.0110330992979]   997.0   [32073.0]\n",
       "1        2  [18.0]         [3803.5]  [0.00770547945205]  2336.0   [68463.0]\n",
       "2        3  [25.0]        [4008.76]  [0.00741839762611]  3370.0  [100219.0]\n",
       "3        4  [30.0]  [4506.16666667]  [0.00670690811536]  4473.0  [135185.0]\n",
       "4        5  [37.0]  [4778.40540541]  [0.00654635527247]  5652.0  [176801.0]"
      ]
     },
     "execution_count": 38,
     "metadata": {},
     "output_type": "execute_result"
    }
   ],
   "source": [
    "#df_logs = pd.DataFrame([baseBidPrice, win_number, totalcost, clicknum, ctr_p, cpc_p], axis = 1)\n",
    "df_logs = pd.DataFrame(\n",
    "    {'basebid': baseBidPrice,\n",
    "     'imp': win_number,\n",
    "     'totalcost': totalcost,\n",
    "     'clicks' : clicknum,\n",
    "     'ctr': ctr_p,\n",
    "     'cpc': cpc_p\n",
    "    })\n",
    "df_logs[:5]"
   ]
  },
  {
   "cell_type": "code",
   "execution_count": 49,
   "metadata": {},
   "outputs": [
    {
     "data": {
      "image/png": "[encoded data removed]",
      "text/plain": [
       "<matplotlib.figure.Figure at 0x110d623c8>"
      ]
     },
     "metadata": {},
     "output_type": "display_data"
    }
   ],
   "source": [
    "import matplotlib.pyplot as plt\n",
    "\n",
    "fig, ax1 = plt.subplots()\n",
    "ax1.plot(baseBidPrice,clicknum)\n",
    "ax1.set_xlabel('Base Bid')\n",
    "ax1.set_ylabel('Num Clicks', color='b')\n",
    "\n",
    "ax2 = ax1.twinx()\n",
    "ax2.plot(baseBidPrice, ctr_p,color='r')\n",
    "ax2.set_ylabel('CTR', color='r')\n",
    "fig.set_size_inches(8, 5)\n",
    "plt.show()"
   ]
  },
  {
   "cell_type": "code",
   "execution_count": 51,
   "metadata": {
    "collapsed": true
   },
   "outputs": [],
   "source": [
    "pCTR_test = np.array(pCTR_test)"
   ]
  },
  {
   "cell_type": "code",
   "execution_count": 75,
   "metadata": {},
   "outputs": [],
   "source": [
    "optimalBaseBid = 117\n",
    "bidprice_test = pbidprice(pCTR_test, optimalBaseBid)\n",
    "bidprice_test = pd.DataFrame(bidprice_test)"
   ]
  },
  {
   "cell_type": "code",
   "execution_count": 76,
   "metadata": {},
   "outputs": [
    {
     "data": {
      "text/html": [
       "<div>\n",
       "<style>\n",
       "    .dataframe thead tr:only-child th {\n",
       "        text-align: right;\n",
       "    }\n",
       "\n",
       "    .dataframe thead th {\n",
       "        text-align: left;\n",
       "    }\n",
       "\n",
       "    .dataframe tbody tr th {\n",
       "        vertical-align: top;\n",
       "    }\n",
       "</style>\n",
       "<table border=\"1\" class=\"dataframe\">\n",
       "  <thead>\n",
       "    <tr style=\"text-align: right;\">\n",
       "      <th></th>\n",
       "      <th>bidid</th>\n",
       "      <th>bidprice</th>\n",
       "    </tr>\n",
       "  </thead>\n",
       "  <tbody>\n",
       "    <tr>\n",
       "      <th>0</th>\n",
       "      <td>366c563de7d90feb9d4dab53e795a93fb3157387</td>\n",
       "      <td>190.783640</td>\n",
       "    </tr>\n",
       "    <tr>\n",
       "      <th>1</th>\n",
       "      <td>29167d4caa719788b5a342dbaa25151d53121f80</td>\n",
       "      <td>620.528468</td>\n",
       "    </tr>\n",
       "    <tr>\n",
       "      <th>2</th>\n",
       "      <td>ff8bc3f4d44a3ea60c5f3a3a8fbe7cd98fb2966e</td>\n",
       "      <td>28.620728</td>\n",
       "    </tr>\n",
       "    <tr>\n",
       "      <th>3</th>\n",
       "      <td>844c2da00d45315f20b748ec131c26ee99a7cbc7</td>\n",
       "      <td>169.896974</td>\n",
       "    </tr>\n",
       "    <tr>\n",
       "      <th>4</th>\n",
       "      <td>c6017f0ad0c44d7d0c9b62583ea863f28941c0ca</td>\n",
       "      <td>109.881036</td>\n",
       "    </tr>\n",
       "  </tbody>\n",
       "</table>\n",
       "</div>"
      ],
      "text/plain": [
       "                                      bidid    bidprice\n",
       "0  366c563de7d90feb9d4dab53e795a93fb3157387  190.783640\n",
       "1  29167d4caa719788b5a342dbaa25151d53121f80  620.528468\n",
       "2  ff8bc3f4d44a3ea60c5f3a3a8fbe7cd98fb2966e   28.620728\n",
       "3  844c2da00d45315f20b748ec131c26ee99a7cbc7  169.896974\n",
       "4  c6017f0ad0c44d7d0c9b62583ea863f28941c0ca  109.881036"
      ]
     },
     "execution_count": 76,
     "metadata": {},
     "output_type": "execute_result"
    }
   ],
   "source": [
    "res_linear = pd.concat([bidid_test, bidprice_test], axis = 1)\n",
    "res_linear.columns = ['bidid', 'bidprice']\n",
    "res_linear[:5]"
   ]
  },
  {
   "cell_type": "code",
   "execution_count": 77,
   "metadata": {
    "collapsed": true
   },
   "outputs": [],
   "source": [
    "res_linear.to_csv('testing_bidding_price.csv')"
   ]
  },
  {
   "cell_type": "code",
   "execution_count": 78,
   "metadata": {},
   "outputs": [
    {
     "data": {
      "text/html": [
       "<div>\n",
       "<style>\n",
       "    .dataframe thead tr:only-child th {\n",
       "        text-align: right;\n",
       "    }\n",
       "\n",
       "    .dataframe thead th {\n",
       "        text-align: left;\n",
       "    }\n",
       "\n",
       "    .dataframe tbody tr th {\n",
       "        vertical-align: top;\n",
       "    }\n",
       "</style>\n",
       "<table border=\"1\" class=\"dataframe\">\n",
       "  <thead>\n",
       "    <tr style=\"text-align: right;\">\n",
       "      <th></th>\n",
       "      <th>basebid</th>\n",
       "      <th>clicks</th>\n",
       "      <th>cpc</th>\n",
       "      <th>ctr</th>\n",
       "      <th>imp</th>\n",
       "      <th>totalcost</th>\n",
       "    </tr>\n",
       "  </thead>\n",
       "  <tbody>\n",
       "    <tr>\n",
       "      <th>118</th>\n",
       "      <td>119</td>\n",
       "      <td>[162.0]</td>\n",
       "      <td>[40123.1790123]</td>\n",
       "      <td>[0.00124933484487]</td>\n",
       "      <td>129669.0</td>\n",
       "      <td>[6499955.0]</td>\n",
       "    </tr>\n",
       "    <tr>\n",
       "      <th>117</th>\n",
       "      <td>118</td>\n",
       "      <td>[162.0]</td>\n",
       "      <td>[39871.0246914]</td>\n",
       "      <td>[0.00125394761286]</td>\n",
       "      <td>129192.0</td>\n",
       "      <td>[6459106.0]</td>\n",
       "    </tr>\n",
       "    <tr>\n",
       "      <th>116</th>\n",
       "      <td>117</td>\n",
       "      <td>[162.0]</td>\n",
       "      <td>[39540.6234568]</td>\n",
       "      <td>[0.00126180999634]</td>\n",
       "      <td>128387.0</td>\n",
       "      <td>[6405581.0]</td>\n",
       "    </tr>\n",
       "    <tr>\n",
       "      <th>119</th>\n",
       "      <td>120</td>\n",
       "      <td>[161.0]</td>\n",
       "      <td>[40372.5031056]</td>\n",
       "      <td>[0.00124467534074]</td>\n",
       "      <td>129351.0</td>\n",
       "      <td>[6499973.0]</td>\n",
       "    </tr>\n",
       "    <tr>\n",
       "      <th>113</th>\n",
       "      <td>114</td>\n",
       "      <td>[160.0]</td>\n",
       "      <td>[39027.7875]</td>\n",
       "      <td>[0.00127021426927]</td>\n",
       "      <td>125963.0</td>\n",
       "      <td>[6244446.0]</td>\n",
       "    </tr>\n",
       "    <tr>\n",
       "      <th>114</th>\n",
       "      <td>115</td>\n",
       "      <td>[160.0]</td>\n",
       "      <td>[39362.13125]</td>\n",
       "      <td>[0.00126235729445]</td>\n",
       "      <td>126747.0</td>\n",
       "      <td>[6297941.0]</td>\n",
       "    </tr>\n",
       "    <tr>\n",
       "      <th>115</th>\n",
       "      <td>116</td>\n",
       "      <td>[160.0]</td>\n",
       "      <td>[39681.63125]</td>\n",
       "      <td>[0.00125455757243]</td>\n",
       "      <td>127535.0</td>\n",
       "      <td>[6349061.0]</td>\n",
       "    </tr>\n",
       "    <tr>\n",
       "      <th>112</th>\n",
       "      <td>113</td>\n",
       "      <td>[160.0]</td>\n",
       "      <td>[38681.475]</td>\n",
       "      <td>[0.00127853735327]</td>\n",
       "      <td>125143.0</td>\n",
       "      <td>[6189036.0]</td>\n",
       "    </tr>\n",
       "    <tr>\n",
       "      <th>108</th>\n",
       "      <td>109</td>\n",
       "      <td>[159.0]</td>\n",
       "      <td>[37530.918239]</td>\n",
       "      <td>[0.00130595482546]</td>\n",
       "      <td>121750.0</td>\n",
       "      <td>[5967416.0]</td>\n",
       "    </tr>\n",
       "    <tr>\n",
       "      <th>109</th>\n",
       "      <td>110</td>\n",
       "      <td>[159.0]</td>\n",
       "      <td>[37882.8490566]</td>\n",
       "      <td>[0.00129684760002]</td>\n",
       "      <td>122605.0</td>\n",
       "      <td>[6023373.0]</td>\n",
       "    </tr>\n",
       "  </tbody>\n",
       "</table>\n",
       "</div>"
      ],
      "text/plain": [
       "     basebid   clicks              cpc                 ctr       imp  \\\n",
       "118      119  [162.0]  [40123.1790123]  [0.00124933484487]  129669.0   \n",
       "117      118  [162.0]  [39871.0246914]  [0.00125394761286]  129192.0   \n",
       "116      117  [162.0]  [39540.6234568]  [0.00126180999634]  128387.0   \n",
       "119      120  [161.0]  [40372.5031056]  [0.00124467534074]  129351.0   \n",
       "113      114  [160.0]     [39027.7875]  [0.00127021426927]  125963.0   \n",
       "114      115  [160.0]    [39362.13125]  [0.00126235729445]  126747.0   \n",
       "115      116  [160.0]    [39681.63125]  [0.00125455757243]  127535.0   \n",
       "112      113  [160.0]      [38681.475]  [0.00127853735327]  125143.0   \n",
       "108      109  [159.0]   [37530.918239]  [0.00130595482546]  121750.0   \n",
       "109      110  [159.0]  [37882.8490566]  [0.00129684760002]  122605.0   \n",
       "\n",
       "       totalcost  \n",
       "118  [6499955.0]  \n",
       "117  [6459106.0]  \n",
       "116  [6405581.0]  \n",
       "119  [6499973.0]  \n",
       "113  [6244446.0]  \n",
       "114  [6297941.0]  \n",
       "115  [6349061.0]  \n",
       "112  [6189036.0]  \n",
       "108  [5967416.0]  \n",
       "109  [6023373.0]  "
      ]
     },
     "execution_count": 78,
     "metadata": {},
     "output_type": "execute_result"
    }
   ],
   "source": [
    "df_logs.sort_values(by='clicks', ascending=False)[:10]"
   ]
  },
  {
   "cell_type": "markdown",
   "metadata": {},
   "source": [
    "# Square Bidding Strategy"
   ]
  },
  {
   "cell_type": "code",
   "execution_count": 43,
   "metadata": {
    "collapsed": true
   },
   "outputs": [],
   "source": [
    "def pbidprice_square(ctr, base_bid):\n",
    "    pbid = []\n",
    "    for i in range(len(ctr)):\n",
    "        p = base_bid * pow((ctr[i]/0.000738), 2)\n",
    "        pbid.append(p)\n",
    "\n",
    "    return pbid"
   ]
  },
  {
   "cell_type": "code",
   "execution_count": 65,
   "metadata": {},
   "outputs": [
    {
     "name": "stdout",
     "output_type": "stream",
     "text": [
      "win_num 5999.0, total_cost [ 337939.], click_num [ 53.], ctr [ 0.00883481], cpc [ 6376.20754717]\n",
      "win_num 9266.0, total_cost [ 530917.], click_num [ 66.], ctr [ 0.00712281], cpc [ 8044.1969697]\n",
      "win_num 11462.0, total_cost [ 676785.], click_num [ 80.], ctr [ 0.00697958], cpc [ 8459.8125]\n",
      "win_num 13152.0, total_cost [ 787523.], click_num [ 84.], ctr [ 0.00638686], cpc [ 9375.27380952]\n",
      "win_num 14609.0, total_cost [ 883910.], click_num [ 92.], ctr [ 0.00629749], cpc [ 9607.7173913]\n",
      "win_num 15927.0, total_cost [ 970958.], click_num [ 93.], ctr [ 0.00583914], cpc [ 10440.40860215]\n",
      "win_num 17178.0, total_cost [ 1054104.], click_num [ 95.], ctr [ 0.00553033], cpc [ 11095.83157895]\n",
      "win_num 18372.0, total_cost [ 1131665.], click_num [ 98.], ctr [ 0.0053342], cpc [ 11547.60204082]\n",
      "win_num 19516.0, total_cost [ 1203915.], click_num [ 99.], ctr [ 0.00507276], cpc [ 12160.75757576]\n",
      "win_num 20585.0, total_cost [ 1274708.], click_num [ 104.], ctr [ 0.00505222], cpc [ 12256.80769231]\n",
      "win_num 21691.0, total_cost [ 1343476.], click_num [ 106.], ctr [ 0.00488682], cpc [ 12674.30188679]\n",
      "win_num 22749.0, total_cost [ 1410772.], click_num [ 109.], ctr [ 0.00479142], cpc [ 12942.86238532]\n",
      "win_num 23743.0, total_cost [ 1472030.], click_num [ 110.], ctr [ 0.00463294], cpc [ 13382.09090909]\n",
      "win_num 24726.0, total_cost [ 1532389.], click_num [ 111.], ctr [ 0.0044892], cpc [ 13805.30630631]\n",
      "win_num 25689.0, total_cost [ 1590066.], click_num [ 114.], ctr [ 0.0044377], cpc [ 13947.94736842]\n",
      "win_num 26678.0, total_cost [ 1650245.], click_num [ 116.], ctr [ 0.00434815], cpc [ 14226.25]\n",
      "win_num 27662.0, total_cost [ 1708367.], click_num [ 116.], ctr [ 0.00419348], cpc [ 14727.30172414]\n",
      "win_num 28592.0, total_cost [ 1763326.], click_num [ 119.], ctr [ 0.004162], cpc [ 14817.86554622]\n",
      "win_num 29474.0, total_cost [ 1818040.], click_num [ 120.], ctr [ 0.00407138], cpc [ 15150.33333333]\n",
      "win_num 30361.0, total_cost [ 1870489.], click_num [ 120.], ctr [ 0.00395244], cpc [ 15587.40833333]\n",
      "win_num 31253.0, total_cost [ 1924792.], click_num [ 120.], ctr [ 0.00383963], cpc [ 16039.93333333]\n",
      "win_num 32094.0, total_cost [ 1974258.], click_num [ 120.], ctr [ 0.00373902], cpc [ 16452.15]\n",
      "win_num 32974.0, total_cost [ 2025084.], click_num [ 121.], ctr [ 0.00366956], cpc [ 16736.23140496]\n",
      "win_num 33835.0, total_cost [ 2078703.], click_num [ 121.], ctr [ 0.00357618], cpc [ 17179.36363636]\n",
      "win_num 34684.0, total_cost [ 2127272.], click_num [ 121.], ctr [ 0.00348864], cpc [ 17580.76033058]\n",
      "win_num 35504.0, total_cost [ 2177760.], click_num [ 121.], ctr [ 0.00340807], cpc [ 17998.01652893]\n",
      "win_num 36334.0, total_cost [ 2224953.], click_num [ 122.], ctr [ 0.00335774], cpc [ 18237.31967213]\n",
      "win_num 37155.0, total_cost [ 2272519.], click_num [ 123.], ctr [ 0.00331046], cpc [ 18475.76422764]\n",
      "win_num 37906.0, total_cost [ 2318135.], click_num [ 124.], ctr [ 0.00327125], cpc [ 18694.63709677]\n",
      "win_num 38661.0, total_cost [ 2361856.], click_num [ 125.], ctr [ 0.00323323], cpc [ 18894.848]\n",
      "win_num 39446.0, total_cost [ 2408249.], click_num [ 125.], ctr [ 0.00316889], cpc [ 19265.992]\n",
      "win_num 40186.0, total_cost [ 2451896.], click_num [ 126.], ctr [ 0.00313542], cpc [ 19459.49206349]\n",
      "win_num 40909.0, total_cost [ 2492962.], click_num [ 126.], ctr [ 0.00308001], cpc [ 19785.41269841]\n",
      "win_num 41632.0, total_cost [ 2536347.], click_num [ 126.], ctr [ 0.00302652], cpc [ 20129.73809524]\n",
      "win_num 42360.0, total_cost [ 2579845.], click_num [ 127.], ctr [ 0.00299811], cpc [ 20313.74015748]\n",
      "win_num 43116.0, total_cost [ 2624937.], click_num [ 128.], ctr [ 0.00296874], cpc [ 20507.3203125]\n",
      "win_num 43826.0, total_cost [ 2667520.], click_num [ 128.], ctr [ 0.00292064], cpc [ 20840.]\n",
      "win_num 44555.0, total_cost [ 2713538.], click_num [ 128.], ctr [ 0.00287285], cpc [ 21199.515625]\n",
      "win_num 45233.0, total_cost [ 2753448.], click_num [ 128.], ctr [ 0.00282979], cpc [ 21511.3125]\n",
      "win_num 45945.0, total_cost [ 2795233.], click_num [ 130.], ctr [ 0.00282947], cpc [ 21501.79230769]\n",
      "win_num 46611.0, total_cost [ 2833748.], click_num [ 131.], ctr [ 0.0028105], cpc [ 21631.66412214]\n",
      "win_num 47298.0, total_cost [ 2875420.], click_num [ 131.], ctr [ 0.00276967], cpc [ 21949.77099237]\n",
      "win_num 48018.0, total_cost [ 2918483.], click_num [ 132.], ctr [ 0.00274897], cpc [ 22109.71969697]\n",
      "win_num 48686.0, total_cost [ 2958557.], click_num [ 133.], ctr [ 0.00273179], cpc [ 22244.78947368]\n",
      "win_num 49372.0, total_cost [ 2999856.], click_num [ 133.], ctr [ 0.00269383], cpc [ 22555.30827068]\n",
      "win_num 50050.0, total_cost [ 3043891.], click_num [ 133.], ctr [ 0.00265734], cpc [ 22886.39849624]\n",
      "win_num 50671.0, total_cost [ 3083354.], click_num [ 133.], ctr [ 0.00262478], cpc [ 23183.11278195]\n",
      "win_num 51355.0, total_cost [ 3123746.], click_num [ 133.], ctr [ 0.00258982], cpc [ 23486.81203008]\n",
      "win_num 52012.0, total_cost [ 3163497.], click_num [ 133.], ctr [ 0.0025571], cpc [ 23785.69172932]\n",
      "win_num 52650.0, total_cost [ 3203612.], click_num [ 133.], ctr [ 0.00252612], cpc [ 24087.30827068]\n",
      "win_num 53281.0, total_cost [ 3242184.], click_num [ 134.], ctr [ 0.00251497], cpc [ 24195.40298507]\n",
      "win_num 53889.0, total_cost [ 3277205.], click_num [ 135.], ctr [ 0.00250515], cpc [ 24275.59259259]\n",
      "win_num 54475.0, total_cost [ 3310452.], click_num [ 135.], ctr [ 0.0024782], cpc [ 24521.86666667]\n",
      "win_num 55113.0, total_cost [ 3349073.], click_num [ 136.], ctr [ 0.00246766], cpc [ 24625.53676471]\n",
      "win_num 55745.0, total_cost [ 3386900.], click_num [ 137.], ctr [ 0.00245762], cpc [ 24721.89781022]\n",
      "win_num 56317.0, total_cost [ 3423091.], click_num [ 137.], ctr [ 0.00243266], cpc [ 24986.06569343]\n",
      "win_num 56963.0, total_cost [ 3462461.], click_num [ 138.], ctr [ 0.00242263], cpc [ 25090.29710145]\n",
      "win_num 57601.0, total_cost [ 3502946.], click_num [ 138.], ctr [ 0.00239579], cpc [ 25383.66666667]\n",
      "win_num 58166.0, total_cost [ 3538807.], click_num [ 138.], ctr [ 0.00237252], cpc [ 25643.52898551]\n",
      "win_num 58711.0, total_cost [ 3572903.], click_num [ 138.], ctr [ 0.0023505], cpc [ 25890.60144928]\n",
      "win_num 59297.0, total_cost [ 3608427.], click_num [ 139.], ctr [ 0.00234413], cpc [ 25959.90647482]\n",
      "win_num 59902.0, total_cost [ 3645983.], click_num [ 140.], ctr [ 0.00233715], cpc [ 26042.73571429]\n",
      "win_num 60475.0, total_cost [ 3680389.], click_num [ 140.], ctr [ 0.00231501], cpc [ 26288.49285714]\n",
      "win_num 61026.0, total_cost [ 3714387.], click_num [ 140.], ctr [ 0.0022941], cpc [ 26531.33571429]\n",
      "win_num 61582.0, total_cost [ 3750238.], click_num [ 140.], ctr [ 0.00227339], cpc [ 26787.41428571]\n",
      "win_num 62181.0, total_cost [ 3786791.], click_num [ 143.], ctr [ 0.00229974], cpc [ 26481.05594406]\n",
      "win_num 62761.0, total_cost [ 3822058.], click_num [ 144.], ctr [ 0.00229442], cpc [ 26542.06944444]\n",
      "win_num 63317.0, total_cost [ 3856153.], click_num [ 144.], ctr [ 0.00227427], cpc [ 26778.84027778]\n",
      "win_num 63817.0, total_cost [ 3885267.], click_num [ 144.], ctr [ 0.00225645], cpc [ 26981.02083333]\n",
      "win_num 64365.0, total_cost [ 3917967.], click_num [ 144.], ctr [ 0.00223724], cpc [ 27208.10416667]\n",
      "win_num 64986.0, total_cost [ 3955088.], click_num [ 145.], ctr [ 0.00223125], cpc [ 27276.46896552]\n",
      "win_num 65535.0, total_cost [ 3988993.], click_num [ 145.], ctr [ 0.00221256], cpc [ 27510.29655172]\n",
      "win_num 66047.0, total_cost [ 4020988.], click_num [ 145.], ctr [ 0.00219541], cpc [ 27730.95172414]\n",
      "win_num 66580.0, total_cost [ 4054001.], click_num [ 145.], ctr [ 0.00217783], cpc [ 27958.62758621]\n",
      "win_num 67099.0, total_cost [ 4087337.], click_num [ 145.], ctr [ 0.00216099], cpc [ 28188.53103448]\n",
      "win_num 67601.0, total_cost [ 4119831.], click_num [ 145.], ctr [ 0.00214494], cpc [ 28412.62758621]\n",
      "win_num 68165.0, total_cost [ 4154104.], click_num [ 146.], ctr [ 0.00214186], cpc [ 28452.76712329]\n",
      "win_num 68670.0, total_cost [ 4185062.], click_num [ 147.], ctr [ 0.00214067], cpc [ 28469.80952381]\n",
      "win_num 69186.0, total_cost [ 4220237.], click_num [ 147.], ctr [ 0.00212471], cpc [ 28709.0952381]\n",
      "win_num 69713.0, total_cost [ 4253783.], click_num [ 147.], ctr [ 0.00210865], cpc [ 28937.29931973]\n",
      "win_num 70190.0, total_cost [ 4283125.], click_num [ 147.], ctr [ 0.00209432], cpc [ 29136.9047619]\n",
      "win_num 70669.0, total_cost [ 4312187.], click_num [ 147.], ctr [ 0.00208012], cpc [ 29334.60544218]\n"
     ]
    },
    {
     "name": "stdout",
     "output_type": "stream",
     "text": [
      "win_num 71127.0, total_cost [ 4341200.], click_num [ 147.], ctr [ 0.00206673], cpc [ 29531.97278912]\n",
      "win_num 71647.0, total_cost [ 4375071.], click_num [ 147.], ctr [ 0.00205173], cpc [ 29762.3877551]\n",
      "win_num 72153.0, total_cost [ 4406700.], click_num [ 147.], ctr [ 0.00203734], cpc [ 29977.55102041]\n",
      "win_num 72635.0, total_cost [ 4438875.], click_num [ 149.], ctr [ 0.00205135], cpc [ 29791.10738255]\n",
      "win_num 73144.0, total_cost [ 4470924.], click_num [ 149.], ctr [ 0.00203708], cpc [ 30006.20134228]\n",
      "win_num 73627.0, total_cost [ 4503117.], click_num [ 149.], ctr [ 0.00202371], cpc [ 30222.26174497]\n",
      "win_num 74090.0, total_cost [ 4532701.], click_num [ 149.], ctr [ 0.00201107], cpc [ 30420.81208054]\n",
      "win_num 74560.0, total_cost [ 4563775.], click_num [ 149.], ctr [ 0.00199839], cpc [ 30629.36241611]\n",
      "win_num 75028.0, total_cost [ 4594974.], click_num [ 149.], ctr [ 0.00198593], cpc [ 30838.75167785]\n",
      "win_num 75486.0, total_cost [ 4624293.], click_num [ 149.], ctr [ 0.00197388], cpc [ 31035.52348993]\n",
      "win_num 75951.0, total_cost [ 4654077.], click_num [ 149.], ctr [ 0.00196179], cpc [ 31235.41610738]\n",
      "win_num 76420.0, total_cost [ 4683760.], click_num [ 149.], ctr [ 0.00194975], cpc [ 31434.63087248]\n",
      "win_num 76859.0, total_cost [ 4714054.], click_num [ 149.], ctr [ 0.00193861], cpc [ 31637.94630872]\n",
      "win_num 77360.0, total_cost [ 4747350.], click_num [ 149.], ctr [ 0.00192606], cpc [ 31861.40939597]\n",
      "win_num 77809.0, total_cost [ 4776436.], click_num [ 149.], ctr [ 0.00191495], cpc [ 32056.61744966]\n",
      "win_num 78329.0, total_cost [ 4810115.], click_num [ 149.], ctr [ 0.00190223], cpc [ 32282.65100671]\n",
      "win_num 78825.0, total_cost [ 4840466.], click_num [ 149.], ctr [ 0.00189026], cpc [ 32486.34899329]\n",
      "win_num 79271.0, total_cost [ 4867813.], click_num [ 150.], ctr [ 0.00189224], cpc [ 32452.08666667]\n",
      "win_num 79680.0, total_cost [ 4895836.], click_num [ 150.], ctr [ 0.00188253], cpc [ 32638.90666667]\n",
      "win_num 80142.0, total_cost [ 4927908.], click_num [ 152.], ctr [ 0.00189663], cpc [ 32420.44736842]\n",
      "win_num 80572.0, total_cost [ 4954328.], click_num [ 152.], ctr [ 0.00188651], cpc [ 32594.26315789]\n",
      "win_num 81026.0, total_cost [ 4984035.], click_num [ 153.], ctr [ 0.00188828], cpc [ 32575.39215686]\n",
      "win_num 81442.0, total_cost [ 5013361.], click_num [ 153.], ctr [ 0.00187864], cpc [ 32767.06535948]\n",
      "win_num 81880.0, total_cost [ 5040884.], click_num [ 153.], ctr [ 0.00186859], cpc [ 32946.95424837]\n",
      "win_num 82307.0, total_cost [ 5068594.], click_num [ 153.], ctr [ 0.00185889], cpc [ 33128.06535948]\n",
      "win_num 82729.0, total_cost [ 5097088.], click_num [ 153.], ctr [ 0.00184941], cpc [ 33314.30065359]\n",
      "win_num 83176.0, total_cost [ 5127781.], click_num [ 153.], ctr [ 0.00183947], cpc [ 33514.90849673]\n",
      "win_num 83631.0, total_cost [ 5159112.], click_num [ 153.], ctr [ 0.00182947], cpc [ 33719.68627451]\n",
      "win_num 84038.0, total_cost [ 5185581.], click_num [ 154.], ctr [ 0.0018325], cpc [ 33672.6038961]\n",
      "win_num 84486.0, total_cost [ 5215039.], click_num [ 155.], ctr [ 0.00183462], cpc [ 33645.41290323]\n",
      "win_num 84921.0, total_cost [ 5243100.], click_num [ 155.], ctr [ 0.00182523], cpc [ 33826.4516129]\n",
      "win_num 85375.0, total_cost [ 5271815.], click_num [ 155.], ctr [ 0.00181552], cpc [ 34011.70967742]\n",
      "win_num 85797.0, total_cost [ 5297652.], click_num [ 155.], ctr [ 0.00180659], cpc [ 34178.4]\n",
      "win_num 86208.0, total_cost [ 5324946.], click_num [ 155.], ctr [ 0.00179798], cpc [ 34354.49032258]\n",
      "win_num 86681.0, total_cost [ 5355074.], click_num [ 155.], ctr [ 0.00178817], cpc [ 34548.86451613]\n",
      "win_num 87104.0, total_cost [ 5384709.], click_num [ 155.], ctr [ 0.00177948], cpc [ 34740.05806452]\n",
      "win_num 87482.0, total_cost [ 5410165.], click_num [ 155.], ctr [ 0.00177179], cpc [ 34904.29032258]\n",
      "win_num 87888.0, total_cost [ 5437334.], click_num [ 156.], ctr [ 0.00177499], cpc [ 34854.70512821]\n",
      "win_num 88273.0, total_cost [ 5464623.], click_num [ 156.], ctr [ 0.00176724], cpc [ 35029.63461538]\n",
      "win_num 88678.0, total_cost [ 5491408.], click_num [ 157.], ctr [ 0.00177045], cpc [ 34977.12101911]\n",
      "win_num 89061.0, total_cost [ 5517461.], click_num [ 157.], ctr [ 0.00176284], cpc [ 35143.06369427]\n",
      "win_num 89432.0, total_cost [ 5542723.], click_num [ 157.], ctr [ 0.00175552], cpc [ 35303.96815287]\n",
      "win_num 89890.0, total_cost [ 5574107.], click_num [ 158.], ctr [ 0.0017577], cpc [ 35279.15822785]\n",
      "win_num 90271.0, total_cost [ 5601015.], click_num [ 158.], ctr [ 0.00175029], cpc [ 35449.46202532]\n",
      "win_num 90657.0, total_cost [ 5626903.], click_num [ 158.], ctr [ 0.00174283], cpc [ 35613.31012658]\n",
      "win_num 91024.0, total_cost [ 5651204.], click_num [ 158.], ctr [ 0.00173581], cpc [ 35767.11392405]\n",
      "win_num 91379.0, total_cost [ 5675193.], click_num [ 159.], ctr [ 0.00174001], cpc [ 35693.03773585]\n",
      "win_num 91732.0, total_cost [ 5696688.], click_num [ 159.], ctr [ 0.00173331], cpc [ 35828.22641509]\n",
      "win_num 92105.0, total_cost [ 5720795.], click_num [ 159.], ctr [ 0.00172629], cpc [ 35979.8427673]\n",
      "win_num 92470.0, total_cost [ 5745053.], click_num [ 159.], ctr [ 0.00171948], cpc [ 36132.40880503]\n",
      "win_num 92857.0, total_cost [ 5771162.], click_num [ 159.], ctr [ 0.00171231], cpc [ 36296.6163522]\n",
      "win_num 93253.0, total_cost [ 5798232.], click_num [ 159.], ctr [ 0.00170504], cpc [ 36466.86792453]\n",
      "win_num 93606.0, total_cost [ 5823073.], click_num [ 159.], ctr [ 0.00169861], cpc [ 36623.10062893]\n",
      "win_num 93967.0, total_cost [ 5845032.], click_num [ 159.], ctr [ 0.00169208], cpc [ 36761.20754717]\n",
      "win_num 94350.0, total_cost [ 5870716.], click_num [ 159.], ctr [ 0.00168521], cpc [ 36922.74213836]\n",
      "win_num 94687.0, total_cost [ 5890941.], click_num [ 159.], ctr [ 0.00167922], cpc [ 37049.94339623]\n",
      "win_num 95085.0, total_cost [ 5918290.], click_num [ 159.], ctr [ 0.00167219], cpc [ 37221.94968553]\n",
      "win_num 95425.0, total_cost [ 5941066.], click_num [ 159.], ctr [ 0.00166623], cpc [ 37365.19496855]\n",
      "win_num 95767.0, total_cost [ 5962314.], click_num [ 159.], ctr [ 0.00166028], cpc [ 37498.83018868]\n",
      "win_num 96146.0, total_cost [ 5987862.], click_num [ 159.], ctr [ 0.00165373], cpc [ 37659.50943396]\n",
      "win_num 96489.0, total_cost [ 6009705.], click_num [ 159.], ctr [ 0.00164786], cpc [ 37796.88679245]\n",
      "win_num 96806.0, total_cost [ 6031232.], click_num [ 160.], ctr [ 0.00165279], cpc [ 37695.2]\n",
      "win_num 97140.0, total_cost [ 6053458.], click_num [ 160.], ctr [ 0.00164711], cpc [ 37834.1125]\n",
      "win_num 97493.0, total_cost [ 6077912.], click_num [ 160.], ctr [ 0.00164114], cpc [ 37986.95]\n",
      "win_num 97854.0, total_cost [ 6100309.], click_num [ 160.], ctr [ 0.00163509], cpc [ 38126.93125]\n",
      "win_num 98189.0, total_cost [ 6124746.], click_num [ 160.], ctr [ 0.00162951], cpc [ 38279.6625]\n",
      "win_num 98555.0, total_cost [ 6148945.], click_num [ 160.], ctr [ 0.00162346], cpc [ 38430.90625]\n",
      "win_num 98876.0, total_cost [ 6170201.], click_num [ 160.], ctr [ 0.00161819], cpc [ 38563.75625]\n",
      "win_num 99244.0, total_cost [ 6195445.], click_num [ 161.], ctr [ 0.00162226], cpc [ 38481.02484472]\n",
      "win_num 99590.0, total_cost [ 6219535.], click_num [ 161.], ctr [ 0.00161663], cpc [ 38630.65217391]\n",
      "win_num 99959.0, total_cost [ 6245273.], click_num [ 162.], ctr [ 0.00162066], cpc [ 38551.06790123]\n",
      "win_num 100260.0, total_cost [ 6266266.], click_num [ 162.], ctr [ 0.0016158], cpc [ 38680.65432099]\n",
      "win_num 100605.0, total_cost [ 6290211.], click_num [ 163.], ctr [ 0.0016202], cpc [ 38590.25153374]\n",
      "win_num 100956.0, total_cost [ 6316276.], click_num [ 163.], ctr [ 0.00161456], cpc [ 38750.1595092]\n",
      "win_num 101316.0, total_cost [ 6341025.], click_num [ 163.], ctr [ 0.00160883], cpc [ 38901.99386503]\n",
      "win_num 101629.0, total_cost [ 6361249.], click_num [ 163.], ctr [ 0.00160387], cpc [ 39026.06748466]\n",
      "win_num 101979.0, total_cost [ 6385114.], click_num [ 163.], ctr [ 0.00159837], cpc [ 39172.47852761]\n",
      "win_num 102328.0, total_cost [ 6409907.], click_num [ 163.], ctr [ 0.00159292], cpc [ 39324.58282209]\n",
      "win_num 102662.0, total_cost [ 6431842.], click_num [ 163.], ctr [ 0.00158773], cpc [ 39459.15337423]\n",
      "win_num 102977.0, total_cost [ 6451611.], click_num [ 163.], ctr [ 0.00158288], cpc [ 39580.43558282]\n",
      "win_num 103265.0, total_cost [ 6471168.], click_num [ 163.], ctr [ 0.00157846], cpc [ 39700.41717791]\n",
      "win_num 103612.0, total_cost [ 6495506.], click_num [ 163.], ctr [ 0.00157318], cpc [ 39849.73006135]\n"
     ]
    },
    {
     "name": "stdout",
     "output_type": "stream",
     "text": [
      "win_num 103637.0, total_cost [ 6499977.], click_num [ 162.], ctr [ 0.00156315], cpc [ 40123.31481481]\n",
      "win_num 103592.0, total_cost [ 6499977.], click_num [ 162.], ctr [ 0.00156383], cpc [ 40123.31481481]\n",
      "win_num 103601.0, total_cost [ 6499989.], click_num [ 161.], ctr [ 0.00155404], cpc [ 40372.60248447]\n",
      "win_num 103540.0, total_cost [ 6499916.], click_num [ 161.], ctr [ 0.00155495], cpc [ 40372.14906832]\n",
      "win_num 103527.0, total_cost [ 6499952.], click_num [ 161.], ctr [ 0.00155515], cpc [ 40372.37267081]\n",
      "win_num 103475.0, total_cost [ 6499948.], click_num [ 159.], ctr [ 0.0015366], cpc [ 40880.17610063]\n",
      "win_num 103469.0, total_cost [ 6499964.], click_num [ 158.], ctr [ 0.00152703], cpc [ 41139.01265823]\n",
      "win_num 103438.0, total_cost [ 6499992.], click_num [ 158.], ctr [ 0.00152749], cpc [ 41139.18987342]\n",
      "win_num 103414.0, total_cost [ 6499957.], click_num [ 157.], ctr [ 0.00151817], cpc [ 41401.]\n",
      "win_num 103408.0, total_cost [ 6499996.], click_num [ 157.], ctr [ 0.00151826], cpc [ 41401.24840764]\n",
      "win_num 103399.0, total_cost [ 6499984.], click_num [ 156.], ctr [ 0.00150872], cpc [ 41666.56410256]\n",
      "win_num 103361.0, total_cost [ 6499819.], click_num [ 155.], ctr [ 0.0014996], cpc [ 41934.31612903]\n",
      "win_num 103347.0, total_cost [ 6499948.], click_num [ 154.], ctr [ 0.00149013], cpc [ 42207.45454545]\n",
      "win_num 103358.0, total_cost [ 6499969.], click_num [ 153.], ctr [ 0.00148029], cpc [ 42483.45751634]\n",
      "win_num 103312.0, total_cost [ 6499982.], click_num [ 152.], ctr [ 0.00147127], cpc [ 42763.03947368]\n",
      "win_num 103286.0, total_cost [ 6499947.], click_num [ 150.], ctr [ 0.00145228], cpc [ 43332.98]\n"
     ]
    }
   ],
   "source": [
    "base = 1\n",
    "bidp = []\n",
    "win_number = []\n",
    "totalcost = []\n",
    "clicknum = []\n",
    "ctr_p = []\n",
    "cpc_p = []\n",
    "\n",
    "for i in range(180):\n",
    "    bid_p = np.array(pbidprice_square(pCTR_val, base)) # the list of predicted price\n",
    "    payprice = payprice_val\n",
    "    clicks   = click_val\n",
    "    \n",
    "    win_num, total_cost, click_num, ctr, cpc = evaluation(bid_p, payprice, clicks)\n",
    "    #print(base)\n",
    "    win_number.append(win_num)\n",
    "    totalcost.append(total_cost)\n",
    "    clicknum.append(click_num)\n",
    "    ctr_p.append(ctr)\n",
    "    cpc_p.append(cpc)\n",
    "    bidp.append(bid_p)\n",
    "    \n",
    "    base += 1 # a new base bid price"
   ]
  },
  {
   "cell_type": "code",
   "execution_count": 79,
   "metadata": {},
   "outputs": [
    {
     "data": {
      "text/html": [
       "<div>\n",
       "<style>\n",
       "    .dataframe thead tr:only-child th {\n",
       "        text-align: right;\n",
       "    }\n",
       "\n",
       "    .dataframe thead th {\n",
       "        text-align: left;\n",
       "    }\n",
       "\n",
       "    .dataframe tbody tr th {\n",
       "        vertical-align: top;\n",
       "    }\n",
       "</style>\n",
       "<table border=\"1\" class=\"dataframe\">\n",
       "  <thead>\n",
       "    <tr style=\"text-align: right;\">\n",
       "      <th></th>\n",
       "      <th>basebid</th>\n",
       "      <th>clicks</th>\n",
       "      <th>cpc</th>\n",
       "      <th>ctr</th>\n",
       "      <th>imp</th>\n",
       "      <th>totalcost</th>\n",
       "    </tr>\n",
       "  </thead>\n",
       "  <tbody>\n",
       "    <tr>\n",
       "      <th>0</th>\n",
       "      <td>1</td>\n",
       "      <td>[53.0]</td>\n",
       "      <td>[6376.20754717]</td>\n",
       "      <td>[0.00883480580097]</td>\n",
       "      <td>5999.0</td>\n",
       "      <td>[337939.0]</td>\n",
       "    </tr>\n",
       "    <tr>\n",
       "      <th>1</th>\n",
       "      <td>2</td>\n",
       "      <td>[66.0]</td>\n",
       "      <td>[8044.1969697]</td>\n",
       "      <td>[0.00712281459098]</td>\n",
       "      <td>9266.0</td>\n",
       "      <td>[530917.0]</td>\n",
       "    </tr>\n",
       "    <tr>\n",
       "      <th>2</th>\n",
       "      <td>3</td>\n",
       "      <td>[80.0]</td>\n",
       "      <td>[8459.8125]</td>\n",
       "      <td>[0.00697958471471]</td>\n",
       "      <td>11462.0</td>\n",
       "      <td>[676785.0]</td>\n",
       "    </tr>\n",
       "    <tr>\n",
       "      <th>3</th>\n",
       "      <td>4</td>\n",
       "      <td>[84.0]</td>\n",
       "      <td>[9375.27380952]</td>\n",
       "      <td>[0.00638686131387]</td>\n",
       "      <td>13152.0</td>\n",
       "      <td>[787523.0]</td>\n",
       "    </tr>\n",
       "    <tr>\n",
       "      <th>4</th>\n",
       "      <td>5</td>\n",
       "      <td>[92.0]</td>\n",
       "      <td>[9607.7173913]</td>\n",
       "      <td>[0.00629748784996]</td>\n",
       "      <td>14609.0</td>\n",
       "      <td>[883910.0]</td>\n",
       "    </tr>\n",
       "  </tbody>\n",
       "</table>\n",
       "</div>"
      ],
      "text/plain": [
       "   basebid  clicks              cpc                 ctr      imp   totalcost\n",
       "0        1  [53.0]  [6376.20754717]  [0.00883480580097]   5999.0  [337939.0]\n",
       "1        2  [66.0]   [8044.1969697]  [0.00712281459098]   9266.0  [530917.0]\n",
       "2        3  [80.0]      [8459.8125]  [0.00697958471471]  11462.0  [676785.0]\n",
       "3        4  [84.0]  [9375.27380952]  [0.00638686131387]  13152.0  [787523.0]\n",
       "4        5  [92.0]   [9607.7173913]  [0.00629748784996]  14609.0  [883910.0]"
      ]
     },
     "execution_count": 79,
     "metadata": {},
     "output_type": "execute_result"
    }
   ],
   "source": [
    "#df_logs = pd.DataFrame([baseBidPrice, win_number, totalcost, clicknum, ctr_p, cpc_p], axis = 1)\n",
    "df_logs_sqaure = pd.DataFrame(\n",
    "    {'basebid': baseBidPrice,\n",
    "     'imp': win_number,\n",
    "     'totalcost': totalcost,\n",
    "     'clicks' : clicknum,\n",
    "     'ctr': ctr_p,\n",
    "     'cpc': cpc_p\n",
    "    })\n",
    "df_logs_sqaure[:5]"
   ]
  },
  {
   "cell_type": "code",
   "execution_count": 80,
   "metadata": {},
   "outputs": [
    {
     "data": {
      "image/png": "[encoded data removed]",
      "text/plain": [
       "<matplotlib.figure.Figure at 0x13e40be80>"
      ]
     },
     "metadata": {},
     "output_type": "display_data"
    }
   ],
   "source": [
    "fig, ax1 = plt.subplots()\n",
    "ax1.plot(baseBidPrice,clicknum)\n",
    "ax1.set_xlabel('Base Bid')\n",
    "ax1.set_ylabel('Num Clicks', color='b')\n",
    "\n",
    "ax2 = ax1.twinx()\n",
    "ax2.plot(baseBidPrice, ctr_p,color='r')\n",
    "ax2.set_ylabel('CTR', color='r')\n",
    "fig.set_size_inches(8, 5)\n",
    "plt.show()"
   ]
  },
  {
   "cell_type": "code",
   "execution_count": 81,
   "metadata": {},
   "outputs": [
    {
     "data": {
      "text/html": [
       "<div>\n",
       "<style>\n",
       "    .dataframe thead tr:only-child th {\n",
       "        text-align: right;\n",
       "    }\n",
       "\n",
       "    .dataframe thead th {\n",
       "        text-align: left;\n",
       "    }\n",
       "\n",
       "    .dataframe tbody tr th {\n",
       "        vertical-align: top;\n",
       "    }\n",
       "</style>\n",
       "<table border=\"1\" class=\"dataframe\">\n",
       "  <thead>\n",
       "    <tr style=\"text-align: right;\">\n",
       "      <th></th>\n",
       "      <th>basebid</th>\n",
       "      <th>clicks</th>\n",
       "      <th>cpc</th>\n",
       "      <th>ctr</th>\n",
       "      <th>imp</th>\n",
       "      <th>totalcost</th>\n",
       "    </tr>\n",
       "  </thead>\n",
       "  <tbody>\n",
       "    <tr>\n",
       "      <th>161</th>\n",
       "      <td>162</td>\n",
       "      <td>[163.0]</td>\n",
       "      <td>[39580.4355828]</td>\n",
       "      <td>[0.00158287772998]</td>\n",
       "      <td>102977.0</td>\n",
       "      <td>[6451611.0]</td>\n",
       "    </tr>\n",
       "    <tr>\n",
       "      <th>154</th>\n",
       "      <td>155</td>\n",
       "      <td>[163.0]</td>\n",
       "      <td>[38590.2515337]</td>\n",
       "      <td>[0.00162019780329]</td>\n",
       "      <td>100605.0</td>\n",
       "      <td>[6290211.0]</td>\n",
       "    </tr>\n",
       "    <tr>\n",
       "      <th>156</th>\n",
       "      <td>157</td>\n",
       "      <td>[163.0]</td>\n",
       "      <td>[38901.993865]</td>\n",
       "      <td>[0.00160882782581]</td>\n",
       "      <td>101316.0</td>\n",
       "      <td>[6341025.0]</td>\n",
       "    </tr>\n",
       "    <tr>\n",
       "      <th>157</th>\n",
       "      <td>158</td>\n",
       "      <td>[163.0]</td>\n",
       "      <td>[39026.0674847]</td>\n",
       "      <td>[0.00160387291029]</td>\n",
       "      <td>101629.0</td>\n",
       "      <td>[6361249.0]</td>\n",
       "    </tr>\n",
       "    <tr>\n",
       "      <th>158</th>\n",
       "      <td>159</td>\n",
       "      <td>[163.0]</td>\n",
       "      <td>[39172.4785276]</td>\n",
       "      <td>[0.00159836829151]</td>\n",
       "      <td>101979.0</td>\n",
       "      <td>[6385114.0]</td>\n",
       "    </tr>\n",
       "    <tr>\n",
       "      <th>159</th>\n",
       "      <td>160</td>\n",
       "      <td>[163.0]</td>\n",
       "      <td>[39324.5828221]</td>\n",
       "      <td>[0.00159291689469]</td>\n",
       "      <td>102328.0</td>\n",
       "      <td>[6409907.0]</td>\n",
       "    </tr>\n",
       "    <tr>\n",
       "      <th>160</th>\n",
       "      <td>161</td>\n",
       "      <td>[163.0]</td>\n",
       "      <td>[39459.1533742]</td>\n",
       "      <td>[0.00158773450741]</td>\n",
       "      <td>102662.0</td>\n",
       "      <td>[6431842.0]</td>\n",
       "    </tr>\n",
       "    <tr>\n",
       "      <th>162</th>\n",
       "      <td>163</td>\n",
       "      <td>[163.0]</td>\n",
       "      <td>[39700.4171779]</td>\n",
       "      <td>[0.00157846317726]</td>\n",
       "      <td>103265.0</td>\n",
       "      <td>[6471168.0]</td>\n",
       "    </tr>\n",
       "    <tr>\n",
       "      <th>163</th>\n",
       "      <td>164</td>\n",
       "      <td>[163.0]</td>\n",
       "      <td>[39849.7300613]</td>\n",
       "      <td>[0.0015731768521]</td>\n",
       "      <td>103612.0</td>\n",
       "      <td>[6495506.0]</td>\n",
       "    </tr>\n",
       "    <tr>\n",
       "      <th>155</th>\n",
       "      <td>156</td>\n",
       "      <td>[163.0]</td>\n",
       "      <td>[38750.1595092]</td>\n",
       "      <td>[0.00161456476089]</td>\n",
       "      <td>100956.0</td>\n",
       "      <td>[6316276.0]</td>\n",
       "    </tr>\n",
       "  </tbody>\n",
       "</table>\n",
       "</div>"
      ],
      "text/plain": [
       "     basebid   clicks              cpc                 ctr       imp  \\\n",
       "161      162  [163.0]  [39580.4355828]  [0.00158287772998]  102977.0   \n",
       "154      155  [163.0]  [38590.2515337]  [0.00162019780329]  100605.0   \n",
       "156      157  [163.0]   [38901.993865]  [0.00160882782581]  101316.0   \n",
       "157      158  [163.0]  [39026.0674847]  [0.00160387291029]  101629.0   \n",
       "158      159  [163.0]  [39172.4785276]  [0.00159836829151]  101979.0   \n",
       "159      160  [163.0]  [39324.5828221]  [0.00159291689469]  102328.0   \n",
       "160      161  [163.0]  [39459.1533742]  [0.00158773450741]  102662.0   \n",
       "162      163  [163.0]  [39700.4171779]  [0.00157846317726]  103265.0   \n",
       "163      164  [163.0]  [39849.7300613]   [0.0015731768521]  103612.0   \n",
       "155      156  [163.0]  [38750.1595092]  [0.00161456476089]  100956.0   \n",
       "\n",
       "       totalcost  \n",
       "161  [6451611.0]  \n",
       "154  [6290211.0]  \n",
       "156  [6341025.0]  \n",
       "157  [6361249.0]  \n",
       "158  [6385114.0]  \n",
       "159  [6409907.0]  \n",
       "160  [6431842.0]  \n",
       "162  [6471168.0]  \n",
       "163  [6495506.0]  \n",
       "155  [6316276.0]  "
      ]
     },
     "execution_count": 81,
     "metadata": {},
     "output_type": "execute_result"
    }
   ],
   "source": [
    "df_logs_sqaure.sort_values(by='clicks', ascending=False)[:10]"
   ]
  },
  {
   "cell_type": "code",
   "execution_count": 83,
   "metadata": {
    "collapsed": true
   },
   "outputs": [],
   "source": [
    "pCTR_test = np.array(pCTR_test)\n",
    "\n",
    "optimalBaseBid = 162\n",
    "bidprice_test = pbidprice_square(pCTR_test, optimalBaseBid)\n",
    "bidprice_test = pd.DataFrame(bidprice_test)"
   ]
  },
  {
   "cell_type": "code",
   "execution_count": 84,
   "metadata": {},
   "outputs": [
    {
     "data": {
      "text/html": [
       "<div>\n",
       "<style>\n",
       "    .dataframe thead tr:only-child th {\n",
       "        text-align: right;\n",
       "    }\n",
       "\n",
       "    .dataframe thead th {\n",
       "        text-align: left;\n",
       "    }\n",
       "\n",
       "    .dataframe tbody tr th {\n",
       "        vertical-align: top;\n",
       "    }\n",
       "</style>\n",
       "<table border=\"1\" class=\"dataframe\">\n",
       "  <thead>\n",
       "    <tr style=\"text-align: right;\">\n",
       "      <th></th>\n",
       "      <th>bidid</th>\n",
       "      <th>bidprice</th>\n",
       "    </tr>\n",
       "  </thead>\n",
       "  <tbody>\n",
       "    <tr>\n",
       "      <th>0</th>\n",
       "      <td>366c563de7d90feb9d4dab53e795a93fb3157387</td>\n",
       "      <td>430.750263</td>\n",
       "    </tr>\n",
       "    <tr>\n",
       "      <th>1</th>\n",
       "      <td>29167d4caa719788b5a342dbaa25151d53121f80</td>\n",
       "      <td>4556.870760</td>\n",
       "    </tr>\n",
       "    <tr>\n",
       "      <th>2</th>\n",
       "      <td>ff8bc3f4d44a3ea60c5f3a3a8fbe7cd98fb2966e</td>\n",
       "      <td>9.694037</td>\n",
       "    </tr>\n",
       "    <tr>\n",
       "      <th>3</th>\n",
       "      <td>844c2da00d45315f20b748ec131c26ee99a7cbc7</td>\n",
       "      <td>341.597417</td>\n",
       "    </tr>\n",
       "    <tr>\n",
       "      <th>4</th>\n",
       "      <td>c6017f0ad0c44d7d0c9b62583ea863f28941c0ca</td>\n",
       "      <td>142.885704</td>\n",
       "    </tr>\n",
       "  </tbody>\n",
       "</table>\n",
       "</div>"
      ],
      "text/plain": [
       "                                      bidid     bidprice\n",
       "0  366c563de7d90feb9d4dab53e795a93fb3157387   430.750263\n",
       "1  29167d4caa719788b5a342dbaa25151d53121f80  4556.870760\n",
       "2  ff8bc3f4d44a3ea60c5f3a3a8fbe7cd98fb2966e     9.694037\n",
       "3  844c2da00d45315f20b748ec131c26ee99a7cbc7   341.597417\n",
       "4  c6017f0ad0c44d7d0c9b62583ea863f28941c0ca   142.885704"
      ]
     },
     "execution_count": 84,
     "metadata": {},
     "output_type": "execute_result"
    }
   ],
   "source": [
    "res_linear = pd.concat([bidid_test, bidprice_test], axis = 1)\n",
    "res_linear.columns = ['bidid', 'bidprice']\n",
    "res_linear[:5]"
   ]
  },
  {
   "cell_type": "code",
   "execution_count": 85,
   "metadata": {
    "collapsed": true
   },
   "outputs": [],
   "source": [
    "res_linear.to_csv('testing_bidding_price.csv')"
   ]
  },
  {
   "cell_type": "markdown",
   "metadata": {},
   "source": [
    "# Exponent"
   ]
  },
  {
   "cell_type": "code",
   "execution_count": 25,
   "metadata": {
    "collapsed": true
   },
   "outputs": [],
   "source": [
    "def pbidprice_exp(ctr, base_bid):\n",
    "    pbid = []\n",
    "    for i in range(len(ctr)):\n",
    "        p = base_bid * np.exp(ctr[i]/0.000738)\n",
    "        pbid.append(p)\n",
    "\n",
    "    return pbid"
   ]
  },
  {
   "cell_type": "code",
   "execution_count": 26,
   "metadata": {},
   "outputs": [
    {
     "name": "stderr",
     "output_type": "stream",
     "text": [
      "/Users/liuce/anaconda3/lib/python3.6/site-packages/ipykernel_launcher.py:4: RuntimeWarning: overflow encountered in exp\n",
      "  after removing the cwd from sys.path.\n"
     ]
    },
    {
     "name": "stdout",
     "output_type": "stream",
     "text": [
      "win_num 12667.0, total_cost [ 875581.], click_num [ 88.], ctr [ 0.00694719], cpc [ 9949.78409091]\n",
      "win_num 15860.0, total_cost [ 1045910.], click_num [ 94.], ctr [ 0.00592686], cpc [ 11126.70212766]\n",
      "win_num 19247.0, total_cost [ 1181615.], click_num [ 97.], ctr [ 0.00503975], cpc [ 12181.59793814]\n",
      "win_num 24167.0, total_cost [ 1306232.], click_num [ 101.], ctr [ 0.00417925], cpc [ 12932.99009901]\n",
      "win_num 29309.0, total_cost [ 1427473.], click_num [ 108.], ctr [ 0.00368487], cpc [ 13217.34259259]\n",
      "win_num 32771.0, total_cost [ 1538953.], click_num [ 111.], ctr [ 0.00338714], cpc [ 13864.44144144]\n",
      "win_num 36523.0, total_cost [ 1666004.], click_num [ 114.], ctr [ 0.00312132], cpc [ 14614.07017544]\n",
      "win_num 40467.0, total_cost [ 1791888.], click_num [ 119.], ctr [ 0.00294067], cpc [ 15057.88235294]\n",
      "win_num 44688.0, total_cost [ 1923951.], click_num [ 120.], ctr [ 0.00268528], cpc [ 16032.925]\n",
      "win_num 48996.0, total_cost [ 2061115.], click_num [ 123.], ctr [ 0.00251041], cpc [ 16757.03252033]\n",
      "win_num 53180.0, total_cost [ 2200319.], click_num [ 123.], ctr [ 0.0023129], cpc [ 17888.77235772]\n",
      "win_num 57865.0, total_cost [ 2353490.], click_num [ 125.], ctr [ 0.0021602], cpc [ 18827.92]\n",
      "win_num 62822.0, total_cost [ 2516097.], click_num [ 126.], ctr [ 0.00200567], cpc [ 19969.02380952]\n",
      "win_num 67836.0, total_cost [ 2687702.], click_num [ 129.], ctr [ 0.00190165], cpc [ 20834.89922481]\n",
      "win_num 72910.0, total_cost [ 2856190.], click_num [ 132.], ctr [ 0.00181045], cpc [ 21637.8030303]\n",
      "win_num 77984.0, total_cost [ 3034809.], click_num [ 134.], ctr [ 0.0017183], cpc [ 22647.82835821]\n",
      "win_num 82942.0, total_cost [ 3207967.], click_num [ 134.], ctr [ 0.00161559], cpc [ 23940.05223881]\n",
      "win_num 87567.0, total_cost [ 3380183.], click_num [ 135.], ctr [ 0.00154168], cpc [ 25038.39259259]\n",
      "win_num 91995.0, total_cost [ 3558101.], click_num [ 138.], ctr [ 0.00150008], cpc [ 25783.34057971]\n",
      "win_num 96071.0, total_cost [ 3733289.], click_num [ 140.], ctr [ 0.00145726], cpc [ 26666.35]\n",
      "win_num 99590.0, total_cost [ 3896361.], click_num [ 141.], ctr [ 0.0014158], cpc [ 27633.76595745]\n",
      "win_num 102806.0, total_cost [ 4054322.], click_num [ 141.], ctr [ 0.00137152], cpc [ 28754.05673759]\n",
      "win_num 106135.0, total_cost [ 4226199.], click_num [ 143.], ctr [ 0.00134734], cpc [ 29553.83916084]\n",
      "win_num 109360.0, total_cost [ 4398377.], click_num [ 144.], ctr [ 0.00131675], cpc [ 30544.28472222]\n",
      "win_num 112797.0, total_cost [ 4581499.], click_num [ 146.], ctr [ 0.00129436], cpc [ 31380.13013699]\n",
      "win_num 116199.0, total_cost [ 4767870.], click_num [ 147.], ctr [ 0.00126507], cpc [ 32434.48979592]\n",
      "win_num 119609.0, total_cost [ 4956998.], click_num [ 148.], ctr [ 0.00123737], cpc [ 33493.22972973]\n",
      "win_num 122966.0, total_cost [ 5140629.], click_num [ 150.], ctr [ 0.00121985], cpc [ 34270.86]\n",
      "win_num 126270.0, total_cost [ 5326860.], click_num [ 155.], ctr [ 0.00122753], cpc [ 34366.83870968]\n",
      "win_num 129571.0, total_cost [ 5520646.], click_num [ 155.], ctr [ 0.00119626], cpc [ 35617.07096774]\n",
      "win_num 132945.0, total_cost [ 5723414.], click_num [ 156.], ctr [ 0.00117342], cpc [ 36688.55128205]\n",
      "win_num 136091.0, total_cost [ 5915666.], click_num [ 157.], ctr [ 0.00115364], cpc [ 37679.40127389]\n",
      "win_num 139489.0, total_cost [ 6127100.], click_num [ 157.], ctr [ 0.00112554], cpc [ 39026.11464968]\n",
      "win_num 142841.0, total_cost [ 6339026.], click_num [ 158.], ctr [ 0.00110612], cpc [ 40120.41772152]\n",
      "win_num 145033.0, total_cost [ 6499953.], click_num [ 156.], ctr [ 0.00107562], cpc [ 41666.36538462]\n",
      "win_num 143702.0, total_cost [ 6499948.], click_num [ 153.], ctr [ 0.0010647], cpc [ 42483.32026144]\n",
      "win_num 142170.0, total_cost [ 6499824.], click_num [ 147.], ctr [ 0.00103397], cpc [ 44216.48979592]\n",
      "win_num 140790.0, total_cost [ 6499904.], click_num [ 144.], ctr [ 0.0010228], cpc [ 45138.22222222]\n",
      "win_num 139507.0, total_cost [ 6499969.], click_num [ 141.], ctr [ 0.0010107], cpc [ 46099.07092199]\n",
      "win_num 138204.0, total_cost [ 6499996.], click_num [ 137.], ctr [ 0.00099129], cpc [ 47445.22627737]\n",
      "win_num 136887.0, total_cost [ 6499988.], click_num [ 133.], ctr [ 0.0009716], cpc [ 48872.09022556]\n",
      "win_num 135744.0, total_cost [ 6499802.], click_num [ 129.], ctr [ 0.00095032], cpc [ 50386.0620155]\n",
      "win_num 134423.0, total_cost [ 6499944.], click_num [ 127.], ctr [ 0.00094478], cpc [ 51180.66141732]\n",
      "win_num 133072.0, total_cost [ 6499986.], click_num [ 125.], ctr [ 0.00093934], cpc [ 51999.888]\n",
      "win_num 131770.0, total_cost [ 6499985.], click_num [ 124.], ctr [ 0.00094103], cpc [ 52419.23387097]\n",
      "win_num 130662.0, total_cost [ 6499971.], click_num [ 119.], ctr [ 0.00091075], cpc [ 54621.60504202]\n",
      "win_num 129662.0, total_cost [ 6499902.], click_num [ 116.], ctr [ 0.00089463], cpc [ 56033.63793103]\n",
      "win_num 128623.0, total_cost [ 6499985.], click_num [ 114.], ctr [ 0.00088631], cpc [ 57017.4122807]\n",
      "win_num 127599.0, total_cost [ 6499870.], click_num [ 110.], ctr [ 0.00086208], cpc [ 59089.72727273]\n",
      "win_num 126704.0, total_cost [ 6499997.], click_num [ 105.], ctr [ 0.0008287], cpc [ 61904.73333333]\n",
      "win_num 125715.0, total_cost [ 6499987.], click_num [ 104.], ctr [ 0.00082727], cpc [ 62499.875]\n",
      "win_num 124810.0, total_cost [ 6499952.], click_num [ 103.], ctr [ 0.00082525], cpc [ 63106.33009709]\n",
      "win_num 123959.0, total_cost [ 6499949.], click_num [ 99.], ctr [ 0.00079865], cpc [ 65656.05050505]\n",
      "win_num 123070.0, total_cost [ 6499892.], click_num [ 97.], ctr [ 0.00078817], cpc [ 67009.19587629]\n",
      "win_num 122257.0, total_cost [ 6499913.], click_num [ 95.], ctr [ 0.00077705], cpc [ 68420.13684211]\n",
      "win_num 121479.0, total_cost [ 6499949.], click_num [ 95.], ctr [ 0.00078203], cpc [ 68420.51578947]\n",
      "win_num 120717.0, total_cost [ 6499978.], click_num [ 92.], ctr [ 0.00076211], cpc [ 70651.93478261]\n",
      "win_num 119991.0, total_cost [ 6499934.], click_num [ 90.], ctr [ 0.00075006], cpc [ 72221.48888889]\n",
      "win_num 119245.0, total_cost [ 6499943.], click_num [ 92.], ctr [ 0.00077152], cpc [ 70651.55434783]\n",
      "win_num 118556.0, total_cost [ 6499943.], click_num [ 90.], ctr [ 0.00075913], cpc [ 72221.58888889]\n",
      "win_num 117889.0, total_cost [ 6499955.], click_num [ 90.], ctr [ 0.00076343], cpc [ 72221.72222222]\n",
      "win_num 117174.0, total_cost [ 6499978.], click_num [ 90.], ctr [ 0.00076809], cpc [ 72221.97777778]\n",
      "win_num 116540.0, total_cost [ 6499964.], click_num [ 89.], ctr [ 0.00076369], cpc [ 73033.30337079]\n",
      "win_num 115884.0, total_cost [ 6499945.], click_num [ 88.], ctr [ 0.00075938], cpc [ 73863.01136364]\n",
      "win_num 115258.0, total_cost [ 6499997.], click_num [ 86.], ctr [ 0.00074615], cpc [ 75581.36046512]\n",
      "win_num 114600.0, total_cost [ 6499973.], click_num [ 84.], ctr [ 0.00073298], cpc [ 77380.63095238]\n",
      "win_num 114057.0, total_cost [ 6499945.], click_num [ 81.], ctr [ 0.00071017], cpc [ 80246.2345679]\n",
      "win_num 113442.0, total_cost [ 6499790.], click_num [ 81.], ctr [ 0.00071402], cpc [ 80244.32098765]\n",
      "win_num 112880.0, total_cost [ 6499981.], click_num [ 80.], ctr [ 0.00070872], cpc [ 81249.7625]\n",
      "win_num 112333.0, total_cost [ 6499953.], click_num [ 80.], ctr [ 0.00071217], cpc [ 81249.4125]\n",
      "win_num 111820.0, total_cost [ 6499963.], click_num [ 79.], ctr [ 0.00070649], cpc [ 82278.01265823]\n",
      "win_num 111336.0, total_cost [ 6499942.], click_num [ 78.], ctr [ 0.00070058], cpc [ 83332.58974359]\n",
      "win_num 110793.0, total_cost [ 6499999.], click_num [ 78.], ctr [ 0.00070402], cpc [ 83333.32051282]\n",
      "win_num 110293.0, total_cost [ 6499989.], click_num [ 77.], ctr [ 0.00069814], cpc [ 84415.44155844]\n",
      "win_num 109834.0, total_cost [ 6499923.], click_num [ 77.], ctr [ 0.00070106], cpc [ 84414.58441558]\n",
      "win_num 109410.0, total_cost [ 6499982.], click_num [ 77.], ctr [ 0.00070377], cpc [ 84415.35064935]\n",
      "win_num 108998.0, total_cost [ 6499957.], click_num [ 76.], ctr [ 0.00069726], cpc [ 85525.75]\n",
      "win_num 108567.0, total_cost [ 6499986.], click_num [ 75.], ctr [ 0.00069082], cpc [ 86666.48]\n",
      "win_num 108179.0, total_cost [ 6499953.], click_num [ 75.], ctr [ 0.0006933], cpc [ 86666.04]\n",
      "win_num 107761.0, total_cost [ 6499940.], click_num [ 75.], ctr [ 0.00069598], cpc [ 86665.86666667]\n",
      "win_num 107320.0, total_cost [ 6499870.], click_num [ 75.], ctr [ 0.00069884], cpc [ 86664.93333333]\n",
      "win_num 106873.0, total_cost [ 6499992.], click_num [ 75.], ctr [ 0.00070177], cpc [ 86666.56]\n"
     ]
    },
    {
     "name": "stdout",
     "output_type": "stream",
     "text": [
      "win_num 106497.0, total_cost [ 6499987.], click_num [ 74.], ctr [ 0.00069486], cpc [ 87837.66216216]\n",
      "win_num 106109.0, total_cost [ 6499977.], click_num [ 72.], ctr [ 0.00067855], cpc [ 90277.45833333]\n",
      "win_num 105724.0, total_cost [ 6499988.], click_num [ 72.], ctr [ 0.00068102], cpc [ 90277.61111111]\n",
      "win_num 105414.0, total_cost [ 6499980.], click_num [ 72.], ctr [ 0.00068302], cpc [ 90277.5]\n",
      "win_num 105109.0, total_cost [ 6499963.], click_num [ 71.], ctr [ 0.00067549], cpc [ 91548.77464789]\n",
      "win_num 104776.0, total_cost [ 6499984.], click_num [ 70.], ctr [ 0.00066809], cpc [ 92856.91428571]\n",
      "win_num 104438.0, total_cost [ 6499937.], click_num [ 69.], ctr [ 0.00066068], cpc [ 94201.98550725]\n",
      "win_num 104134.0, total_cost [ 6499929.], click_num [ 69.], ctr [ 0.00066261], cpc [ 94201.86956522]\n",
      "win_num 103816.0, total_cost [ 6499933.], click_num [ 69.], ctr [ 0.00066464], cpc [ 94201.92753623]\n",
      "win_num 103487.0, total_cost [ 6499982.], click_num [ 70.], ctr [ 0.00067641], cpc [ 92856.88571429]\n",
      "win_num 103206.0, total_cost [ 6499971.], click_num [ 69.], ctr [ 0.00066857], cpc [ 94202.47826087]\n",
      "win_num 102881.0, total_cost [ 6499973.], click_num [ 69.], ctr [ 0.00067068], cpc [ 94202.50724638]\n",
      "win_num 102545.0, total_cost [ 6499961.], click_num [ 68.], ctr [ 0.00066312], cpc [ 95587.66176471]\n",
      "win_num 102187.0, total_cost [ 6499923.], click_num [ 68.], ctr [ 0.00066545], cpc [ 95587.10294118]\n",
      "win_num 101896.0, total_cost [ 6499997.], click_num [ 67.], ctr [ 0.00065753], cpc [ 97014.88059701]\n",
      "win_num 101599.0, total_cost [ 6499954.], click_num [ 66.], ctr [ 0.00064961], cpc [ 98484.15151515]\n",
      "win_num 101292.0, total_cost [ 6499960.], click_num [ 66.], ctr [ 0.00065158], cpc [ 98484.24242424]\n",
      "win_num 100996.0, total_cost [ 6499872.], click_num [ 66.], ctr [ 0.00065349], cpc [ 98482.90909091]\n",
      "win_num 100753.0, total_cost [ 6499957.], click_num [ 65.], ctr [ 0.00064514], cpc [ 99999.33846154]\n",
      "win_num 100443.0, total_cost [ 6499948.], click_num [ 65.], ctr [ 0.00064713], cpc [ 99999.2]\n",
      "win_num 100149.0, total_cost [ 6499867.], click_num [ 66.], ctr [ 0.00065902], cpc [ 98482.83333333]\n",
      "win_num 99801.0, total_cost [ 6499868.], click_num [ 66.], ctr [ 0.00066132], cpc [ 98482.84848485]\n",
      "win_num 99507.0, total_cost [ 6499984.], click_num [ 66.], ctr [ 0.00066327], cpc [ 98484.60606061]\n",
      "win_num 99230.0, total_cost [ 6499967.], click_num [ 66.], ctr [ 0.00066512], cpc [ 98484.34848485]\n",
      "win_num 98928.0, total_cost [ 6499913.], click_num [ 66.], ctr [ 0.00066715], cpc [ 98483.53030303]\n",
      "win_num 98632.0, total_cost [ 6499940.], click_num [ 67.], ctr [ 0.00067929], cpc [ 97014.02985075]\n",
      "win_num 98378.0, total_cost [ 6499957.], click_num [ 67.], ctr [ 0.00068105], cpc [ 97014.28358209]\n",
      "win_num 98103.0, total_cost [ 6499944.], click_num [ 67.], ctr [ 0.00068296], cpc [ 97014.08955224]\n",
      "win_num 97807.0, total_cost [ 6499934.], click_num [ 66.], ctr [ 0.0006748], cpc [ 98483.84848485]\n",
      "win_num 97539.0, total_cost [ 6499936.], click_num [ 66.], ctr [ 0.00067665], cpc [ 98483.87878788]\n",
      "win_num 97255.0, total_cost [ 6499859.], click_num [ 66.], ctr [ 0.00067863], cpc [ 98482.71212121]\n",
      "win_num 97000.0, total_cost [ 6499963.], click_num [ 66.], ctr [ 0.00068041], cpc [ 98484.28787879]\n",
      "win_num 96768.0, total_cost [ 6499925.], click_num [ 66.], ctr [ 0.00068204], cpc [ 98483.71212121]\n",
      "win_num 96521.0, total_cost [ 6499948.], click_num [ 66.], ctr [ 0.00068379], cpc [ 98484.06060606]\n",
      "win_num 96292.0, total_cost [ 6499978.], click_num [ 66.], ctr [ 0.00068542], cpc [ 98484.51515152]\n",
      "win_num 96086.0, total_cost [ 6499972.], click_num [ 66.], ctr [ 0.00068688], cpc [ 98484.42424242]\n",
      "win_num 95858.0, total_cost [ 6499988.], click_num [ 66.], ctr [ 0.00068852], cpc [ 98484.66666667]\n",
      "win_num 95642.0, total_cost [ 6499906.], click_num [ 66.], ctr [ 0.00069007], cpc [ 98483.42424242]\n",
      "win_num 95451.0, total_cost [ 6499946.], click_num [ 63.], ctr [ 0.00066002], cpc [ 103173.74603175]\n",
      "win_num 95224.0, total_cost [ 6499934.], click_num [ 63.], ctr [ 0.0006616], cpc [ 103173.55555556]\n",
      "win_num 94993.0, total_cost [ 6499993.], click_num [ 63.], ctr [ 0.00066321], cpc [ 103174.49206349]\n",
      "win_num 94794.0, total_cost [ 6499981.], click_num [ 63.], ctr [ 0.0006646], cpc [ 103174.3015873]\n",
      "win_num 94568.0, total_cost [ 6499945.], click_num [ 63.], ctr [ 0.00066619], cpc [ 103173.73015873]\n",
      "win_num 94334.0, total_cost [ 6499989.], click_num [ 63.], ctr [ 0.00066784], cpc [ 103174.42857143]\n",
      "win_num 94134.0, total_cost [ 6499949.], click_num [ 63.], ctr [ 0.00066926], cpc [ 103173.79365079]\n",
      "win_num 93947.0, total_cost [ 6499902.], click_num [ 63.], ctr [ 0.00067059], cpc [ 103173.04761905]\n",
      "win_num 93759.0, total_cost [ 6499984.], click_num [ 63.], ctr [ 0.00067194], cpc [ 103174.34920635]\n",
      "win_num 93522.0, total_cost [ 6499911.], click_num [ 63.], ctr [ 0.00067364], cpc [ 103173.19047619]\n",
      "win_num 93317.0, total_cost [ 6499966.], click_num [ 63.], ctr [ 0.00067512], cpc [ 103174.06349206]\n",
      "win_num 93135.0, total_cost [ 6499930.], click_num [ 63.], ctr [ 0.00067644], cpc [ 103173.49206349]\n",
      "win_num 92965.0, total_cost [ 6499975.], click_num [ 63.], ctr [ 0.00067767], cpc [ 103174.20634921]\n",
      "win_num 92769.0, total_cost [ 6499982.], click_num [ 63.], ctr [ 0.00067911], cpc [ 103174.31746032]\n",
      "win_num 92592.0, total_cost [ 6499944.], click_num [ 62.], ctr [ 0.0006696], cpc [ 104837.80645161]\n",
      "win_num 92378.0, total_cost [ 6499812.], click_num [ 62.], ctr [ 0.00067116], cpc [ 104835.67741935]\n",
      "win_num 92211.0, total_cost [ 6499970.], click_num [ 62.], ctr [ 0.00067237], cpc [ 104838.22580645]\n",
      "win_num 92045.0, total_cost [ 6499908.], click_num [ 62.], ctr [ 0.00067358], cpc [ 104837.22580645]\n",
      "win_num 91883.0, total_cost [ 6499923.], click_num [ 62.], ctr [ 0.00067477], cpc [ 104837.46774194]\n",
      "win_num 91698.0, total_cost [ 6499859.], click_num [ 62.], ctr [ 0.00067613], cpc [ 104836.43548387]\n",
      "win_num 91537.0, total_cost [ 6499957.], click_num [ 61.], ctr [ 0.0006664], cpc [ 106556.67213115]\n",
      "win_num 91351.0, total_cost [ 6499937.], click_num [ 61.], ctr [ 0.00066775], cpc [ 106556.3442623]\n",
      "win_num 91127.0, total_cost [ 6499996.], click_num [ 61.], ctr [ 0.0006694], cpc [ 106557.31147541]\n",
      "win_num 90921.0, total_cost [ 6499981.], click_num [ 61.], ctr [ 0.00067091], cpc [ 106557.06557377]\n",
      "win_num 90778.0, total_cost [ 6499922.], click_num [ 61.], ctr [ 0.00067197], cpc [ 106556.09836066]\n",
      "win_num 90613.0, total_cost [ 6499974.], click_num [ 61.], ctr [ 0.00067319], cpc [ 106556.95081967]\n",
      "win_num 90430.0, total_cost [ 6499942.], click_num [ 61.], ctr [ 0.00067455], cpc [ 106556.42622951]\n",
      "win_num 90261.0, total_cost [ 6499990.], click_num [ 61.], ctr [ 0.00067582], cpc [ 106557.21311475]\n",
      "win_num 90102.0, total_cost [ 6499918.], click_num [ 61.], ctr [ 0.00067701], cpc [ 106556.03278689]\n",
      "win_num 89938.0, total_cost [ 6499935.], click_num [ 61.], ctr [ 0.00067825], cpc [ 106556.31147541]\n",
      "win_num 89805.0, total_cost [ 6499953.], click_num [ 60.], ctr [ 0.00066811], cpc [ 108332.55]\n",
      "win_num 89607.0, total_cost [ 6499923.], click_num [ 60.], ctr [ 0.00066959], cpc [ 108332.05]\n",
      "win_num 89449.0, total_cost [ 6499964.], click_num [ 59.], ctr [ 0.00065959], cpc [ 110168.88135593]\n",
      "win_num 89299.0, total_cost [ 6499994.], click_num [ 59.], ctr [ 0.0006607], cpc [ 110169.38983051]\n",
      "win_num 89167.0, total_cost [ 6499965.], click_num [ 58.], ctr [ 0.00065046], cpc [ 112068.36206897]\n",
      "win_num 89057.0, total_cost [ 6499945.], click_num [ 58.], ctr [ 0.00065127], cpc [ 112068.01724138]\n",
      "win_num 88893.0, total_cost [ 6499931.], click_num [ 58.], ctr [ 0.00065247], cpc [ 112067.77586207]\n",
      "win_num 88779.0, total_cost [ 6499990.], click_num [ 58.], ctr [ 0.00065331], cpc [ 112068.79310345]\n",
      "win_num 88629.0, total_cost [ 6499954.], click_num [ 57.], ctr [ 0.00064313], cpc [ 114034.28070175]\n",
      "win_num 88456.0, total_cost [ 6499968.], click_num [ 57.], ctr [ 0.00064439], cpc [ 114034.52631579]\n",
      "win_num 88293.0, total_cost [ 6499968.], click_num [ 57.], ctr [ 0.00064558], cpc [ 114034.52631579]\n",
      "win_num 88148.0, total_cost [ 6499995.], click_num [ 57.], ctr [ 0.00064664], cpc [ 114035.]\n",
      "win_num 88034.0, total_cost [ 6499976.], click_num [ 57.], ctr [ 0.00064748], cpc [ 114034.66666667]\n",
      "win_num 87896.0, total_cost [ 6499959.], click_num [ 57.], ctr [ 0.00064849], cpc [ 114034.36842105]\n"
     ]
    },
    {
     "name": "stdout",
     "output_type": "stream",
     "text": [
      "win_num 87765.0, total_cost [ 6499925.], click_num [ 56.], ctr [ 0.00063807], cpc [ 116070.08928571]\n",
      "win_num 87645.0, total_cost [ 6499814.], click_num [ 56.], ctr [ 0.00063894], cpc [ 116068.10714286]\n",
      "win_num 87539.0, total_cost [ 6499936.], click_num [ 56.], ctr [ 0.00063971], cpc [ 116070.28571429]\n",
      "win_num 87440.0, total_cost [ 6499917.], click_num [ 56.], ctr [ 0.00064044], cpc [ 116069.94642857]\n",
      "win_num 87319.0, total_cost [ 6499885.], click_num [ 55.], ctr [ 0.00062987], cpc [ 118179.72727273]\n",
      "win_num 87203.0, total_cost [ 6499995.], click_num [ 55.], ctr [ 0.00063071], cpc [ 118181.72727273]\n",
      "win_num 87084.0, total_cost [ 6499943.], click_num [ 55.], ctr [ 0.00063157], cpc [ 118180.78181818]\n",
      "win_num 86999.0, total_cost [ 6499919.], click_num [ 55.], ctr [ 0.00063219], cpc [ 118180.34545455]\n",
      "win_num 86910.0, total_cost [ 6499993.], click_num [ 55.], ctr [ 0.00063284], cpc [ 118181.69090909]\n",
      "win_num 86832.0, total_cost [ 6499922.], click_num [ 55.], ctr [ 0.00063341], cpc [ 118180.4]\n",
      "win_num 86726.0, total_cost [ 6499942.], click_num [ 55.], ctr [ 0.00063418], cpc [ 118180.76363636]\n",
      "win_num 86610.0, total_cost [ 6499982.], click_num [ 55.], ctr [ 0.00063503], cpc [ 118181.49090909]\n",
      "win_num 86521.0, total_cost [ 6499979.], click_num [ 54.], ctr [ 0.00062413], cpc [ 120369.98148148]\n",
      "win_num 86413.0, total_cost [ 6499940.], click_num [ 54.], ctr [ 0.00062491], cpc [ 120369.25925926]\n",
      "win_num 86306.0, total_cost [ 6499961.], click_num [ 54.], ctr [ 0.00062568], cpc [ 120369.64814815]\n",
      "win_num 86197.0, total_cost [ 6499981.], click_num [ 54.], ctr [ 0.00062647], cpc [ 120370.01851852]\n"
     ]
    }
   ],
   "source": [
    "base = 1\n",
    "bidp = []\n",
    "win_number = []\n",
    "totalcost = []\n",
    "clicknum = []\n",
    "ctr_p = []\n",
    "cpc_p = []\n",
    "\n",
    "for i in range(180):\n",
    "    bid_p = np.array(pbidprice_exp(pCTR_val, base)) # the list of predicted price\n",
    "    payprice = payprice_val\n",
    "    clicks   = click_val\n",
    "    \n",
    "    win_num, total_cost, click_num, ctr, cpc = evaluation(bid_p, payprice, clicks)\n",
    "    #print(base)\n",
    "    win_number.append(win_num)\n",
    "    totalcost.append(total_cost)\n",
    "    clicknum.append(click_num)\n",
    "    ctr_p.append(ctr)\n",
    "    cpc_p.append(cpc)\n",
    "    bidp.append(bid_p)\n",
    "    \n",
    "    base += 1 # a new base bid price"
   ]
  },
  {
   "cell_type": "code",
   "execution_count": 29,
   "metadata": {},
   "outputs": [
    {
     "data": {
      "text/html": [
       "<div>\n",
       "<style>\n",
       "    .dataframe thead tr:only-child th {\n",
       "        text-align: right;\n",
       "    }\n",
       "\n",
       "    .dataframe thead th {\n",
       "        text-align: left;\n",
       "    }\n",
       "\n",
       "    .dataframe tbody tr th {\n",
       "        vertical-align: top;\n",
       "    }\n",
       "</style>\n",
       "<table border=\"1\" class=\"dataframe\">\n",
       "  <thead>\n",
       "    <tr style=\"text-align: right;\">\n",
       "      <th></th>\n",
       "      <th>basebid</th>\n",
       "      <th>clicks</th>\n",
       "      <th>cpc</th>\n",
       "      <th>ctr</th>\n",
       "      <th>imp</th>\n",
       "      <th>totalcost</th>\n",
       "    </tr>\n",
       "  </thead>\n",
       "  <tbody>\n",
       "    <tr>\n",
       "      <th>0</th>\n",
       "      <td>1</td>\n",
       "      <td>[88.0]</td>\n",
       "      <td>[9949.78409091]</td>\n",
       "      <td>[0.00694718560038]</td>\n",
       "      <td>12667.0</td>\n",
       "      <td>[875581.0]</td>\n",
       "    </tr>\n",
       "    <tr>\n",
       "      <th>1</th>\n",
       "      <td>2</td>\n",
       "      <td>[94.0]</td>\n",
       "      <td>[11126.7021277]</td>\n",
       "      <td>[0.00592686002522]</td>\n",
       "      <td>15860.0</td>\n",
       "      <td>[1045910.0]</td>\n",
       "    </tr>\n",
       "    <tr>\n",
       "      <th>2</th>\n",
       "      <td>3</td>\n",
       "      <td>[97.0]</td>\n",
       "      <td>[12181.5979381]</td>\n",
       "      <td>[0.00503974645399]</td>\n",
       "      <td>19247.0</td>\n",
       "      <td>[1181615.0]</td>\n",
       "    </tr>\n",
       "    <tr>\n",
       "      <th>3</th>\n",
       "      <td>4</td>\n",
       "      <td>[101.0]</td>\n",
       "      <td>[12932.990099]</td>\n",
       "      <td>[0.00417925269996]</td>\n",
       "      <td>24167.0</td>\n",
       "      <td>[1306232.0]</td>\n",
       "    </tr>\n",
       "    <tr>\n",
       "      <th>4</th>\n",
       "      <td>5</td>\n",
       "      <td>[108.0]</td>\n",
       "      <td>[13217.3425926]</td>\n",
       "      <td>[0.00368487495309]</td>\n",
       "      <td>29309.0</td>\n",
       "      <td>[1427473.0]</td>\n",
       "    </tr>\n",
       "  </tbody>\n",
       "</table>\n",
       "</div>"
      ],
      "text/plain": [
       "   basebid   clicks              cpc                 ctr      imp    totalcost\n",
       "0        1   [88.0]  [9949.78409091]  [0.00694718560038]  12667.0   [875581.0]\n",
       "1        2   [94.0]  [11126.7021277]  [0.00592686002522]  15860.0  [1045910.0]\n",
       "2        3   [97.0]  [12181.5979381]  [0.00503974645399]  19247.0  [1181615.0]\n",
       "3        4  [101.0]   [12932.990099]  [0.00417925269996]  24167.0  [1306232.0]\n",
       "4        5  [108.0]  [13217.3425926]  [0.00368487495309]  29309.0  [1427473.0]"
      ]
     },
     "execution_count": 29,
     "metadata": {},
     "output_type": "execute_result"
    }
   ],
   "source": [
    "#df_logs = pd.DataFrame([baseBidPrice, win_number, totalcost, clicknum, ctr_p, cpc_p], axis = 1)\n",
    "df_logs_exp = pd.DataFrame(\n",
    "    {'basebid': baseBidPrice,\n",
    "     'imp': win_number,\n",
    "     'totalcost': totalcost,\n",
    "     'clicks' : clicknum,\n",
    "     'ctr': ctr_p,\n",
    "     'cpc': cpc_p\n",
    "    })\n",
    "df_logs_exp[:5]"
   ]
  },
  {
   "cell_type": "code",
   "execution_count": 30,
   "metadata": {},
   "outputs": [
    {
     "data": {
      "image/png": "[encoded data removed]",
      "text/plain": [
       "<matplotlib.figure.Figure at 0x10d34fb70>"
      ]
     },
     "metadata": {},
     "output_type": "display_data"
    }
   ],
   "source": [
    "fig, ax1 = plt.subplots()\n",
    "ax1.plot(baseBidPrice,clicknum)\n",
    "ax1.set_xlabel('Base Bid')\n",
    "ax1.set_ylabel('Num Clicks', color='b')\n",
    "\n",
    "ax2 = ax1.twinx()\n",
    "ax2.plot(baseBidPrice, ctr_p,color='r')\n",
    "ax2.set_ylabel('CTR', color='r')\n",
    "fig.set_size_inches(8, 5)\n",
    "plt.show()"
   ]
  },
  {
   "cell_type": "code",
   "execution_count": 31,
   "metadata": {},
   "outputs": [
    {
     "data": {
      "text/html": [
       "<div>\n",
       "<style>\n",
       "    .dataframe thead tr:only-child th {\n",
       "        text-align: right;\n",
       "    }\n",
       "\n",
       "    .dataframe thead th {\n",
       "        text-align: left;\n",
       "    }\n",
       "\n",
       "    .dataframe tbody tr th {\n",
       "        vertical-align: top;\n",
       "    }\n",
       "</style>\n",
       "<table border=\"1\" class=\"dataframe\">\n",
       "  <thead>\n",
       "    <tr style=\"text-align: right;\">\n",
       "      <th></th>\n",
       "      <th>basebid</th>\n",
       "      <th>clicks</th>\n",
       "      <th>cpc</th>\n",
       "      <th>ctr</th>\n",
       "      <th>imp</th>\n",
       "      <th>totalcost</th>\n",
       "    </tr>\n",
       "  </thead>\n",
       "  <tbody>\n",
       "    <tr>\n",
       "      <th>33</th>\n",
       "      <td>34</td>\n",
       "      <td>[158.0]</td>\n",
       "      <td>[40120.4177215]</td>\n",
       "      <td>[0.00110612499212]</td>\n",
       "      <td>142841.0</td>\n",
       "      <td>[6339026.0]</td>\n",
       "    </tr>\n",
       "    <tr>\n",
       "      <th>32</th>\n",
       "      <td>33</td>\n",
       "      <td>[157.0]</td>\n",
       "      <td>[39026.1146497]</td>\n",
       "      <td>[0.00112553678068]</td>\n",
       "      <td>139489.0</td>\n",
       "      <td>[6127100.0]</td>\n",
       "    </tr>\n",
       "    <tr>\n",
       "      <th>31</th>\n",
       "      <td>32</td>\n",
       "      <td>[157.0]</td>\n",
       "      <td>[37679.4012739]</td>\n",
       "      <td>[0.00115363984393]</td>\n",
       "      <td>136091.0</td>\n",
       "      <td>[5915666.0]</td>\n",
       "    </tr>\n",
       "    <tr>\n",
       "      <th>34</th>\n",
       "      <td>35</td>\n",
       "      <td>[156.0]</td>\n",
       "      <td>[41666.3653846]</td>\n",
       "      <td>[0.00107561727331]</td>\n",
       "      <td>145033.0</td>\n",
       "      <td>[6499953.0]</td>\n",
       "    </tr>\n",
       "    <tr>\n",
       "      <th>30</th>\n",
       "      <td>31</td>\n",
       "      <td>[156.0]</td>\n",
       "      <td>[36688.5512821]</td>\n",
       "      <td>[0.0011734175787]</td>\n",
       "      <td>132945.0</td>\n",
       "      <td>[5723414.0]</td>\n",
       "    </tr>\n",
       "    <tr>\n",
       "      <th>29</th>\n",
       "      <td>30</td>\n",
       "      <td>[155.0]</td>\n",
       "      <td>[35617.0709677]</td>\n",
       "      <td>[0.00119625533491]</td>\n",
       "      <td>129571.0</td>\n",
       "      <td>[5520646.0]</td>\n",
       "    </tr>\n",
       "    <tr>\n",
       "      <th>28</th>\n",
       "      <td>29</td>\n",
       "      <td>[155.0]</td>\n",
       "      <td>[34366.8387097]</td>\n",
       "      <td>[0.00122752831235]</td>\n",
       "      <td>126270.0</td>\n",
       "      <td>[5326860.0]</td>\n",
       "    </tr>\n",
       "    <tr>\n",
       "      <th>35</th>\n",
       "      <td>36</td>\n",
       "      <td>[153.0]</td>\n",
       "      <td>[42483.3202614]</td>\n",
       "      <td>[0.00106470334442]</td>\n",
       "      <td>143702.0</td>\n",
       "      <td>[6499948.0]</td>\n",
       "    </tr>\n",
       "    <tr>\n",
       "      <th>27</th>\n",
       "      <td>28</td>\n",
       "      <td>[150.0]</td>\n",
       "      <td>[34270.86]</td>\n",
       "      <td>[0.00121984938926]</td>\n",
       "      <td>122966.0</td>\n",
       "      <td>[5140629.0]</td>\n",
       "    </tr>\n",
       "    <tr>\n",
       "      <th>26</th>\n",
       "      <td>27</td>\n",
       "      <td>[148.0]</td>\n",
       "      <td>[33493.2297297]</td>\n",
       "      <td>[0.00123736508122]</td>\n",
       "      <td>119609.0</td>\n",
       "      <td>[4956998.0]</td>\n",
       "    </tr>\n",
       "  </tbody>\n",
       "</table>\n",
       "</div>"
      ],
      "text/plain": [
       "    basebid   clicks              cpc                 ctr       imp  \\\n",
       "33       34  [158.0]  [40120.4177215]  [0.00110612499212]  142841.0   \n",
       "32       33  [157.0]  [39026.1146497]  [0.00112553678068]  139489.0   \n",
       "31       32  [157.0]  [37679.4012739]  [0.00115363984393]  136091.0   \n",
       "34       35  [156.0]  [41666.3653846]  [0.00107561727331]  145033.0   \n",
       "30       31  [156.0]  [36688.5512821]   [0.0011734175787]  132945.0   \n",
       "29       30  [155.0]  [35617.0709677]  [0.00119625533491]  129571.0   \n",
       "28       29  [155.0]  [34366.8387097]  [0.00122752831235]  126270.0   \n",
       "35       36  [153.0]  [42483.3202614]  [0.00106470334442]  143702.0   \n",
       "27       28  [150.0]       [34270.86]  [0.00121984938926]  122966.0   \n",
       "26       27  [148.0]  [33493.2297297]  [0.00123736508122]  119609.0   \n",
       "\n",
       "      totalcost  \n",
       "33  [6339026.0]  \n",
       "32  [6127100.0]  \n",
       "31  [5915666.0]  \n",
       "34  [6499953.0]  \n",
       "30  [5723414.0]  \n",
       "29  [5520646.0]  \n",
       "28  [5326860.0]  \n",
       "35  [6499948.0]  \n",
       "27  [5140629.0]  \n",
       "26  [4956998.0]  "
      ]
     },
     "execution_count": 31,
     "metadata": {},
     "output_type": "execute_result"
    }
   ],
   "source": [
    "df_logs_exp.sort_values(by='clicks', ascending=False)[:10]"
   ]
  },
  {
   "cell_type": "code",
   "execution_count": 33,
   "metadata": {},
   "outputs": [
    {
     "name": "stderr",
     "output_type": "stream",
     "text": [
      "/Users/liuce/anaconda3/lib/python3.6/site-packages/ipykernel_launcher.py:4: RuntimeWarning: overflow encountered in exp\n",
      "  after removing the cwd from sys.path.\n"
     ]
    }
   ],
   "source": [
    "pCTR_test = np.array(pCTR_test)\n",
    "\n",
    "optimalBaseBid = 34\n",
    "bidprice_test = pbidprice_exp(pCTR_test, optimalBaseBid)\n",
    "bidprice_test = pd.DataFrame(bidprice_test)"
   ]
  },
  {
   "cell_type": "code",
   "execution_count": 34,
   "metadata": {},
   "outputs": [
    {
     "data": {
      "text/html": [
       "<div>\n",
       "<style>\n",
       "    .dataframe thead tr:only-child th {\n",
       "        text-align: right;\n",
       "    }\n",
       "\n",
       "    .dataframe thead th {\n",
       "        text-align: left;\n",
       "    }\n",
       "\n",
       "    .dataframe tbody tr th {\n",
       "        vertical-align: top;\n",
       "    }\n",
       "</style>\n",
       "<table border=\"1\" class=\"dataframe\">\n",
       "  <thead>\n",
       "    <tr style=\"text-align: right;\">\n",
       "      <th></th>\n",
       "      <th>bidid</th>\n",
       "      <th>bidprice</th>\n",
       "    </tr>\n",
       "  </thead>\n",
       "  <tbody>\n",
       "    <tr>\n",
       "      <th>0</th>\n",
       "      <td>366c563de7d90feb9d4dab53e795a93fb3157387</td>\n",
       "      <td>173.640996</td>\n",
       "    </tr>\n",
       "    <tr>\n",
       "      <th>1</th>\n",
       "      <td>29167d4caa719788b5a342dbaa25151d53121f80</td>\n",
       "      <td>6836.441604</td>\n",
       "    </tr>\n",
       "    <tr>\n",
       "      <th>2</th>\n",
       "      <td>ff8bc3f4d44a3ea60c5f3a3a8fbe7cd98fb2966e</td>\n",
       "      <td>43.422691</td>\n",
       "    </tr>\n",
       "    <tr>\n",
       "      <th>3</th>\n",
       "      <td>844c2da00d45315f20b748ec131c26ee99a7cbc7</td>\n",
       "      <td>145.252181</td>\n",
       "    </tr>\n",
       "    <tr>\n",
       "      <th>4</th>\n",
       "      <td>c6017f0ad0c44d7d0c9b62583ea863f28941c0ca</td>\n",
       "      <td>86.965777</td>\n",
       "    </tr>\n",
       "  </tbody>\n",
       "</table>\n",
       "</div>"
      ],
      "text/plain": [
       "                                      bidid     bidprice\n",
       "0  366c563de7d90feb9d4dab53e795a93fb3157387   173.640996\n",
       "1  29167d4caa719788b5a342dbaa25151d53121f80  6836.441604\n",
       "2  ff8bc3f4d44a3ea60c5f3a3a8fbe7cd98fb2966e    43.422691\n",
       "3  844c2da00d45315f20b748ec131c26ee99a7cbc7   145.252181\n",
       "4  c6017f0ad0c44d7d0c9b62583ea863f28941c0ca    86.965777"
      ]
     },
     "execution_count": 34,
     "metadata": {},
     "output_type": "execute_result"
    }
   ],
   "source": [
    "res_exp = pd.concat([bidid_test, bidprice_test], axis = 1)\n",
    "res_exp.columns = ['bidid', 'bidprice']\n",
    "res_exp[:5]"
   ]
  },
  {
   "cell_type": "code",
   "execution_count": 35,
   "metadata": {
    "collapsed": true
   },
   "outputs": [],
   "source": [
    "res_exp.to_csv('testing_bidding_price.csv')"
   ]
  },
  {
   "cell_type": "markdown",
   "metadata": {},
   "source": [
    "# ORTB"
   ]
  },
  {
   "cell_type": "code",
   "execution_count": 87,
   "metadata": {},
   "outputs": [],
   "source": [
    "lambda_range = [1e-10,5e-10,1e-9,5e-9,1e-8,5e-8,1e-7,5e-7,1e-6,5e-6,1e-5,5e-5,1e-4,5e-4,1e-3,5e-3,1e-2,5e-2,1e-1,5e-1]\n",
    "c_range = np.arange(1,21,1)\n",
    "\n",
    "ortbbids = []\n",
    "clambda = []\n",
    "\n",
    "for c in c_range:\n",
    "    for lambdas in lambda_range:\n",
    "        clambda.append((c,lambdas))\n",
    "        ortbbid = np.sqrt((c / lambdas * np.asarray(pCTR_val)) + c**2 - c)\n",
    "        ortbbids.append(ortbbid.tolist())"
   ]
  },
  {
   "cell_type": "code",
   "execution_count": 90,
   "metadata": {},
   "outputs": [
    {
     "data": {
      "text/plain": [
       "303925"
      ]
     },
     "execution_count": 90,
     "metadata": {},
     "output_type": "execute_result"
    }
   ],
   "source": [
    "len(ortbbids[0])"
   ]
  },
  {
   "cell_type": "code",
   "execution_count": 92,
   "metadata": {
    "collapsed": true
   },
   "outputs": [],
   "source": [
    "import time"
   ]
  },
  {
   "cell_type": "code",
   "execution_count": 94,
   "metadata": {},
   "outputs": [
    {
     "name": "stdout",
     "output_type": "stream",
     "text": [
      "Starting ORTB Bidding\n"
     ]
    },
    {
     "ename": "AttributeError",
     "evalue": "'numpy.ndarray' object has no attribute 'rint'",
     "output_type": "error",
     "traceback": [
      "\u001b[0;31m---------------------------------------------------------------------------\u001b[0m",
      "\u001b[0;31mAttributeError\u001b[0m                            Traceback (most recent call last)",
      "\u001b[0;32m<ipython-input-94-c3feabc29c8a>\u001b[0m in \u001b[0;36m<module>\u001b[0;34m()\u001b[0m\n\u001b[1;32m     35\u001b[0m \u001b[0mortb\u001b[0m\u001b[0;34m[\u001b[0m\u001b[0;34m'total_spend'\u001b[0m\u001b[0;34m]\u001b[0m \u001b[0;34m=\u001b[0m \u001b[0mct\u001b[0m\u001b[0;34m\u001b[0m\u001b[0m\n\u001b[1;32m     36\u001b[0m \u001b[0mortb\u001b[0m\u001b[0;34m[\u001b[0m\u001b[0;34m'clicks'\u001b[0m\u001b[0;34m]\u001b[0m \u001b[0;34m=\u001b[0m \u001b[0mclks\u001b[0m\u001b[0;34m\u001b[0m\u001b[0m\n\u001b[0;32m---> 37\u001b[0;31m \u001b[0mortb\u001b[0m\u001b[0;34m[\u001b[0m\u001b[0;34m'CTR'\u001b[0m\u001b[0;34m]\u001b[0m \u001b[0;34m=\u001b[0m \u001b[0;34m(\u001b[0m\u001b[0mortb\u001b[0m\u001b[0;34m.\u001b[0m\u001b[0mclicks\u001b[0m\u001b[0;34m/\u001b[0m\u001b[0mortb\u001b[0m\u001b[0;34m.\u001b[0m\u001b[0mimps_won\u001b[0m \u001b[0;34m*\u001b[0m \u001b[0;36m100\u001b[0m\u001b[0;34m)\u001b[0m\u001b[0;34m.\u001b[0m\u001b[0mround\u001b[0m\u001b[0;34m(\u001b[0m\u001b[0;36m4\u001b[0m\u001b[0;34m)\u001b[0m\u001b[0;34m.\u001b[0m\u001b[0mastype\u001b[0m\u001b[0;34m(\u001b[0m\u001b[0mstr\u001b[0m\u001b[0;34m)\u001b[0m\u001b[0;34m\u001b[0m\u001b[0m\n\u001b[0m\u001b[1;32m     38\u001b[0m \u001b[0mortb\u001b[0m\u001b[0;34m[\u001b[0m\u001b[0;34m'CPM'\u001b[0m\u001b[0;34m]\u001b[0m \u001b[0;34m=\u001b[0m \u001b[0;34m(\u001b[0m\u001b[0mortb\u001b[0m\u001b[0;34m.\u001b[0m\u001b[0mtotal_spend\u001b[0m\u001b[0;34m/\u001b[0m\u001b[0mortb\u001b[0m\u001b[0;34m.\u001b[0m\u001b[0mimps_won\u001b[0m \u001b[0;34m*\u001b[0m \u001b[0;36m1000\u001b[0m\u001b[0;34m)\u001b[0m\u001b[0;34m.\u001b[0m\u001b[0mround\u001b[0m\u001b[0;34m(\u001b[0m\u001b[0;36m2\u001b[0m\u001b[0;34m)\u001b[0m\u001b[0;34m.\u001b[0m\u001b[0mastype\u001b[0m\u001b[0;34m(\u001b[0m\u001b[0mstr\u001b[0m\u001b[0;34m)\u001b[0m\u001b[0;34m\u001b[0m\u001b[0m\n\u001b[1;32m     39\u001b[0m \u001b[0mortb\u001b[0m\u001b[0;34m[\u001b[0m\u001b[0;34m'CPC'\u001b[0m\u001b[0;34m]\u001b[0m \u001b[0;34m=\u001b[0m \u001b[0;34m(\u001b[0m\u001b[0mortb\u001b[0m\u001b[0;34m.\u001b[0m\u001b[0mtotal_spend\u001b[0m\u001b[0;34m/\u001b[0m\u001b[0mortb\u001b[0m\u001b[0;34m.\u001b[0m\u001b[0mclicks\u001b[0m\u001b[0;34m)\u001b[0m\u001b[0;34m.\u001b[0m\u001b[0mround\u001b[0m\u001b[0;34m(\u001b[0m\u001b[0;36m2\u001b[0m\u001b[0;34m)\u001b[0m\u001b[0;34m.\u001b[0m\u001b[0mastype\u001b[0m\u001b[0;34m(\u001b[0m\u001b[0mstr\u001b[0m\u001b[0;34m)\u001b[0m\u001b[0;34m\u001b[0m\u001b[0m\n",
      "\u001b[0;32m~/anaconda3/lib/python3.6/site-packages/pandas/core/series.py\u001b[0m in \u001b[0;36mround\u001b[0;34m(self, decimals, *args, **kwargs)\u001b[0m\n\u001b[1;32m   1293\u001b[0m         \"\"\"\n\u001b[1;32m   1294\u001b[0m         \u001b[0mnv\u001b[0m\u001b[0;34m.\u001b[0m\u001b[0mvalidate_round\u001b[0m\u001b[0;34m(\u001b[0m\u001b[0margs\u001b[0m\u001b[0;34m,\u001b[0m \u001b[0mkwargs\u001b[0m\u001b[0;34m)\u001b[0m\u001b[0;34m\u001b[0m\u001b[0m\n\u001b[0;32m-> 1295\u001b[0;31m         \u001b[0mresult\u001b[0m \u001b[0;34m=\u001b[0m \u001b[0m_values_from_object\u001b[0m\u001b[0;34m(\u001b[0m\u001b[0mself\u001b[0m\u001b[0;34m)\u001b[0m\u001b[0;34m.\u001b[0m\u001b[0mround\u001b[0m\u001b[0;34m(\u001b[0m\u001b[0mdecimals\u001b[0m\u001b[0;34m)\u001b[0m\u001b[0;34m\u001b[0m\u001b[0m\n\u001b[0m\u001b[1;32m   1296\u001b[0m         \u001b[0mresult\u001b[0m \u001b[0;34m=\u001b[0m \u001b[0mself\u001b[0m\u001b[0;34m.\u001b[0m\u001b[0m_constructor\u001b[0m\u001b[0;34m(\u001b[0m\u001b[0mresult\u001b[0m\u001b[0;34m,\u001b[0m \u001b[0mindex\u001b[0m\u001b[0;34m=\u001b[0m\u001b[0mself\u001b[0m\u001b[0;34m.\u001b[0m\u001b[0mindex\u001b[0m\u001b[0;34m)\u001b[0m\u001b[0;34m.\u001b[0m\u001b[0m__finalize__\u001b[0m\u001b[0;34m(\u001b[0m\u001b[0mself\u001b[0m\u001b[0;34m)\u001b[0m\u001b[0;34m\u001b[0m\u001b[0m\n\u001b[1;32m   1297\u001b[0m \u001b[0;34m\u001b[0m\u001b[0m\n",
      "\u001b[0;31mAttributeError\u001b[0m: 'numpy.ndarray' object has no attribute 'rint'"
     ]
    }
   ],
   "source": [
    "def ORTB_bidding(bids):\n",
    "    impression = 0.0\n",
    "    clicks = 0\n",
    "    cost = 0.0\n",
    "    budget = 6250000\n",
    "    \n",
    "    bool_check = bids >= payprice_val\n",
    "    for i in range(0,len(bool_check)):\n",
    "            if bool_check[i]==True:\n",
    "                impression += 1.0\n",
    "                clicks += click_val[i]\n",
    "                cost += payprice_val[i]\n",
    "            if cost >= budget:\n",
    "                break\n",
    "    return impression, clicks, cost\n",
    "\n",
    "ortb = pd.DataFrame()\n",
    "ortb['C,Lambda'] = clambda\n",
    "\n",
    "im = []\n",
    "clks = []\n",
    "ct = []\n",
    "\n",
    "starttime = time.time()\n",
    "print(\"Starting ORTB Bidding\")\n",
    "\n",
    "for bid in ortbbids:\n",
    "    [imps, clicks, cost] = ORTB_bidding(bid)\n",
    "    im.append(imps)\n",
    "    clks.append(clicks)\n",
    "    ct.append(cost)\n",
    "    \n"
   ]
  },
  {
   "cell_type": "code",
   "execution_count": 96,
   "metadata": {},
   "outputs": [
    {
     "name": "stdout",
     "output_type": "stream",
     "text": [
      "ORTB Bidding Finished in 342.91 minutes\n"
     ]
    }
   ],
   "source": [
    "ortb['imps_won'] = im\n",
    "ortb.imps_won = ortb.imps_won.astype(int)\n",
    "ortb['total_spend'] = ct\n",
    "ortb['clicks'] = clks\n",
    "ortb['CTR'] = (ortb.clicks/ortb.imps_won)\n",
    "ortb['CPM'] = (ortb.total_spend/ortb.imps_won * 1000)\n",
    "ortb['CPC'] = (ortb.total_spend/ortb.clicks)\n",
    "\n",
    "print(\"ORTB Bidding Finished in %s minutes\" % round(((time.time() - starttime)/60),2))"
   ]
  },
  {
   "cell_type": "code",
   "execution_count": 100,
   "metadata": {},
   "outputs": [
    {
     "data": {
      "text/html": [
       "<div>\n",
       "<style>\n",
       "    .dataframe thead tr:only-child th {\n",
       "        text-align: right;\n",
       "    }\n",
       "\n",
       "    .dataframe thead th {\n",
       "        text-align: left;\n",
       "    }\n",
       "\n",
       "    .dataframe tbody tr th {\n",
       "        vertical-align: top;\n",
       "    }\n",
       "</style>\n",
       "<table border=\"1\" class=\"dataframe\">\n",
       "  <thead>\n",
       "    <tr style=\"text-align: right;\">\n",
       "      <th></th>\n",
       "      <th>C,Lambda</th>\n",
       "      <th>imps_won</th>\n",
       "      <th>total_spend</th>\n",
       "      <th>clicks</th>\n",
       "      <th>CTR</th>\n",
       "      <th>CPM</th>\n",
       "      <th>CPC</th>\n",
       "    </tr>\n",
       "  </thead>\n",
       "  <tbody>\n",
       "    <tr>\n",
       "      <th>107</th>\n",
       "      <td>(6, 5e-07)</td>\n",
       "      <td>147793</td>\n",
       "      <td>[6250010.0]</td>\n",
       "      <td>[152]</td>\n",
       "      <td>[0.00102846548889]</td>\n",
       "      <td>[42288.9446726]</td>\n",
       "      <td>[41118.4868421]</td>\n",
       "    </tr>\n",
       "    <tr>\n",
       "      <th>208</th>\n",
       "      <td>(11, 1e-06)</td>\n",
       "      <td>144244</td>\n",
       "      <td>[5951091.0]</td>\n",
       "      <td>[150]</td>\n",
       "      <td>[0.00103990460608]</td>\n",
       "      <td>[41257.1129475]</td>\n",
       "      <td>[39673.94]</td>\n",
       "    </tr>\n",
       "    <tr>\n",
       "      <th>228</th>\n",
       "      <td>(12, 1e-06)</td>\n",
       "      <td>147441</td>\n",
       "      <td>[6250032.0]</td>\n",
       "      <td>[148]</td>\n",
       "      <td>[0.00100379134705]</td>\n",
       "      <td>[42390.0543268]</td>\n",
       "      <td>[42229.9459459]</td>\n",
       "    </tr>\n",
       "    <tr>\n",
       "      <th>188</th>\n",
       "      <td>(10, 1e-06)</td>\n",
       "      <td>137354</td>\n",
       "      <td>[5500673.0]</td>\n",
       "      <td>[145]</td>\n",
       "      <td>[0.0010556663803]</td>\n",
       "      <td>[40047.4176216]</td>\n",
       "      <td>[37935.6758621]</td>\n",
       "    </tr>\n",
       "    <tr>\n",
       "      <th>6</th>\n",
       "      <td>(1, 1e-07)</td>\n",
       "      <td>135010</td>\n",
       "      <td>[5393039.0]</td>\n",
       "      <td>[144]</td>\n",
       "      <td>[0.00106658766017]</td>\n",
       "      <td>[39945.4781127]</td>\n",
       "      <td>[37451.6597222]</td>\n",
       "    </tr>\n",
       "    <tr>\n",
       "      <th>87</th>\n",
       "      <td>(5, 5e-07)</td>\n",
       "      <td>135566</td>\n",
       "      <td>[5417778.0]</td>\n",
       "      <td>[144]</td>\n",
       "      <td>[0.00106221323931]</td>\n",
       "      <td>[39964.1355502]</td>\n",
       "      <td>[37623.4583333]</td>\n",
       "    </tr>\n",
       "    <tr>\n",
       "      <th>168</th>\n",
       "      <td>(9, 1e-06)</td>\n",
       "      <td>130202</td>\n",
       "      <td>[5038312.0]</td>\n",
       "      <td>[141]</td>\n",
       "      <td>[0.00108293267385]</td>\n",
       "      <td>[38696.1183392]</td>\n",
       "      <td>[35732.7092199]</td>\n",
       "    </tr>\n",
       "    <tr>\n",
       "      <th>67</th>\n",
       "      <td>(4, 5e-07)</td>\n",
       "      <td>121295</td>\n",
       "      <td>[4510136.0]</td>\n",
       "      <td>[136]</td>\n",
       "      <td>[0.00112123335669]</td>\n",
       "      <td>[37183.1979884]</td>\n",
       "      <td>[33162.7647059]</td>\n",
       "    </tr>\n",
       "    <tr>\n",
       "      <th>268</th>\n",
       "      <td>(14, 1e-06)</td>\n",
       "      <td>140802</td>\n",
       "      <td>[6250003.0]</td>\n",
       "      <td>[136]</td>\n",
       "      <td>[0.000965895370804]</td>\n",
       "      <td>[44388.5953325]</td>\n",
       "      <td>[45955.9044118]</td>\n",
       "    </tr>\n",
       "    <tr>\n",
       "      <th>148</th>\n",
       "      <td>(8, 1e-06)</td>\n",
       "      <td>122594</td>\n",
       "      <td>[4561365.0]</td>\n",
       "      <td>[136]</td>\n",
       "      <td>[0.00110935282314]</td>\n",
       "      <td>[37207.0819127]</td>\n",
       "      <td>[33539.4485294]</td>\n",
       "    </tr>\n",
       "  </tbody>\n",
       "</table>\n",
       "</div>"
      ],
      "text/plain": [
       "        C,Lambda  imps_won  total_spend clicks                  CTR  \\\n",
       "107   (6, 5e-07)    147793  [6250010.0]  [152]   [0.00102846548889]   \n",
       "208  (11, 1e-06)    144244  [5951091.0]  [150]   [0.00103990460608]   \n",
       "228  (12, 1e-06)    147441  [6250032.0]  [148]   [0.00100379134705]   \n",
       "188  (10, 1e-06)    137354  [5500673.0]  [145]    [0.0010556663803]   \n",
       "6     (1, 1e-07)    135010  [5393039.0]  [144]   [0.00106658766017]   \n",
       "87    (5, 5e-07)    135566  [5417778.0]  [144]   [0.00106221323931]   \n",
       "168   (9, 1e-06)    130202  [5038312.0]  [141]   [0.00108293267385]   \n",
       "67    (4, 5e-07)    121295  [4510136.0]  [136]   [0.00112123335669]   \n",
       "268  (14, 1e-06)    140802  [6250003.0]  [136]  [0.000965895370804]   \n",
       "148   (8, 1e-06)    122594  [4561365.0]  [136]   [0.00110935282314]   \n",
       "\n",
       "                 CPM              CPC  \n",
       "107  [42288.9446726]  [41118.4868421]  \n",
       "208  [41257.1129475]       [39673.94]  \n",
       "228  [42390.0543268]  [42229.9459459]  \n",
       "188  [40047.4176216]  [37935.6758621]  \n",
       "6    [39945.4781127]  [37451.6597222]  \n",
       "87   [39964.1355502]  [37623.4583333]  \n",
       "168  [38696.1183392]  [35732.7092199]  \n",
       "67   [37183.1979884]  [33162.7647059]  \n",
       "268  [44388.5953325]  [45955.9044118]  \n",
       "148  [37207.0819127]  [33539.4485294]  "
      ]
     },
     "execution_count": 100,
     "metadata": {},
     "output_type": "execute_result"
    }
   ],
   "source": [
    "# Best ortb bid on click metric\n",
    "ortb.sort_values(by='clicks', ascending=False)[:10]"
   ]
  },
  {
   "cell_type": "code",
   "execution_count": 102,
   "metadata": {},
   "outputs": [
    {
     "data": {
      "image/png": "[encoded data removed]",
      "text/plain": [
       "<matplotlib.figure.Figure at 0x110af3208>"
      ]
     },
     "metadata": {},
     "output_type": "display_data"
    }
   ],
   "source": [
    "fig, ax1 = plt.subplots()\n",
    "ax1.plot(ortb.clicks)\n",
    "ax1.set_xlabel('Base Bid')\n",
    "ax1.set_ylabel('Num Clicks', color='b')\n",
    "\n",
    "ax2 = ax1.twinx()\n",
    "ax2.plot(ortb.CTR,color='r')\n",
    "ax2.set_ylabel('CTR', color='r')\n",
    "fig.set_size_inches(8, 5)\n",
    "plt.show()"
   ]
  },
  {
   "cell_type": "code",
   "execution_count": 123,
   "metadata": {
    "collapsed": true
   },
   "outputs": [],
   "source": [
    "optiamlC = 6\n",
    "optimalLambda = 5e-7\n",
    "bidprice_ortb = np.sqrt((optiamlC / optimalLambda * np.asarray(pCTR_test)) + optiamlC**2 - optiamlC)"
   ]
  },
  {
   "cell_type": "code",
   "execution_count": 124,
   "metadata": {
    "collapsed": true
   },
   "outputs": [],
   "source": [
    "bidprice_ortb = pd.DataFrame(bidprice_ortb)"
   ]
  },
  {
   "cell_type": "code",
   "execution_count": 125,
   "metadata": {},
   "outputs": [
    {
     "data": {
      "text/html": [
       "<div>\n",
       "<style>\n",
       "    .dataframe thead tr:only-child th {\n",
       "        text-align: right;\n",
       "    }\n",
       "\n",
       "    .dataframe thead th {\n",
       "        text-align: left;\n",
       "    }\n",
       "\n",
       "    .dataframe tbody tr th {\n",
       "        vertical-align: top;\n",
       "    }\n",
       "</style>\n",
       "<table border=\"1\" class=\"dataframe\">\n",
       "  <thead>\n",
       "    <tr style=\"text-align: right;\">\n",
       "      <th></th>\n",
       "      <th>bidid</th>\n",
       "      <th>bidprice</th>\n",
       "    </tr>\n",
       "  </thead>\n",
       "  <tbody>\n",
       "    <tr>\n",
       "      <th>0</th>\n",
       "      <td>366c563de7d90feb9d4dab53e795a93fb3157387</td>\n",
       "      <td>120.294863</td>\n",
       "    </tr>\n",
       "    <tr>\n",
       "      <th>1</th>\n",
       "      <td>29167d4caa719788b5a342dbaa25151d53121f80</td>\n",
       "      <td>216.793062</td>\n",
       "    </tr>\n",
       "    <tr>\n",
       "      <th>2</th>\n",
       "      <td>ff8bc3f4d44a3ea60c5f3a3a8fbe7cd98fb2966e</td>\n",
       "      <td>46.865435</td>\n",
       "    </tr>\n",
       "    <tr>\n",
       "      <th>3</th>\n",
       "      <td>844c2da00d45315f20b748ec131c26ee99a7cbc7</td>\n",
       "      <td>113.533669</td>\n",
       "    </tr>\n",
       "    <tr>\n",
       "      <th>4</th>\n",
       "      <td>c6017f0ad0c44d7d0c9b62583ea863f28941c0ca</td>\n",
       "      <td>91.362734</td>\n",
       "    </tr>\n",
       "  </tbody>\n",
       "</table>\n",
       "</div>"
      ],
      "text/plain": [
       "                                      bidid    bidprice\n",
       "0  366c563de7d90feb9d4dab53e795a93fb3157387  120.294863\n",
       "1  29167d4caa719788b5a342dbaa25151d53121f80  216.793062\n",
       "2  ff8bc3f4d44a3ea60c5f3a3a8fbe7cd98fb2966e   46.865435\n",
       "3  844c2da00d45315f20b748ec131c26ee99a7cbc7  113.533669\n",
       "4  c6017f0ad0c44d7d0c9b62583ea863f28941c0ca   91.362734"
      ]
     },
     "execution_count": 125,
     "metadata": {},
     "output_type": "execute_result"
    }
   ],
   "source": [
    "res_linear = pd.concat([bidid_test, bidprice_ortb], axis = 1)\n",
    "res_linear.columns = ['bidid', 'bidprice']\n",
    "res_linear[:5]"
   ]
  },
  {
   "cell_type": "code",
   "execution_count": 126,
   "metadata": {},
   "outputs": [
    {
     "data": {
      "text/plain": [
       "0    73.433768\n",
       "dtype: float64"
      ]
     },
     "execution_count": 126,
     "metadata": {},
     "output_type": "execute_result"
    }
   ],
   "source": [
    "bidprice_ortb.mean()"
   ]
  },
  {
   "cell_type": "code",
   "execution_count": 127,
   "metadata": {
    "collapsed": true
   },
   "outputs": [],
   "source": [
    "res_linear.to_csv('testing_bidding_price.csv')"
   ]
  },
  {
   "cell_type": "markdown",
   "metadata": {},
   "source": [
    "# Gate"
   ]
  },
  {
   "cell_type": "code",
   "execution_count": 7,
   "metadata": {
    "collapsed": true
   },
   "outputs": [],
   "source": [
    "import time"
   ]
  },
  {
   "cell_type": "code",
   "execution_count": 8,
   "metadata": {
    "collapsed": true
   },
   "outputs": [],
   "source": [
    "avgCTR = 0.000738\n",
    "\n",
    "def pbidprice_gate(ctr, norm):\n",
    "    pbid = []\n",
    "    for i in range(len(ctr)):\n",
    "        if (ctr[i] / avgCTR) >= norm:\n",
    "            pbid.append(300)\n",
    "        else:\n",
    "            pbid.append(0)\n",
    "\n",
    "    return pbid"
   ]
  },
  {
   "cell_type": "code",
   "execution_count": 18,
   "metadata": {},
   "outputs": [
    {
     "name": "stdout",
     "output_type": "stream",
     "text": [
      "win_num 73784.0, total_cost [ 6499983.], click_num [ 152.], ctr [ 0.00206007], cpc [ 42763.04605263]\n",
      "win_num 73780.0, total_cost [ 6499911.], click_num [ 152.], ctr [ 0.00206018], cpc [ 42762.57236842]\n",
      "win_num 73728.0, total_cost [ 6499956.], click_num [ 154.], ctr [ 0.00208876], cpc [ 42207.50649351]\n",
      "win_num 73699.0, total_cost [ 6499991.], click_num [ 154.], ctr [ 0.00208958], cpc [ 42207.73376623]\n",
      "win_num 73198.0, total_cost [ 6462547.], click_num [ 155.], ctr [ 0.00211754], cpc [ 41693.8516129]\n",
      "win_num 72533.0, total_cost [ 6406340.], click_num [ 155.], ctr [ 0.00213696], cpc [ 41331.22580645]\n",
      "win_num 71853.0, total_cost [ 6347518.], click_num [ 154.], ctr [ 0.00214326], cpc [ 41217.64935065]\n",
      "win_num 71158.0, total_cost [ 6288478.], click_num [ 153.], ctr [ 0.00215014], cpc [ 41101.16339869]\n",
      "win_num 70488.0, total_cost [ 6227990.], click_num [ 152.], ctr [ 0.0021564], cpc [ 40973.61842105]\n",
      "win_num 69813.0, total_cost [ 6170718.], click_num [ 152.], ctr [ 0.00217724], cpc [ 40596.82894737]\n",
      "win_num 69165.0, total_cost [ 6115822.], click_num [ 152.], ctr [ 0.00219764], cpc [ 40235.67105263]\n",
      "win_num 68492.0, total_cost [ 6058402.], click_num [ 152.], ctr [ 0.00221924], cpc [ 39857.90789474]\n",
      "win_num 67874.0, total_cost [ 6007209.], click_num [ 152.], ctr [ 0.00223944], cpc [ 39521.11184211]\n",
      "win_num 67283.0, total_cost [ 5958183.], click_num [ 152.], ctr [ 0.00225911], cpc [ 39198.57236842]\n",
      "win_num 66730.0, total_cost [ 5910267.], click_num [ 151.], ctr [ 0.00226285], cpc [ 39140.8410596]\n",
      "win_num 66123.0, total_cost [ 5859250.], click_num [ 151.], ctr [ 0.00228362], cpc [ 38802.98013245]\n",
      "win_num 65518.0, total_cost [ 5807068.], click_num [ 151.], ctr [ 0.00230471], cpc [ 38457.40397351]\n",
      "win_num 64897.0, total_cost [ 5757289.], click_num [ 151.], ctr [ 0.00232676], cpc [ 38127.74172185]\n",
      "win_num 64345.0, total_cost [ 5711998.], click_num [ 151.], ctr [ 0.00234672], cpc [ 37827.8013245]\n",
      "win_num 63812.0, total_cost [ 5667891.], click_num [ 151.], ctr [ 0.00236633], cpc [ 37535.70198675]\n",
      "win_num 63258.0, total_cost [ 5618837.], click_num [ 151.], ctr [ 0.00238705], cpc [ 37210.8410596]\n",
      "win_num 62713.0, total_cost [ 5572791.], click_num [ 150.], ctr [ 0.00239185], cpc [ 37151.94]\n",
      "win_num 62155.0, total_cost [ 5525082.], click_num [ 150.], ctr [ 0.00241332], cpc [ 36833.88]\n",
      "win_num 61600.0, total_cost [ 5478824.], click_num [ 149.], ctr [ 0.00241883], cpc [ 36770.63087248]\n",
      "win_num 61070.0, total_cost [ 5434127.], click_num [ 149.], ctr [ 0.00243982], cpc [ 36470.65100671]\n"
     ]
    }
   ],
   "source": [
    "normRange = np.linspace(0.75,0.9,25)\n",
    "bidp = []\n",
    "win_number = []\n",
    "totalcost = []\n",
    "clicknum = []\n",
    "ctr_p = []\n",
    "cpc_p = []\n",
    "\n",
    "payprice = payprice_val\n",
    "clicks   = click_val\n",
    "\n",
    "for norm in normRange:\n",
    "    bid_p = np.array(pbidprice_gate(pCTR_val, norm)) # the list of predicted price\n",
    "\n",
    "    win_num, total_cost, click_num, ctr, cpc = evaluation(bid_p, payprice, clicks)\n",
    "\n",
    "    win_number.append(win_num)\n",
    "    totalcost.append(total_cost)\n",
    "    clicknum.append(click_num)\n",
    "    ctr_p.append(ctr)\n",
    "    cpc_p.append(cpc)\n",
    "    bidp.append(bid_p)"
   ]
  },
  {
   "cell_type": "code",
   "execution_count": 19,
   "metadata": {},
   "outputs": [
    {
     "data": {
      "text/html": [
       "<div>\n",
       "<style>\n",
       "    .dataframe thead tr:only-child th {\n",
       "        text-align: right;\n",
       "    }\n",
       "\n",
       "    .dataframe thead th {\n",
       "        text-align: left;\n",
       "    }\n",
       "\n",
       "    .dataframe tbody tr th {\n",
       "        vertical-align: top;\n",
       "    }\n",
       "</style>\n",
       "<table border=\"1\" class=\"dataframe\">\n",
       "  <thead>\n",
       "    <tr style=\"text-align: right;\">\n",
       "      <th></th>\n",
       "      <th>clicks</th>\n",
       "      <th>cpc</th>\n",
       "      <th>ctr</th>\n",
       "      <th>imp</th>\n",
       "      <th>normRange</th>\n",
       "      <th>totalcost</th>\n",
       "    </tr>\n",
       "  </thead>\n",
       "  <tbody>\n",
       "    <tr>\n",
       "      <th>0</th>\n",
       "      <td>[152.0]</td>\n",
       "      <td>[42763.0460526]</td>\n",
       "      <td>[0.00206006722325]</td>\n",
       "      <td>73784.0</td>\n",
       "      <td>0.75000</td>\n",
       "      <td>[6499983.0]</td>\n",
       "    </tr>\n",
       "    <tr>\n",
       "      <th>1</th>\n",
       "      <td>[152.0]</td>\n",
       "      <td>[42762.5723684]</td>\n",
       "      <td>[0.00206017891027]</td>\n",
       "      <td>73780.0</td>\n",
       "      <td>0.75625</td>\n",
       "      <td>[6499911.0]</td>\n",
       "    </tr>\n",
       "    <tr>\n",
       "      <th>2</th>\n",
       "      <td>[154.0]</td>\n",
       "      <td>[42207.5064935]</td>\n",
       "      <td>[0.00208875868056]</td>\n",
       "      <td>73728.0</td>\n",
       "      <td>0.76250</td>\n",
       "      <td>[6499956.0]</td>\n",
       "    </tr>\n",
       "    <tr>\n",
       "      <th>3</th>\n",
       "      <td>[154.0]</td>\n",
       "      <td>[42207.7337662]</td>\n",
       "      <td>[0.00208958059132]</td>\n",
       "      <td>73699.0</td>\n",
       "      <td>0.76875</td>\n",
       "      <td>[6499991.0]</td>\n",
       "    </tr>\n",
       "    <tr>\n",
       "      <th>4</th>\n",
       "      <td>[155.0]</td>\n",
       "      <td>[41693.8516129]</td>\n",
       "      <td>[0.0021175441952]</td>\n",
       "      <td>73198.0</td>\n",
       "      <td>0.77500</td>\n",
       "      <td>[6462547.0]</td>\n",
       "    </tr>\n",
       "  </tbody>\n",
       "</table>\n",
       "</div>"
      ],
      "text/plain": [
       "    clicks              cpc                 ctr      imp  normRange  \\\n",
       "0  [152.0]  [42763.0460526]  [0.00206006722325]  73784.0    0.75000   \n",
       "1  [152.0]  [42762.5723684]  [0.00206017891027]  73780.0    0.75625   \n",
       "2  [154.0]  [42207.5064935]  [0.00208875868056]  73728.0    0.76250   \n",
       "3  [154.0]  [42207.7337662]  [0.00208958059132]  73699.0    0.76875   \n",
       "4  [155.0]  [41693.8516129]   [0.0021175441952]  73198.0    0.77500   \n",
       "\n",
       "     totalcost  \n",
       "0  [6499983.0]  \n",
       "1  [6499911.0]  \n",
       "2  [6499956.0]  \n",
       "3  [6499991.0]  \n",
       "4  [6462547.0]  "
      ]
     },
     "execution_count": 19,
     "metadata": {},
     "output_type": "execute_result"
    }
   ],
   "source": [
    "#df_logs = pd.DataFrame([baseBidPrice, win_number, totalcost, clicknum, ctr_p, cpc_p], axis = 1)\n",
    "df_logs_gate = pd.DataFrame(\n",
    "    {'normRange': normRange,\n",
    "     'imp': win_number,\n",
    "     'totalcost': totalcost,\n",
    "     'clicks' : clicknum,\n",
    "     'ctr': ctr_p,\n",
    "     'cpc': cpc_p\n",
    "    })\n",
    "df_logs_gate[:5]"
   ]
  },
  {
   "cell_type": "code",
   "execution_count": 20,
   "metadata": {},
   "outputs": [
    {
     "data": {
      "text/html": [
       "<div>\n",
       "<style>\n",
       "    .dataframe thead tr:only-child th {\n",
       "        text-align: right;\n",
       "    }\n",
       "\n",
       "    .dataframe thead th {\n",
       "        text-align: left;\n",
       "    }\n",
       "\n",
       "    .dataframe tbody tr th {\n",
       "        vertical-align: top;\n",
       "    }\n",
       "</style>\n",
       "<table border=\"1\" class=\"dataframe\">\n",
       "  <thead>\n",
       "    <tr style=\"text-align: right;\">\n",
       "      <th></th>\n",
       "      <th>clicks</th>\n",
       "      <th>cpc</th>\n",
       "      <th>ctr</th>\n",
       "      <th>imp</th>\n",
       "      <th>normRange</th>\n",
       "      <th>totalcost</th>\n",
       "    </tr>\n",
       "  </thead>\n",
       "  <tbody>\n",
       "    <tr>\n",
       "      <th>4</th>\n",
       "      <td>[155.0]</td>\n",
       "      <td>[41693.8516129]</td>\n",
       "      <td>[0.0021175441952]</td>\n",
       "      <td>73198.0</td>\n",
       "      <td>0.77500</td>\n",
       "      <td>[6462547.0]</td>\n",
       "    </tr>\n",
       "    <tr>\n",
       "      <th>5</th>\n",
       "      <td>[155.0]</td>\n",
       "      <td>[41331.2258065]</td>\n",
       "      <td>[0.00213695834999]</td>\n",
       "      <td>72533.0</td>\n",
       "      <td>0.78125</td>\n",
       "      <td>[6406340.0]</td>\n",
       "    </tr>\n",
       "    <tr>\n",
       "      <th>2</th>\n",
       "      <td>[154.0]</td>\n",
       "      <td>[42207.5064935]</td>\n",
       "      <td>[0.00208875868056]</td>\n",
       "      <td>73728.0</td>\n",
       "      <td>0.76250</td>\n",
       "      <td>[6499956.0]</td>\n",
       "    </tr>\n",
       "    <tr>\n",
       "      <th>3</th>\n",
       "      <td>[154.0]</td>\n",
       "      <td>[42207.7337662]</td>\n",
       "      <td>[0.00208958059132]</td>\n",
       "      <td>73699.0</td>\n",
       "      <td>0.76875</td>\n",
       "      <td>[6499991.0]</td>\n",
       "    </tr>\n",
       "    <tr>\n",
       "      <th>6</th>\n",
       "      <td>[154.0]</td>\n",
       "      <td>[41217.6493506]</td>\n",
       "      <td>[0.00214326472103]</td>\n",
       "      <td>71853.0</td>\n",
       "      <td>0.78750</td>\n",
       "      <td>[6347518.0]</td>\n",
       "    </tr>\n",
       "    <tr>\n",
       "      <th>7</th>\n",
       "      <td>[153.0]</td>\n",
       "      <td>[41101.1633987]</td>\n",
       "      <td>[0.00215014474831]</td>\n",
       "      <td>71158.0</td>\n",
       "      <td>0.79375</td>\n",
       "      <td>[6288478.0]</td>\n",
       "    </tr>\n",
       "    <tr>\n",
       "      <th>0</th>\n",
       "      <td>[152.0]</td>\n",
       "      <td>[42763.0460526]</td>\n",
       "      <td>[0.00206006722325]</td>\n",
       "      <td>73784.0</td>\n",
       "      <td>0.75000</td>\n",
       "      <td>[6499983.0]</td>\n",
       "    </tr>\n",
       "    <tr>\n",
       "      <th>11</th>\n",
       "      <td>[152.0]</td>\n",
       "      <td>[39857.9078947]</td>\n",
       "      <td>[0.00221923728319]</td>\n",
       "      <td>68492.0</td>\n",
       "      <td>0.81875</td>\n",
       "      <td>[6058402.0]</td>\n",
       "    </tr>\n",
       "    <tr>\n",
       "      <th>13</th>\n",
       "      <td>[152.0]</td>\n",
       "      <td>[39198.5723684]</td>\n",
       "      <td>[0.00225911448657]</td>\n",
       "      <td>67283.0</td>\n",
       "      <td>0.83125</td>\n",
       "      <td>[5958183.0]</td>\n",
       "    </tr>\n",
       "    <tr>\n",
       "      <th>1</th>\n",
       "      <td>[152.0]</td>\n",
       "      <td>[42762.5723684]</td>\n",
       "      <td>[0.00206017891027]</td>\n",
       "      <td>73780.0</td>\n",
       "      <td>0.75625</td>\n",
       "      <td>[6499911.0]</td>\n",
       "    </tr>\n",
       "  </tbody>\n",
       "</table>\n",
       "</div>"
      ],
      "text/plain": [
       "     clicks              cpc                 ctr      imp  normRange  \\\n",
       "4   [155.0]  [41693.8516129]   [0.0021175441952]  73198.0    0.77500   \n",
       "5   [155.0]  [41331.2258065]  [0.00213695834999]  72533.0    0.78125   \n",
       "2   [154.0]  [42207.5064935]  [0.00208875868056]  73728.0    0.76250   \n",
       "3   [154.0]  [42207.7337662]  [0.00208958059132]  73699.0    0.76875   \n",
       "6   [154.0]  [41217.6493506]  [0.00214326472103]  71853.0    0.78750   \n",
       "7   [153.0]  [41101.1633987]  [0.00215014474831]  71158.0    0.79375   \n",
       "0   [152.0]  [42763.0460526]  [0.00206006722325]  73784.0    0.75000   \n",
       "11  [152.0]  [39857.9078947]  [0.00221923728319]  68492.0    0.81875   \n",
       "13  [152.0]  [39198.5723684]  [0.00225911448657]  67283.0    0.83125   \n",
       "1   [152.0]  [42762.5723684]  [0.00206017891027]  73780.0    0.75625   \n",
       "\n",
       "      totalcost  \n",
       "4   [6462547.0]  \n",
       "5   [6406340.0]  \n",
       "2   [6499956.0]  \n",
       "3   [6499991.0]  \n",
       "6   [6347518.0]  \n",
       "7   [6288478.0]  \n",
       "0   [6499983.0]  \n",
       "11  [6058402.0]  \n",
       "13  [5958183.0]  \n",
       "1   [6499911.0]  "
      ]
     },
     "execution_count": 20,
     "metadata": {},
     "output_type": "execute_result"
    }
   ],
   "source": [
    "df_logs_gate.sort_values(by='clicks', ascending = False)[:10]"
   ]
  },
  {
   "cell_type": "code",
   "execution_count": 24,
   "metadata": {},
   "outputs": [
    {
     "data": {
      "image/png": "[encoded data removed]",
      "text/plain": [
       "<matplotlib.figure.Figure at 0x11174d4a8>"
      ]
     },
     "metadata": {},
     "output_type": "display_data"
    }
   ],
   "source": [
    "import matplotlib.pyplot as plt\n",
    "\n",
    "fig, ax1 = plt.subplots()\n",
    "ax1.plot(normRange,clicknum)\n",
    "ax1.set_xlabel('Norm Range')\n",
    "ax1.set_ylabel('Num Clicks', color='b')\n",
    "\n",
    "ax2 = ax1.twinx()\n",
    "ax2.plot(normRange, ctr_p,color='r')\n",
    "ax2.set_ylabel('CTR', color='r')\n",
    "fig.set_size_inches(8, 5)\n",
    "plt.show()"
   ]
  },
  {
   "cell_type": "code",
   "execution_count": 12,
   "metadata": {},
   "outputs": [
    {
     "data": {
      "text/plain": [
       "1.1941317979532655"
      ]
     },
     "execution_count": 12,
     "metadata": {},
     "output_type": "execute_result"
    }
   ],
   "source": [
    "(pCTR_val/avgCTR).mean()"
   ]
  },
  {
   "cell_type": "code",
   "execution_count": null,
   "metadata": {
    "collapsed": true
   },
   "outputs": [],
   "source": []
  },
  {
   "cell_type": "code",
   "execution_count": null,
   "metadata": {
    "collapsed": true
   },
   "outputs": [],
   "source": []
  },
  {
   "cell_type": "code",
   "execution_count": null,
   "metadata": {
    "collapsed": true
   },
   "outputs": [],
   "source": []
  },
  {
   "cell_type": "code",
   "execution_count": 36,
   "metadata": {
    "collapsed": true
   },
   "outputs": [],
   "source": [
    "bidprice_linear = pbidprice(pCTR_test, 117)"
   ]
  },
  {
   "cell_type": "code",
   "execution_count": 44,
   "metadata": {},
   "outputs": [],
   "source": [
    "bidprice_square = pbidprice_square(pCTR_test, 162)"
   ]
  },
  {
   "cell_type": "code",
   "execution_count": 39,
   "metadata": {},
   "outputs": [
    {
     "name": "stderr",
     "output_type": "stream",
     "text": [
      "/Users/liuce/anaconda3/lib/python3.6/site-packages/ipykernel_launcher.py:4: RuntimeWarning: overflow encountered in exp\n",
      "  after removing the cwd from sys.path.\n"
     ]
    }
   ],
   "source": [
    "bidprice_exp = pbidprice_exp(pCTR_test, 34)"
   ]
  },
  {
   "cell_type": "code",
   "execution_count": 38,
   "metadata": {
    "collapsed": true
   },
   "outputs": [],
   "source": [
    "optiamlC = 6\n",
    "optimalLambda = 5e-7\n",
    "bidprice_ortb = np.sqrt((optiamlC / optimalLambda * np.asarray(pCTR_test)) + optiamlC**2 - optiamlC)"
   ]
  },
  {
   "cell_type": "code",
   "execution_count": 40,
   "metadata": {
    "collapsed": true
   },
   "outputs": [],
   "source": [
    "bidprice_gate = pbidprice_gate(pCTR_test, 0.78125)"
   ]
  },
  {
   "cell_type": "code",
   "execution_count": 50,
   "metadata": {
    "collapsed": true
   },
   "outputs": [],
   "source": [
    "bidprice_linear = pd.DataFrame(bidprice_linear)\n",
    "bidprice_square = pd.DataFrame(bidprice_square)\n",
    "bidprice_exp = pd.DataFrame(bidprice_exp)\n",
    "bidprice_ortb = pd.DataFrame(bidprice_ortb)\n",
    "bidprice_gate = pd.DataFrame(bidprice_gate)"
   ]
  },
  {
   "cell_type": "code",
   "execution_count": 52,
   "metadata": {},
   "outputs": [],
   "source": [
    "pd_combine = pd.concat([bidprice_linear, bidprice_square, bidprice_exp, bidprice_ortb, bidprice_gate], axis=1)"
   ]
  },
  {
   "cell_type": "code",
   "execution_count": 54,
   "metadata": {
    "collapsed": true
   },
   "outputs": [],
   "source": [
    "pd_combine.columns = ['linear', 'square', 'exp', 'ortb', 'gate']"
   ]
  },
  {
   "cell_type": "code",
   "execution_count": 55,
   "metadata": {},
   "outputs": [
    {
     "data": {
      "text/html": [
       "<div>\n",
       "<style>\n",
       "    .dataframe thead tr:only-child th {\n",
       "        text-align: right;\n",
       "    }\n",
       "\n",
       "    .dataframe thead th {\n",
       "        text-align: left;\n",
       "    }\n",
       "\n",
       "    .dataframe tbody tr th {\n",
       "        vertical-align: top;\n",
       "    }\n",
       "</style>\n",
       "<table border=\"1\" class=\"dataframe\">\n",
       "  <thead>\n",
       "    <tr style=\"text-align: right;\">\n",
       "      <th></th>\n",
       "      <th>linear</th>\n",
       "      <th>square</th>\n",
       "      <th>exp</th>\n",
       "      <th>ortb</th>\n",
       "      <th>gate</th>\n",
       "    </tr>\n",
       "  </thead>\n",
       "  <tbody>\n",
       "    <tr>\n",
       "      <th>0</th>\n",
       "      <td>190.783640</td>\n",
       "      <td>430.750263</td>\n",
       "      <td>173.640996</td>\n",
       "      <td>120.294863</td>\n",
       "      <td>300</td>\n",
       "    </tr>\n",
       "    <tr>\n",
       "      <th>1</th>\n",
       "      <td>620.528468</td>\n",
       "      <td>4556.870760</td>\n",
       "      <td>6836.441604</td>\n",
       "      <td>216.793062</td>\n",
       "      <td>300</td>\n",
       "    </tr>\n",
       "    <tr>\n",
       "      <th>2</th>\n",
       "      <td>28.620728</td>\n",
       "      <td>9.694037</td>\n",
       "      <td>43.422691</td>\n",
       "      <td>46.865435</td>\n",
       "      <td>0</td>\n",
       "    </tr>\n",
       "    <tr>\n",
       "      <th>3</th>\n",
       "      <td>169.896974</td>\n",
       "      <td>341.597417</td>\n",
       "      <td>145.252181</td>\n",
       "      <td>113.533669</td>\n",
       "      <td>300</td>\n",
       "    </tr>\n",
       "    <tr>\n",
       "      <th>4</th>\n",
       "      <td>109.881036</td>\n",
       "      <td>142.885704</td>\n",
       "      <td>86.965777</td>\n",
       "      <td>91.362734</td>\n",
       "      <td>300</td>\n",
       "    </tr>\n",
       "  </tbody>\n",
       "</table>\n",
       "</div>"
      ],
      "text/plain": [
       "       linear       square          exp        ortb  gate\n",
       "0  190.783640   430.750263   173.640996  120.294863   300\n",
       "1  620.528468  4556.870760  6836.441604  216.793062   300\n",
       "2   28.620728     9.694037    43.422691   46.865435     0\n",
       "3  169.896974   341.597417   145.252181  113.533669   300\n",
       "4  109.881036   142.885704    86.965777   91.362734   300"
      ]
     },
     "execution_count": 55,
     "metadata": {},
     "output_type": "execute_result"
    }
   ],
   "source": [
    "pd_combine[:5] # 162 163 158 152 152"
   ]
  },
  {
   "cell_type": "code",
   "execution_count": 91,
   "metadata": {
    "collapsed": true
   },
   "outputs": [],
   "source": [
    "bidprice_combine = 0.3* pd_combine['linear'] + 0.7 * pd_combine['square']"
   ]
  },
  {
   "cell_type": "code",
   "execution_count": 92,
   "metadata": {},
   "outputs": [
    {
     "data": {
      "text/html": [
       "<div>\n",
       "<style>\n",
       "    .dataframe thead tr:only-child th {\n",
       "        text-align: right;\n",
       "    }\n",
       "\n",
       "    .dataframe thead th {\n",
       "        text-align: left;\n",
       "    }\n",
       "\n",
       "    .dataframe tbody tr th {\n",
       "        vertical-align: top;\n",
       "    }\n",
       "</style>\n",
       "<table border=\"1\" class=\"dataframe\">\n",
       "  <thead>\n",
       "    <tr style=\"text-align: right;\">\n",
       "      <th></th>\n",
       "      <th>bidid</th>\n",
       "      <th>bidprice</th>\n",
       "    </tr>\n",
       "  </thead>\n",
       "  <tbody>\n",
       "    <tr>\n",
       "      <th>0</th>\n",
       "      <td>366c563de7d90feb9d4dab53e795a93fb3157387</td>\n",
       "      <td>358.760276</td>\n",
       "    </tr>\n",
       "    <tr>\n",
       "      <th>1</th>\n",
       "      <td>29167d4caa719788b5a342dbaa25151d53121f80</td>\n",
       "      <td>3375.968073</td>\n",
       "    </tr>\n",
       "    <tr>\n",
       "      <th>2</th>\n",
       "      <td>ff8bc3f4d44a3ea60c5f3a3a8fbe7cd98fb2966e</td>\n",
       "      <td>15.372044</td>\n",
       "    </tr>\n",
       "    <tr>\n",
       "      <th>3</th>\n",
       "      <td>844c2da00d45315f20b748ec131c26ee99a7cbc7</td>\n",
       "      <td>290.087284</td>\n",
       "    </tr>\n",
       "    <tr>\n",
       "      <th>4</th>\n",
       "      <td>c6017f0ad0c44d7d0c9b62583ea863f28941c0ca</td>\n",
       "      <td>132.984304</td>\n",
       "    </tr>\n",
       "  </tbody>\n",
       "</table>\n",
       "</div>"
      ],
      "text/plain": [
       "                                      bidid     bidprice\n",
       "0  366c563de7d90feb9d4dab53e795a93fb3157387   358.760276\n",
       "1  29167d4caa719788b5a342dbaa25151d53121f80  3375.968073\n",
       "2  ff8bc3f4d44a3ea60c5f3a3a8fbe7cd98fb2966e    15.372044\n",
       "3  844c2da00d45315f20b748ec131c26ee99a7cbc7   290.087284\n",
       "4  c6017f0ad0c44d7d0c9b62583ea863f28941c0ca   132.984304"
      ]
     },
     "execution_count": 92,
     "metadata": {},
     "output_type": "execute_result"
    }
   ],
   "source": [
    "res_combine = pd.concat([bidid_test, bidprice_combine], axis = 1)\n",
    "res_combine.columns = ['bidid', 'bidprice']\n",
    "res_combine[:5]"
   ]
  },
  {
   "cell_type": "code",
   "execution_count": 93,
   "metadata": {
    "collapsed": true
   },
   "outputs": [],
   "source": [
    "res_combine.to_csv('testing_bidding_price.csv')"
   ]
  },
  {
   "cell_type": "code",
   "execution_count": null,
   "metadata": {
    "collapsed": true
   },
   "outputs": [],
   "source": []
  },
  {
   "cell_type": "code",
   "execution_count": 96,
   "metadata": {},
   "outputs": [
    {
     "data": {
      "image/png": "[encoded data removed]",
      "text/plain": [
       "<matplotlib.figure.Figure at 0x136389c18>"
      ]
     },
     "metadata": {},
     "output_type": "display_data"
    }
   ],
   "source": [
    "pd_combine[['ortb']].plot()\n",
    "plt.show()"
   ]
  },
  {
   "cell_type": "code",
   "execution_count": 97,
   "metadata": {},
   "outputs": [
    {
     "data": {
      "text/plain": [
       "73.43376822624542"
      ]
     },
     "execution_count": 97,
     "metadata": {},
     "output_type": "execute_result"
    }
   ],
   "source": [
    "pd_combine['ortb'].mean()"
   ]
  },
  {
   "cell_type": "code",
   "execution_count": 98,
   "metadata": {},
   "outputs": [
    {
     "data": {
      "text/plain": [
       "21178.346243356187"
      ]
     },
     "execution_count": 98,
     "metadata": {},
     "output_type": "execute_result"
    }
   ],
   "source": [
    "pd_combine['square'].mean()"
   ]
  },
  {
   "cell_type": "code",
   "execution_count": null,
   "metadata": {
    "collapsed": true
   },
   "outputs": [],
   "source": []
  },
  {
   "cell_type": "code",
   "execution_count": null,
   "metadata": {
    "collapsed": true
   },
   "outputs": [],
   "source": []
  },
  {
   "cell_type": "code",
   "execution_count": 59,
   "metadata": {},
   "outputs": [
    {
     "name": "stderr",
     "output_type": "stream",
     "text": [
      "/Users/liuce/anaconda3/lib/python3.6/site-packages/ipykernel_launcher.py:4: RuntimeWarning: overflow encountered in exp\n",
      "  after removing the cwd from sys.path.\n"
     ]
    }
   ],
   "source": [
    "bidprice_linear_val = pbidprice(pCTR_val, 117)\n",
    "bidprice_square_val = pbidprice_square(pCTR_val, 162)\n",
    "bidprice_exp_val = pbidprice_exp(pCTR_val, 34)\n",
    "bidprice_ortb_val = np.sqrt((optiamlC / optimalLambda * np.asarray(pCTR_val)) + optiamlC**2 - optiamlC)\n",
    "bidprice_gate_val = pbidprice_gate(pCTR_val, 0.78125)"
   ]
  },
  {
   "cell_type": "code",
   "execution_count": 60,
   "metadata": {
    "collapsed": true
   },
   "outputs": [],
   "source": [
    "bidprice_linear_val = pd.DataFrame(bidprice_linear_val)\n",
    "bidprice_square_val = pd.DataFrame(bidprice_square_val)\n",
    "bidprice_exp_val = pd.DataFrame(bidprice_exp_val)\n",
    "bidprice_ortb_val = pd.DataFrame(bidprice_ortb_val)\n",
    "bidprice_gate_val = pd.DataFrame(bidprice_gate_val)"
   ]
  },
  {
   "cell_type": "code",
   "execution_count": 61,
   "metadata": {
    "collapsed": true
   },
   "outputs": [],
   "source": [
    "combine_val = pd.concat([bidprice_linear_val, bidprice_square_val, bidprice_exp_val, bidprice_ortb_val, bidprice_gate_val], axis=1)\n",
    "combine_val.columns = ['1', '2', '3', '4', '5']"
   ]
  },
  {
   "cell_type": "code",
   "execution_count": 62,
   "metadata": {},
   "outputs": [
    {
     "data": {
      "text/html": [
       "<div>\n",
       "<style>\n",
       "    .dataframe thead tr:only-child th {\n",
       "        text-align: right;\n",
       "    }\n",
       "\n",
       "    .dataframe thead th {\n",
       "        text-align: left;\n",
       "    }\n",
       "\n",
       "    .dataframe tbody tr th {\n",
       "        vertical-align: top;\n",
       "    }\n",
       "</style>\n",
       "<table border=\"1\" class=\"dataframe\">\n",
       "  <thead>\n",
       "    <tr style=\"text-align: right;\">\n",
       "      <th></th>\n",
       "      <th>1</th>\n",
       "      <th>2</th>\n",
       "      <th>3</th>\n",
       "      <th>4</th>\n",
       "      <th>5</th>\n",
       "    </tr>\n",
       "  </thead>\n",
       "  <tbody>\n",
       "    <tr>\n",
       "      <th>0</th>\n",
       "      <td>31.041096</td>\n",
       "      <td>11.402955</td>\n",
       "      <td>44.330328</td>\n",
       "      <td>48.780859</td>\n",
       "      <td>0</td>\n",
       "    </tr>\n",
       "    <tr>\n",
       "      <th>1</th>\n",
       "      <td>17.369674</td>\n",
       "      <td>3.570480</td>\n",
       "      <td>39.441528</td>\n",
       "      <td>36.670843</td>\n",
       "      <td>0</td>\n",
       "    </tr>\n",
       "    <tr>\n",
       "      <th>2</th>\n",
       "      <td>12.255700</td>\n",
       "      <td>1.777541</td>\n",
       "      <td>37.754705</td>\n",
       "      <td>30.946118</td>\n",
       "      <td>0</td>\n",
       "    </tr>\n",
       "    <tr>\n",
       "      <th>3</th>\n",
       "      <td>22.519882</td>\n",
       "      <td>6.001717</td>\n",
       "      <td>41.216479</td>\n",
       "      <td>41.648311</td>\n",
       "      <td>0</td>\n",
       "    </tr>\n",
       "    <tr>\n",
       "      <th>4</th>\n",
       "      <td>19.986933</td>\n",
       "      <td>4.727544</td>\n",
       "      <td>40.333767</td>\n",
       "      <td>39.279220</td>\n",
       "      <td>0</td>\n",
       "    </tr>\n",
       "  </tbody>\n",
       "</table>\n",
       "</div>"
      ],
      "text/plain": [
       "           1          2          3          4  5\n",
       "0  31.041096  11.402955  44.330328  48.780859  0\n",
       "1  17.369674   3.570480  39.441528  36.670843  0\n",
       "2  12.255700   1.777541  37.754705  30.946118  0\n",
       "3  22.519882   6.001717  41.216479  41.648311  0\n",
       "4  19.986933   4.727544  40.333767  39.279220  0"
      ]
     },
     "execution_count": 62,
     "metadata": {},
     "output_type": "execute_result"
    }
   ],
   "source": [
    "combine_val[:5]"
   ]
  },
  {
   "cell_type": "code",
   "execution_count": null,
   "metadata": {
    "collapsed": true
   },
   "outputs": [],
   "source": []
  },
  {
   "cell_type": "code",
   "execution_count": null,
   "metadata": {
    "collapsed": true
   },
   "outputs": [],
   "source": []
  },
  {
   "cell_type": "code",
   "execution_count": 63,
   "metadata": {},
   "outputs": [
    {
     "name": "stdout",
     "output_type": "stream",
     "text": [
      "win_num 121380.0, total_cost [ 6324178.], click_num [ 162.], ctr [ 0.00133465], cpc [ 39038.13580247]\n"
     ]
    }
   ],
   "source": [
    "combine_price = (combine_val['1'] + combine_val['2'] + combine_val['3'] + combine_val['4'] + combine_val['5'])/5\n",
    "win_num, total_cost, click_num, ctr, cpc = evaluation(combine_price, payprice_val, click_val)"
   ]
  },
  {
   "cell_type": "code",
   "execution_count": 64,
   "metadata": {},
   "outputs": [
    {
     "name": "stdout",
     "output_type": "stream",
     "text": [
      "win_num 126196.0, total_cost [ 6369499.], click_num [ 162.], ctr [ 0.00128372], cpc [ 39317.89506173]\n"
     ]
    }
   ],
   "source": [
    "combine_price = 0.22*combine_val['1'] + 0.22*combine_val['2'] + 0.22*combine_val['3'] + 0.22*combine_val['4'] + 0.12*combine_val['5']\n",
    "win_num, total_cost, click_num, ctr, cpc = evaluation(combine_price, payprice_val, click_val)"
   ]
  },
  {
   "cell_type": "code",
   "execution_count": 65,
   "metadata": {},
   "outputs": [
    {
     "name": "stdout",
     "output_type": "stream",
     "text": [
      "win_num 119481.0, total_cost [ 6459212.], click_num [ 162.], ctr [ 0.00135586], cpc [ 39871.67901235]\n"
     ]
    }
   ],
   "source": [
    "combine_price = 0.4*combine_val['1'] + 0.4*combine_val['2'] + 0.1*combine_val['3'] + 0.05*combine_val['4'] + 0.05*combine_val['5']\n",
    "win_num, total_cost, click_num, ctr, cpc = evaluation(combine_price, payprice_val, click_val)"
   ]
  },
  {
   "cell_type": "code",
   "execution_count": 66,
   "metadata": {},
   "outputs": [
    {
     "name": "stdout",
     "output_type": "stream",
     "text": [
      "win_num 118439.0, total_cost [ 6499826.], click_num [ 164.], ctr [ 0.00138468], cpc [ 39633.08536585]\n"
     ]
    }
   ],
   "source": [
    "combine_price = 0.4*combine_val['1'] + 0.5*combine_val['2'] + 0.1*combine_val['3']\n",
    "win_num, total_cost, click_num, ctr, cpc = evaluation(combine_price, payprice_val, click_val)"
   ]
  },
  {
   "cell_type": "code",
   "execution_count": 67,
   "metadata": {},
   "outputs": [
    {
     "name": "stdout",
     "output_type": "stream",
     "text": [
      "win_num 113546.0, total_cost [ 6499978.], click_num [ 164.], ctr [ 0.00144435], cpc [ 39634.01219512]\n"
     ]
    }
   ],
   "source": [
    "combine_price = 0.4*combine_val['1'] + 0.6*combine_val['2']\n",
    "win_num, total_cost, click_num, ctr, cpc = evaluation(combine_price, payprice_val, click_val)"
   ]
  },
  {
   "cell_type": "code",
   "execution_count": 68,
   "metadata": {},
   "outputs": [
    {
     "name": "stdout",
     "output_type": "stream",
     "text": [
      "win_num 116017.0, total_cost [ 6499949.], click_num [ 163.], ctr [ 0.00140497], cpc [ 39876.98773006]\n"
     ]
    }
   ],
   "source": [
    "combine_price = 0.5*combine_val['1'] + 0.5*combine_val['2']\n",
    "win_num, total_cost, click_num, ctr, cpc = evaluation(combine_price, payprice_val, click_val)"
   ]
  },
  {
   "cell_type": "code",
   "execution_count": 69,
   "metadata": {},
   "outputs": [
    {
     "name": "stdout",
     "output_type": "stream",
     "text": [
      "win_num 110912.0, total_cost [ 6490423.], click_num [ 165.], ctr [ 0.00148767], cpc [ 39335.8969697]\n"
     ]
    }
   ],
   "source": [
    "combine_price = 0.3*combine_val['1'] + 0.7*combine_val['2']\n",
    "win_num, total_cost, click_num, ctr, cpc = evaluation(combine_price, payprice_val, click_val)"
   ]
  },
  {
   "cell_type": "code",
   "execution_count": 89,
   "metadata": {},
   "outputs": [
    {
     "name": "stdout",
     "output_type": "stream",
     "text": [
      "win_num 111219.0, total_cost [ 6493545.], click_num [ 165.], ctr [ 0.00148356], cpc [ 39354.81818182]\n"
     ]
    }
   ],
   "source": [
    "combine_price = 0.31*combine_val['1'] + 0.69*combine_val['2']\n",
    "win_num, total_cost, click_num, ctr, cpc = evaluation(combine_price, payprice_val, click_val)"
   ]
  },
  {
   "cell_type": "code",
   "execution_count": 90,
   "metadata": {},
   "outputs": [
    {
     "name": "stdout",
     "output_type": "stream",
     "text": [
      "win_num 110635.0, total_cost [ 6488815.], click_num [ 164.], ctr [ 0.00148235], cpc [ 39565.94512195]\n"
     ]
    }
   ],
   "source": [
    "combine_price = 0.29*combine_val['1'] + 0.71*combine_val['2']\n",
    "win_num, total_cost, click_num, ctr, cpc = evaluation(combine_price, payprice_val, click_val)"
   ]
  },
  {
   "cell_type": "code",
   "execution_count": 70,
   "metadata": {},
   "outputs": [
    {
     "name": "stdout",
     "output_type": "stream",
     "text": [
      "win_num 108131.0, total_cost [ 6473891.], click_num [ 163.], ctr [ 0.00150743], cpc [ 39717.12269939]\n"
     ]
    }
   ],
   "source": [
    "combine_price = 0.2*combine_val['1'] + 0.8*combine_val['2']\n",
    "win_num, total_cost, click_num, ctr, cpc = evaluation(combine_price, payprice_val, click_val)"
   ]
  },
  {
   "cell_type": "code",
   "execution_count": 71,
   "metadata": {},
   "outputs": [
    {
     "name": "stdout",
     "output_type": "stream",
     "text": [
      "win_num 109497.0, total_cost [ 6484104.], click_num [ 163.], ctr [ 0.00148863], cpc [ 39779.7791411]\n"
     ]
    }
   ],
   "source": [
    "combine_price = 0.25*combine_val['1'] + 0.75*combine_val['2']\n",
    "win_num, total_cost, click_num, ctr, cpc = evaluation(combine_price, payprice_val, click_val)"
   ]
  },
  {
   "cell_type": "code",
   "execution_count": 72,
   "metadata": {},
   "outputs": [
    {
     "name": "stdout",
     "output_type": "stream",
     "text": [
      "win_num 110395.0, total_cost [ 6499805.], click_num [ 143.], ctr [ 0.00129535], cpc [ 45453.18181818]\n"
     ]
    }
   ],
   "source": [
    "combine_price = 0.4*combine_val['1'] + 0.8*combine_val['2']\n",
    "win_num, total_cost, click_num, ctr, cpc = evaluation(combine_price, payprice_val, click_val)"
   ]
  },
  {
   "cell_type": "code",
   "execution_count": 73,
   "metadata": {},
   "outputs": [
    {
     "name": "stdout",
     "output_type": "stream",
     "text": [
      "win_num 96047.0, total_cost [ 5619832.], click_num [ 159.], ctr [ 0.00165544], cpc [ 35344.85534591]\n"
     ]
    }
   ],
   "source": [
    "combine_price = 0.2*combine_val['1'] + 0.6*combine_val['2']\n",
    "win_num, total_cost, click_num, ctr, cpc = evaluation(combine_price, payprice_val, click_val)"
   ]
  },
  {
   "cell_type": "code",
   "execution_count": 74,
   "metadata": {},
   "outputs": [
    {
     "name": "stdout",
     "output_type": "stream",
     "text": [
      "win_num 110810.0, total_cost [ 6499987.], click_num [ 149.], ctr [ 0.00134464], cpc [ 43624.0738255]\n"
     ]
    }
   ],
   "source": [
    "combine_price = 0.35*combine_val['1'] + 0.75*combine_val['2']\n",
    "win_num, total_cost, click_num, ctr, cpc = evaluation(combine_price, payprice_val, click_val)"
   ]
  },
  {
   "cell_type": "code",
   "execution_count": 75,
   "metadata": {},
   "outputs": [
    {
     "name": "stdout",
     "output_type": "stream",
     "text": [
      "win_num 108098.0, total_cost [ 6437182.], click_num [ 163.], ctr [ 0.00150789], cpc [ 39491.91411043]\n"
     ]
    }
   ],
   "source": [
    "combine_price = 0.1*combine_val['1'] + 0.8*combine_val['2'] + 0.05*combine_val['3'] + 0.025*combine_val['4'] + 0.025*combine_val['5']\n",
    "win_num, total_cost, click_num, ctr, cpc = evaluation(combine_price, payprice_val, click_val)"
   ]
  },
  {
   "cell_type": "code",
   "execution_count": 76,
   "metadata": {},
   "outputs": [
    {
     "name": "stdout",
     "output_type": "stream",
     "text": [
      "win_num 109739.0, total_cost [ 6499962.], click_num [ 159.], ctr [ 0.00144889], cpc [ 40880.26415094]\n"
     ]
    }
   ],
   "source": [
    "combine_price = 0.15*combine_val['1'] + 0.8*combine_val['2'] + 0.05*combine_val['3'] + 0.025*combine_val['4'] + 0.025*combine_val['5']\n",
    "win_num, total_cost, click_num, ctr, cpc = evaluation(combine_price, payprice_val, click_val)"
   ]
  },
  {
   "cell_type": "code",
   "execution_count": 77,
   "metadata": {},
   "outputs": [
    {
     "name": "stdout",
     "output_type": "stream",
     "text": [
      "win_num 108556.0, total_cost [ 6499940.], click_num [ 159.], ctr [ 0.00146468], cpc [ 40880.12578616]\n"
     ]
    }
   ],
   "source": [
    "combine_price = 0.1*combine_val['1'] + 0.85*combine_val['2'] + 0.05*combine_val['3'] + 0.025*combine_val['4'] + 0.025*combine_val['5']\n",
    "win_num, total_cost, click_num, ctr, cpc = evaluation(combine_price, payprice_val, click_val)"
   ]
  },
  {
   "cell_type": "code",
   "execution_count": 78,
   "metadata": {},
   "outputs": [
    {
     "name": "stdout",
     "output_type": "stream",
     "text": [
      "win_num 108665.0, total_cost [ 6477615.], click_num [ 163.], ctr [ 0.00150002], cpc [ 39739.96932515]\n"
     ]
    }
   ],
   "source": [
    "combine_price = 0.1*combine_val['1'] + 0.81*combine_val['2'] + 0.05*combine_val['3'] + 0.025*combine_val['4'] + 0.025*combine_val['5']\n",
    "win_num, total_cost, click_num, ctr, cpc = evaluation(combine_price, payprice_val, click_val)"
   ]
  },
  {
   "cell_type": "code",
   "execution_count": 79,
   "metadata": {},
   "outputs": [
    {
     "name": "stdout",
     "output_type": "stream",
     "text": [
      "win_num 107554.0, total_cost [ 6397259.], click_num [ 162.], ctr [ 0.00150622], cpc [ 39489.25308642]\n"
     ]
    }
   ],
   "source": [
    "combine_price = 0.1*combine_val['1'] + 0.79*combine_val['2'] + 0.05*combine_val['3'] + 0.025*combine_val['4'] + 0.025*combine_val['5']\n",
    "win_num, total_cost, click_num, ctr, cpc = evaluation(combine_price, payprice_val, click_val)"
   ]
  },
  {
   "cell_type": "code",
   "execution_count": 80,
   "metadata": {},
   "outputs": [
    {
     "name": "stdout",
     "output_type": "stream",
     "text": [
      "win_num 108869.0, total_cost [ 6499973.], click_num [ 162.], ctr [ 0.00148803], cpc [ 40123.29012346]\n"
     ]
    }
   ],
   "source": [
    "combine_price = 0.1*combine_val['1'] + 0.82*combine_val['2'] + 0.05*combine_val['3'] + 0.025*combine_val['4'] + 0.025*combine_val['5']\n",
    "win_num, total_cost, click_num, ctr, cpc = evaluation(combine_price, payprice_val, click_val)"
   ]
  },
  {
   "cell_type": "code",
   "execution_count": 81,
   "metadata": {},
   "outputs": [
    {
     "name": "stdout",
     "output_type": "stream",
     "text": [
      "win_num 108714.0, total_cost [ 6499936.], click_num [ 161.], ctr [ 0.00148095], cpc [ 40372.27329193]\n"
     ]
    }
   ],
   "source": [
    "combine_price = 0.1*combine_val['1'] + 0.83*combine_val['2'] + 0.05*combine_val['3'] + 0.025*combine_val['4'] + 0.025*combine_val['5']\n",
    "win_num, total_cost, click_num, ctr, cpc = evaluation(combine_price, payprice_val, click_val)"
   ]
  },
  {
   "cell_type": "code",
   "execution_count": 82,
   "metadata": {},
   "outputs": [
    {
     "name": "stdout",
     "output_type": "stream",
     "text": [
      "win_num 110243.0, total_cost [ 6499861.], click_num [ 149.], ctr [ 0.00135156], cpc [ 43623.22818792]\n"
     ]
    }
   ],
   "source": [
    "combine_price = 0.2*combine_val['1'] + 0.81*combine_val['2'] + 0.05*combine_val['3'] + 0.025*combine_val['4'] + 0.025*combine_val['5']\n",
    "win_num, total_cost, click_num, ctr, cpc = evaluation(combine_price, payprice_val, click_val)"
   ]
  },
  {
   "cell_type": "code",
   "execution_count": 83,
   "metadata": {},
   "outputs": [
    {
     "name": "stdout",
     "output_type": "stream",
     "text": [
      "win_num 109144.0, total_cost [ 6499911.], click_num [ 162.], ctr [ 0.00148428], cpc [ 40122.90740741]\n"
     ]
    }
   ],
   "source": [
    "combine_price = 0.11*combine_val['1'] + 0.81*combine_val['2'] + 0.05*combine_val['3'] + 0.025*combine_val['4'] + 0.025*combine_val['5']\n",
    "win_num, total_cost, click_num, ctr, cpc = evaluation(combine_price, payprice_val, click_val)"
   ]
  },
  {
   "cell_type": "code",
   "execution_count": 84,
   "metadata": {},
   "outputs": [
    {
     "name": "stdout",
     "output_type": "stream",
     "text": [
      "win_num 109220.0, total_cost [ 6499980.], click_num [ 161.], ctr [ 0.00147409], cpc [ 40372.54658385]\n"
     ]
    }
   ],
   "source": [
    "combine_price = 0.12*combine_val['1'] + 0.81*combine_val['2'] + 0.05*combine_val['3'] + 0.025*combine_val['4'] + 0.025*combine_val['5']\n",
    "win_num, total_cost, click_num, ctr, cpc = evaluation(combine_price, payprice_val, click_val)"
   ]
  },
  {
   "cell_type": "code",
   "execution_count": 85,
   "metadata": {},
   "outputs": [
    {
     "name": "stdout",
     "output_type": "stream",
     "text": [
      "win_num 112687.0, total_cost [ 6499927.], click_num [ 158.], ctr [ 0.00140211], cpc [ 41138.77848101]\n"
     ]
    }
   ],
   "source": [
    "combine_price = 0.3*combine_val['1'] + 0.7*combine_val['2'] + 0.05*combine_val['3']\n",
    "win_num, total_cost, click_num, ctr, cpc = evaluation(combine_price, payprice_val, click_val)"
   ]
  },
  {
   "cell_type": "code",
   "execution_count": 86,
   "metadata": {},
   "outputs": [
    {
     "name": "stdout",
     "output_type": "stream",
     "text": [
      "win_num 111852.0, total_cost [ 6479314.], click_num [ 164.], ctr [ 0.00146622], cpc [ 39508.01219512]\n"
     ]
    }
   ],
   "source": [
    "combine_price = 0.25*combine_val['1'] + 0.7*combine_val['2'] + 0.05*combine_val['3']\n",
    "win_num, total_cost, click_num, ctr, cpc = evaluation(combine_price, payprice_val, click_val)"
   ]
  },
  {
   "cell_type": "code",
   "execution_count": 87,
   "metadata": {},
   "outputs": [
    {
     "name": "stdout",
     "output_type": "stream",
     "text": [
      "win_num 111331.0, total_cost [ 6486858.], click_num [ 164.], ctr [ 0.00147308], cpc [ 39554.01219512]\n"
     ]
    }
   ],
   "source": [
    "combine_price = 0.28*combine_val['1'] + 0.7*combine_val['2'] + 0.02*combine_val['3']\n",
    "win_num, total_cost, click_num, ctr, cpc = evaluation(combine_price, payprice_val, click_val)"
   ]
  },
  {
   "cell_type": "code",
   "execution_count": 88,
   "metadata": {},
   "outputs": [
    {
     "name": "stdout",
     "output_type": "stream",
     "text": [
      "win_num 111114.0, total_cost [ 6489024.], click_num [ 164.], ctr [ 0.00147596], cpc [ 39567.2195122]\n"
     ]
    }
   ],
   "source": [
    "combine_price = 0.29*combine_val['1'] + 0.7*combine_val['2'] + 0.01*combine_val['3']\n",
    "win_num, total_cost, click_num, ctr, cpc = evaluation(combine_price, payprice_val, click_val)"
   ]
  },
  {
   "cell_type": "code",
   "execution_count": null,
   "metadata": {
    "collapsed": true
   },
   "outputs": [],
   "source": []
  }
 ],
 "metadata": {
  "kernelspec": {
   "display_name": "Python 3",
   "language": "python",
   "name": "python3"
  },
  "language_info": {
   "codemirror_mode": {
    "name": "ipython",
    "version": 3
   },
   "file_extension": ".py",
   "mimetype": "text/x-python",
   "name": "python",
   "nbconvert_exporter": "python",
   "pygments_lexer": "ipython3",
   "version": "3.6.3"
  }
 },
 "nbformat": 4,
 "nbformat_minor": 2
}
