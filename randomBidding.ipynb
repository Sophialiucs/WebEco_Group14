{
 "cells": [
  {
   "cell_type": "code",
   "execution_count": 4,
   "metadata": {
    "collapsed": true
   },
   "outputs": [],
   "source": [
    "import pandas as pd\n",
    "\n",
    "train = pd.read_csv('/Users/liuce/Downloads/we_data/train.csv')\n",
    "validation = pd.read_csv('/Users/liuce/Downloads/we_data/validation.csv')\n",
    "test = pd.read_csv('/Users/liuce/Downloads/we_data/test.csv')"
   ]
  },
  {
   "cell_type": "code",
   "execution_count": 5,
   "metadata": {
    "collapsed": true
   },
   "outputs": [],
   "source": [
    "payprice_train = train['payprice']\n",
    "clicks_train = train['click']"
   ]
  },
  {
   "cell_type": "code",
   "execution_count": 6,
   "metadata": {
    "collapsed": true
   },
   "outputs": [],
   "source": [
    "import sys\n",
    "\n",
    "# show how far a loop goes\n",
    "def progress(count, total, status='Complete'):\n",
    "    bar_len = 60\n",
    "    filled_len = int(round(bar_len * count / total))\n",
    "    percents = round(100.0 * count / total, 1)\n",
    "    bar = '=' * filled_len + '-' * (bar_len - filled_len)\n",
    "    sys.stdout.write('[%s] %s%s %s\\r' % (bar, percents, '%', status))\n",
    "    if count==total:\n",
    "        sys.stdout.write('\\n')\n",
    "    sys.stdout.flush()"
   ]
  },
  {
   "cell_type": "code",
   "execution_count": 31,
   "metadata": {
    "collapsed": true
   },
   "outputs": [],
   "source": [
    "# bidprice : is a constant value\n",
    "# payprice  : is a list of market prices\n",
    "# clicks    : is the list of user feedback on clicks\n",
    "\n",
    "import random\n",
    "\n",
    "def random_evaluation (lowerbound, upperbound, payprice, clicks, budget=6250000):\n",
    "    win_num = 0.\n",
    "    total_cost = 0.\n",
    "    click_num = 0.\n",
    "    \n",
    "    N = len(payprice)\n",
    "    for i in range(0, N): # for each bid request\n",
    "        \n",
    "        bidprice = random.randint(lowerbound, upperbound) # random int bidding price\n",
    "        \n",
    "        if bidprice > payprice[i]:\n",
    "            if total_cost + payprice[i] > budget:\n",
    "                break\n",
    "            else:\n",
    "                win_num = win_num + 1\n",
    "                total_cost = total_cost + payprice[i]\n",
    "                click_num += clicks[i]\n",
    "                \n",
    "    if win_num == 0:\n",
    "        ctr = 0\n",
    "    else:\n",
    "        ctr = click_num / win_num\n",
    "        \n",
    "    if click_num == 0:\n",
    "        cpc = -1\n",
    "    else:\n",
    "        cpc = total_cost / click_num\n",
    "        \n",
    "    #print('lowerbound {}, upperbound {}, win_num {}, total_cost {}, click_num {}, ctr {}, cpc {}'.format(lowerbound, upperbound, win_num, total_cost, click_num, ctr, cpc))\n",
    "    return win_num, total_cost, click_num, ctr, cpc\n"
   ]
  },
  {
   "cell_type": "markdown",
   "metadata": {},
   "source": [
    "# Training"
   ]
  },
  {
   "cell_type": "code",
   "execution_count": 1,
   "metadata": {
    "collapsed": true
   },
   "outputs": [],
   "source": [
    "import random"
   ]
  },
  {
   "cell_type": "code",
   "execution_count": 3,
   "metadata": {},
   "outputs": [
    {
     "data": {
      "text/plain": [
       "3"
      ]
     },
     "execution_count": 3,
     "metadata": {},
     "output_type": "execute_result"
    }
   ],
   "source": [
    "random.randint(1,3) # test random usage"
   ]
  },
  {
   "cell_type": "code",
   "execution_count": 33,
   "metadata": {},
   "outputs": [
    {
     "name": "stdout",
     "output_type": "stream",
     "text": [
      "Mean =  25\n",
      "Mean =  50=================================================--] 96.0% Complete\n",
      "Mean =  75=================================================--] 96.0% Complete\n",
      "Mean =  100================================================--] 96.0% Complete\n",
      "Mean =  125================================================--] 96.0% Complete\n",
      "Mean =  150================================================--] 96.0% Complete\n",
      "Mean =  175================================================--] 96.0% Complete\n",
      "Mean =  200================================================--] 96.0% Complete\n",
      "[==========================================================--] 96.0% Complete\r"
     ]
    }
   ],
   "source": [
    "N = 25  # half interval\n",
    "\n",
    "logs = []\n",
    "\n",
    "for mean in range(25, 201, 25): # mean range\n",
    "    \n",
    "    print('Mean = ', mean)\n",
    "\n",
    "    for i in range(1, N + 1):\n",
    "        progress(i - 1, N, ) # 显示进度\n",
    "        \n",
    "        # i is 1/2 * (the length of interval)\n",
    "        upperbound = mean + i\n",
    "        lowerbound = mean - i\n",
    "        \n",
    "        imp, total_cost, click_num, ctr, cpc = random_evaluation(lowerbound, upperbound, payprice_train, clicks_train)\n",
    "        logs.append((upperbound, lowerbound, imp, total_cost, click_num, ctr, cpc))"
   ]
  },
  {
   "cell_type": "code",
   "execution_count": 35,
   "metadata": {},
   "outputs": [
    {
     "data": {
      "text/html": [
       "<div>\n",
       "<style>\n",
       "    .dataframe thead tr:only-child th {\n",
       "        text-align: right;\n",
       "    }\n",
       "\n",
       "    .dataframe thead th {\n",
       "        text-align: left;\n",
       "    }\n",
       "\n",
       "    .dataframe tbody tr th {\n",
       "        vertical-align: top;\n",
       "    }\n",
       "</style>\n",
       "<table border=\"1\" class=\"dataframe\">\n",
       "  <thead>\n",
       "    <tr style=\"text-align: right;\">\n",
       "      <th></th>\n",
       "      <th>lowerbound</th>\n",
       "      <th>upperbound</th>\n",
       "      <th>imp</th>\n",
       "      <th>totalcost</th>\n",
       "      <th>clicks</th>\n",
       "      <th>ctr</th>\n",
       "      <th>cpc</th>\n",
       "    </tr>\n",
       "  </thead>\n",
       "  <tbody>\n",
       "    <tr>\n",
       "      <th>0</th>\n",
       "      <td>26</td>\n",
       "      <td>24</td>\n",
       "      <td>411730.0</td>\n",
       "      <td>6249992.0</td>\n",
       "      <td>135.0</td>\n",
       "      <td>0.000328</td>\n",
       "      <td>46296.237037</td>\n",
       "    </tr>\n",
       "    <tr>\n",
       "      <th>1</th>\n",
       "      <td>27</td>\n",
       "      <td>23</td>\n",
       "      <td>411826.0</td>\n",
       "      <td>6249991.0</td>\n",
       "      <td>132.0</td>\n",
       "      <td>0.000321</td>\n",
       "      <td>47348.416667</td>\n",
       "    </tr>\n",
       "    <tr>\n",
       "      <th>2</th>\n",
       "      <td>28</td>\n",
       "      <td>22</td>\n",
       "      <td>412852.0</td>\n",
       "      <td>6249999.0</td>\n",
       "      <td>134.0</td>\n",
       "      <td>0.000325</td>\n",
       "      <td>46641.783582</td>\n",
       "    </tr>\n",
       "    <tr>\n",
       "      <th>3</th>\n",
       "      <td>29</td>\n",
       "      <td>21</td>\n",
       "      <td>413637.0</td>\n",
       "      <td>6249990.0</td>\n",
       "      <td>133.0</td>\n",
       "      <td>0.000322</td>\n",
       "      <td>46992.406015</td>\n",
       "    </tr>\n",
       "    <tr>\n",
       "      <th>4</th>\n",
       "      <td>30</td>\n",
       "      <td>20</td>\n",
       "      <td>416654.0</td>\n",
       "      <td>6249999.0</td>\n",
       "      <td>131.0</td>\n",
       "      <td>0.000314</td>\n",
       "      <td>47709.916031</td>\n",
       "    </tr>\n",
       "  </tbody>\n",
       "</table>\n",
       "</div>"
      ],
      "text/plain": [
       "   lowerbound  upperbound       imp  totalcost  clicks       ctr           cpc\n",
       "0          26          24  411730.0  6249992.0   135.0  0.000328  46296.237037\n",
       "1          27          23  411826.0  6249991.0   132.0  0.000321  47348.416667\n",
       "2          28          22  412852.0  6249999.0   134.0  0.000325  46641.783582\n",
       "3          29          21  413637.0  6249990.0   133.0  0.000322  46992.406015\n",
       "4          30          20  416654.0  6249999.0   131.0  0.000314  47709.916031"
      ]
     },
     "execution_count": 35,
     "metadata": {},
     "output_type": "execute_result"
    }
   ],
   "source": [
    "df_logs = pd.DataFrame(logs)\n",
    "df_logs.columns = ['lowerbound', 'upperbound', 'imp', 'totalcost', 'clicks', 'ctr', 'cpc']\n",
    "df_logs[:5]"
   ]
  },
  {
   "cell_type": "code",
   "execution_count": 43,
   "metadata": {
    "collapsed": true
   },
   "outputs": [],
   "source": [
    "df_logs['mean'] = (df_logs['upperbound'] + df_logs['lowerbound']) / 2"
   ]
  },
  {
   "cell_type": "code",
   "execution_count": 44,
   "metadata": {},
   "outputs": [
    {
     "data": {
      "text/html": [
       "<div>\n",
       "<style>\n",
       "    .dataframe thead tr:only-child th {\n",
       "        text-align: right;\n",
       "    }\n",
       "\n",
       "    .dataframe thead th {\n",
       "        text-align: left;\n",
       "    }\n",
       "\n",
       "    .dataframe tbody tr th {\n",
       "        vertical-align: top;\n",
       "    }\n",
       "</style>\n",
       "<table border=\"1\" class=\"dataframe\">\n",
       "  <thead>\n",
       "    <tr style=\"text-align: right;\">\n",
       "      <th></th>\n",
       "      <th>lowerbound</th>\n",
       "      <th>upperbound</th>\n",
       "      <th>imp</th>\n",
       "      <th>totalcost</th>\n",
       "      <th>clicks</th>\n",
       "      <th>ctr</th>\n",
       "      <th>cpc</th>\n",
       "      <th>mean</th>\n",
       "    </tr>\n",
       "  </thead>\n",
       "  <tbody>\n",
       "    <tr>\n",
       "      <th>160</th>\n",
       "      <td>186</td>\n",
       "      <td>164</td>\n",
       "      <td>97471.0</td>\n",
       "      <td>6249960.0</td>\n",
       "      <td>69.0</td>\n",
       "      <td>0.000708</td>\n",
       "      <td>90579.130435</td>\n",
       "      <td>175.0</td>\n",
       "    </tr>\n",
       "    <tr>\n",
       "      <th>168</th>\n",
       "      <td>194</td>\n",
       "      <td>156</td>\n",
       "      <td>97709.0</td>\n",
       "      <td>6249998.0</td>\n",
       "      <td>69.0</td>\n",
       "      <td>0.000706</td>\n",
       "      <td>90579.681159</td>\n",
       "      <td>175.0</td>\n",
       "    </tr>\n",
       "    <tr>\n",
       "      <th>171</th>\n",
       "      <td>197</td>\n",
       "      <td>153</td>\n",
       "      <td>97769.0</td>\n",
       "      <td>6249870.0</td>\n",
       "      <td>69.0</td>\n",
       "      <td>0.000706</td>\n",
       "      <td>90577.826087</td>\n",
       "      <td>175.0</td>\n",
       "    </tr>\n",
       "    <tr>\n",
       "      <th>169</th>\n",
       "      <td>195</td>\n",
       "      <td>155</td>\n",
       "      <td>97595.0</td>\n",
       "      <td>6249928.0</td>\n",
       "      <td>68.0</td>\n",
       "      <td>0.000697</td>\n",
       "      <td>91910.705882</td>\n",
       "      <td>175.0</td>\n",
       "    </tr>\n",
       "    <tr>\n",
       "      <th>165</th>\n",
       "      <td>191</td>\n",
       "      <td>159</td>\n",
       "      <td>97605.0</td>\n",
       "      <td>6249966.0</td>\n",
       "      <td>68.0</td>\n",
       "      <td>0.000697</td>\n",
       "      <td>91911.264706</td>\n",
       "      <td>175.0</td>\n",
       "    </tr>\n",
       "    <tr>\n",
       "      <th>157</th>\n",
       "      <td>183</td>\n",
       "      <td>167</td>\n",
       "      <td>97613.0</td>\n",
       "      <td>6249984.0</td>\n",
       "      <td>68.0</td>\n",
       "      <td>0.000697</td>\n",
       "      <td>91911.529412</td>\n",
       "      <td>175.0</td>\n",
       "    </tr>\n",
       "    <tr>\n",
       "      <th>158</th>\n",
       "      <td>184</td>\n",
       "      <td>166</td>\n",
       "      <td>97632.0</td>\n",
       "      <td>6249869.0</td>\n",
       "      <td>68.0</td>\n",
       "      <td>0.000696</td>\n",
       "      <td>91909.838235</td>\n",
       "      <td>175.0</td>\n",
       "    </tr>\n",
       "    <tr>\n",
       "      <th>164</th>\n",
       "      <td>190</td>\n",
       "      <td>160</td>\n",
       "      <td>97637.0</td>\n",
       "      <td>6249981.0</td>\n",
       "      <td>68.0</td>\n",
       "      <td>0.000696</td>\n",
       "      <td>91911.485294</td>\n",
       "      <td>175.0</td>\n",
       "    </tr>\n",
       "    <tr>\n",
       "      <th>167</th>\n",
       "      <td>193</td>\n",
       "      <td>157</td>\n",
       "      <td>97645.0</td>\n",
       "      <td>6249973.0</td>\n",
       "      <td>68.0</td>\n",
       "      <td>0.000696</td>\n",
       "      <td>91911.367647</td>\n",
       "      <td>175.0</td>\n",
       "    </tr>\n",
       "    <tr>\n",
       "      <th>166</th>\n",
       "      <td>192</td>\n",
       "      <td>158</td>\n",
       "      <td>97703.0</td>\n",
       "      <td>6249989.0</td>\n",
       "      <td>68.0</td>\n",
       "      <td>0.000696</td>\n",
       "      <td>91911.602941</td>\n",
       "      <td>175.0</td>\n",
       "    </tr>\n",
       "  </tbody>\n",
       "</table>\n",
       "</div>"
      ],
      "text/plain": [
       "     lowerbound  upperbound      imp  totalcost  clicks       ctr  \\\n",
       "160         186         164  97471.0  6249960.0    69.0  0.000708   \n",
       "168         194         156  97709.0  6249998.0    69.0  0.000706   \n",
       "171         197         153  97769.0  6249870.0    69.0  0.000706   \n",
       "169         195         155  97595.0  6249928.0    68.0  0.000697   \n",
       "165         191         159  97605.0  6249966.0    68.0  0.000697   \n",
       "157         183         167  97613.0  6249984.0    68.0  0.000697   \n",
       "158         184         166  97632.0  6249869.0    68.0  0.000696   \n",
       "164         190         160  97637.0  6249981.0    68.0  0.000696   \n",
       "167         193         157  97645.0  6249973.0    68.0  0.000696   \n",
       "166         192         158  97703.0  6249989.0    68.0  0.000696   \n",
       "\n",
       "              cpc   mean  \n",
       "160  90579.130435  175.0  \n",
       "168  90579.681159  175.0  \n",
       "171  90577.826087  175.0  \n",
       "169  91910.705882  175.0  \n",
       "165  91911.264706  175.0  \n",
       "157  91911.529412  175.0  \n",
       "158  91909.838235  175.0  \n",
       "164  91911.485294  175.0  \n",
       "167  91911.367647  175.0  \n",
       "166  91911.602941  175.0  "
      ]
     },
     "execution_count": 44,
     "metadata": {},
     "output_type": "execute_result"
    }
   ],
   "source": [
    "df_logs.sort_values(by=['ctr','cpc'], ascending=[False, True])[:10]"
   ]
  },
  {
   "cell_type": "code",
   "execution_count": null,
   "metadata": {
    "collapsed": true
   },
   "outputs": [],
   "source": []
  },
  {
   "cell_type": "code",
   "execution_count": 36,
   "metadata": {
    "collapsed": true
   },
   "outputs": [],
   "source": [
    "df_logs.to_csv('randomBidding_Result.csv')"
   ]
  },
  {
   "cell_type": "markdown",
   "metadata": {},
   "source": [
    "# Predict"
   ]
  },
  {
   "cell_type": "markdown",
   "metadata": {},
   "source": [
    "# Evaluation"
   ]
  },
  {
   "cell_type": "markdown",
   "metadata": {},
   "source": [
    "# Functions"
   ]
  },
  {
   "cell_type": "code",
   "execution_count": null,
   "metadata": {
    "collapsed": true
   },
   "outputs": [],
   "source": [
    "def evaluate(bids, data_set, budget):\n",
    "    '''\n",
    "    bids = dictionary (key=bidid, value=bidprice)\n",
    "    data_set = path to csv\n",
    "    budget = spending is capped at this value\n",
    "    '''\n",
    "    print('Evaluating bidding strategy:')\n",
    "    df = data_set\n",
    "    spent, impressions, clicks = 0, 0, 0\n",
    "\n",
    "    n = len(df)\n",
    "\n",
    "    payPriceErrors = 0\n",
    "\n",
    "    for i in range(0, n):\n",
    "        \n",
    "        progress(i+1, n)\n",
    "        \n",
    "        bidid = df.bidid.values[i]\n",
    "        actualBidPrice = df.bidprice.values[i]\n",
    "        payPrice = df.payprice.values[i]\n",
    "        clicked = df.click.values[i]\n",
    "        biddedPrice = bids[bidid] # prediction\n",
    "        \n",
    "        if payPrice > actualBidPrice:\n",
    "            payPriceErrors += 1\n",
    "        #if spent+biddedPrice <= budget and payPrice < actualBidPrice:  # ensure pay price is less than bid price to remove garbage results\n",
    "        elif spent+payPrice <= budget:\n",
    "            if biddedPrice >= actualBidPrice:\n",
    "                #print('update')\n",
    "                spent += payPrice\n",
    "                impressions += 1\n",
    "                clicks += clicked\n",
    "\n",
    "    print(str(payPriceErrors)+' rows ignored because payprice > bidprice')\n",
    "\n",
    "    if impressions > 0:\n",
    "        ctr = clicks / impressions\n",
    "    else:\n",
    "        ctr = 0\n",
    "\n",
    "    if clicks > 0:\n",
    "        cpc = spent / clicks\n",
    "    else:\n",
    "        cpc = 0\n",
    "\n",
    "    print('{:<12}\\t{:<12}\\t{:<12}\\t{:<12}\\t{:<12}'.format('spent', 'impressions', 'clicks', 'ctr', 'cpc'))\n",
    "    print('{:<12}\\t{:<12}\\t{:<12}\\t{:.10f}\\t{:.10f}'.format(spent, impressions, clicks, ctr, cpc))\n",
    "    return spent, impressions, clicks, ctr, cpc"
   ]
  }
 ],
 "metadata": {
  "kernelspec": {
   "display_name": "Python 3",
   "language": "python",
   "name": "python3"
  },
  "language_info": {
   "codemirror_mode": {
    "name": "ipython",
    "version": 3
   },
   "file_extension": ".py",
   "mimetype": "text/x-python",
   "name": "python",
   "nbconvert_exporter": "python",
   "pygments_lexer": "ipython3",
   "version": "3.6.3"
  }
 },
 "nbformat": 4,
 "nbformat_minor": 2
}
