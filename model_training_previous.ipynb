{
 "cells": [
  {
   "cell_type": "code",
   "execution_count": 12,
   "metadata": {
    "collapsed": true
   },
   "outputs": [],
   "source": [
    "import numpy as np\n",
    "import pandas as pd\n",
    "from sklearn.ensemble import RandomForestClassifier\n",
    "from sklearn import preprocessing\n",
    "from sklearn import metrics\n",
    "from pyfm import pylibfm\n",
    "\n",
    "pd.options.mode.chained_assignment = None"
   ]
  },
  {
   "cell_type": "code",
   "execution_count": 2,
   "metadata": {
    "collapsed": true
   },
   "outputs": [],
   "source": [
    "df_train = pd.read_csv('/Users/liuce/Downloads/we_data/train.csv')\n",
    "df_validation = pd.read_csv('/Users/liuce/Downloads/we_data/validation.csv')\n",
    "df_test = pd.read_csv('/Users/liuce/Downloads/we_data/test.csv')"
   ]
  },
  {
   "cell_type": "code",
   "execution_count": 3,
   "metadata": {},
   "outputs": [
    {
     "data": {
      "text/plain": [
       "(2430981, 25)"
      ]
     },
     "execution_count": 3,
     "metadata": {},
     "output_type": "execute_result"
    }
   ],
   "source": [
    "df_train.shape"
   ]
  },
  {
   "cell_type": "code",
   "execution_count": 4,
   "metadata": {},
   "outputs": [
    {
     "data": {
      "text/plain": [
       "(303925, 25)"
      ]
     },
     "execution_count": 4,
     "metadata": {},
     "output_type": "execute_result"
    }
   ],
   "source": [
    "df_validation.shape"
   ]
  },
  {
   "cell_type": "code",
   "execution_count": 5,
   "metadata": {},
   "outputs": [
    {
     "data": {
      "text/plain": [
       "(303375, 22)"
      ]
     },
     "execution_count": 5,
     "metadata": {},
     "output_type": "execute_result"
    }
   ],
   "source": [
    "df_test.shape"
   ]
  },
  {
   "cell_type": "markdown",
   "metadata": {},
   "source": [
    "# Downsampling"
   ]
  },
  {
   "cell_type": "code",
   "execution_count": 6,
   "metadata": {
    "collapsed": true
   },
   "outputs": [],
   "source": [
    "df_train_0 = df_train[df_train['click'] == 0]\n",
    "df_train_1 = df_train[df_train['click'] == 1]"
   ]
  },
  {
   "cell_type": "code",
   "execution_count": 7,
   "metadata": {
    "collapsed": true
   },
   "outputs": [],
   "source": [
    "df_train_0 = df_train_0.sample(frac=0.0075, random_state=42)"
   ]
  },
  {
   "cell_type": "code",
   "execution_count": 8,
   "metadata": {
    "collapsed": true
   },
   "outputs": [],
   "source": [
    "df_train = pd.concat([df_train_1, df_train_0])"
   ]
  },
  {
   "cell_type": "markdown",
   "metadata": {},
   "source": [
    "# Feature selection"
   ]
  },
  {
   "cell_type": "code",
   "execution_count": 9,
   "metadata": {},
   "outputs": [
    {
     "data": {
      "text/plain": [
       "Index(['click', 'weekday', 'hour', 'bidid', 'userid', 'useragent', 'IP',\n",
       "       'region', 'city', 'adexchange', 'domain', 'url', 'urlid', 'slotid',\n",
       "       'slotwidth', 'slotheight', 'slotvisibility', 'slotformat', 'slotprice',\n",
       "       'creative', 'bidprice', 'payprice', 'keypage', 'advertiser', 'usertag'],\n",
       "      dtype='object')"
      ]
     },
     "execution_count": 9,
     "metadata": {},
     "output_type": "execute_result"
    }
   ],
   "source": [
    "df_train.columns"
   ]
  },
  {
   "cell_type": "code",
   "execution_count": 24,
   "metadata": {},
   "outputs": [
    {
     "data": {
      "text/plain": [
       "25"
      ]
     },
     "execution_count": 24,
     "metadata": {},
     "output_type": "execute_result"
    }
   ],
   "source": [
    "header_train = [u'click', u'weekday', u'hour', u'bidid', u'userid', u'useragent',\n",
    "       u'IP', u'region', u'city', u'adexchange', u'domain', u'url', u'urlid',\n",
    "       u'slotid', u'slotwidth', u'slotheight', u'slotvisibility', u'slotformat',\n",
    "       u'slotprice', u'creative', u'bidprice', u'payprice', u'keypage',\n",
    "       u'advertiser', u'usertag']\n",
    "X_header = [u'click', u'weekday', u'hour', u'bidid', u'userid', u'useragent',\n",
    "       u'IP', u'region', u'city', u'adexchange', u'domain', u'url', u'urlid',\n",
    "       u'slotid', u'slotwidth', u'slotheight', u'slotvisibility', u'slotformat',\n",
    "       u'slotprice', u'creative', u'bidprice', u'payprice', u'keypage',\n",
    "       u'advertiser', u'usertag'] # len = 25\n",
    "\n",
    "len(X_header)"
   ]
  },
  {
   "cell_type": "code",
   "execution_count": 11,
   "metadata": {},
   "outputs": [
    {
     "data": {
      "text/html": [
       "<div>\n",
       "<style>\n",
       "    .dataframe thead tr:only-child th {\n",
       "        text-align: right;\n",
       "    }\n",
       "\n",
       "    .dataframe thead th {\n",
       "        text-align: left;\n",
       "    }\n",
       "\n",
       "    .dataframe tbody tr th {\n",
       "        vertical-align: top;\n",
       "    }\n",
       "</style>\n",
       "<table border=\"1\" class=\"dataframe\">\n",
       "  <thead>\n",
       "    <tr style=\"text-align: right;\">\n",
       "      <th></th>\n",
       "      <th>click</th>\n",
       "      <th>weekday</th>\n",
       "      <th>hour</th>\n",
       "      <th>bidid</th>\n",
       "      <th>userid</th>\n",
       "      <th>useragent</th>\n",
       "      <th>IP</th>\n",
       "      <th>region</th>\n",
       "      <th>city</th>\n",
       "      <th>adexchange</th>\n",
       "      <th>...</th>\n",
       "      <th>slotheight</th>\n",
       "      <th>slotvisibility</th>\n",
       "      <th>slotformat</th>\n",
       "      <th>slotprice</th>\n",
       "      <th>creative</th>\n",
       "      <th>bidprice</th>\n",
       "      <th>payprice</th>\n",
       "      <th>keypage</th>\n",
       "      <th>advertiser</th>\n",
       "      <th>usertag</th>\n",
       "    </tr>\n",
       "  </thead>\n",
       "  <tbody>\n",
       "    <tr>\n",
       "      <th>1104</th>\n",
       "      <td>1</td>\n",
       "      <td>1</td>\n",
       "      <td>19</td>\n",
       "      <td>f9178e5b1b562648a5f63d36e423b0f26cec812d</td>\n",
       "      <td>ca22bf856b6c720994a95302f5ce71e0d6d5d416</td>\n",
       "      <td>windows_ie</td>\n",
       "      <td>114.93.5.*</td>\n",
       "      <td>79</td>\n",
       "      <td>79</td>\n",
       "      <td>3</td>\n",
       "      <td>...</td>\n",
       "      <td>90</td>\n",
       "      <td>0</td>\n",
       "      <td>0</td>\n",
       "      <td>80</td>\n",
       "      <td>86c2543527c86a893d4d4f68810a0416</td>\n",
       "      <td>300</td>\n",
       "      <td>80</td>\n",
       "      <td>43f4a37f42a7c5e6219e2601b26c6976</td>\n",
       "      <td>3386</td>\n",
       "      <td>10006,10063</td>\n",
       "    </tr>\n",
       "    <tr>\n",
       "      <th>4949</th>\n",
       "      <td>1</td>\n",
       "      <td>2</td>\n",
       "      <td>22</td>\n",
       "      <td>42c7568c0c07baa53e2ed2548d80fde568b1a4c1</td>\n",
       "      <td>9ed92c2038dfbaaf3ec37a48155e8712777cb21d</td>\n",
       "      <td>windows_ie</td>\n",
       "      <td>116.5.161.*</td>\n",
       "      <td>216</td>\n",
       "      <td>228</td>\n",
       "      <td>1</td>\n",
       "      <td>...</td>\n",
       "      <td>280</td>\n",
       "      <td>0</td>\n",
       "      <td>1</td>\n",
       "      <td>0</td>\n",
       "      <td>77819d3e0b3467fe5c7b16d68ad923a1</td>\n",
       "      <td>300</td>\n",
       "      <td>65</td>\n",
       "      <td>bebefa5efe83beee17a3d245e7c5085b</td>\n",
       "      <td>1458</td>\n",
       "      <td>11278,10111</td>\n",
       "    </tr>\n",
       "    <tr>\n",
       "      <th>8878</th>\n",
       "      <td>1</td>\n",
       "      <td>5</td>\n",
       "      <td>0</td>\n",
       "      <td>a305108883429eb515cc1246bb91a1e64a537476</td>\n",
       "      <td>efbec188a3a7684e898747dd6cbe1194c7d89319</td>\n",
       "      <td>android_safari</td>\n",
       "      <td>117.136.24.*</td>\n",
       "      <td>201</td>\n",
       "      <td>202</td>\n",
       "      <td>1</td>\n",
       "      <td>...</td>\n",
       "      <td>250</td>\n",
       "      <td>1</td>\n",
       "      <td>5</td>\n",
       "      <td>0</td>\n",
       "      <td>44966cc8da1ed40c95d59e863c8c75f0</td>\n",
       "      <td>300</td>\n",
       "      <td>101</td>\n",
       "      <td>361e128affece850342293213691a043</td>\n",
       "      <td>3386</td>\n",
       "      <td>13866</td>\n",
       "    </tr>\n",
       "    <tr>\n",
       "      <th>9790</th>\n",
       "      <td>1</td>\n",
       "      <td>2</td>\n",
       "      <td>19</td>\n",
       "      <td>c22254a0bad8028de4a6cdf51f502f6cf109c610</td>\n",
       "      <td>875ee65d08205ed37fd33b12de85cc86f1ae2aae</td>\n",
       "      <td>android_safari</td>\n",
       "      <td>119.22.194.*</td>\n",
       "      <td>3</td>\n",
       "      <td>4</td>\n",
       "      <td>null</td>\n",
       "      <td>...</td>\n",
       "      <td>50</td>\n",
       "      <td>FirstView</td>\n",
       "      <td>Na</td>\n",
       "      <td>160</td>\n",
       "      <td>11908</td>\n",
       "      <td>277</td>\n",
       "      <td>160</td>\n",
       "      <td>null</td>\n",
       "      <td>2997</td>\n",
       "      <td>null</td>\n",
       "    </tr>\n",
       "    <tr>\n",
       "      <th>10000</th>\n",
       "      <td>1</td>\n",
       "      <td>2</td>\n",
       "      <td>17</td>\n",
       "      <td>e42e60785c6f03678e8bdc7f5b5e3c054b902ae5</td>\n",
       "      <td>4cadd1388b905c04c641106ee3568358b655d92b</td>\n",
       "      <td>windows_chrome</td>\n",
       "      <td>14.134.245.*</td>\n",
       "      <td>368</td>\n",
       "      <td>373</td>\n",
       "      <td>1</td>\n",
       "      <td>...</td>\n",
       "      <td>250</td>\n",
       "      <td>1</td>\n",
       "      <td>1</td>\n",
       "      <td>0</td>\n",
       "      <td>44966cc8da1ed40c95d59e863c8c75f0</td>\n",
       "      <td>300</td>\n",
       "      <td>108</td>\n",
       "      <td>361e128affece850342293213691a043</td>\n",
       "      <td>3386</td>\n",
       "      <td>10063,10110</td>\n",
       "    </tr>\n",
       "  </tbody>\n",
       "</table>\n",
       "<p>5 rows × 25 columns</p>\n",
       "</div>"
      ],
      "text/plain": [
       "       click  weekday  hour                                     bidid  \\\n",
       "1104       1        1    19  f9178e5b1b562648a5f63d36e423b0f26cec812d   \n",
       "4949       1        2    22  42c7568c0c07baa53e2ed2548d80fde568b1a4c1   \n",
       "8878       1        5     0  a305108883429eb515cc1246bb91a1e64a537476   \n",
       "9790       1        2    19  c22254a0bad8028de4a6cdf51f502f6cf109c610   \n",
       "10000      1        2    17  e42e60785c6f03678e8bdc7f5b5e3c054b902ae5   \n",
       "\n",
       "                                         userid       useragent            IP  \\\n",
       "1104   ca22bf856b6c720994a95302f5ce71e0d6d5d416      windows_ie    114.93.5.*   \n",
       "4949   9ed92c2038dfbaaf3ec37a48155e8712777cb21d      windows_ie   116.5.161.*   \n",
       "8878   efbec188a3a7684e898747dd6cbe1194c7d89319  android_safari  117.136.24.*   \n",
       "9790   875ee65d08205ed37fd33b12de85cc86f1ae2aae  android_safari  119.22.194.*   \n",
       "10000  4cadd1388b905c04c641106ee3568358b655d92b  windows_chrome  14.134.245.*   \n",
       "\n",
       "       region  city adexchange     ...      slotheight slotvisibility  \\\n",
       "1104       79    79          3     ...              90              0   \n",
       "4949      216   228          1     ...             280              0   \n",
       "8878      201   202          1     ...             250              1   \n",
       "9790        3     4       null     ...              50      FirstView   \n",
       "10000     368   373          1     ...             250              1   \n",
       "\n",
       "      slotformat slotprice                          creative  bidprice  \\\n",
       "1104           0        80  86c2543527c86a893d4d4f68810a0416       300   \n",
       "4949           1         0  77819d3e0b3467fe5c7b16d68ad923a1       300   \n",
       "8878           5         0  44966cc8da1ed40c95d59e863c8c75f0       300   \n",
       "9790          Na       160                             11908       277   \n",
       "10000          1         0  44966cc8da1ed40c95d59e863c8c75f0       300   \n",
       "\n",
       "      payprice                           keypage  advertiser      usertag  \n",
       "1104        80  43f4a37f42a7c5e6219e2601b26c6976        3386  10006,10063  \n",
       "4949        65  bebefa5efe83beee17a3d245e7c5085b        1458  11278,10111  \n",
       "8878       101  361e128affece850342293213691a043        3386        13866  \n",
       "9790       160                              null        2997         null  \n",
       "10000      108  361e128affece850342293213691a043        3386  10063,10110  \n",
       "\n",
       "[5 rows x 25 columns]"
      ]
     },
     "execution_count": 11,
     "metadata": {},
     "output_type": "execute_result"
    }
   ],
   "source": [
    "df_train.columns = header_train\n",
    "df_train[:5]"
   ]
  },
  {
   "cell_type": "code",
   "execution_count": 12,
   "metadata": {},
   "outputs": [
    {
     "data": {
      "text/plain": [
       "array([1, 1, 19, 'f9178e5b1b562648a5f63d36e423b0f26cec812d',\n",
       "       'ca22bf856b6c720994a95302f5ce71e0d6d5d416', 'windows_ie',\n",
       "       '114.93.5.*', 79, 79, '3', '5F1RQS9rg5scFsf',\n",
       "       'e2091196f0cdfe71fd757557004887e9', 'null', 'News_F_Width1', 1000,\n",
       "       90, '0', '0', 80, '86c2543527c86a893d4d4f68810a0416', 300, 80,\n",
       "       '43f4a37f42a7c5e6219e2601b26c6976', 3386, '10006,10063'], dtype=object)"
      ]
     },
     "execution_count": 12,
     "metadata": {},
     "output_type": "execute_result"
    }
   ],
   "source": [
    "X = np.array(df_train[X_header]) #变成矩阵\n",
    "X[0]"
   ]
  },
  {
   "cell_type": "markdown",
   "metadata": {},
   "source": [
    "## 首先，处理useragent和usertags"
   ]
  },
  {
   "cell_type": "markdown",
   "metadata": {},
   "source": [
    "## 然后写文件（test的几列在前面）"
   ]
  },
  {
   "cell_type": "code",
   "execution_count": 13,
   "metadata": {
    "collapsed": true
   },
   "outputs": [],
   "source": [
    "D = 50000\n",
    "\n",
    "def process_row(line, header):\n",
    "    rst = []\n",
    "    non_use_keys = set(['click', 'bidid', 'bidprice', 'payprice'])\n",
    "    for key,value in zip(header, line):\n",
    "        value = str(value)\n",
    "        key = str(key)\n",
    "        if value == '' or key in non_use_keys:\n",
    "            continue\n",
    "#         elif key == 'timestamp':\n",
    "#             rst += ['time_day_'+value[6:8]]\n",
    "        elif key == 'useragent':\n",
    "            value = value.split('_')\n",
    "            rst += ['useragent_os_'+value[0]]\n",
    "            rst += ['useragent_browser_'+value[1]]\n",
    "        elif key == 'usertag':\n",
    "            for sub_value in value.split(','):\n",
    "                rst += ['usertags_'+str(sub_value)]\n",
    "        else:\n",
    "            rst += [key+'_'+value]\n",
    "    return [abs(hash(v)) % D for v in rst]"
   ]
  },
  {
   "cell_type": "code",
   "execution_count": 14,
   "metadata": {
    "collapsed": true
   },
   "outputs": [],
   "source": [
    "X = [process_row(x, X_header) for x in X]"
   ]
  },
  {
   "cell_type": "code",
   "execution_count": 15,
   "metadata": {
    "collapsed": true
   },
   "outputs": [],
   "source": [
    "Y = np.array(df_train[['bidid', 'click', 'payprice', 'bidprice']])"
   ]
  },
  {
   "cell_type": "code",
   "execution_count": 16,
   "metadata": {
    "collapsed": true
   },
   "outputs": [],
   "source": [
    "with open('train.xyz.csv','w') as f:\n",
    "    for y, x in zip(Y, X):\n",
    "        line = ','.join(map(str, y)) + ',' + ','.join(map(str, x)) + '\\n'\n",
    "        f.write(line)"
   ]
  },
  {
   "cell_type": "code",
   "execution_count": 17,
   "metadata": {
    "collapsed": true
   },
   "outputs": [],
   "source": [
    "# for validation data\n",
    "\n",
    "X_val = np.array(df_validation[X_header])\n",
    "df_validation.columns = header_train\n",
    "X_val = np.array(df_validation[X_header])\n",
    "X_val = [process_row(x, X_header) for x in X_val]\n",
    "\n",
    "Y_val = np.array(df_validation[['bidid', 'click', 'payprice', 'bidprice']])"
   ]
  },
  {
   "cell_type": "code",
   "execution_count": 18,
   "metadata": {
    "collapsed": true
   },
   "outputs": [],
   "source": [
    "with open('validation.xyz.csv','w') as f:\n",
    "    for y, x in zip(Y_val, X_val):\n",
    "        line = ','.join(map(str, y)) + ',' + ','.join(map(str, x)) + '\\n'\n",
    "        f.write(line)"
   ]
  },
  {
   "cell_type": "code",
   "execution_count": 19,
   "metadata": {
    "collapsed": true
   },
   "outputs": [],
   "source": [
    "# for test data\n",
    "header_test = [u'weekday', u'hour', u'bidid',\n",
    "       u'userid', u'useragent', u'IP', u'region', u'city', u'adexchange',\n",
    "       u'domain', u'url', u'urlid', u'slotid', u'slotwidth', u'slotheight',\n",
    "       u'slotvisibility', u'slotformat', u'slotprice', u'creative',\n",
    "        u'keypage', u'advertiser', u'usertag']\n",
    "X_header = [u'weekday', u'hour', u'bidid',\n",
    "       u'userid', u'useragent', u'IP', u'region', u'city', u'adexchange',\n",
    "       u'domain', u'url', u'urlid', u'slotid', u'slotwidth', u'slotheight',\n",
    "       u'slotvisibility', u'slotformat', u'slotprice', u'creative',\n",
    "     u'keypage', u'advertiser', u'usertag']\n",
    "\n",
    "df_test.columns = header_test\n",
    "X_test = np.array(df_test[X_header])\n",
    "Y_test = np.array(df_test[['bidid']])\n",
    "X_test = [process_row(x, X_header) for x in X_test]"
   ]
  },
  {
   "cell_type": "code",
   "execution_count": 20,
   "metadata": {
    "collapsed": true
   },
   "outputs": [],
   "source": [
    "with open('test.xyz.csv','w') as f:\n",
    "    for y, x in zip(Y_test, X_test):\n",
    "        line = ','.join(map(str, y)) + ',' + ','.join(map(str, x)) + '\\n'\n",
    "        f.write(line)"
   ]
  },
  {
   "cell_type": "code",
   "execution_count": 21,
   "metadata": {},
   "outputs": [
    {
     "data": {
      "text/plain": [
       "23"
      ]
     },
     "execution_count": 21,
     "metadata": {},
     "output_type": "execute_result"
    }
   ],
   "source": [
    "len(X[0])"
   ]
  },
  {
   "cell_type": "code",
   "execution_count": 22,
   "metadata": {},
   "outputs": [
    {
     "data": {
      "text/plain": [
       "23"
      ]
     },
     "execution_count": 22,
     "metadata": {},
     "output_type": "execute_result"
    }
   ],
   "source": [
    "len(X_val[0])"
   ]
  },
  {
   "cell_type": "code",
   "execution_count": 23,
   "metadata": {},
   "outputs": [
    {
     "data": {
      "text/plain": [
       "30"
      ]
     },
     "execution_count": 23,
     "metadata": {},
     "output_type": "execute_result"
    }
   ],
   "source": [
    "len(X_test[0])"
   ]
  },
  {
   "cell_type": "markdown",
   "metadata": {},
   "source": [
    "## 然后读文件（以后读文件就可以这样）"
   ]
  },
  {
   "cell_type": "markdown",
   "metadata": {},
   "source": [
    "### 读出矩阵"
   ]
  },
  {
   "cell_type": "code",
   "execution_count": 1,
   "metadata": {
    "collapsed": true
   },
   "outputs": [],
   "source": [
    "X = []\n",
    "Y = []\n",
    "with open('train.xyz.csv','r') as f:\n",
    "    for row in f.readlines():\n",
    "        r = row.strip().split(',')\n",
    "        Y.append(r[0:4])\n",
    "        X.append(list(map(int,r[4:])))\n",
    "               \n",
    "X_val = []\n",
    "Y_val = []\n",
    "with open('validation.xyz.csv','r') as f:\n",
    "    for row in f.readlines():\n",
    "        r = row.strip().split(',')\n",
    "        Y_val.append(r[0:4])\n",
    "        X_val.append(list(map(int,r[4:])))\n",
    "        \n",
    "X_test = []\n",
    "Y_test = []\n",
    "with open('test.xyz.csv','r') as f:\n",
    "    for row in f.readlines():\n",
    "        r = row.strip().split(',')\n",
    "        Y_test.append(r[0:1])\n",
    "        X_test.append(list(map(int,r[1:])))"
   ]
  },
  {
   "cell_type": "code",
   "execution_count": 2,
   "metadata": {},
   "outputs": [
    {
     "data": {
      "text/plain": [
       "30"
      ]
     },
     "execution_count": 2,
     "metadata": {},
     "output_type": "execute_result"
    }
   ],
   "source": [
    "len(X_test[0])"
   ]
  },
  {
   "cell_type": "markdown",
   "metadata": {},
   "source": [
    "### 抽象成稀疏矩阵。Transforms lists of feature-value mappings to vectors."
   ]
  },
  {
   "cell_type": "code",
   "execution_count": 31,
   "metadata": {
    "collapsed": true
   },
   "outputs": [],
   "source": [
    "X = np.array([np.array(x, dtype=np.int32) for x in X])\n",
    "X_val = np.array([np.array(x, dtype=np.int32) for x in X_val])\n",
    "X_test = np.array([np.array(x, dtype=np.int32) for x in X_test])\n",
    "Y = np.array(Y)\n",
    "shuffle = np.random.permutation(len(Y))\n",
    "X = X[shuffle]\n",
    "Y = Y[shuffle]\n",
    "\n",
    "from sklearn.feature_extraction import DictVectorizer\n",
    "train = [{str(xx):1 for xx in x} for x in X]\n",
    "val = [{str(xx):1 for xx in x} for x in X_val]\n",
    "test = [{str(xx):1 for xx in x} for x in X_test]\n",
    "v = DictVectorizer()\n",
    "\n",
    "# Learn a list of feature name -> indices mappings and transform X.\n",
    "X_FM = v.fit_transform(train)\n",
    "X_val_FM = v.transform(val)\n",
    "X_test_FM = v.fit_transform(test)\n",
    "\n",
    "\n"
   ]
  },
  {
   "cell_type": "code",
   "execution_count": 32,
   "metadata": {},
   "outputs": [
    {
     "data": {
      "text/plain": [
       "<1x34261 sparse matrix of type '<class 'numpy.float64'>'\n",
       "\twith 25 stored elements in Compressed Sparse Row format>"
      ]
     },
     "execution_count": 32,
     "metadata": {},
     "output_type": "execute_result"
    }
   ],
   "source": [
    "X_FM[0] # 变成了sparse matrix"
   ]
  },
  {
   "cell_type": "code",
   "execution_count": 34,
   "metadata": {},
   "outputs": [
    {
     "data": {
      "text/plain": [
       "<303925x34261 sparse matrix of type '<class 'numpy.float64'>'\n",
       "\twith 7559366 stored elements in Compressed Sparse Row format>"
      ]
     },
     "execution_count": 34,
     "metadata": {},
     "output_type": "execute_result"
    }
   ],
   "source": [
    "X_val_FM"
   ]
  },
  {
   "cell_type": "code",
   "execution_count": 35,
   "metadata": {},
   "outputs": [
    {
     "data": {
      "text/plain": [
       "<303375x49999 sparse matrix of type '<class 'numpy.float64'>'\n",
       "\twith 7799276 stored elements in Compressed Sparse Row format>"
      ]
     },
     "execution_count": 35,
     "metadata": {},
     "output_type": "execute_result"
    }
   ],
   "source": [
    "X_test_FM"
   ]
  },
  {
   "cell_type": "code",
   "execution_count": 38,
   "metadata": {
    "collapsed": true
   },
   "outputs": [],
   "source": [
    "import pickle\n",
    "pickle.dump(X_FM, open(\"x_fm.pickle.dat\", \"wb\"))\n",
    "pickle.dump(X_val_FM, open(\"x_val_fm.pickle.dat\", \"wb\"))\n",
    "pickle.dump(X_test_FM, open(\"x_test_fm.pickle.dat\", \"wb\"))"
   ]
  },
  {
   "cell_type": "code",
   "execution_count": 2,
   "metadata": {
    "collapsed": true
   },
   "outputs": [],
   "source": [
    "import pickle\n",
    "X_FM = pickle.load(open(\"x_fm.pickle.dat\", \"rb\"))\n",
    "X_val_FM = pickle.load(open(\"x_val_fm.pickle.dat\", \"rb\"))\n",
    "X_test_FM = pickle.load(open(\"x_test_fm.pickle.dat\", \"rb\"))"
   ]
  },
  {
   "cell_type": "code",
   "execution_count": 4,
   "metadata": {},
   "outputs": [
    {
     "data": {
      "text/plain": [
       "<1x34261 sparse matrix of type '<class 'numpy.float64'>'\n",
       "\twith 25 stored elements in Compressed Sparse Row format>"
      ]
     },
     "execution_count": 4,
     "metadata": {},
     "output_type": "execute_result"
    }
   ],
   "source": [
    "X_FM[0]"
   ]
  },
  {
   "cell_type": "code",
   "execution_count": 14,
   "metadata": {
    "collapsed": true
   },
   "outputs": [],
   "source": [
    "Y = np.array(Y)\n",
    "Y_val = np.array(Y_val)\n",
    "target = np.array(Y[:,1], dtype=np.int32)\n",
    "target_val = np.array(Y_val[:,1], dtype=np.int32)"
   ]
  },
  {
   "cell_type": "markdown",
   "metadata": {},
   "source": [
    "# 要用到的函数"
   ]
  },
  {
   "cell_type": "code",
   "execution_count": 6,
   "metadata": {
    "collapsed": true
   },
   "outputs": [],
   "source": [
    "# Caculate the calibrated CTR\n",
    "# p：predictedClicks （array）\n",
    "# w：avgCTR = 0.0075\n",
    "\n",
    "def Cali_CTR(p, w):\n",
    "\n",
    "    cali_ctr = p/(p+(1-p)/w)\n",
    "\n",
    "    return cali_ctr"
   ]
  },
  {
   "cell_type": "code",
   "execution_count": 7,
   "metadata": {
    "collapsed": true
   },
   "outputs": [],
   "source": [
    "# Caculate the root mean square error\n",
    "def rmse(predictions, targets):\n",
    "\n",
    "    differences = predictions - targets                       #the DIFFERENCEs.\n",
    "\n",
    "    differences_squared = differences ** 2                    #the SQUAREs of ^\n",
    "\n",
    "    mean_of_differences_squared = differences_squared.mean()  #the MEAN of ^\n",
    "\n",
    "    rmse_val = np.sqrt(mean_of_differences_squared)           #ROOT of ^\n",
    "\n",
    "    return rmse_val     #get the ^"
   ]
  },
  {
   "cell_type": "markdown",
   "metadata": {},
   "source": [
    "#  Random Forest 85%"
   ]
  },
  {
   "cell_type": "markdown",
   "metadata": {},
   "source": [
    "### 训练"
   ]
  },
  {
   "cell_type": "code",
   "execution_count": 29,
   "metadata": {},
   "outputs": [
    {
     "data": {
      "text/plain": [
       "RandomForestClassifier(bootstrap=True, class_weight=None, criterion='gini',\n",
       "            max_depth=None, max_features='auto', max_leaf_nodes=None,\n",
       "            min_impurity_decrease=0.0, min_impurity_split=None,\n",
       "            min_samples_leaf=1, min_samples_split=2,\n",
       "            min_weight_fraction_leaf=0.0, n_estimators=1000, n_jobs=1,\n",
       "            oob_score=False, random_state=None, verbose=0,\n",
       "            warm_start=False)"
      ]
     },
     "execution_count": 29,
     "metadata": {},
     "output_type": "execute_result"
    }
   ],
   "source": [
    "# Initialize the Random Forest model\n",
    "rf_model = RandomForestClassifier(n_estimators=1000)\n",
    "# Train the RF\n",
    "rf_model.fit(X_FM, target)"
   ]
  },
  {
   "cell_type": "markdown",
   "metadata": {},
   "source": [
    "### 加载model"
   ]
  },
  {
   "cell_type": "code",
   "execution_count": null,
   "metadata": {
    "collapsed": true
   },
   "outputs": [],
   "source": [
    "import pickle\n",
    "rm_model = pickle.load(open(\"rf_model_34261.pickle.dat\"), \"rb\")"
   ]
  },
  {
   "cell_type": "markdown",
   "metadata": {},
   "source": [
    "### 预测"
   ]
  },
  {
   "cell_type": "code",
   "execution_count": 31,
   "metadata": {
    "collapsed": true
   },
   "outputs": [],
   "source": [
    "predict_rf_y = rf_model.predict_proba(X_val_FM)\n",
    "Cali_rf = Cali_CTR(predict_rf_y, 0.0075)[:,1]"
   ]
  },
  {
   "cell_type": "code",
   "execution_count": 39,
   "metadata": {},
   "outputs": [
    {
     "data": {
      "text/plain": [
       "array([ 0.007,  0.008,  0.168, ...,  0.006,  0.091,  0.052])"
      ]
     },
     "execution_count": 39,
     "metadata": {},
     "output_type": "execute_result"
    }
   ],
   "source": [
    "predict_rf_y[:,1]"
   ]
  },
  {
   "cell_type": "code",
   "execution_count": 42,
   "metadata": {},
   "outputs": [
    {
     "data": {
      "text/plain": [
       "array([  5.28672955e-05,   6.04802129e-05,   1.51213307e-03, ...,\n",
       "         4.52695804e-05,   7.50261767e-04,   4.11223231e-04])"
      ]
     },
     "execution_count": 42,
     "metadata": {},
     "output_type": "execute_result"
    }
   ],
   "source": [
    "Cali_rf"
   ]
  },
  {
   "cell_type": "markdown",
   "metadata": {},
   "source": [
    "### 评估"
   ]
  },
  {
   "cell_type": "code",
   "execution_count": 43,
   "metadata": {
    "collapsed": true
   },
   "outputs": [],
   "source": [
    "fpr, tpr, thresholds = metrics.roc_curve(target_val, Cali_rf, pos_label=1)\n",
    "auc = metrics.auc(fpr, tpr)"
   ]
  },
  {
   "cell_type": "code",
   "execution_count": 41,
   "metadata": {},
   "outputs": [
    {
     "name": "stdout",
     "output_type": "stream",
     "text": [
      "auc on test:  0.523132040291\n",
      "RMSE on test dataset = 0.03\n"
     ]
    }
   ],
   "source": [
    "print('auc on test: ', auc)\n",
    "print (\"RMSE on test dataset = %.2f\" % (rmse(target_val, Cali_rf)))"
   ]
  },
  {
   "cell_type": "markdown",
   "metadata": {},
   "source": [
    "### 保存model"
   ]
  },
  {
   "cell_type": "code",
   "execution_count": 30,
   "metadata": {
    "collapsed": true
   },
   "outputs": [],
   "source": [
    "import pickle\n",
    "pickle.dump(rf_model, open(\"rf_model_34261.pickle.dat\", \"wb\"))"
   ]
  },
  {
   "cell_type": "markdown",
   "metadata": {},
   "source": [
    "# Factorization Machines 87%"
   ]
  },
  {
   "cell_type": "markdown",
   "metadata": {},
   "source": [
    "### 训练"
   ]
  },
  {
   "cell_type": "code",
   "execution_count": 39,
   "metadata": {},
   "outputs": [
    {
     "name": "stdout",
     "output_type": "stream",
     "text": [
      "Creating validation dataset of 0.01 of training for adaptive regularization\n",
      "-- Epoch 1\n",
      "Training log loss: 0.37313\n",
      "-- Epoch 2\n",
      "Training log loss: 0.29779\n",
      "-- Epoch 3\n",
      "Training log loss: 0.28948\n",
      "-- Epoch 4\n",
      "Training log loss: 0.28364\n",
      "-- Epoch 5\n",
      "Training log loss: 0.27873\n",
      "-- Epoch 6\n",
      "Training log loss: 0.27443\n",
      "-- Epoch 7\n",
      "Training log loss: 0.27056\n",
      "-- Epoch 8\n",
      "Training log loss: 0.26703\n",
      "-- Epoch 9\n",
      "Training log loss: 0.26374\n",
      "-- Epoch 10\n",
      "Training log loss: 0.26066\n",
      "-- Epoch 11\n",
      "Training log loss: 0.25778\n",
      "-- Epoch 12\n",
      "Training log loss: 0.25502\n",
      "-- Epoch 13\n",
      "Training log loss: 0.25240\n",
      "-- Epoch 14\n",
      "Training log loss: 0.24989\n",
      "-- Epoch 15\n",
      "Training log loss: 0.24749\n",
      "-- Epoch 16\n",
      "Training log loss: 0.24519\n",
      "-- Epoch 17\n",
      "Training log loss: 0.24297\n",
      "-- Epoch 18\n",
      "Training log loss: 0.24081\n",
      "-- Epoch 19\n",
      "Training log loss: 0.23877\n",
      "-- Epoch 20\n",
      "Training log loss: 0.23678\n",
      "-- Epoch 21\n",
      "Training log loss: 0.23481\n",
      "-- Epoch 22\n",
      "Training log loss: 0.23299\n",
      "-- Epoch 23\n",
      "Training log loss: 0.23118\n",
      "-- Epoch 24\n",
      "Training log loss: 0.22941\n",
      "-- Epoch 25\n",
      "Training log loss: 0.22774\n",
      "-- Epoch 26\n",
      "Training log loss: 0.22611\n",
      "-- Epoch 27\n",
      "Training log loss: 0.22450\n",
      "-- Epoch 28\n",
      "Training log loss: 0.22294\n",
      "-- Epoch 29\n",
      "Training log loss: 0.22145\n",
      "-- Epoch 30\n",
      "Training log loss: 0.21998\n",
      "-- Epoch 31\n",
      "Training log loss: 0.21859\n",
      "-- Epoch 32\n",
      "Training log loss: 0.21720\n",
      "-- Epoch 33\n",
      "Training log loss: 0.21585\n",
      "-- Epoch 34\n",
      "Training log loss: 0.21454\n",
      "-- Epoch 35\n",
      "Training log loss: 0.21323\n",
      "-- Epoch 36\n",
      "Training log loss: 0.21202\n",
      "-- Epoch 37\n",
      "Training log loss: 0.21084\n",
      "-- Epoch 38\n",
      "Training log loss: 0.20965\n",
      "-- Epoch 39\n",
      "Training log loss: 0.20848\n",
      "-- Epoch 40\n",
      "Training log loss: 0.20737\n",
      "-- Epoch 41\n",
      "Training log loss: 0.20627\n",
      "-- Epoch 42\n",
      "Training log loss: 0.20519\n",
      "-- Epoch 43\n",
      "Training log loss: 0.20409\n",
      "-- Epoch 44\n",
      "Training log loss: 0.20313\n",
      "-- Epoch 45\n",
      "Training log loss: 0.20210\n",
      "-- Epoch 46\n",
      "Training log loss: 0.20109\n",
      "-- Epoch 47\n",
      "Training log loss: 0.20015\n",
      "-- Epoch 48\n",
      "Training log loss: 0.19919\n",
      "-- Epoch 49\n",
      "Training log loss: 0.19824\n",
      "-- Epoch 50\n",
      "Training log loss: 0.19733\n",
      "-- Epoch 51\n",
      "Training log loss: 0.19644\n",
      "-- Epoch 52\n",
      "Training log loss: 0.19551\n",
      "-- Epoch 53\n",
      "Training log loss: 0.19468\n",
      "-- Epoch 54\n",
      "Training log loss: 0.19380\n",
      "-- Epoch 55\n",
      "Training log loss: 0.19298\n",
      "-- Epoch 56\n",
      "Training log loss: 0.19214\n",
      "-- Epoch 57\n",
      "Training log loss: 0.19132\n",
      "-- Epoch 58\n",
      "Training log loss: 0.19051\n",
      "-- Epoch 59\n",
      "Training log loss: 0.18972\n",
      "-- Epoch 60\n",
      "Training log loss: 0.18892\n",
      "-- Epoch 61\n",
      "Training log loss: 0.18818\n",
      "-- Epoch 62\n",
      "Training log loss: 0.18743\n",
      "-- Epoch 63\n",
      "Training log loss: 0.18665\n",
      "-- Epoch 64\n",
      "Training log loss: 0.18593\n",
      "-- Epoch 65\n",
      "Training log loss: 0.18518\n",
      "-- Epoch 66\n",
      "Training log loss: 0.18448\n",
      "-- Epoch 67\n",
      "Training log loss: 0.18375\n",
      "-- Epoch 68\n",
      "Training log loss: 0.18304\n",
      "-- Epoch 69\n",
      "Training log loss: 0.18234\n",
      "-- Epoch 70\n",
      "Training log loss: 0.18163\n",
      "-- Epoch 71\n",
      "Training log loss: 0.18095\n",
      "-- Epoch 72\n",
      "Training log loss: 0.18028\n",
      "-- Epoch 73\n",
      "Training log loss: 0.17961\n",
      "-- Epoch 74\n",
      "Training log loss: 0.17895\n",
      "-- Epoch 75\n",
      "Training log loss: 0.17828\n",
      "-- Epoch 76\n",
      "Training log loss: 0.17763\n",
      "-- Epoch 77\n",
      "Training log loss: 0.17697\n",
      "-- Epoch 78\n",
      "Training log loss: 0.17634\n",
      "-- Epoch 79\n",
      "Training log loss: 0.17567\n",
      "-- Epoch 80\n",
      "Training log loss: 0.17506\n",
      "-- Epoch 81\n",
      "Training log loss: 0.17441\n",
      "-- Epoch 82\n",
      "Training log loss: 0.17385\n",
      "-- Epoch 83\n",
      "Training log loss: 0.17323\n",
      "-- Epoch 84\n",
      "Training log loss: 0.17260\n",
      "-- Epoch 85\n",
      "Training log loss: 0.17201\n",
      "-- Epoch 86\n",
      "Training log loss: 0.17139\n",
      "-- Epoch 87\n",
      "Training log loss: 0.17081\n",
      "-- Epoch 88\n",
      "Training log loss: 0.17021\n",
      "-- Epoch 89\n",
      "Training log loss: 0.16961\n",
      "-- Epoch 90\n",
      "Training log loss: 0.16901\n",
      "-- Epoch 91\n",
      "Training log loss: 0.16848\n",
      "-- Epoch 92\n",
      "Training log loss: 0.16790\n",
      "-- Epoch 93\n",
      "Training log loss: 0.16731\n",
      "-- Epoch 94\n",
      "Training log loss: 0.16673\n",
      "-- Epoch 95\n",
      "Training log loss: 0.16618\n",
      "-- Epoch 96\n",
      "Training log loss: 0.16560\n",
      "-- Epoch 97\n",
      "Training log loss: 0.16509\n",
      "-- Epoch 98\n",
      "Training log loss: 0.16452\n",
      "-- Epoch 99\n",
      "Training log loss: 0.16397\n",
      "-- Epoch 100\n",
      "Training log loss: 0.16339\n",
      "-- Epoch 101\n",
      "Training log loss: 0.16288\n",
      "-- Epoch 102\n",
      "Training log loss: 0.16233\n",
      "-- Epoch 103\n",
      "Training log loss: 0.16181\n",
      "-- Epoch 104\n",
      "Training log loss: 0.16125\n",
      "-- Epoch 105\n",
      "Training log loss: 0.16073\n",
      "-- Epoch 106\n",
      "Training log loss: 0.16021\n",
      "-- Epoch 107\n",
      "Training log loss: 0.15968\n",
      "-- Epoch 108\n",
      "Training log loss: 0.15917\n",
      "-- Epoch 109\n",
      "Training log loss: 0.15852\n",
      "-- Epoch 110\n",
      "Training log loss: 0.15815\n",
      "-- Epoch 111\n",
      "Training log loss: 0.15762\n",
      "-- Epoch 112\n",
      "Training log loss: 0.15710\n",
      "-- Epoch 113\n",
      "Training log loss: 0.15659\n",
      "-- Epoch 114\n",
      "Training log loss: 0.15609\n",
      "-- Epoch 115\n",
      "Training log loss: 0.15556\n",
      "-- Epoch 116\n",
      "Training log loss: 0.15506\n",
      "-- Epoch 117\n",
      "Training log loss: 0.15456\n",
      "-- Epoch 118\n",
      "Training log loss: 0.15408\n",
      "-- Epoch 119\n",
      "Training log loss: 0.15358\n",
      "-- Epoch 120\n",
      "Training log loss: 0.15309\n",
      "-- Epoch 121\n",
      "Training log loss: 0.15257\n",
      "-- Epoch 122\n",
      "Training log loss: 0.15212\n",
      "-- Epoch 123\n",
      "Training log loss: 0.15162\n",
      "-- Epoch 124\n",
      "Training log loss: 0.15112\n",
      "-- Epoch 125\n",
      "Training log loss: 0.15066\n",
      "-- Epoch 126\n",
      "Training log loss: 0.15015\n",
      "-- Epoch 127\n",
      "Training log loss: 0.14970\n",
      "-- Epoch 128\n",
      "Training log loss: 0.14922\n",
      "-- Epoch 129\n",
      "Training log loss: 0.14875\n",
      "-- Epoch 130\n",
      "Training log loss: 0.14828\n",
      "-- Epoch 131\n",
      "Training log loss: 0.14780\n",
      "-- Epoch 132\n",
      "Training log loss: 0.14730\n",
      "-- Epoch 133\n",
      "Training log loss: 0.14686\n",
      "-- Epoch 134\n",
      "Training log loss: 0.14640\n",
      "-- Epoch 135\n",
      "Training log loss: 0.14595\n",
      "-- Epoch 136\n",
      "Training log loss: 0.14544\n",
      "-- Epoch 137\n",
      "Training log loss: 0.14503\n",
      "-- Epoch 138\n",
      "Training log loss: 0.14456\n",
      "-- Epoch 139\n",
      "Training log loss: 0.14407\n",
      "-- Epoch 140\n",
      "Training log loss: 0.14365\n",
      "-- Epoch 141\n",
      "Training log loss: 0.14319\n",
      "-- Epoch 142\n",
      "Training log loss: 0.14274\n",
      "-- Epoch 143\n",
      "Training log loss: 0.14228\n",
      "-- Epoch 144\n",
      "Training log loss: 0.14186\n",
      "-- Epoch 145\n",
      "Training log loss: 0.14141\n",
      "-- Epoch 146\n",
      "Training log loss: 0.14095\n",
      "-- Epoch 147\n",
      "Training log loss: 0.14052\n",
      "-- Epoch 148\n",
      "Training log loss: 0.14009\n",
      "-- Epoch 149\n",
      "Training log loss: 0.13964\n",
      "-- Epoch 150\n",
      "Training log loss: 0.13918\n",
      "-- Epoch 151\n",
      "Training log loss: 0.13876\n",
      "-- Epoch 152\n",
      "Training log loss: 0.13832\n",
      "-- Epoch 153\n",
      "Training log loss: 0.13788\n",
      "-- Epoch 154\n",
      "Training log loss: 0.13746\n",
      "-- Epoch 155\n",
      "Training log loss: 0.13702\n",
      "-- Epoch 156\n",
      "Training log loss: 0.13658\n",
      "-- Epoch 157\n",
      "Training log loss: 0.13618\n",
      "-- Epoch 158\n",
      "Training log loss: 0.13573\n",
      "-- Epoch 159\n",
      "Training log loss: 0.13530\n",
      "-- Epoch 160\n",
      "Training log loss: 0.13488\n",
      "-- Epoch 161\n",
      "Training log loss: 0.13446\n",
      "-- Epoch 162\n",
      "Training log loss: 0.13405\n",
      "-- Epoch 163\n",
      "Training log loss: 0.13362\n",
      "-- Epoch 164\n",
      "Training log loss: 0.13321\n",
      "-- Epoch 165\n",
      "Training log loss: 0.13277\n",
      "-- Epoch 166\n",
      "Training log loss: 0.13238\n",
      "-- Epoch 167\n",
      "Training log loss: 0.13192\n",
      "-- Epoch 168\n",
      "Training log loss: 0.13156\n",
      "-- Epoch 169\n",
      "Training log loss: 0.13111\n",
      "-- Epoch 170\n",
      "Training log loss: 0.13072\n",
      "-- Epoch 171\n",
      "Training log loss: 0.13030\n",
      "-- Epoch 172\n",
      "Training log loss: 0.12990\n",
      "-- Epoch 173\n",
      "Training log loss: 0.12948\n",
      "-- Epoch 174\n",
      "Training log loss: 0.12906\n",
      "-- Epoch 175\n",
      "Training log loss: 0.12867\n",
      "-- Epoch 176\n",
      "Training log loss: 0.12827\n",
      "-- Epoch 177\n",
      "Training log loss: 0.12784\n",
      "-- Epoch 178\n",
      "Training log loss: 0.12746\n",
      "-- Epoch 179\n",
      "Training log loss: 0.12708\n",
      "-- Epoch 180\n",
      "Training log loss: 0.12665\n",
      "-- Epoch 181\n",
      "Training log loss: 0.12626\n",
      "-- Epoch 182\n",
      "Training log loss: 0.12584\n",
      "-- Epoch 183\n",
      "Training log loss: 0.12545\n",
      "-- Epoch 184\n",
      "Training log loss: 0.12504\n",
      "-- Epoch 185\n",
      "Training log loss: 0.12470\n",
      "-- Epoch 186\n",
      "Training log loss: 0.12427\n",
      "-- Epoch 187\n",
      "Training log loss: 0.12388\n",
      "-- Epoch 188\n",
      "Training log loss: 0.12351\n",
      "-- Epoch 189\n",
      "Training log loss: 0.12311\n",
      "-- Epoch 190\n",
      "Training log loss: 0.12273\n",
      "-- Epoch 191\n",
      "Training log loss: 0.12234\n",
      "-- Epoch 192\n",
      "Training log loss: 0.12192\n",
      "-- Epoch 193\n",
      "Training log loss: 0.12154\n",
      "-- Epoch 194\n",
      "Training log loss: 0.12115\n",
      "-- Epoch 195\n",
      "Training log loss: 0.12079\n",
      "-- Epoch 196\n",
      "Training log loss: 0.12042\n",
      "-- Epoch 197\n",
      "Training log loss: 0.11998\n",
      "-- Epoch 198\n",
      "Training log loss: 0.11965\n",
      "-- Epoch 199\n",
      "Training log loss: 0.11927\n",
      "-- Epoch 200\n",
      "Training log loss: 0.11890\n"
     ]
    }
   ],
   "source": [
    "from pyfm import pylibfm\n",
    "\n",
    "fm = pylibfm.FM(num_factors=20, \n",
    "                num_iter=200, \n",
    "                verbose=True,  # show progress\n",
    "                task=\"classification\", \n",
    "                initial_learning_rate=0.0001, \n",
    "                learning_rate_schedule=\"optimal\")\n",
    "\n",
    "fm.fit(X_FM,target)"
   ]
  },
  {
   "cell_type": "markdown",
   "metadata": {},
   "source": [
    "### 保存"
   ]
  },
  {
   "cell_type": "code",
   "execution_count": 40,
   "metadata": {
    "collapsed": true
   },
   "outputs": [],
   "source": [
    "pickle.dump(fm, open(\"fm_model_34261.pickle.dat\", \"wb\"))"
   ]
  },
  {
   "cell_type": "markdown",
   "metadata": {},
   "source": [
    "### 加载"
   ]
  },
  {
   "cell_type": "code",
   "execution_count": 4,
   "metadata": {},
   "outputs": [
    {
     "name": "stderr",
     "output_type": "stream",
     "text": [
      "/Users/liuce/anaconda3/lib/python3.6/site-packages/sklearn/cross_validation.py:41: DeprecationWarning: This module was deprecated in version 0.18 in favor of the model_selection module into which all the refactored classes and functions are moved. Also note that the interface of the new CV iterators are different from that of this module. This module will be removed in 0.20.\n",
      "  \"This module will be removed in 0.20.\", DeprecationWarning)\n"
     ]
    }
   ],
   "source": [
    "#import pickle\n",
    "fm = pickle.load(open(\"fm_model_34261.pickle.dat\", \"rb\")) "
   ]
  },
  {
   "cell_type": "markdown",
   "metadata": {},
   "source": [
    "### 预测"
   ]
  },
  {
   "cell_type": "code",
   "execution_count": 8,
   "metadata": {
    "collapsed": true
   },
   "outputs": [],
   "source": [
    "pred_fm_val = fm.predict(X_val_FM)\n",
    "Cali_ctr_fm = Cali_CTR(pred_fm_val, 0.0075)"
   ]
  },
  {
   "cell_type": "code",
   "execution_count": 48,
   "metadata": {},
   "outputs": [
    {
     "data": {
      "text/plain": [
       "303925"
      ]
     },
     "execution_count": 48,
     "metadata": {},
     "output_type": "execute_result"
    }
   ],
   "source": [
    "len(Cali_ctr_fm)"
   ]
  },
  {
   "cell_type": "code",
   "execution_count": 16,
   "metadata": {},
   "outputs": [
    {
     "data": {
      "text/plain": [
       "0.053423185451925412"
      ]
     },
     "execution_count": 16,
     "metadata": {},
     "output_type": "execute_result"
    }
   ],
   "source": [
    "pred_fm_val.mean()"
   ]
  },
  {
   "cell_type": "code",
   "execution_count": 17,
   "metadata": {},
   "outputs": [
    {
     "data": {
      "text/plain": [
       "0.0009181865863577193"
      ]
     },
     "execution_count": 17,
     "metadata": {},
     "output_type": "execute_result"
    }
   ],
   "source": [
    "Cali_ctr_fm.mean()"
   ]
  },
  {
   "cell_type": "markdown",
   "metadata": {},
   "source": [
    "### 评估"
   ]
  },
  {
   "cell_type": "code",
   "execution_count": 15,
   "metadata": {},
   "outputs": [
    {
     "name": "stdout",
     "output_type": "stream",
     "text": [
      "auc on test:  0.869454834481\n",
      "RMSE on test dataset = 0.03\n"
     ]
    }
   ],
   "source": [
    "fpr, tpr, thresholds = metrics.roc_curve(target_val, Cali_ctr_fm, pos_label=1)\n",
    "auc = metrics.auc(fpr, tpr)\n",
    "\n",
    "print('auc on test: ', auc)\n",
    "print (\"RMSE on test dataset = %.2f\" % (rmse(target_val, Cali_ctr_fm)))"
   ]
  },
  {
   "cell_type": "code",
   "execution_count": 27,
   "metadata": {},
   "outputs": [
    {
     "name": "stdout",
     "output_type": "stream",
     "text": [
      "auc on test:  0.869454834481\n"
     ]
    }
   ],
   "source": [
    "fpr, tpr, thresholds = metrics.roc_curve(target_val, pred_fm_val, pos_label=1)\n",
    "auc = metrics.auc(fpr, tpr)\n",
    "\n",
    "print('auc on test: ', auc)\n",
    "#print (\"RMSE on test dataset = %.2f\" % (rmse(target_val, pred_fm_val)))"
   ]
  },
  {
   "cell_type": "code",
   "execution_count": 46,
   "metadata": {},
   "outputs": [
    {
     "data": {
      "text/plain": [
       "array([[ 0.01205266],\n",
       "       [ 0.02614649],\n",
       "       [ 0.01249848],\n",
       "       ..., \n",
       "       [ 0.01841522],\n",
       "       [ 0.02199825],\n",
       "       [ 0.00798219]])"
      ]
     },
     "execution_count": 46,
     "metadata": {},
     "output_type": "execute_result"
    }
   ],
   "source": [
    "pred_fm_val = pred_fm_val.reshape(len(pred_fm_val), -1)\n",
    "pred_fm_val"
   ]
  },
  {
   "cell_type": "code",
   "execution_count": 47,
   "metadata": {},
   "outputs": [
    {
     "data": {
      "text/plain": [
       "303925"
      ]
     },
     "execution_count": 47,
     "metadata": {},
     "output_type": "execute_result"
    }
   ],
   "source": [
    "len(pred_fm_val)"
   ]
  },
  {
   "cell_type": "markdown",
   "metadata": {},
   "source": [
    "### 下面几行纯属好奇"
   ]
  },
  {
   "cell_type": "code",
   "execution_count": 144,
   "metadata": {
    "collapsed": true
   },
   "outputs": [],
   "source": [
    "pred_fm_train = fm.predict(X_FM)"
   ]
  },
  {
   "cell_type": "code",
   "execution_count": 145,
   "metadata": {},
   "outputs": [
    {
     "data": {
      "text/plain": [
       "array([[ 0.03131623],\n",
       "       [ 0.00924577],\n",
       "       [ 0.00175292],\n",
       "       ..., \n",
       "       [ 0.04050119],\n",
       "       [ 0.00840081],\n",
       "       [ 0.01648946]])"
      ]
     },
     "execution_count": 145,
     "metadata": {},
     "output_type": "execute_result"
    }
   ],
   "source": [
    "pred_fm_train = pred_fm_train.reshape(len(pred_fm_train),-1)\n",
    "pred_fm_train"
   ]
  },
  {
   "cell_type": "code",
   "execution_count": 147,
   "metadata": {},
   "outputs": [
    {
     "data": {
      "text/plain": [
       "20012"
      ]
     },
     "execution_count": 147,
     "metadata": {},
     "output_type": "execute_result"
    }
   ],
   "source": [
    "len(pred_fm_train)"
   ]
  },
  {
   "cell_type": "code",
   "execution_count": 152,
   "metadata": {},
   "outputs": [
    {
     "data": {
      "text/plain": [
       "<303925x34482 sparse matrix of type '<class 'numpy.float64'>'\n",
       "\twith 7564364 stored elements in Compressed Sparse Row format>"
      ]
     },
     "execution_count": 152,
     "metadata": {},
     "output_type": "execute_result"
    }
   ],
   "source": [
    "X_val_FM"
   ]
  },
  {
   "cell_type": "markdown",
   "metadata": {},
   "source": [
    "# Neural Network 81%"
   ]
  },
  {
   "cell_type": "markdown",
   "metadata": {},
   "source": [
    "### 训练"
   ]
  },
  {
   "cell_type": "code",
   "execution_count": 43,
   "metadata": {
    "collapsed": true
   },
   "outputs": [],
   "source": [
    "from sklearn.neural_network import MLPRegressor"
   ]
  },
  {
   "cell_type": "code",
   "execution_count": 46,
   "metadata": {},
   "outputs": [
    {
     "data": {
      "text/plain": [
       "MLPRegressor(activation='logistic', alpha=0.0001, batch_size='auto',\n",
       "       beta_1=0.9, beta_2=0.999, early_stopping=False, epsilon=1e-08,\n",
       "       hidden_layer_sizes=(140, 70), learning_rate='constant',\n",
       "       learning_rate_init=0.0005, max_iter=150, momentum=0.9,\n",
       "       nesterovs_momentum=True, power_t=0.5, random_state=2017,\n",
       "       shuffle=True, solver='lbfgs', tol=0.0001, validation_fraction=0.1,\n",
       "       verbose=False, warm_start=False)"
      ]
     },
     "execution_count": 46,
     "metadata": {},
     "output_type": "execute_result"
    }
   ],
   "source": [
    "nn = MLPRegressor(hidden_layer_sizes=(140,70),\n",
    "                  activation = 'logistic',\n",
    "                  solver = 'lbfgs',\n",
    "                  max_iter = 150,\n",
    "                  learning_rate_init = 0.0005,\n",
    "                  alpha = 0.0001,\n",
    "                  random_state=2017)\n",
    "nn.fit(X_FM, target)"
   ]
  },
  {
   "cell_type": "markdown",
   "metadata": {},
   "source": [
    "### 保存"
   ]
  },
  {
   "cell_type": "code",
   "execution_count": 47,
   "metadata": {
    "collapsed": true
   },
   "outputs": [],
   "source": [
    "pickle.dump(nn, open(\"nn_model.pickle.dat\", \"wb\"))"
   ]
  },
  {
   "cell_type": "markdown",
   "metadata": {},
   "source": [
    "### 预测"
   ]
  },
  {
   "cell_type": "code",
   "execution_count": 48,
   "metadata": {
    "collapsed": true
   },
   "outputs": [],
   "source": [
    "nn_preds = np.expm1(nn.predict(X_val_FM))\n",
    "Cali_nn = Cali_CTR(nn_preds, 0.0075)"
   ]
  },
  {
   "cell_type": "markdown",
   "metadata": {},
   "source": [
    "### 评估"
   ]
  },
  {
   "cell_type": "code",
   "execution_count": 49,
   "metadata": {},
   "outputs": [
    {
     "name": "stdout",
     "output_type": "stream",
     "text": [
      "auc on test:  0.810937030527\n",
      "RMSE on test dataset = 0.13\n"
     ]
    }
   ],
   "source": [
    "fpr, tpr, thresholds = metrics.roc_curve(target_val, nn_preds, pos_label=1)\n",
    "auc = metrics.auc(fpr, tpr)\n",
    "\n",
    "print('auc on test: ', auc)\n",
    "print (\"RMSE on test dataset = %.2f\" % (rmse(target_val, Cali_nn)))"
   ]
  },
  {
   "cell_type": "markdown",
   "metadata": {},
   "source": [
    "# Adaboost 85%"
   ]
  },
  {
   "cell_type": "markdown",
   "metadata": {},
   "source": [
    "### 训练"
   ]
  },
  {
   "cell_type": "code",
   "execution_count": 52,
   "metadata": {
    "collapsed": true
   },
   "outputs": [],
   "source": [
    "from sklearn.datasets import load_iris\n",
    "from sklearn.ensemble import AdaBoostRegressor"
   ]
  },
  {
   "cell_type": "code",
   "execution_count": 51,
   "metadata": {},
   "outputs": [
    {
     "data": {
      "text/plain": [
       "AdaBoostRegressor(base_estimator=None, learning_rate=0.1, loss='square',\n",
       "         n_estimators=70, random_state=1)"
      ]
     },
     "execution_count": 51,
     "metadata": {},
     "output_type": "execute_result"
    }
   ],
   "source": [
    "iris = load_iris()\n",
    "clf1 = AdaBoostRegressor(base_estimator= None,\n",
    "                            n_estimators=70, \n",
    "                            learning_rate=0.1, \n",
    "                            loss='square', \n",
    "                            random_state=1)\n",
    "clf1.fit(X_FM,target)"
   ]
  },
  {
   "cell_type": "markdown",
   "metadata": {},
   "source": [
    "### 保存"
   ]
  },
  {
   "cell_type": "code",
   "execution_count": 53,
   "metadata": {
    "collapsed": true
   },
   "outputs": [],
   "source": [
    "pickle.dump(clf1, open(\"adaBoost_model.pickle.dat\", \"wb\"))"
   ]
  },
  {
   "cell_type": "markdown",
   "metadata": {},
   "source": [
    "### 预测"
   ]
  },
  {
   "cell_type": "code",
   "execution_count": 54,
   "metadata": {
    "collapsed": true
   },
   "outputs": [],
   "source": [
    "y_pred_ada = clf1.predict(X_val_FM)\n",
    "Cali_ada = Cali_CTR(y_pred_ada, 0.0075)"
   ]
  },
  {
   "cell_type": "markdown",
   "metadata": {},
   "source": [
    "### 评估"
   ]
  },
  {
   "cell_type": "code",
   "execution_count": 55,
   "metadata": {},
   "outputs": [
    {
     "name": "stdout",
     "output_type": "stream",
     "text": [
      "auc on test:  0.858263088732\n",
      "RMSE on test dataset = 0.03\n"
     ]
    }
   ],
   "source": [
    "fpr, tpr, thresholds = metrics.roc_curve(target_val, Cali_ada, pos_label=1)\n",
    "auc = metrics.auc(fpr, tpr)\n",
    "\n",
    "print('auc on test: ', auc)\n",
    "print (\"RMSE on test dataset = %.2f\" % (rmse(target_val, Cali_ada)))"
   ]
  },
  {
   "cell_type": "markdown",
   "metadata": {},
   "source": [
    "# Linear Bidding Strategy"
   ]
  },
  {
   "cell_type": "markdown",
   "metadata": {},
   "source": [
    "### 两个要用到的函数"
   ]
  },
  {
   "cell_type": "code",
   "execution_count": 74,
   "metadata": {
    "collapsed": true
   },
   "outputs": [],
   "source": [
    "# pBidprice: the list of predicted bidprice\n",
    "# payprice : the list of payprice in the validation set\n",
    "# clicks   : the list of clicks (0,1) in the validation set\n",
    "# budget   : in this case, 6500000\n",
    "\n",
    "def evaluation (pBidprice, payprice, clicks, budget=650000):\n",
    "    win_num = 0.\n",
    "    total_cost = 0.\n",
    "    click_num = 0.\n",
    "    for i in range(0, len(payprice)):\n",
    "        if pBidprice[i] >= payprice[i]:\n",
    "            if total_cost + payprice[i] > budget:\n",
    "                break\n",
    "            win_num = win_num + 1\n",
    "            total_cost = total_cost + payprice[i]\n",
    "            click_num += clicks[i]\n",
    "    ctr = click_num / win_num\n",
    "    cpc = total_cost / click_num\n",
    "    print('win_num {}, total_cost {}, click_num {}, ctr {}, cpc {}'.format(win_num, total_cost, click_num, ctr, cpc))\n",
    "    return win_num, total_cost, click_num, ctr, cpc"
   ]
  },
  {
   "cell_type": "code",
   "execution_count": 19,
   "metadata": {
    "collapsed": true
   },
   "outputs": [],
   "source": [
    "# ctr    : the list of predicted ctr\n",
    "# base_id: the value of the base bid price\n",
    "\n",
    "def pbidprice(ctr, base_bid):\n",
    "    pbid = []\n",
    "    for i in range(len(ctr)):\n",
    "        p = base_bid * (ctr[i]*10000/7.539)\n",
    "        pbid.append(p)\n",
    "\n",
    "    return pbid"
   ]
  },
  {
   "cell_type": "code",
   "execution_count": null,
   "metadata": {
    "collapsed": true
   },
   "outputs": [],
   "source": [
    "# 首先要选出合适的basebid"
   ]
  },
  {
   "cell_type": "code",
   "execution_count": 20,
   "metadata": {
    "collapsed": true
   },
   "outputs": [],
   "source": [
    "pred_fm_train = fm.predict(X_FM)\n",
    "Cali_ctr_fm_train = Cali_CTR(pred_fm_train, 0.0075)"
   ]
  },
  {
   "cell_type": "code",
   "execution_count": 31,
   "metadata": {
    "collapsed": true
   },
   "outputs": [],
   "source": [
    "payprice = np.array(Y[:,2], dtype=np.int32)\n",
    "clicks = np.array(Y[:,1], dtype=np.int32)\n",
    "pCTR_train = Cali_ctr_fm_train"
   ]
  },
  {
   "cell_type": "code",
   "execution_count": 23,
   "metadata": {},
   "outputs": [
    {
     "name": "stdout",
     "output_type": "stream",
     "text": [
      "auc on test:  0.494485403117\n",
      "RMSE on test dataset = 0.30\n"
     ]
    }
   ],
   "source": [
    "fpr, tpr, thresholds = metrics.roc_curve(target, Cali_ctr_fm_train, pos_label=1)\n",
    "auc = metrics.auc(fpr, tpr)\n",
    "\n",
    "print('auc on test: ', auc)\n",
    "print (\"RMSE on test dataset = %.2f\" % (rmse(target, Cali_ctr_fm_train)))"
   ]
  },
  {
   "cell_type": "code",
   "execution_count": 46,
   "metadata": {},
   "outputs": [
    {
     "name": "stdout",
     "output_type": "stream",
     "text": [
      "auc on test:  0.494485403117\n",
      "RMSE on test dataset = 0.35\n"
     ]
    }
   ],
   "source": [
    "fpr, tpr, thresholds = metrics.roc_curve(target, pred_fm_train, pos_label=1)\n",
    "auc = metrics.auc(fpr, tpr)\n",
    "\n",
    "print('auc on test: ', auc)\n",
    "print (\"RMSE on test dataset = %.2f\" % (rmse(target, pred_fm_train)))"
   ]
  },
  {
   "cell_type": "code",
   "execution_count": 45,
   "metadata": {},
   "outputs": [
    {
     "name": "stdout",
     "output_type": "stream",
     "text": [
      "auc on test:  0.5\n"
     ]
    }
   ],
   "source": [
    "fpr, tpr, thresholds = metrics.roc_curve(target, ([1] * len(target)), pos_label=1)\n",
    "auc = metrics.auc(fpr, tpr)\n",
    "\n",
    "print('auc on test: ', auc)"
   ]
  },
  {
   "cell_type": "code",
   "execution_count": 27,
   "metadata": {},
   "outputs": [
    {
     "data": {
      "text/plain": [
       "array([  1.54678015e-04,   4.88845893e-02,   2.99550402e-05, ...,\n",
       "         1.38784390e-04,   2.40711632e-05,   1.74773581e-04])"
      ]
     },
     "execution_count": 27,
     "metadata": {},
     "output_type": "execute_result"
    }
   ],
   "source": [
    "Cali_ctr_fm_train"
   ]
  },
  {
   "cell_type": "code",
   "execution_count": 50,
   "metadata": {},
   "outputs": [
    {
     "data": {
      "text/plain": [
       "0.009461157845595581"
      ]
     },
     "execution_count": 50,
     "metadata": {},
     "output_type": "execute_result"
    }
   ],
   "source": [
    "Cali_ctr_fm_train.mean()"
   ]
  },
  {
   "cell_type": "code",
   "execution_count": 28,
   "metadata": {},
   "outputs": [
    {
     "data": {
      "text/plain": [
       "array([ 0.02021005,  0.8726593 ,  0.00397824, ...,  0.01817086,\n",
       "        0.0031993 ,  0.02277636])"
      ]
     },
     "execution_count": 28,
     "metadata": {},
     "output_type": "execute_result"
    }
   ],
   "source": [
    "pred_fm_train"
   ]
  },
  {
   "cell_type": "code",
   "execution_count": 49,
   "metadata": {},
   "outputs": [
    {
     "data": {
      "text/plain": [
       "0.091069588287011449"
      ]
     },
     "execution_count": 49,
     "metadata": {},
     "output_type": "execute_result"
    }
   ],
   "source": [
    "pred_fm_train.mean()"
   ]
  },
  {
   "cell_type": "code",
   "execution_count": 34,
   "metadata": {},
   "outputs": [
    {
     "data": {
      "text/plain": [
       "array([88, 96, 55, ..., 30, 21, 73], dtype=int32)"
      ]
     },
     "execution_count": 34,
     "metadata": {},
     "output_type": "execute_result"
    }
   ],
   "source": [
    "payprice"
   ]
  },
  {
   "cell_type": "code",
   "execution_count": 41,
   "metadata": {},
   "outputs": [
    {
     "data": {
      "text/plain": [
       "79.868428942634424"
      ]
     },
     "execution_count": 41,
     "metadata": {},
     "output_type": "execute_result"
    }
   ],
   "source": [
    "payprice.mean()"
   ]
  },
  {
   "cell_type": "code",
   "execution_count": 53,
   "metadata": {},
   "outputs": [
    {
     "data": {
      "text/plain": [
       "array([  2.05170467e+00,   6.48422725e+02,   3.97334397e-01, ...,\n",
       "         1.84088593e+00,   3.19288542e-01,   2.31825946e+00])"
      ]
     },
     "execution_count": 53,
     "metadata": {},
     "output_type": "execute_result"
    }
   ],
   "source": [
    "np.array(pbidprice(Cali_ctr_fm_train, 10))"
   ]
  },
  {
   "cell_type": "code",
   "execution_count": 52,
   "metadata": {},
   "outputs": [
    {
     "data": {
      "text/plain": [
       "125.49619108098663"
      ]
     },
     "execution_count": 52,
     "metadata": {},
     "output_type": "execute_result"
    }
   ],
   "source": [
    "np.array(pbidprice(Cali_ctr_fm_train, 10)).mean()"
   ]
  },
  {
   "cell_type": "code",
   "execution_count": null,
   "metadata": {
    "collapsed": true
   },
   "outputs": [],
   "source": []
  },
  {
   "cell_type": "code",
   "execution_count": null,
   "metadata": {
    "collapsed": true
   },
   "outputs": [],
   "source": []
  },
  {
   "cell_type": "code",
   "execution_count": null,
   "metadata": {
    "collapsed": true
   },
   "outputs": [],
   "source": []
  },
  {
   "cell_type": "code",
   "execution_count": 83,
   "metadata": {},
   "outputs": [
    {
     "name": "stdout",
     "output_type": "stream",
     "text": [
      "win_num 6865.0, total_cost 371880.0, click_num 482.0, ctr 0.07021121631463947, cpc 771.5352697095435\n",
      "win_num 9678.0, total_cost 568654.0, click_num 703.0, ctr 0.07263897499483364, cpc 808.896159317212\n",
      "win_num 10489.0, total_cost 649981.0, click_num 792.0, ctr 0.07550767470683574, cpc 820.6830808080808\n",
      "win_num 10043.0, total_cost 649936.0, click_num 764.0, ctr 0.076072886587673, cpc 850.7015706806283\n",
      "win_num 9883.0, total_cost 649997.0, click_num 786.0, ctr 0.0795305069310938, cpc 826.9681933842239\n",
      "win_num 9592.0, total_cost 649920.0, click_num 754.0, ctr 0.07860717264386989, cpc 861.9628647214854\n",
      "win_num 9443.0, total_cost 649951.0, click_num 765.0, ctr 0.08101239013025521, cpc 849.6091503267974\n",
      "win_num 9357.0, total_cost 649960.0, click_num 769.0, ctr 0.08218446083146308, cpc 845.2015604681404\n",
      "win_num 9240.0, total_cost 649982.0, click_num 765.0, ctr 0.08279220779220779, cpc 849.6496732026144\n",
      "win_num 9117.0, total_cost 649995.0, click_num 776.0, ctr 0.08511571788965669, cpc 837.6224226804123\n",
      "win_num 9227.0, total_cost 649918.0, click_num 760.0, ctr 0.08236696651132545, cpc 855.1552631578948\n",
      "win_num 9156.0, total_cost 649980.0, click_num 748.0, ctr 0.08169506334643949, cpc 868.9572192513369\n",
      "win_num 8970.0, total_cost 649994.0, click_num 760.0, ctr 0.08472686733556299, cpc 855.2552631578948\n",
      "win_num 8995.0, total_cost 649943.0, click_num 765.0, ctr 0.08504724847137299, cpc 849.5986928104575\n",
      "win_num 8853.0, total_cost 649870.0, click_num 734.0, ctr 0.08290974810798599, cpc 885.3814713896458\n",
      "win_num 8810.0, total_cost 649786.0, click_num 752.0, ctr 0.08535754824063564, cpc 864.0771276595744\n",
      "win_num 8892.0, total_cost 649979.0, click_num 750.0, ctr 0.08434547908232119, cpc 866.6386666666667\n",
      "win_num 8780.0, total_cost 649864.0, click_num 784.0, ctr 0.08929384965831436, cpc 828.9081632653061\n",
      "win_num 8700.0, total_cost 649989.0, click_num 732.0, ctr 0.08413793103448276, cpc 887.9631147540983\n",
      "win_num 8834.0, total_cost 649973.0, click_num 739.0, ctr 0.08365406384423817, cpc 879.5304465493911\n",
      "win_num 8571.0, total_cost 649926.0, click_num 744.0, ctr 0.08680434021701085, cpc 873.5564516129032\n",
      "win_num 8696.0, total_cost 649930.0, click_num 728.0, ctr 0.08371665133394664, cpc 892.760989010989\n",
      "win_num 8612.0, total_cost 649882.0, click_num 745.0, ctr 0.08650719925685091, cpc 872.3248322147651\n",
      "win_num 8618.0, total_cost 649919.0, click_num 740.0, ctr 0.08586679043861685, cpc 878.2689189189189\n",
      "win_num 8518.0, total_cost 649950.0, click_num 723.0, ctr 0.08487907959614933, cpc 898.9626556016598\n",
      "win_num 8613.0, total_cost 649992.0, click_num 766.0, ctr 0.08893533031464065, cpc 848.5535248041775\n",
      "win_num 8606.0, total_cost 649971.0, click_num 765.0, ctr 0.08889147106669765, cpc 849.635294117647\n",
      "win_num 8536.0, total_cost 649954.0, click_num 757.0, ctr 0.08868322399250235, cpc 858.5918097754293\n",
      "win_num 8567.0, total_cost 649793.0, click_num 744.0, ctr 0.0868448698494222, cpc 873.377688172043\n",
      "win_num 8602.0, total_cost 649744.0, click_num 762.0, ctr 0.08858405022087887, cpc 852.6824146981627\n",
      "win_num 8481.0, total_cost 649960.0, click_num 747.0, ctr 0.08807923593915812, cpc 870.0937081659973\n",
      "win_num 8518.0, total_cost 649952.0, click_num 750.0, ctr 0.08804883775534163, cpc 866.6026666666667\n",
      "win_num 8531.0, total_cost 649924.0, click_num 757.0, ctr 0.08873520103153205, cpc 858.552179656539\n",
      "win_num 8430.0, total_cost 649990.0, click_num 738.0, ctr 0.08754448398576513, cpc 880.7452574525745\n",
      "win_num 8497.0, total_cost 649943.0, click_num 768.0, ctr 0.09038484170883841, cpc 846.2799479166666\n",
      "win_num 8526.0, total_cost 649910.0, click_num 717.0, ctr 0.08409570724841661, cpc 906.4295676429567\n",
      "win_num 8344.0, total_cost 649975.0, click_num 728.0, ctr 0.087248322147651, cpc 892.8228021978022\n",
      "win_num 8519.0, total_cost 649986.0, click_num 727.0, ctr 0.08533865477168681, cpc 894.0660247592847\n",
      "win_num 8490.0, total_cost 649953.0, click_num 748.0, ctr 0.08810365135453474, cpc 868.9211229946524\n",
      "win_num 8468.0, total_cost 649993.0, click_num 737.0, ctr 0.0870335380255078, cpc 881.944369063772\n",
      "win_num 8376.0, total_cost 649998.0, click_num 741.0, ctr 0.08846704871060172, cpc 877.1902834008097\n",
      "win_num 8453.0, total_cost 649882.0, click_num 730.0, ctr 0.08635987223470958, cpc 890.2493150684932\n",
      "win_num 8493.0, total_cost 649962.0, click_num 765.0, ctr 0.09007417873542918, cpc 849.6235294117647\n",
      "win_num 8407.0, total_cost 649987.0, click_num 738.0, ctr 0.08778398953253241, cpc 880.7411924119241\n",
      "win_num 8418.0, total_cost 649967.0, click_num 737.0, ctr 0.08755048705155619, cpc 881.9090909090909\n",
      "win_num 8371.0, total_cost 649970.0, click_num 738.0, ctr 0.08816150997491339, cpc 880.7181571815718\n",
      "win_num 8362.0, total_cost 649882.0, click_num 787.0, ctr 0.09411624013393925, cpc 825.7712833545108\n",
      "win_num 8370.0, total_cost 649963.0, click_num 718.0, ctr 0.08578255675029868, cpc 905.240947075209\n",
      "win_num 8402.0, total_cost 649926.0, click_num 712.0, ctr 0.08474172815996191, cpc 912.8174157303371\n",
      "win_num 8403.0, total_cost 649990.0, click_num 731.0, ctr 0.08699274068784958, cpc 889.1792065663475\n",
      "win_num 8284.0, total_cost 649964.0, click_num 735.0, ctr 0.08872525350072429, cpc 884.3047619047619\n",
      "win_num 8327.0, total_cost 649792.0, click_num 758.0, ctr 0.09102918217845563, cpc 857.2453825857519\n",
      "win_num 8340.0, total_cost 649909.0, click_num 738.0, ctr 0.08848920863309352, cpc 880.6355013550135\n",
      "win_num 8348.0, total_cost 649951.0, click_num 747.0, ctr 0.0894825107810254, cpc 870.0816599732262\n",
      "win_num 8374.0, total_cost 649946.0, click_num 718.0, ctr 0.08574158108430857, cpc 905.2172701949861\n",
      "win_num 8263.0, total_cost 649963.0, click_num 746.0, ctr 0.09028197991044415, cpc 871.2640750670241\n",
      "win_num 8370.0, total_cost 649952.0, click_num 726.0, ctr 0.08673835125448029, cpc 895.2506887052342\n",
      "win_num 8351.0, total_cost 649932.0, click_num 738.0, ctr 0.08837264998203807, cpc 880.6666666666666\n",
      "win_num 8321.0, total_cost 649974.0, click_num 736.0, ctr 0.08845090734286744, cpc 883.116847826087\n",
      "win_num 8348.0, total_cost 649958.0, click_num 764.0, ctr 0.09151892668902731, cpc 850.7303664921466\n",
      "win_num 8338.0, total_cost 649945.0, click_num 763.0, ctr 0.0915087550971456, cpc 851.8283093053735\n",
      "win_num 8207.0, total_cost 649968.0, click_num 743.0, ctr 0.09053247227976118, cpc 874.7886944818304\n",
      "win_num 8280.0, total_cost 649960.0, click_num 731.0, ctr 0.08828502415458937, cpc 889.1381668946649\n",
      "win_num 8223.0, total_cost 649967.0, click_num 739.0, ctr 0.08986987717378087, cpc 879.5223274695535\n",
      "win_num 8251.0, total_cost 649869.0, click_num 724.0, ctr 0.08774693976487699, cpc 897.6091160220994\n",
      "win_num 8277.0, total_cost 649999.0, click_num 723.0, ctr 0.08735048930772019, cpc 899.0304287690179\n",
      "win_num 8354.0, total_cost 649989.0, click_num 711.0, ctr 0.08510892985396218, cpc 914.1898734177215\n",
      "win_num 8269.0, total_cost 649926.0, click_num 739.0, ctr 0.08936993590518805, cpc 879.466847090663\n",
      "win_num 8377.0, total_cost 649894.0, click_num 743.0, ctr 0.08869523695833831, cpc 874.6890982503364\n",
      "win_num 8237.0, total_cost 649944.0, click_num 734.0, ctr 0.08911011290518393, cpc 885.4822888283379\n",
      "win_num 8277.0, total_cost 649979.0, click_num 732.0, ctr 0.0884378397970279, cpc 887.9494535519126\n",
      "win_num 8287.0, total_cost 649901.0, click_num 741.0, ctr 0.08941715940629902, cpc 877.059379217274\n",
      "win_num 8125.0, total_cost 649989.0, click_num 766.0, ctr 0.09427692307692308, cpc 848.5496083550914\n",
      "win_num 8310.0, total_cost 649857.0, click_num 732.0, ctr 0.08808664259927798, cpc 887.7827868852459\n",
      "win_num 8230.0, total_cost 649850.0, click_num 769.0, ctr 0.09343863912515188, cpc 845.0585175552666\n",
      "win_num 8215.0, total_cost 649979.0, click_num 722.0, ctr 0.08788800973828363, cpc 900.2479224376731\n",
      "win_num 8310.0, total_cost 649995.0, click_num 707.0, ctr 0.08507821901323706, cpc 919.3705799151344\n",
      "win_num 8255.0, total_cost 649975.0, click_num 746.0, ctr 0.09036947304663841, cpc 871.2801608579089\n",
      "win_num 8242.0, total_cost 649975.0, click_num 712.0, ctr 0.08638679932055326, cpc 912.8862359550562\n",
      "win_num 8182.0, total_cost 649989.0, click_num 747.0, ctr 0.09129797115619653, cpc 870.1325301204819\n",
      "win_num 8209.0, total_cost 649936.0, click_num 740.0, ctr 0.0901449628456572, cpc 878.2918918918919\n",
      "win_num 8262.0, total_cost 649956.0, click_num 767.0, ctr 0.09283466473008957, cpc 847.400260756193\n",
      "win_num 8306.0, total_cost 649998.0, click_num 724.0, ctr 0.08716590416566337, cpc 897.7872928176796\n"
     ]
    },
    {
     "name": "stdout",
     "output_type": "stream",
     "text": [
      "win_num 8321.0, total_cost 649979.0, click_num 719.0, ctr 0.08640788366782838, cpc 904.0041724617524\n",
      "win_num 8307.0, total_cost 650000.0, click_num 782.0, ctr 0.09413747441916456, cpc 831.2020460358057\n",
      "win_num 8264.0, total_cost 649952.0, click_num 692.0, ctr 0.08373668925459826, cpc 939.2369942196532\n",
      "win_num 8258.0, total_cost 649872.0, click_num 723.0, ctr 0.08755146524582223, cpc 898.8547717842324\n",
      "win_num 8287.0, total_cost 649969.0, click_num 746.0, ctr 0.09002051405816339, cpc 871.2721179624665\n",
      "win_num 8234.0, total_cost 649943.0, click_num 730.0, ctr 0.08865678892397377, cpc 890.3328767123288\n",
      "win_num 8187.0, total_cost 649930.0, click_num 722.0, ctr 0.08818859166972029, cpc 900.180055401662\n",
      "win_num 8158.0, total_cost 649926.0, click_num 737.0, ctr 0.09034076979651876, cpc 881.853459972863\n",
      "win_num 8336.0, total_cost 649995.0, click_num 768.0, ctr 0.09213051823416507, cpc 846.34765625\n",
      "win_num 8325.0, total_cost 649982.0, click_num 738.0, ctr 0.08864864864864865, cpc 880.7344173441735\n",
      "win_num 8147.0, total_cost 649932.0, click_num 733.0, ctr 0.08997176874923285, cpc 886.6739427012278\n",
      "win_num 8198.0, total_cost 649942.0, click_num 739.0, ctr 0.09014393754574286, cpc 879.48849797023\n",
      "win_num 8258.0, total_cost 649976.0, click_num 727.0, ctr 0.08803584403003148, cpc 894.0522696011004\n",
      "win_num 8172.0, total_cost 649997.0, click_num 741.0, ctr 0.09067547723935389, cpc 877.1889338731444\n",
      "win_num 8258.0, total_cost 649988.0, click_num 740.0, ctr 0.08961007507871155, cpc 878.3621621621621\n",
      "win_num 8147.0, total_cost 649924.0, click_num 765.0, ctr 0.09389959494292377, cpc 849.5738562091503\n",
      "win_num 8234.0, total_cost 649851.0, click_num 743.0, ctr 0.09023560845275687, cpc 874.6312247644684\n",
      "win_num 8211.0, total_cost 649972.0, click_num 744.0, ctr 0.0906101571063208, cpc 873.6182795698925\n",
      "win_num 8257.0, total_cost 649921.0, click_num 771.0, ctr 0.09337531791207461, cpc 842.958495460441\n",
      "win_num 8216.0, total_cost 649905.0, click_num 722.0, ctr 0.08787731256085686, cpc 900.1454293628809\n",
      "win_num 8279.0, total_cost 649987.0, click_num 744.0, ctr 0.08986592583645368, cpc 873.638440860215\n",
      "win_num 8256.0, total_cost 649923.0, click_num 721.0, ctr 0.08733042635658915, cpc 901.4188626907073\n",
      "win_num 8132.0, total_cost 649967.0, click_num 711.0, ctr 0.08743236596163305, cpc 914.1589310829817\n",
      "win_num 8174.0, total_cost 649994.0, click_num 753.0, ctr 0.09212136041105946, cpc 863.2058432934926\n",
      "win_num 8167.0, total_cost 649927.0, click_num 751.0, ctr 0.0919554303905963, cpc 865.4154460719042\n",
      "win_num 8270.0, total_cost 649983.0, click_num 733.0, ctr 0.08863361547762999, cpc 886.743519781719\n",
      "win_num 8251.0, total_cost 649966.0, click_num 721.0, ctr 0.08738334747303357, cpc 901.4785020804438\n",
      "win_num 8217.0, total_cost 649893.0, click_num 717.0, ctr 0.08725812340270171, cpc 906.4058577405858\n",
      "win_num 8195.0, total_cost 649998.0, click_num 771.0, ctr 0.09408175716900549, cpc 843.0583657587549\n",
      "win_num 8292.0, total_cost 649921.0, click_num 750.0, ctr 0.09044862518089725, cpc 866.5613333333333\n",
      "win_num 8183.0, total_cost 649859.0, click_num 729.0, ctr 0.08908713185873152, cpc 891.4389574759945\n",
      "win_num 8225.0, total_cost 649977.0, click_num 724.0, ctr 0.08802431610942249, cpc 897.7582872928177\n",
      "win_num 8241.0, total_cost 649965.0, click_num 741.0, ctr 0.08991627229705133, cpc 877.1457489878543\n",
      "win_num 8101.0, total_cost 649961.0, click_num 750.0, ctr 0.09258116281940501, cpc 866.6146666666667\n",
      "win_num 8224.0, total_cost 649844.0, click_num 727.0, ctr 0.08839980544747082, cpc 893.8707015130674\n",
      "win_num 8234.0, total_cost 649964.0, click_num 740.0, ctr 0.08987126548457615, cpc 878.3297297297297\n",
      "win_num 8202.0, total_cost 650000.0, click_num 760.0, ctr 0.09266032674957328, cpc 855.2631578947369\n",
      "win_num 8122.0, total_cost 649976.0, click_num 727.0, ctr 0.0895099729130756, cpc 894.0522696011004\n",
      "win_num 8198.0, total_cost 649969.0, click_num 747.0, ctr 0.09111978531349109, cpc 870.1057563587684\n",
      "win_num 8292.0, total_cost 649865.0, click_num 748.0, ctr 0.09020742884708152, cpc 868.8034759358288\n",
      "win_num 8232.0, total_cost 649913.0, click_num 772.0, ctr 0.09378036929057337, cpc 841.8562176165804\n",
      "win_num 8186.0, total_cost 649818.0, click_num 706.0, ctr 0.08624480820913755, cpc 920.4220963172804\n",
      "win_num 8232.0, total_cost 649953.0, click_num 700.0, ctr 0.08503401360544217, cpc 928.5042857142857\n",
      "win_num 8271.0, total_cost 649991.0, click_num 726.0, ctr 0.0877765687341313, cpc 895.3044077134987\n",
      "win_num 8255.0, total_cost 649985.0, click_num 764.0, ctr 0.09254996971532405, cpc 850.7657068062828\n",
      "win_num 8132.0, total_cost 649993.0, click_num 721.0, ctr 0.08866207575012297, cpc 901.5159500693482\n",
      "win_num 8108.0, total_cost 649951.0, click_num 730.0, ctr 0.09003453379378391, cpc 890.3438356164384\n",
      "win_num 8169.0, total_cost 649941.0, click_num 757.0, ctr 0.09266740115069164, cpc 858.5746367239102\n",
      "win_num 8183.0, total_cost 649800.0, click_num 727.0, ctr 0.08884272271782964, cpc 893.8101788170563\n",
      "win_num 8246.0, total_cost 649971.0, click_num 739.0, ctr 0.08961920931360659, cpc 879.5277401894452\n",
      "win_num 8202.0, total_cost 649969.0, click_num 750.0, ctr 0.091441111923921, cpc 866.6253333333333\n",
      "win_num 8128.0, total_cost 649994.0, click_num 755.0, ctr 0.09288877952755906, cpc 860.9192052980133\n",
      "win_num 8211.0, total_cost 649887.0, click_num 709.0, ctr 0.08634758251126537, cpc 916.6248236953455\n",
      "win_num 8249.0, total_cost 649983.0, click_num 724.0, ctr 0.08776821432900958, cpc 897.7665745856353\n",
      "win_num 8174.0, total_cost 649953.0, click_num 726.0, ctr 0.08881820406165891, cpc 895.2520661157025\n",
      "win_num 8213.0, total_cost 649937.0, click_num 727.0, ctr 0.08851820284914161, cpc 893.9986244841816\n",
      "win_num 8163.0, total_cost 649993.0, click_num 739.0, ctr 0.09053044223937277, cpc 879.5575101488498\n",
      "win_num 8269.0, total_cost 649977.0, click_num 764.0, ctr 0.09239327609142581, cpc 850.7552356020942\n",
      "win_num 8204.0, total_cost 649759.0, click_num 714.0, ctr 0.08703071672354949, cpc 910.0266106442577\n",
      "win_num 8169.0, total_cost 649878.0, click_num 740.0, ctr 0.09058636307993634, cpc 878.2135135135135\n",
      "win_num 8219.0, total_cost 649937.0, click_num 723.0, ctr 0.08796690594962892, cpc 898.9446749654219\n",
      "win_num 8207.0, total_cost 649925.0, click_num 734.0, ctr 0.08943584744730108, cpc 885.4564032697548\n",
      "win_num 8151.0, total_cost 649994.0, click_num 716.0, ctr 0.08784198257882468, cpc 907.8128491620112\n",
      "win_num 8183.0, total_cost 649977.0, click_num 732.0, ctr 0.08945374557008431, cpc 887.9467213114754\n",
      "win_num 8209.0, total_cost 649927.0, click_num 721.0, ctr 0.08783043001583628, cpc 901.4244105409153\n",
      "win_num 8256.0, total_cost 649948.0, click_num 780.0, ctr 0.09447674418604651, cpc 833.2666666666667\n",
      "win_num 8182.0, total_cost 649972.0, click_num 727.0, ctr 0.08885358103153264, cpc 894.0467675378267\n",
      "win_num 8210.0, total_cost 649963.0, click_num 732.0, ctr 0.08915956151035323, cpc 887.9275956284152\n",
      "win_num 8172.0, total_cost 649985.0, click_num 774.0, ctr 0.0947136563876652, cpc 839.7739018087856\n",
      "win_num 8106.0, total_cost 649868.0, click_num 773.0, ctr 0.09536146064643473, cpc 840.7089262613196\n",
      "win_num 8220.0, total_cost 649923.0, click_num 728.0, ctr 0.08856447688564477, cpc 892.7513736263736\n",
      "win_num 8151.0, total_cost 649987.0, click_num 747.0, ctr 0.0916451969083548, cpc 870.1298527443106\n",
      "win_num 8288.0, total_cost 649980.0, click_num 733.0, ctr 0.08844111969111969, cpc 886.7394270122783\n",
      "win_num 8199.0, total_cost 649896.0, click_num 752.0, ctr 0.09171850225637272, cpc 864.2234042553191\n",
      "win_num 8128.0, total_cost 649965.0, click_num 701.0, ctr 0.08624507874015748, cpc 927.1968616262482\n",
      "win_num 8167.0, total_cost 649965.0, click_num 738.0, ctr 0.09036365862617853, cpc 880.7113821138212\n",
      "win_num 8153.0, total_cost 650000.0, click_num 744.0, ctr 0.09125475285171103, cpc 873.6559139784946\n",
      "win_num 8270.0, total_cost 649870.0, click_num 736.0, ctr 0.08899637243047158, cpc 882.9755434782609\n",
      "win_num 8171.0, total_cost 649952.0, click_num 749.0, ctr 0.09166564679965733, cpc 867.7596795727637\n",
      "win_num 8256.0, total_cost 649987.0, click_num 707.0, ctr 0.08563468992248062, cpc 919.3592644978784\n",
      "win_num 8226.0, total_cost 649955.0, click_num 725.0, ctr 0.08813518113299294, cpc 896.4896551724138\n",
      "win_num 8103.0, total_cost 649939.0, click_num 714.0, ctr 0.08811551277304702, cpc 910.2787114845938\n"
     ]
    },
    {
     "name": "stdout",
     "output_type": "stream",
     "text": [
      "win_num 8195.0, total_cost 649951.0, click_num 691.0, ctr 0.08431970713849908, cpc 940.5947901591895\n",
      "win_num 8128.0, total_cost 649931.0, click_num 736.0, ctr 0.09055118110236221, cpc 883.0584239130435\n",
      "win_num 8236.0, total_cost 649881.0, click_num 665.0, ctr 0.08074307916464303, cpc 977.2646616541354\n",
      "win_num 8135.0, total_cost 649887.0, click_num 734.0, ctr 0.09022741241548862, cpc 885.4046321525885\n",
      "win_num 8158.0, total_cost 649844.0, click_num 723.0, ctr 0.08862466290757538, cpc 898.8160442600276\n",
      "win_num 8198.0, total_cost 649953.0, click_num 721.0, ctr 0.08794828006830935, cpc 901.4604715672676\n",
      "win_num 8193.0, total_cost 649867.0, click_num 749.0, ctr 0.09141950445502257, cpc 867.6461949265688\n",
      "win_num 8297.0, total_cost 649871.0, click_num 751.0, ctr 0.09051464384717368, cpc 865.340878828229\n",
      "win_num 8219.0, total_cost 649823.0, click_num 749.0, ctr 0.09113030782333617, cpc 867.5874499332443\n",
      "win_num 8140.0, total_cost 649928.0, click_num 732.0, ctr 0.08992628992628993, cpc 887.879781420765\n",
      "win_num 8244.0, total_cost 649850.0, click_num 742.0, ctr 0.09000485201358564, cpc 875.8086253369272\n",
      "win_num 8116.0, total_cost 649966.0, click_num 728.0, ctr 0.08969935929029078, cpc 892.8104395604396\n",
      "win_num 8175.0, total_cost 649944.0, click_num 774.0, ctr 0.09467889908256881, cpc 839.7209302325581\n",
      "win_num 8180.0, total_cost 649917.0, click_num 712.0, ctr 0.08704156479217603, cpc 912.8047752808989\n",
      "win_num 8118.0, total_cost 649947.0, click_num 756.0, ctr 0.09312638580931264, cpc 859.718253968254\n"
     ]
    }
   ],
   "source": [
    "# 直接用p clicks\n",
    "base = 1\n",
    "bidp = []\n",
    "win_number = []\n",
    "totalcost = []\n",
    "clicknum = []\n",
    "ctr_p = []\n",
    "cpc_p = []\n",
    "\n",
    "for i in range(180):\n",
    "    bid_p = np.array(pbidprice(pred_fm_train, base)) # the list of predicted price\n",
    "    payprice = np.array(Y[:,2], dtype=np.int32)\n",
    "    clicks   = np.array(Y[:,1], dtype=np.int32)\n",
    "    \n",
    "    # 打乱顺序\n",
    "    shuffle  = np.random.permutation(len(payprice))\n",
    "    payprice = payprice[shuffle]\n",
    "    bid_p    = bid_p[shuffle]\n",
    "    clicks   = clicks[shuffle]\n",
    "    \n",
    "    win_num, total_cost, click_num, ctr, cpc = evaluation(bid_p, payprice, clicks)\n",
    "    #print(base)\n",
    "    win_number.append(win_num)\n",
    "    totalcost.append(total_cost)\n",
    "    clicknum.append(click_num)\n",
    "    ctr_p.append(ctr)\n",
    "    cpc_p.append(cpc)\n",
    "    bidp.append(bid_p)\n",
    "    \n",
    "    base += 1 # a new base bid price"
   ]
  },
  {
   "cell_type": "code",
   "execution_count": 80,
   "metadata": {},
   "outputs": [
    {
     "data": {
      "text/plain": [
       "180"
      ]
     },
     "execution_count": 80,
     "metadata": {},
     "output_type": "execute_result"
    }
   ],
   "source": [
    "baseBidPrice = list(range(1, 181))\n",
    "len(baseBidPrice)"
   ]
  },
  {
   "cell_type": "code",
   "execution_count": 85,
   "metadata": {},
   "outputs": [
    {
     "data": {
      "text/html": [
       "<div>\n",
       "<style>\n",
       "    .dataframe thead tr:only-child th {\n",
       "        text-align: right;\n",
       "    }\n",
       "\n",
       "    .dataframe thead th {\n",
       "        text-align: left;\n",
       "    }\n",
       "\n",
       "    .dataframe tbody tr th {\n",
       "        vertical-align: top;\n",
       "    }\n",
       "</style>\n",
       "<table border=\"1\" class=\"dataframe\">\n",
       "  <thead>\n",
       "    <tr style=\"text-align: right;\">\n",
       "      <th></th>\n",
       "      <th>basebid</th>\n",
       "      <th>clicks</th>\n",
       "      <th>cpc</th>\n",
       "      <th>ctr</th>\n",
       "      <th>imp</th>\n",
       "      <th>totalcost</th>\n",
       "    </tr>\n",
       "  </thead>\n",
       "  <tbody>\n",
       "    <tr>\n",
       "      <th>0</th>\n",
       "      <td>1</td>\n",
       "      <td>482.0</td>\n",
       "      <td>771.535270</td>\n",
       "      <td>0.070211</td>\n",
       "      <td>6865.0</td>\n",
       "      <td>371880.0</td>\n",
       "    </tr>\n",
       "    <tr>\n",
       "      <th>1</th>\n",
       "      <td>2</td>\n",
       "      <td>703.0</td>\n",
       "      <td>808.896159</td>\n",
       "      <td>0.072639</td>\n",
       "      <td>9678.0</td>\n",
       "      <td>568654.0</td>\n",
       "    </tr>\n",
       "    <tr>\n",
       "      <th>2</th>\n",
       "      <td>3</td>\n",
       "      <td>792.0</td>\n",
       "      <td>820.683081</td>\n",
       "      <td>0.075508</td>\n",
       "      <td>10489.0</td>\n",
       "      <td>649981.0</td>\n",
       "    </tr>\n",
       "    <tr>\n",
       "      <th>3</th>\n",
       "      <td>4</td>\n",
       "      <td>764.0</td>\n",
       "      <td>850.701571</td>\n",
       "      <td>0.076073</td>\n",
       "      <td>10043.0</td>\n",
       "      <td>649936.0</td>\n",
       "    </tr>\n",
       "    <tr>\n",
       "      <th>4</th>\n",
       "      <td>5</td>\n",
       "      <td>786.0</td>\n",
       "      <td>826.968193</td>\n",
       "      <td>0.079531</td>\n",
       "      <td>9883.0</td>\n",
       "      <td>649997.0</td>\n",
       "    </tr>\n",
       "  </tbody>\n",
       "</table>\n",
       "</div>"
      ],
      "text/plain": [
       "   basebid  clicks         cpc       ctr      imp  totalcost\n",
       "0        1   482.0  771.535270  0.070211   6865.0   371880.0\n",
       "1        2   703.0  808.896159  0.072639   9678.0   568654.0\n",
       "2        3   792.0  820.683081  0.075508  10489.0   649981.0\n",
       "3        4   764.0  850.701571  0.076073  10043.0   649936.0\n",
       "4        5   786.0  826.968193  0.079531   9883.0   649997.0"
      ]
     },
     "execution_count": 85,
     "metadata": {},
     "output_type": "execute_result"
    }
   ],
   "source": [
    "#df_logs = pd.DataFrame([baseBidPrice, win_number, totalcost, clicknum, ctr_p, cpc_p], axis = 1)\n",
    "df_logs_train = pd.DataFrame(\n",
    "    {'basebid': baseBidPrice,\n",
    "     'imp': win_number,\n",
    "     'totalcost': totalcost,\n",
    "     'clicks' : clicknum,\n",
    "     'ctr': ctr_p,\n",
    "     'cpc': cpc_p\n",
    "    })\n",
    "df_logs_train[:5]"
   ]
  },
  {
   "cell_type": "code",
   "execution_count": 86,
   "metadata": {
    "collapsed": true
   },
   "outputs": [],
   "source": [
    "df_logs_train.to_csv('linearRegression_train.csv')"
   ]
  },
  {
   "cell_type": "code",
   "execution_count": 58,
   "metadata": {
    "collapsed": true
   },
   "outputs": [],
   "source": [
    "# 测试一下validation set的情况\n",
    "payprice_val = np.array(Y_val[:,2], dtype=np.int32)\n",
    "clicks_val = np.array(Y_val[:,1], dtype=np.int32)\n",
    "#pCTR = Cali_ctr_fm\n",
    "pCTR = pred_fm_val"
   ]
  },
  {
   "cell_type": "code",
   "execution_count": 78,
   "metadata": {},
   "outputs": [
    {
     "name": "stdout",
     "output_type": "stream",
     "text": [
      "win_num 6033.0, total_cost 317228.0, click_num 13.0, ctr 0.0021548151831592907, cpc 24402.153846153848\n",
      "win_num 9162.0, total_cost 543267.0, click_num 14.0, ctr 0.0015280506439641999, cpc 38804.78571428572\n",
      "win_num 10308.0, total_cost 649985.0, click_num 14.0, ctr 0.0013581684128831976, cpc 46427.5\n",
      "win_num 9995.0, total_cost 649793.0, click_num 13.0, ctr 0.0013006503251625813, cpc 49984.07692307692\n",
      "win_num 9641.0, total_cost 649996.0, click_num 7.0, ctr 0.0007260657608131936, cpc 92856.57142857143\n",
      "win_num 9484.0, total_cost 649989.0, click_num 11.0, ctr 0.001159848165331084, cpc 59089.90909090909\n",
      "win_num 9377.0, total_cost 649779.0, click_num 11.0, ctr 0.0011730830756105364, cpc 59070.818181818184\n",
      "win_num 9222.0, total_cost 649921.0, click_num 7.0, ctr 0.0007590544350466276, cpc 92845.85714285714\n",
      "win_num 9244.0, total_cost 649969.0, click_num 8.0, ctr 0.0008654262224145391, cpc 81246.125\n",
      "win_num 9074.0, total_cost 649863.0, click_num 7.0, ctr 0.0007714348688560723, cpc 92837.57142857143\n",
      "win_num 8930.0, total_cost 649998.0, click_num 4.0, ctr 0.0004479283314669653, cpc 162499.5\n",
      "win_num 8922.0, total_cost 649998.0, click_num 10.0, ctr 0.0011208249271463797, cpc 64999.8\n",
      "win_num 8809.0, total_cost 649991.0, click_num 10.0, ctr 0.0011352026336701102, cpc 64999.1\n",
      "win_num 8937.0, total_cost 649993.0, click_num 5.0, ctr 0.0005594718585655141, cpc 129998.6\n",
      "win_num 8698.0, total_cost 649851.0, click_num 7.0, ctr 0.0008047827086686594, cpc 92835.85714285714\n",
      "win_num 8727.0, total_cost 649996.0, click_num 7.0, ctr 0.000802108399220809, cpc 92856.57142857143\n",
      "win_num 8671.0, total_cost 649942.0, click_num 9.0, ctr 0.0010379425671779494, cpc 72215.77777777778\n",
      "win_num 8706.0, total_cost 649930.0, click_num 7.0, ctr 0.0008040431886055594, cpc 92847.14285714286\n",
      "win_num 8661.0, total_cost 649979.0, click_num 5.0, ctr 0.0005773005426625101, cpc 129995.8\n",
      "win_num 8717.0, total_cost 649937.0, click_num 7.0, ctr 0.0008030285648732362, cpc 92848.14285714286\n",
      "win_num 8680.0, total_cost 649963.0, click_num 11.0, ctr 0.0012672811059907835, cpc 59087.545454545456\n",
      "win_num 8628.0, total_cost 649945.0, click_num 4.0, ctr 0.0004636068613815484, cpc 162486.25\n",
      "win_num 8533.0, total_cost 649996.0, click_num 8.0, ctr 0.0009375366225243173, cpc 81249.5\n",
      "win_num 8518.0, total_cost 649863.0, click_num 8.0, ctr 0.0009391876027236441, cpc 81232.875\n",
      "win_num 8624.0, total_cost 649997.0, click_num 4.0, ctr 0.00046382189239332097, cpc 162499.25\n",
      "win_num 8562.0, total_cost 649871.0, click_num 5.0, ctr 0.000583975706610605, cpc 129974.2\n",
      "win_num 8464.0, total_cost 649848.0, click_num 5.0, ctr 0.0005907372400756144, cpc 129969.6\n",
      "win_num 8439.0, total_cost 649872.0, click_num 4.0, ctr 0.0004739898092191018, cpc 162468.0\n",
      "win_num 8505.0, total_cost 649954.0, click_num 8.0, ctr 0.0009406231628453851, cpc 81244.25\n",
      "win_num 8429.0, total_cost 649940.0, click_num 3.0, ctr 0.00035591410606240363, cpc 216646.66666666666\n",
      "win_num 8537.0, total_cost 649936.0, click_num 4.0, ctr 0.0004685486704931475, cpc 162484.0\n",
      "win_num 8436.0, total_cost 649976.0, click_num 5.0, ctr 0.0005926979611190138, cpc 129995.2\n",
      "win_num 8528.0, total_cost 649977.0, click_num 5.0, ctr 0.0005863039399624766, cpc 129995.4\n",
      "win_num 8528.0, total_cost 649989.0, click_num 6.0, ctr 0.0007035647279549719, cpc 108331.5\n",
      "win_num 8538.0, total_cost 649919.0, click_num 6.0, ctr 0.0007027406886858749, cpc 108319.83333333333\n",
      "win_num 8434.0, total_cost 649949.0, click_num 4.0, ctr 0.00047427080863172874, cpc 162487.25\n",
      "win_num 8444.0, total_cost 649953.0, click_num 6.0, ctr 0.0007105637138796779, cpc 108325.5\n",
      "win_num 8384.0, total_cost 649956.0, click_num 7.0, ctr 0.0008349236641221374, cpc 92850.85714285714\n",
      "win_num 8414.0, total_cost 649912.0, click_num 5.0, ctr 0.0005942476824340385, cpc 129982.4\n",
      "win_num 8353.0, total_cost 649977.0, click_num 6.0, ctr 0.0007183048006704178, cpc 108329.5\n",
      "win_num 8378.0, total_cost 649974.0, click_num 9.0, ctr 0.0010742420625447602, cpc 72219.33333333333\n",
      "win_num 8574.0, total_cost 649986.0, click_num 8.0, ctr 0.0009330534173081409, cpc 81248.25\n",
      "win_num 8309.0, total_cost 649865.0, click_num 7.0, ctr 0.0008424599831508003, cpc 92837.85714285714\n",
      "win_num 8554.0, total_cost 649961.0, click_num 6.0, ctr 0.0007014262333411269, cpc 108326.83333333333\n",
      "win_num 8542.0, total_cost 649916.0, click_num 6.0, ctr 0.0007024116132053383, cpc 108319.33333333333\n",
      "win_num 8448.0, total_cost 649979.0, click_num 5.0, ctr 0.0005918560606060606, cpc 129995.8\n",
      "win_num 8479.0, total_cost 649824.0, click_num 3.0, ctr 0.0003538153084090105, cpc 216608.0\n",
      "win_num 8364.0, total_cost 649942.0, click_num 7.0, ctr 0.0008369201339072215, cpc 92848.85714285714\n",
      "win_num 8384.0, total_cost 649935.0, click_num 6.0, ctr 0.0007156488549618321, cpc 108322.5\n",
      "win_num 8280.0, total_cost 649979.0, click_num 4.0, ctr 0.0004830917874396135, cpc 162494.75\n",
      "win_num 8372.0, total_cost 649968.0, click_num 4.0, ctr 0.00047778308647873863, cpc 162492.0\n",
      "win_num 8329.0, total_cost 649953.0, click_num 3.0, ctr 0.0003601872973946452, cpc 216651.0\n",
      "win_num 8452.0, total_cost 649863.0, click_num 7.0, ctr 0.0008282063416942735, cpc 92837.57142857143\n",
      "win_num 8401.0, total_cost 649899.0, click_num 9.0, ctr 0.001071301035591001, cpc 72211.0\n",
      "win_num 8319.0, total_cost 649909.0, click_num 5.0, ctr 0.0006010337780983291, cpc 129981.8\n",
      "win_num 8313.0, total_cost 649890.0, click_num 4.0, ctr 0.0004811740647179117, cpc 162472.5\n",
      "win_num 8426.0, total_cost 649974.0, click_num 5.0, ctr 0.0005934013766911939, cpc 129994.8\n",
      "win_num 8312.0, total_cost 649939.0, click_num 5.0, ctr 0.0006015399422521655, cpc 129987.8\n",
      "win_num 8380.0, total_cost 649992.0, click_num 5.0, ctr 0.0005966587112171838, cpc 129998.4\n",
      "win_num 8332.0, total_cost 649978.0, click_num 8.0, ctr 0.0009601536245799327, cpc 81247.25\n",
      "win_num 8298.0, total_cost 649991.0, click_num 6.0, ctr 0.0007230657989877079, cpc 108331.83333333333\n",
      "win_num 8351.0, total_cost 649936.0, click_num 4.0, ctr 0.00047898455274817384, cpc 162484.0\n",
      "win_num 8421.0, total_cost 649829.0, click_num 6.0, ctr 0.0007125044531528322, cpc 108304.83333333333\n",
      "win_num 8334.0, total_cost 649985.0, click_num 5.0, ctr 0.0005999520038396928, cpc 129997.0\n",
      "win_num 8327.0, total_cost 649987.0, click_num 6.0, ctr 0.0007205476161883031, cpc 108331.16666666667\n",
      "win_num 8350.0, total_cost 649984.0, click_num 6.0, ctr 0.000718562874251497, cpc 108330.66666666667\n",
      "win_num 8330.0, total_cost 649905.0, click_num 6.0, ctr 0.0007202881152460984, cpc 108317.5\n",
      "win_num 8310.0, total_cost 649975.0, click_num 6.0, ctr 0.0007220216606498195, cpc 108329.16666666667\n",
      "win_num 8286.0, total_cost 649869.0, click_num 4.0, ctr 0.0004827419744146754, cpc 162467.25\n",
      "win_num 8358.0, total_cost 649978.0, click_num 4.0, ctr 0.0004785833931562575, cpc 162494.5\n",
      "win_num 8383.0, total_cost 649921.0, click_num 5.0, ctr 0.0005964451866873435, cpc 129984.2\n",
      "win_num 8338.0, total_cost 649974.0, click_num 6.0, ctr 0.0007195970256656273, cpc 108329.0\n",
      "win_num 8329.0, total_cost 649794.0, click_num 6.0, ctr 0.0007203745947892904, cpc 108299.0\n",
      "win_num 8399.0, total_cost 649931.0, click_num 7.0, ctr 0.0008334325514942256, cpc 92847.28571428571\n",
      "win_num 8371.0, total_cost 649938.0, click_num 3.0, ctr 0.0003583801218492414, cpc 216646.0\n",
      "win_num 8304.0, total_cost 649788.0, click_num 3.0, ctr 0.000361271676300578, cpc 216596.0\n",
      "win_num 8352.0, total_cost 649909.0, click_num 3.0, ctr 0.00035919540229885057, cpc 216636.33333333334\n",
      "win_num 8230.0, total_cost 649897.0, click_num 7.0, ctr 0.000850546780072904, cpc 92842.42857142857\n",
      "win_num 8298.0, total_cost 649813.0, click_num 8.0, ctr 0.0009640877319836105, cpc 81226.625\n",
      "win_num 8375.0, total_cost 649993.0, click_num 5.0, ctr 0.0005970149253731343, cpc 129998.6\n",
      "win_num 8284.0, total_cost 649966.0, click_num 5.0, ctr 0.0006035731530661516, cpc 129993.2\n",
      "win_num 8319.0, total_cost 649972.0, click_num 5.0, ctr 0.0006010337780983291, cpc 129994.4\n",
      "win_num 8289.0, total_cost 649943.0, click_num 5.0, ctr 0.0006032090722644469, cpc 129988.6\n",
      "win_num 8341.0, total_cost 649984.0, click_num 7.0, ctr 0.0008392279103225033, cpc 92854.85714285714\n",
      "win_num 8324.0, total_cost 649954.0, click_num 3.0, ctr 0.00036040365209034117, cpc 216651.33333333334\n",
      "win_num 8321.0, total_cost 649970.0, click_num 8.0, ctr 0.0009614229059007331, cpc 81246.25\n"
     ]
    },
    {
     "name": "stdout",
     "output_type": "stream",
     "text": [
      "win_num 8252.0, total_cost 649912.0, click_num 7.0, ctr 0.0008482792050412022, cpc 92844.57142857143\n",
      "win_num 8403.0, total_cost 649911.0, click_num 7.0, ctr 0.0008330358205402833, cpc 92844.42857142857\n",
      "win_num 8413.0, total_cost 649923.0, click_num 8.0, ctr 0.0009509093070248425, cpc 81240.375\n",
      "win_num 8321.0, total_cost 649981.0, click_num 3.0, ctr 0.0003605335897127749, cpc 216660.33333333334\n",
      "win_num 8432.0, total_cost 649927.0, click_num 6.0, ctr 0.0007115749525616698, cpc 108321.16666666667\n",
      "win_num 8221.0, total_cost 649995.0, click_num 3.0, ctr 0.0003649191095973726, cpc 216665.0\n",
      "win_num 8314.0, total_cost 650000.0, click_num 5.0, ctr 0.0006013952369497233, cpc 130000.0\n",
      "win_num 8299.0, total_cost 649866.0, click_num 8.0, ctr 0.0009639715628388962, cpc 81233.25\n",
      "win_num 8301.0, total_cost 649961.0, click_num 6.0, ctr 0.0007228044813877846, cpc 108326.83333333333\n",
      "win_num 8152.0, total_cost 649742.0, click_num 6.0, ctr 0.0007360157016683023, cpc 108290.33333333333\n",
      "win_num 8249.0, total_cost 649982.0, click_num 4.0, ctr 0.0004849072614862408, cpc 162495.5\n",
      "win_num 8312.0, total_cost 649909.0, click_num 8.0, ctr 0.0009624639076034649, cpc 81238.625\n",
      "win_num 8369.0, total_cost 649994.0, click_num 9.0, ctr 0.0010753972995578922, cpc 72221.55555555556\n",
      "win_num 8331.0, total_cost 649954.0, click_num 4.0, ctr 0.0004801344376425399, cpc 162488.5\n",
      "win_num 8311.0, total_cost 649940.0, click_num 5.0, ctr 0.0006016123210203345, cpc 129988.0\n",
      "win_num 8217.0, total_cost 649940.0, click_num 5.0, ctr 0.0006084945843981989, cpc 129988.0\n",
      "win_num 8342.0, total_cost 649996.0, click_num 5.0, ctr 0.0005993766482857828, cpc 129999.2\n",
      "win_num 8297.0, total_cost 649899.0, click_num 3.0, ctr 0.0003615764734241292, cpc 216633.0\n",
      "win_num 8197.0, total_cost 649745.0, click_num 3.0, ctr 0.0003659875564230816, cpc 216581.66666666666\n",
      "win_num 8236.0, total_cost 649875.0, click_num 7.0, ctr 0.0008499271491015056, cpc 92839.28571428571\n",
      "win_num 8226.0, total_cost 649876.0, click_num 4.0, ctr 0.0004862630683199611, cpc 162469.0\n",
      "win_num 8377.0, total_cost 649978.0, click_num 5.0, ctr 0.0005968723886832995, cpc 129995.6\n",
      "win_num 8370.0, total_cost 649972.0, click_num 6.0, ctr 0.0007168458781362007, cpc 108328.66666666667\n",
      "win_num 8152.0, total_cost 649988.0, click_num 8.0, ctr 0.0009813542688910696, cpc 81248.5\n",
      "win_num 8365.0, total_cost 649958.0, click_num 6.0, ctr 0.0007172743574417215, cpc 108326.33333333333\n",
      "win_num 8353.0, total_cost 649824.0, click_num 6.0, ctr 0.0007183048006704178, cpc 108304.0\n",
      "win_num 8402.0, total_cost 649949.0, click_num 4.0, ctr 0.00047607712449416806, cpc 162487.25\n",
      "win_num 8279.0, total_cost 649959.0, click_num 4.0, ctr 0.0004831501389056649, cpc 162489.75\n",
      "win_num 8339.0, total_cost 649999.0, click_num 5.0, ctr 0.000599592277251469, cpc 129999.8\n",
      "win_num 8307.0, total_cost 649818.0, click_num 5.0, ctr 0.0006019020103527145, cpc 129963.6\n",
      "win_num 8206.0, total_cost 649917.0, click_num 8.0, ctr 0.0009748964172556666, cpc 81239.625\n",
      "win_num 8173.0, total_cost 649980.0, click_num 5.0, ctr 0.0006117704637220115, cpc 129996.0\n",
      "win_num 8371.0, total_cost 649889.0, click_num 8.0, ctr 0.0009556803249313105, cpc 81236.125\n",
      "win_num 8409.0, total_cost 649958.0, click_num 8.0, ctr 0.0009513616363420145, cpc 81244.75\n",
      "win_num 8330.0, total_cost 649990.0, click_num 3.0, ctr 0.0003601440576230492, cpc 216663.33333333334\n",
      "win_num 8300.0, total_cost 649996.0, click_num 5.0, ctr 0.0006024096385542169, cpc 129999.2\n",
      "win_num 8242.0, total_cost 649984.0, click_num 9.0, ctr 0.0010919679689395778, cpc 72220.44444444444\n",
      "win_num 8317.0, total_cost 649993.0, click_num 8.0, ctr 0.00096188529517855, cpc 81249.125\n",
      "win_num 8188.0, total_cost 649999.0, click_num 6.0, ctr 0.0007327796775769418, cpc 108333.16666666667\n",
      "win_num 8217.0, total_cost 649983.0, click_num 4.0, ctr 0.0004867956675185591, cpc 162495.75\n",
      "win_num 8359.0, total_cost 649812.0, click_num 4.0, ctr 0.0004785261394903697, cpc 162453.0\n",
      "win_num 8342.0, total_cost 649977.0, click_num 6.0, ctr 0.0007192519779429394, cpc 108329.5\n",
      "win_num 8251.0, total_cost 649988.0, click_num 6.0, ctr 0.0007271845836868258, cpc 108331.33333333333\n",
      "win_num 8249.0, total_cost 649994.0, click_num 7.0, ctr 0.0008485877076009214, cpc 92856.28571428571\n",
      "win_num 8275.0, total_cost 649877.0, click_num 7.0, ctr 0.0008459214501510574, cpc 92839.57142857143\n",
      "win_num 8272.0, total_cost 649937.0, click_num 3.0, ctr 0.00036266924564796907, cpc 216645.66666666666\n",
      "win_num 8339.0, total_cost 649970.0, click_num 5.0, ctr 0.000599592277251469, cpc 129994.0\n",
      "win_num 8368.0, total_cost 649970.0, click_num 5.0, ctr 0.0005975143403441683, cpc 129994.0\n",
      "win_num 8363.0, total_cost 649897.0, click_num 3.0, ctr 0.0003587229463111324, cpc 216632.33333333334\n",
      "win_num 8259.0, total_cost 649730.0, click_num 5.0, ctr 0.0006054001695120475, cpc 129946.0\n",
      "win_num 8270.0, total_cost 649991.0, click_num 3.0, ctr 0.00036275695284159615, cpc 216663.66666666666\n",
      "win_num 8362.0, total_cost 649962.0, click_num 6.0, ctr 0.0007175316909830184, cpc 108327.0\n",
      "win_num 8288.0, total_cost 649963.0, click_num 7.0, ctr 0.0008445945945945946, cpc 92851.85714285714\n",
      "win_num 8291.0, total_cost 649932.0, click_num 7.0, ctr 0.0008442889880593415, cpc 92847.42857142857\n",
      "win_num 8369.0, total_cost 649961.0, click_num 5.0, ctr 0.000597442944198829, cpc 129992.2\n",
      "win_num 8266.0, total_cost 649927.0, click_num 5.0, ctr 0.0006048874909266877, cpc 129985.4\n",
      "win_num 8257.0, total_cost 649867.0, click_num 8.0, ctr 0.0009688748940293085, cpc 81233.375\n",
      "win_num 8361.0, total_cost 649967.0, click_num 2.0, ctr 0.00023920583662241358, cpc 324983.5\n",
      "win_num 8360.0, total_cost 649838.0, click_num 7.0, ctr 0.0008373205741626794, cpc 92834.0\n",
      "win_num 8288.0, total_cost 649885.0, click_num 7.0, ctr 0.0008445945945945946, cpc 92840.71428571429\n",
      "win_num 8289.0, total_cost 649996.0, click_num 3.0, ctr 0.0003619254433586681, cpc 216665.33333333334\n",
      "win_num 8363.0, total_cost 649848.0, click_num 8.0, ctr 0.000956594523496353, cpc 81231.0\n",
      "win_num 8330.0, total_cost 649824.0, click_num 7.0, ctr 0.0008403361344537816, cpc 92832.0\n",
      "win_num 8461.0, total_cost 649856.0, click_num 6.0, ctr 0.0007091360359295591, cpc 108309.33333333333\n",
      "win_num 8296.0, total_cost 649890.0, click_num 5.0, ctr 0.0006027000964320154, cpc 129978.0\n",
      "win_num 8230.0, total_cost 649884.0, click_num 3.0, ctr 0.00036452004860267317, cpc 216628.0\n",
      "win_num 8337.0, total_cost 649988.0, click_num 4.0, ctr 0.00047978889288712967, cpc 162497.0\n",
      "win_num 8306.0, total_cost 649941.0, click_num 5.0, ctr 0.0006019744762822056, cpc 129988.2\n",
      "win_num 8372.0, total_cost 649978.0, click_num 8.0, ctr 0.0009555661729574773, cpc 81247.25\n",
      "win_num 8401.0, total_cost 649868.0, click_num 6.0, ctr 0.0007142006903940007, cpc 108311.33333333333\n",
      "win_num 8229.0, total_cost 649804.0, click_num 6.0, ctr 0.0007291286912139992, cpc 108300.66666666667\n",
      "win_num 8315.0, total_cost 649814.0, click_num 7.0, ctr 0.0008418520745640408, cpc 92830.57142857143\n",
      "win_num 8255.0, total_cost 649899.0, click_num 5.0, ctr 0.0006056935190793458, cpc 129979.8\n",
      "win_num 8289.0, total_cost 649976.0, click_num 7.0, ctr 0.0008444927011702256, cpc 92853.71428571429\n",
      "win_num 8280.0, total_cost 649957.0, click_num 11.0, ctr 0.0013285024154589373, cpc 59087.0\n",
      "win_num 8210.0, total_cost 649855.0, click_num 5.0, ctr 0.0006090133982947625, cpc 129971.0\n",
      "win_num 8282.0, total_cost 649978.0, click_num 3.0, ctr 0.0003622313450857281, cpc 216659.33333333334\n",
      "win_num 8252.0, total_cost 649977.0, click_num 4.0, ctr 0.0004847309743092584, cpc 162494.25\n",
      "win_num 8274.0, total_cost 649981.0, click_num 6.0, ctr 0.0007251631617113851, cpc 108330.16666666667\n",
      "win_num 8360.0, total_cost 649990.0, click_num 5.0, ctr 0.0005980861244019139, cpc 129998.0\n",
      "win_num 8369.0, total_cost 649891.0, click_num 5.0, ctr 0.000597442944198829, cpc 129978.2\n",
      "win_num 8344.0, total_cost 649932.0, click_num 7.0, ctr 0.0008389261744966443, cpc 92847.42857142857\n",
      "win_num 8229.0, total_cost 649883.0, click_num 4.0, ctr 0.00048608579414266616, cpc 162470.75\n",
      "win_num 8253.0, total_cost 649986.0, click_num 7.0, ctr 0.0008481764206955047, cpc 92855.14285714286\n",
      "win_num 8356.0, total_cost 649969.0, click_num 6.0, ctr 0.0007180469123982767, cpc 108328.16666666667\n",
      "win_num 8331.0, total_cost 649878.0, click_num 8.0, ctr 0.0009602688752850798, cpc 81234.75\n"
     ]
    },
    {
     "name": "stdout",
     "output_type": "stream",
     "text": [
      "win_num 8360.0, total_cost 649969.0, click_num 6.0, ctr 0.0007177033492822966, cpc 108328.16666666667\n",
      "win_num 8301.0, total_cost 649968.0, click_num 5.0, ctr 0.0006023370678231539, cpc 129993.6\n",
      "win_num 8297.0, total_cost 649915.0, click_num 2.0, ctr 0.0002410509822827528, cpc 324957.5\n",
      "win_num 8220.0, total_cost 649890.0, click_num 9.0, ctr 0.0010948905109489052, cpc 72210.0\n",
      "win_num 8312.0, total_cost 649932.0, click_num 7.0, ctr 0.0008421559191530317, cpc 92847.42857142857\n",
      "win_num 8382.0, total_cost 649965.0, click_num 8.0, ctr 0.000954426151276545, cpc 81245.625\n",
      "win_num 8290.0, total_cost 649953.0, click_num 8.0, ctr 0.0009650180940892642, cpc 81244.125\n",
      "win_num 8227.0, total_cost 649965.0, click_num 6.0, ctr 0.0007293059438434423, cpc 108327.5\n"
     ]
    }
   ],
   "source": [
    "base = 1\n",
    "bidp = []\n",
    "win_number = []\n",
    "totalcost = []\n",
    "clicknum = []\n",
    "ctr_p = []\n",
    "cpc_p = []\n",
    "\n",
    "for i in range(180):\n",
    "    bid_p = np.array(pbidprice(pCTR, base)) # the list of predicted price\n",
    "    \n",
    "    payprice_val = np.array(Y_val[:,2], dtype=np.int32)\n",
    "    clicks_val   = np.array(Y_val[:,1], dtype=np.int32)\n",
    "    \n",
    "    # 打乱顺序\n",
    "    shuffle  = np.random.permutation(len(payprice))\n",
    "    payprice_val = payprice_val[shuffle]\n",
    "    bid_p    = bid_p[shuffle]\n",
    "    clicks_val   = clicks_val[shuffle]\n",
    "    \n",
    "    win_num, total_cost, click_num, ctr, cpc = evaluation(bid_p, payprice_val, clicks_val)\n",
    "    #print(base)\n",
    "    win_number.append(win_num)\n",
    "    totalcost.append(total_cost)\n",
    "    clicknum.append(click_num)\n",
    "    ctr_p.append(ctr)\n",
    "    cpc_p.append(cpc)\n",
    "    bidp.append(bid_p)\n",
    "    \n",
    "    base += 1 # a new base bid price"
   ]
  },
  {
   "cell_type": "code",
   "execution_count": 68,
   "metadata": {},
   "outputs": [
    {
     "data": {
      "text/plain": [
       "180"
      ]
     },
     "execution_count": 68,
     "metadata": {},
     "output_type": "execute_result"
    }
   ],
   "source": [
    "len(ctr_p)"
   ]
  },
  {
   "cell_type": "code",
   "execution_count": 69,
   "metadata": {},
   "outputs": [
    {
     "data": {
      "text/plain": [
       "180"
      ]
     },
     "execution_count": 69,
     "metadata": {},
     "output_type": "execute_result"
    }
   ],
   "source": [
    "baseBidPrice = list(range(1, 181))\n",
    "len(baseBidPrice)"
   ]
  },
  {
   "cell_type": "code",
   "execution_count": 70,
   "metadata": {},
   "outputs": [
    {
     "data": {
      "text/plain": [
       "array([ 23,  75,  65, ..., 108,  50,  40], dtype=int32)"
      ]
     },
     "execution_count": 70,
     "metadata": {},
     "output_type": "execute_result"
    }
   ],
   "source": [
    "payprice_val"
   ]
  },
  {
   "cell_type": "code",
   "execution_count": 71,
   "metadata": {},
   "outputs": [
    {
     "data": {
      "text/plain": [
       "141.72485860704447"
      ]
     },
     "execution_count": 71,
     "metadata": {},
     "output_type": "execute_result"
    }
   ],
   "source": [
    "np.mean(pbidprice(pCTR, 2))"
   ]
  },
  {
   "cell_type": "code",
   "execution_count": 82,
   "metadata": {},
   "outputs": [
    {
     "data": {
      "text/html": [
       "<div>\n",
       "<style>\n",
       "    .dataframe thead tr:only-child th {\n",
       "        text-align: right;\n",
       "    }\n",
       "\n",
       "    .dataframe thead th {\n",
       "        text-align: left;\n",
       "    }\n",
       "\n",
       "    .dataframe tbody tr th {\n",
       "        vertical-align: top;\n",
       "    }\n",
       "</style>\n",
       "<table border=\"1\" class=\"dataframe\">\n",
       "  <thead>\n",
       "    <tr style=\"text-align: right;\">\n",
       "      <th></th>\n",
       "      <th>basebid</th>\n",
       "      <th>clicks</th>\n",
       "      <th>cpc</th>\n",
       "      <th>ctr</th>\n",
       "      <th>imp</th>\n",
       "      <th>totalcost</th>\n",
       "    </tr>\n",
       "  </thead>\n",
       "  <tbody>\n",
       "    <tr>\n",
       "      <th>0</th>\n",
       "      <td>1</td>\n",
       "      <td>13.0</td>\n",
       "      <td>24402.153846</td>\n",
       "      <td>0.002155</td>\n",
       "      <td>6033.0</td>\n",
       "      <td>317228.0</td>\n",
       "    </tr>\n",
       "    <tr>\n",
       "      <th>1</th>\n",
       "      <td>2</td>\n",
       "      <td>14.0</td>\n",
       "      <td>38804.785714</td>\n",
       "      <td>0.001528</td>\n",
       "      <td>9162.0</td>\n",
       "      <td>543267.0</td>\n",
       "    </tr>\n",
       "    <tr>\n",
       "      <th>2</th>\n",
       "      <td>3</td>\n",
       "      <td>14.0</td>\n",
       "      <td>46427.500000</td>\n",
       "      <td>0.001358</td>\n",
       "      <td>10308.0</td>\n",
       "      <td>649985.0</td>\n",
       "    </tr>\n",
       "    <tr>\n",
       "      <th>3</th>\n",
       "      <td>4</td>\n",
       "      <td>13.0</td>\n",
       "      <td>49984.076923</td>\n",
       "      <td>0.001301</td>\n",
       "      <td>9995.0</td>\n",
       "      <td>649793.0</td>\n",
       "    </tr>\n",
       "    <tr>\n",
       "      <th>4</th>\n",
       "      <td>5</td>\n",
       "      <td>7.0</td>\n",
       "      <td>92856.571429</td>\n",
       "      <td>0.000726</td>\n",
       "      <td>9641.0</td>\n",
       "      <td>649996.0</td>\n",
       "    </tr>\n",
       "  </tbody>\n",
       "</table>\n",
       "</div>"
      ],
      "text/plain": [
       "   basebid  clicks           cpc       ctr      imp  totalcost\n",
       "0        1    13.0  24402.153846  0.002155   6033.0   317228.0\n",
       "1        2    14.0  38804.785714  0.001528   9162.0   543267.0\n",
       "2        3    14.0  46427.500000  0.001358  10308.0   649985.0\n",
       "3        4    13.0  49984.076923  0.001301   9995.0   649793.0\n",
       "4        5     7.0  92856.571429  0.000726   9641.0   649996.0"
      ]
     },
     "execution_count": 82,
     "metadata": {},
     "output_type": "execute_result"
    }
   ],
   "source": [
    "#df_logs = pd.DataFrame([baseBidPrice, win_number, totalcost, clicknum, ctr_p, cpc_p], axis = 1)\n",
    "df_logs = pd.DataFrame(\n",
    "    {'basebid': baseBidPrice,\n",
    "     'imp': win_number,\n",
    "     'totalcost': totalcost,\n",
    "     'clicks' : clicknum,\n",
    "     'ctr': ctr_p,\n",
    "     'cpc': cpc_p\n",
    "    })\n",
    "df_logs[:5]"
   ]
  },
  {
   "cell_type": "code",
   "execution_count": 60,
   "metadata": {},
   "outputs": [
    {
     "data": {
      "text/plain": [
       "180"
      ]
     },
     "execution_count": 60,
     "metadata": {},
     "output_type": "execute_result"
    }
   ],
   "source": [
    "len(bidp) # bidp 的每一行，是对validation的bidprice列表"
   ]
  },
  {
   "cell_type": "code",
   "execution_count": null,
   "metadata": {
    "collapsed": true
   },
   "outputs": [],
   "source": [
    "#pickle.dump(bidp, open(\"bidprice_linearR.pickle.dat\", \"wb\"))"
   ]
  },
  {
   "cell_type": "code",
   "execution_count": 84,
   "metadata": {
    "collapsed": true
   },
   "outputs": [],
   "source": [
    "df_logs.to_csv('linearRegression_validation.csv')"
   ]
  },
  {
   "cell_type": "code",
   "execution_count": 46,
   "metadata": {},
   "outputs": [
    {
     "data": {
      "image/png": "[encoded data removed]",
      "text/plain": [
       "<matplotlib.figure.Figure at 0x1ad8ffd9e8>"
      ]
     },
     "metadata": {},
     "output_type": "display_data"
    }
   ],
   "source": [
    "import matplotlib.pyplot as plt\n",
    "\n",
    "plot_x = df_logs['basebid']\n",
    "plot_y = df_logs['ctr']\n",
    "plt.figure(figsize=(8,4)) \n",
    "plt.xlabel(\"Base Bid\")  \n",
    "plt.ylabel(\"CTR\")\n",
    "plt.plot(plot_x, plot_y,color=\"red\",linewidth=2)\n",
    "plt.show()"
   ]
  },
  {
   "cell_type": "code",
   "execution_count": 48,
   "metadata": {},
   "outputs": [
    {
     "data": {
      "image/png": "[encoded data removed]",
      "text/plain": [
       "<matplotlib.figure.Figure at 0x1ae0e9e5c0>"
      ]
     },
     "metadata": {},
     "output_type": "display_data"
    }
   ],
   "source": [
    "import matplotlib.pyplot as plt\n",
    "\n",
    "plot_x = df_logs['basebid']\n",
    "plot_y = df_logs['clicks']\n",
    "plt.figure(figsize=(8,4)) \n",
    "plt.xlabel(\"Base Bid\")  \n",
    "plt.ylabel(\"clicknum\")\n",
    "plt.plot(plot_x, plot_y,color=\"red\",linewidth=2)\n",
    "plt.show()"
   ]
  },
  {
   "cell_type": "code",
   "execution_count": 49,
   "metadata": {},
   "outputs": [
    {
     "data": {
      "image/png": "[encoded data removed]",
      "text/plain": [
       "<matplotlib.figure.Figure at 0x1ae0d16940>"
      ]
     },
     "metadata": {},
     "output_type": "display_data"
    }
   ],
   "source": [
    "import matplotlib.pyplot as plt\n",
    "\n",
    "plot_x = df_logs['basebid']\n",
    "plot_y = df_logs['ctr']/df_logs['cpc']\n",
    "plt.figure(figsize=(8,4)) \n",
    "plt.xlabel(\"Base Bid\")  \n",
    "plt.ylabel(\"CTR/CPC\")\n",
    "plt.plot(plot_x, plot_y,color=\"red\",linewidth=2)\n",
    "plt.show()"
   ]
  },
  {
   "cell_type": "markdown",
   "metadata": {},
   "source": [
    "### apply the model to test set:"
   ]
  },
  {
   "cell_type": "code",
   "execution_count": 10,
   "metadata": {
    "collapsed": true
   },
   "outputs": [],
   "source": [
    "p_test = fm.predict(X_test_FM)\n",
    "Cali_test = Cali_CTR(p_test, 0.0075)\n",
    "Y_test = np.array(Y_test)\n",
    "#Bid_id = Y_test[:,0]"
   ]
  },
  {
   "cell_type": "code",
   "execution_count": 11,
   "metadata": {},
   "outputs": [
    {
     "data": {
      "text/plain": [
       "array([ 0.00114782,  0.0132081 ,  0.00489424, ...,  0.00509052,\n",
       "        0.0051516 ,  0.00622875])"
      ]
     },
     "execution_count": 11,
     "metadata": {},
     "output_type": "execute_result"
    }
   ],
   "source": [
    "Cali_test"
   ]
  },
  {
   "cell_type": "code",
   "execution_count": 28,
   "metadata": {},
   "outputs": [
    {
     "data": {
      "text/plain": [
       "303375"
      ]
     },
     "execution_count": 28,
     "metadata": {},
     "output_type": "execute_result"
    }
   ],
   "source": [
    "len(p_test)"
   ]
  },
  {
   "cell_type": "code",
   "execution_count": 24,
   "metadata": {},
   "outputs": [
    {
     "data": {
      "text/plain": [
       "303375"
      ]
     },
     "execution_count": 24,
     "metadata": {},
     "output_type": "execute_result"
    }
   ],
   "source": [
    "len(Cali_test)"
   ]
  },
  {
   "cell_type": "code",
   "execution_count": 27,
   "metadata": {
    "collapsed": true
   },
   "outputs": [],
   "source": [
    "pickle.dump(p_test, open(\"p_test_fm.pickle.dat\", \"wb\"))"
   ]
  },
  {
   "cell_type": "code",
   "execution_count": 25,
   "metadata": {
    "collapsed": true
   },
   "outputs": [],
   "source": [
    "pickle.dump(Cali_test, open(\"cali_test_fm.pickle.dat\", \"wb\"))"
   ]
  },
  {
   "cell_type": "code",
   "execution_count": null,
   "metadata": {
    "collapsed": true
   },
   "outputs": [],
   "source": [
    "bidprice_test = pbidprice(Cali_test, base)"
   ]
  },
  {
   "cell_type": "code",
   "execution_count": null,
   "metadata": {
    "collapsed": true
   },
   "outputs": [],
   "source": [
    "#use single model to test data\n",
    "base = 0\n",
    "bidp_test = []\n",
    "win_number_test = []\n",
    "totalcost_test = []\n",
    "clicknum_test = []\n",
    "ctr_p_test = []\n",
    "cpc_p_test = []\n",
    "for i in range(200):\n",
    "    bid_p = pbidprice(Cali_test, base)\n",
    "    win_num, total_cost, click_num, ctr, cpc = evaluation(bid_p, payprice_val, clicks_val)\n",
    "    print(base)\n",
    "#     win_number_test.append(win_num)\n",
    "#     totalcost_test.append(total_cost)\n",
    "#     clicknum_test.append(click_num)\n",
    "#     ctr_p_test.append(ctr)\n",
    "#     cpc_p_test.append(cpc)\n",
    "#     bidp_test.append(bid_p)\n",
    "    base += 1"
   ]
  },
  {
   "cell_type": "markdown",
   "metadata": {},
   "source": [
    "# Model Stacking"
   ]
  },
  {
   "cell_type": "code",
   "execution_count": 117,
   "metadata": {
    "collapsed": true
   },
   "outputs": [],
   "source": [
    "w_rf = 0.25\n",
    "w_fm = 1\n",
    "w_nn = 0.125\n",
    "w_ad = 0.125"
   ]
  },
  {
   "cell_type": "code",
   "execution_count": 118,
   "metadata": {},
   "outputs": [
    {
     "name": "stderr",
     "output_type": "stream",
     "text": [
      "/Users/liuce/anaconda3/lib/python3.6/site-packages/ipykernel_launcher.py:4: RuntimeWarning: invalid value encountered in log1p\n",
      "  after removing the cwd from sys.path.\n"
     ]
    }
   ],
   "source": [
    "x_train_stack = np.concatenate(\n",
    "                (np.log1p(w_rf*Cali_rf.reshape(-1, 1)), \n",
    "                 np.log1p(w_fm*Cali_fm.reshape(-1, 1)), \n",
    "                 np.log1p(w_nn*Cali_nn.reshape(-1, 1)),\n",
    "                 np.log1p(w_ad*Cali_ada.reshape(-1,1))), axis=1)"
   ]
  },
  {
   "cell_type": "code",
   "execution_count": 119,
   "metadata": {
    "collapsed": true
   },
   "outputs": [],
   "source": [
    "x_train_stack = np.array([np.array(x, dtype=np.int32) for x in x_train_stack])"
   ]
  },
  {
   "cell_type": "code",
   "execution_count": 120,
   "metadata": {},
   "outputs": [
    {
     "data": {
      "text/plain": [
       "array([[0, 0, 0, 0],\n",
       "       [0, 0, 0, 0],\n",
       "       [0, 0, 0, 0],\n",
       "       ..., \n",
       "       [0, 0, 0, 0],\n",
       "       [0, 0, 0, 0],\n",
       "       [0, 0, 0, 0]], dtype=int32)"
      ]
     },
     "execution_count": 120,
     "metadata": {},
     "output_type": "execute_result"
    }
   ],
   "source": [
    "x_train_stack"
   ]
  },
  {
   "cell_type": "code",
   "execution_count": 121,
   "metadata": {},
   "outputs": [
    {
     "data": {
      "text/plain": [
       "LinearRegression(copy_X=True, fit_intercept=True, n_jobs=1, normalize=False)"
      ]
     },
     "execution_count": 121,
     "metadata": {},
     "output_type": "execute_result"
    }
   ],
   "source": [
    "from sklearn.linear_model import LinearRegression\n",
    "stack_model = LinearRegression().fit(x_train_stack, target_val)\n",
    "stack_model.fit(x_train_stack, target_val)"
   ]
  },
  {
   "cell_type": "code",
   "execution_count": 122,
   "metadata": {
    "collapsed": true
   },
   "outputs": [],
   "source": [
    "Cali_stack = stack_model.predict(x_train_stack)"
   ]
  },
  {
   "cell_type": "code",
   "execution_count": 123,
   "metadata": {},
   "outputs": [
    {
     "name": "stdout",
     "output_type": "stream",
     "text": [
      "auc on test:  0.500003292474\n",
      "RMSE on test dataset = 0.03\n"
     ]
    }
   ],
   "source": [
    "fpr, tpr, thresholds = metrics.roc_curve(target_val, Cali_stack, pos_label=1)\n",
    "auc = metrics.auc(fpr, tpr)\n",
    "\n",
    "print('auc on test: ', auc)\n",
    "print (\"RMSE on test dataset = %.2f\" % (rmse(target_val, Cali_stack)))"
   ]
  },
  {
   "cell_type": "markdown",
   "metadata": {},
   "source": [
    "# 训练payprice"
   ]
  },
  {
   "cell_type": "code",
   "execution_count": 23,
   "metadata": {},
   "outputs": [
    {
     "data": {
      "text/plain": [
       "(20012, 34261)"
      ]
     },
     "execution_count": 23,
     "metadata": {},
     "output_type": "execute_result"
    }
   ],
   "source": [
    "X_FM.shape"
   ]
  },
  {
   "cell_type": "code",
   "execution_count": 164,
   "metadata": {},
   "outputs": [
    {
     "data": {
      "text/plain": [
       "array([[ 0.03131623],\n",
       "       [ 0.00924577],\n",
       "       [ 0.00175292],\n",
       "       ..., \n",
       "       [ 0.04050119],\n",
       "       [ 0.00840081],\n",
       "       [ 0.01648946]])"
      ]
     },
     "execution_count": 164,
     "metadata": {},
     "output_type": "execute_result"
    }
   ],
   "source": [
    "pred_fm_train"
   ]
  },
  {
   "cell_type": "code",
   "execution_count": null,
   "metadata": {
    "collapsed": true
   },
   "outputs": [],
   "source": []
  }
 ],
 "metadata": {
  "kernelspec": {
   "display_name": "Python 3",
   "language": "python",
   "name": "python3"
  },
  "language_info": {
   "codemirror_mode": {
    "name": "ipython",
    "version": 3
   },
   "file_extension": ".py",
   "mimetype": "text/x-python",
   "name": "python",
   "nbconvert_exporter": "python",
   "pygments_lexer": "ipython3",
   "version": "3.6.3"
  }
 },
 "nbformat": 4,
 "nbformat_minor": 2
}
