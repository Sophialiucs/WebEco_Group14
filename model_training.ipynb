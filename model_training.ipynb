{
 "cells": [
  {
   "cell_type": "code",
   "execution_count": 2,
   "metadata": {
    "collapsed": true
   },
   "outputs": [],
   "source": [
    "# Handle necessary imports\n",
    "import pandas as pd\n",
    "import numpy as np\n",
    "import time\n",
    "import matplotlib.pyplot as plt\n",
    "%matplotlib inline\n",
    "\n",
    "# Load dataset\n",
    "train = pd.read_csv('/Users/liuce/Downloads/we_data/train.csv')\n",
    "test = pd.read_csv('/Users/liuce/Downloads/we_data/test.csv')\n",
    "validation = pd.read_csv('/Users/liuce/Downloads/we_data/validation.csv')"
   ]
  },
  {
   "cell_type": "code",
   "execution_count": 3,
   "metadata": {
    "collapsed": true
   },
   "outputs": [],
   "source": [
    "from sklearn.linear_model import LogisticRegression\n",
    "import time"
   ]
  },
  {
   "cell_type": "code",
   "execution_count": 4,
   "metadata": {
    "collapsed": true
   },
   "outputs": [],
   "source": [
    "# Negative sampling to fix imbalance\n",
    "def negsample(data, ratio=1):\n",
    "    conv = data[data.click == 1]\n",
    "    oth = data[data.click == 0].sample(n=ratio*len(conv))\n",
    "    return pd.concat([conv, oth]).sample(frac=1) #shuffle data\n",
    "\n",
    "# neg_sam_train = negsample(train)\n",
    "# neg_sam_val = negsample(validation)\n",
    "\n",
    "# y_train_sampled = neg_sam_train.click\n",
    "# X_train_sampled = neg_sam_train.drop('click', axis=1)\n",
    "\n",
    "# y_val_sampled = neg_sam_val.click\n",
    "# X_val_sampled = neg_sam_val.drop('click', axis=1)\n",
    "\n",
    "# w = len(neg_sam_train)/ len(train)\n",
    "\n",
    "# print(\"Negative sample ratio\", w)"
   ]
  },
  {
   "cell_type": "code",
   "execution_count": 5,
   "metadata": {
    "collapsed": true
   },
   "outputs": [],
   "source": [
    "# Predict CTR\n",
    "X_train = train.drop(['click','bidid','userid','IP','domain',\n",
    "                'url','urlid','slotid','creative','bidprice','payprice','keypage'], axis=1)\n",
    "y_train = train.click\n",
    "\n",
    "X_val = validation.drop(['click','bidid','userid','IP','domain',\n",
    "                'url','urlid','slotid','creative','bidprice','payprice','keypage'], axis=1)\n",
    "y_val = validation.click\n",
    "X_test = test.drop(['bidid','userid','IP','domain',\n",
    "                'url','urlid','slotid','creative','keypage'], axis=1)"
   ]
  },
  {
   "cell_type": "code",
   "execution_count": 6,
   "metadata": {
    "collapsed": true
   },
   "outputs": [],
   "source": [
    "# Handling categorical data with one hot encoding\n",
    "\n",
    "# 1. Encode day of week\n",
    "def enc_day(X):\n",
    "    X = pd.concat([X,pd.get_dummies(X.weekday,prefix='day')],axis=1)\n",
    "    X = X.drop('weekday',axis=1)\n",
    "    return X\n",
    "\n",
    "# 2. Encode hours\n",
    "def enc_hrs(X):\n",
    "    X = pd.concat([X,pd.get_dummies(X.hour,prefix='hour')],axis=1)\n",
    "    X = X.drop('hour',axis=1)\n",
    "    return X\n",
    "\n",
    "# Split user agent into 2 ~ OS and browser\n",
    "def enc_OS_browser(X):\n",
    "    df = pd.DataFrame(X.useragent.str.split('_',1).tolist(),\n",
    "                                   columns = ['OS','browser'])\n",
    "    X = pd.concat([X,df],axis=1)\n",
    "\n",
    "    # 3. Encode OS\n",
    "    X = pd.concat([X,pd.get_dummies(X.OS,prefix='OS')],axis=1)\n",
    "    X = X.drop('OS',axis=1)\n",
    "\n",
    "    # 4. Encode browser\n",
    "    X = pd.concat([X,pd.get_dummies(X.browser,prefix='browser')],axis=1)\n",
    "    X = X.drop('browser',axis=1)\n",
    "    \n",
    "    X = X.drop('useragent',axis=1)\n",
    "    return X"
   ]
  },
  {
   "cell_type": "code",
   "execution_count": 7,
   "metadata": {
    "collapsed": true
   },
   "outputs": [],
   "source": [
    "# 5. Encode region\n",
    "def enc_region(X):\n",
    "    X = pd.concat([X,pd.get_dummies(X.region,prefix='region')],axis=1)\n",
    "    X = X.drop('region',axis=1)\n",
    "    return X\n",
    "\n",
    "# 6. Encode adexchange\n",
    "def enc_adexchange(X):\n",
    "    X = pd.concat([X,pd.get_dummies(X.adexchange,prefix='adexchange')],axis=1)\n",
    "    X = X.drop('adexchange',axis=1)\n",
    "    return X"
   ]
  },
  {
   "cell_type": "code",
   "execution_count": 8,
   "metadata": {
    "collapsed": true
   },
   "outputs": [],
   "source": [
    "# 7. Encode slotwidth\n",
    "def enc_slotwidth(X):\n",
    "    X = pd.concat([X,pd.get_dummies(X.slotwidth,prefix='slotwidth')],axis=1)\n",
    "    X = X.drop('slotwidth',axis=1)\n",
    "    return X\n",
    "\n",
    "# 8. Encode slotheight\n",
    "def enc_slotheight(X):\n",
    "    X = pd.concat([X,pd.get_dummies(X.slotheight,prefix='slotheight')],axis=1)\n",
    "    X = X.drop('slotheight',axis=1)\n",
    "    return X"
   ]
  },
  {
   "cell_type": "code",
   "execution_count": 9,
   "metadata": {
    "collapsed": true
   },
   "outputs": [],
   "source": [
    "# 9. Encode slotvisibility\n",
    "def enc_slotvisibility(X):\n",
    "    X = pd.concat([X,pd.get_dummies(X.slotvisibility,prefix='slotvisibility')],axis=1)\n",
    "    X = X.drop('slotvisibility',axis=1)\n",
    "    return X\n",
    "\n",
    "# 10. Encode slotformat\n",
    "def enc_slotformat(X):\n",
    "    X = pd.concat([X,pd.get_dummies(X.slotformat,prefix='slotformat')],axis=1)\n",
    "    X = X.drop('slotformat',axis=1)\n",
    "    return X\n",
    "\n",
    "# 11. Encode advertiser\n",
    "def enc_advertiser(X):\n",
    "    X = pd.concat([X,pd.get_dummies(X.advertiser,prefix='advertiser')],axis=1)\n",
    "    X = X.drop('advertiser',axis=1)\n",
    "    return X"
   ]
  },
  {
   "cell_type": "code",
   "execution_count": 10,
   "metadata": {
    "collapsed": true
   },
   "outputs": [],
   "source": [
    "# 12. Encoding slotprice into buckets\n",
    "def enc_slotprice(X):\n",
    "    bins = pd.DataFrame()\n",
    "    bins['slotprice_bins'] = pd.cut(X.slotprice.values,5, labels=[1,2,3,4,5])\n",
    "\n",
    "    X = pd.concat([X,bins],axis=1)\n",
    "    X = pd.concat([X,pd.get_dummies(X.slotprice_bins,prefix='slotprice')],axis=1)\n",
    "\n",
    "    X = X.drop('slotprice',axis=1)\n",
    "    X = X.drop('slotprice_bins',axis=1)\n",
    "    bins.pop('slotprice_bins')\n",
    "    return X"
   ]
  },
  {
   "cell_type": "code",
   "execution_count": 11,
   "metadata": {
    "collapsed": true
   },
   "outputs": [],
   "source": [
    "# 13. Encoding user tags\n",
    "def enc_usertag(X):\n",
    "    a = pd.DataFrame(X.usertag.str.split(',').tolist())\n",
    "    usertag_df = pd.DataFrame(a)\n",
    "    usertag_df2 = pd.get_dummies(usertag_df,prefix='usertag')\n",
    "    usertag_df2 = usertag_df2.groupby(usertag_df2.columns, axis=1).sum()\n",
    "    X = pd.concat([X, usertag_df2], axis=1)\n",
    "    X = X.drop('usertag', axis=1)\n",
    "    return X"
   ]
  },
  {
   "cell_type": "code",
   "execution_count": 12,
   "metadata": {
    "collapsed": true
   },
   "outputs": [],
   "source": [
    "# 14. Encoding cities\n",
    "def enc_city(X):\n",
    "    X = pd.concat([X,pd.get_dummies(X.city,prefix='city')],axis=1)\n",
    "    X = X.drop('city',axis=1)\n",
    "    return X"
   ]
  },
  {
   "cell_type": "code",
   "execution_count": 13,
   "metadata": {},
   "outputs": [
    {
     "name": "stdout",
     "output_type": "stream",
     "text": [
      "---Started Encoding---\n",
      "Encoding Finished in 0.59 minutes\n"
     ]
    }
   ],
   "source": [
    "start_encode = time.time()\n",
    "\n",
    "def encode_labels(X):\n",
    "    X = enc_day(X)\n",
    "    X = enc_hrs(X)\n",
    "    X = enc_OS_browser(X)\n",
    "    X = enc_region(X)\n",
    "    X = enc_adexchange(X)\n",
    "    X = enc_slotwidth(X)\n",
    "    X = enc_slotheight(X)\n",
    "    X = enc_slotvisibility(X)\n",
    "    X = enc_slotformat(X)\n",
    "    X = enc_advertiser(X)\n",
    "#     X = enc_city(X)\n",
    "    X = enc_slotprice(X)\n",
    "    return X\n",
    "\n",
    "print('---Started Encoding---')\n",
    "# one hot encode train and val\n",
    "X_train = encode_labels(X_train)\n",
    "X_val = encode_labels(X_val)\n",
    "print(\"Encoding Finished in %s minutes\" % round(((time.time() - start_encode)/60),2))"
   ]
  },
  {
   "cell_type": "code",
   "execution_count": 14,
   "metadata": {
    "collapsed": true
   },
   "outputs": [],
   "source": [
    "X_test = encode_labels(X_test)\n",
    "X_test = enc_usertag(X_test)"
   ]
  },
  {
   "cell_type": "code",
   "execution_count": 27,
   "metadata": {},
   "outputs": [
    {
     "data": {
      "text/plain": [
       "Index(['usertag_10006', 'usertag_10024', 'usertag_10031', 'usertag_10048',\n",
       "       'usertag_10052', 'usertag_10057', 'usertag_10059', 'usertag_10063',\n",
       "       'usertag_10067', 'usertag_10074', 'usertag_10075', 'usertag_10076',\n",
       "       'usertag_10077', 'usertag_10079', 'usertag_10083', 'usertag_10093',\n",
       "       'usertag_10102', 'usertag_10110', 'usertag_10111', 'usertag_10114',\n",
       "       'usertag_10115', 'usertag_10116', 'usertag_10117', 'usertag_10118',\n",
       "       'usertag_10120', 'usertag_10123', 'usertag_10125', 'usertag_10126',\n",
       "       'usertag_10127', 'usertag_10129', 'usertag_10130', 'usertag_10131',\n",
       "       'usertag_10133', 'usertag_10138', 'usertag_10140', 'usertag_10142',\n",
       "       'usertag_10145', 'usertag_10146', 'usertag_10147', 'usertag_10148',\n",
       "       'usertag_10149', 'usertag_10684', 'usertag_11092', 'usertag_11278',\n",
       "       'usertag_11379', 'usertag_11423', 'usertag_11512', 'usertag_11576',\n",
       "       'usertag_11632', 'usertag_11680', 'usertag_11724', 'usertag_11944',\n",
       "       'usertag_13042', 'usertag_13403', 'usertag_13496', 'usertag_13678',\n",
       "       'usertag_13776', 'usertag_13800', 'usertag_13866', 'usertag_13874',\n",
       "       'usertag_14273', 'usertag_15398', 'usertag_16593', 'usertag_16617',\n",
       "       'usertag_16661', 'usertag_16706', 'usertag_16751', 'usertag_16753'],\n",
       "      dtype='object')"
      ]
     },
     "execution_count": 27,
     "metadata": {},
     "output_type": "execute_result"
    }
   ],
   "source": [
    "X_test.columns[151:219]"
   ]
  },
  {
   "cell_type": "code",
   "execution_count": 20,
   "metadata": {},
   "outputs": [
    {
     "data": {
      "text/html": [
       "<div>\n",
       "<style>\n",
       "    .dataframe thead tr:only-child th {\n",
       "        text-align: right;\n",
       "    }\n",
       "\n",
       "    .dataframe thead th {\n",
       "        text-align: left;\n",
       "    }\n",
       "\n",
       "    .dataframe tbody tr th {\n",
       "        vertical-align: top;\n",
       "    }\n",
       "</style>\n",
       "<table border=\"1\" class=\"dataframe\">\n",
       "  <thead>\n",
       "    <tr style=\"text-align: right;\">\n",
       "      <th></th>\n",
       "      <th>city</th>\n",
       "      <th>day_0</th>\n",
       "      <th>day_1</th>\n",
       "      <th>day_2</th>\n",
       "      <th>day_3</th>\n",
       "      <th>day_4</th>\n",
       "      <th>day_5</th>\n",
       "      <th>day_6</th>\n",
       "      <th>hour_0</th>\n",
       "      <th>hour_1</th>\n",
       "      <th>...</th>\n",
       "      <th>usertag_13874</th>\n",
       "      <th>usertag_14273</th>\n",
       "      <th>usertag_15398</th>\n",
       "      <th>usertag_16593</th>\n",
       "      <th>usertag_16617</th>\n",
       "      <th>usertag_16661</th>\n",
       "      <th>usertag_16706</th>\n",
       "      <th>usertag_16751</th>\n",
       "      <th>usertag_16753</th>\n",
       "      <th>usertag_null</th>\n",
       "    </tr>\n",
       "  </thead>\n",
       "  <tbody>\n",
       "    <tr>\n",
       "      <th>0</th>\n",
       "      <td>159</td>\n",
       "      <td>1</td>\n",
       "      <td>0</td>\n",
       "      <td>0</td>\n",
       "      <td>0</td>\n",
       "      <td>0</td>\n",
       "      <td>0</td>\n",
       "      <td>0</td>\n",
       "      <td>0</td>\n",
       "      <td>0</td>\n",
       "      <td>...</td>\n",
       "      <td>0</td>\n",
       "      <td>0</td>\n",
       "      <td>0</td>\n",
       "      <td>0</td>\n",
       "      <td>0</td>\n",
       "      <td>0</td>\n",
       "      <td>0</td>\n",
       "      <td>0</td>\n",
       "      <td>0</td>\n",
       "      <td>0</td>\n",
       "    </tr>\n",
       "    <tr>\n",
       "      <th>1</th>\n",
       "      <td>1</td>\n",
       "      <td>0</td>\n",
       "      <td>0</td>\n",
       "      <td>0</td>\n",
       "      <td>1</td>\n",
       "      <td>0</td>\n",
       "      <td>0</td>\n",
       "      <td>0</td>\n",
       "      <td>0</td>\n",
       "      <td>0</td>\n",
       "      <td>...</td>\n",
       "      <td>0</td>\n",
       "      <td>0</td>\n",
       "      <td>0</td>\n",
       "      <td>0</td>\n",
       "      <td>0</td>\n",
       "      <td>0</td>\n",
       "      <td>0</td>\n",
       "      <td>0</td>\n",
       "      <td>0</td>\n",
       "      <td>1</td>\n",
       "    </tr>\n",
       "    <tr>\n",
       "      <th>2</th>\n",
       "      <td>34</td>\n",
       "      <td>0</td>\n",
       "      <td>0</td>\n",
       "      <td>0</td>\n",
       "      <td>0</td>\n",
       "      <td>0</td>\n",
       "      <td>1</td>\n",
       "      <td>0</td>\n",
       "      <td>0</td>\n",
       "      <td>0</td>\n",
       "      <td>...</td>\n",
       "      <td>0</td>\n",
       "      <td>0</td>\n",
       "      <td>0</td>\n",
       "      <td>0</td>\n",
       "      <td>0</td>\n",
       "      <td>0</td>\n",
       "      <td>0</td>\n",
       "      <td>0</td>\n",
       "      <td>0</td>\n",
       "      <td>0</td>\n",
       "    </tr>\n",
       "    <tr>\n",
       "      <th>3</th>\n",
       "      <td>245</td>\n",
       "      <td>1</td>\n",
       "      <td>0</td>\n",
       "      <td>0</td>\n",
       "      <td>0</td>\n",
       "      <td>0</td>\n",
       "      <td>0</td>\n",
       "      <td>0</td>\n",
       "      <td>0</td>\n",
       "      <td>0</td>\n",
       "      <td>...</td>\n",
       "      <td>0</td>\n",
       "      <td>0</td>\n",
       "      <td>0</td>\n",
       "      <td>0</td>\n",
       "      <td>0</td>\n",
       "      <td>0</td>\n",
       "      <td>0</td>\n",
       "      <td>0</td>\n",
       "      <td>0</td>\n",
       "      <td>0</td>\n",
       "    </tr>\n",
       "    <tr>\n",
       "      <th>4</th>\n",
       "      <td>35</td>\n",
       "      <td>0</td>\n",
       "      <td>0</td>\n",
       "      <td>1</td>\n",
       "      <td>0</td>\n",
       "      <td>0</td>\n",
       "      <td>0</td>\n",
       "      <td>0</td>\n",
       "      <td>0</td>\n",
       "      <td>0</td>\n",
       "      <td>...</td>\n",
       "      <td>0</td>\n",
       "      <td>0</td>\n",
       "      <td>0</td>\n",
       "      <td>0</td>\n",
       "      <td>0</td>\n",
       "      <td>0</td>\n",
       "      <td>0</td>\n",
       "      <td>0</td>\n",
       "      <td>0</td>\n",
       "      <td>0</td>\n",
       "    </tr>\n",
       "  </tbody>\n",
       "</table>\n",
       "<p>5 rows × 220 columns</p>\n",
       "</div>"
      ],
      "text/plain": [
       "   city  day_0  day_1  day_2  day_3  day_4  day_5  day_6  hour_0  hour_1  \\\n",
       "0   159      1      0      0      0      0      0      0       0       0   \n",
       "1     1      0      0      0      1      0      0      0       0       0   \n",
       "2    34      0      0      0      0      0      1      0       0       0   \n",
       "3   245      1      0      0      0      0      0      0       0       0   \n",
       "4    35      0      0      1      0      0      0      0       0       0   \n",
       "\n",
       "       ...       usertag_13874  usertag_14273  usertag_15398  usertag_16593  \\\n",
       "0      ...                   0              0              0              0   \n",
       "1      ...                   0              0              0              0   \n",
       "2      ...                   0              0              0              0   \n",
       "3      ...                   0              0              0              0   \n",
       "4      ...                   0              0              0              0   \n",
       "\n",
       "   usertag_16617  usertag_16661  usertag_16706  usertag_16751  usertag_16753  \\\n",
       "0              0              0              0              0              0   \n",
       "1              0              0              0              0              0   \n",
       "2              0              0              0              0              0   \n",
       "3              0              0              0              0              0   \n",
       "4              0              0              0              0              0   \n",
       "\n",
       "   usertag_null  \n",
       "0             0  \n",
       "1             1  \n",
       "2             0  \n",
       "3             0  \n",
       "4             0  \n",
       "\n",
       "[5 rows x 220 columns]"
      ]
     },
     "execution_count": 20,
     "metadata": {},
     "output_type": "execute_result"
    }
   ],
   "source": [
    "X_test[:5]"
   ]
  },
  {
   "cell_type": "code",
   "execution_count": null,
   "metadata": {
    "collapsed": true
   },
   "outputs": [],
   "source": [
    "# Very slow and mem heavy encoding\n",
    "start_usertag = time.time()\n",
    "print('---Encoding Train Usertag---')\n",
    "\n",
    "X_train = enc_usertag(X_train)\n",
    "\n",
    "print(\"Encoded Train Usertag in %s minutes\" % round(((time.time() - start_usertag)/60),2))"
   ]
  },
  {
   "cell_type": "code",
   "execution_count": 26,
   "metadata": {},
   "outputs": [
    {
     "name": "stdout",
     "output_type": "stream",
     "text": [
      "---Encoding Validation Usertag---\n",
      "Encoded Validation Usertag in 0.29 minutes\n"
     ]
    }
   ],
   "source": [
    "start_usertag_val = time.time()\n",
    "print('---Encoding Validation Usertag---')\n",
    "\n",
    "X_val = enc_usertag(X_val)\n",
    "print(\"Encoded Validation Usertag in %s minutes\" % round(((time.time() - start_usertag_val)/60),2))"
   ]
  },
  {
   "cell_type": "code",
   "execution_count": 23,
   "metadata": {
    "collapsed": true
   },
   "outputs": [],
   "source": [
    "train = pd.read_csv('/Users/liuce/Downloads/we_data/train_withTags.csv')\n",
    "validation = pd.read_csv('/Users/liuce/Downloads/we_data/validation_withTags.csv')"
   ]
  },
  {
   "cell_type": "code",
   "execution_count": 28,
   "metadata": {
    "collapsed": true
   },
   "outputs": [],
   "source": [
    "width = len(train.columns)"
   ]
  },
  {
   "cell_type": "code",
   "execution_count": 31,
   "metadata": {
    "collapsed": true
   },
   "outputs": [],
   "source": [
    "tag_cols = train.columns[width - 68: width]"
   ]
  },
  {
   "cell_type": "code",
   "execution_count": 36,
   "metadata": {
    "collapsed": true
   },
   "outputs": [],
   "source": [
    "df_tags_train = train[tag_cols]\n",
    "df_tags_train.columns = cols_"
   ]
  },
  {
   "cell_type": "code",
   "execution_count": 37,
   "metadata": {
    "collapsed": true
   },
   "outputs": [],
   "source": [
    "df_tags_validation = validation[tag_cols]\n",
    "df_tags_validation.columns = cols_"
   ]
  },
  {
   "cell_type": "code",
   "execution_count": 25,
   "metadata": {},
   "outputs": [
    {
     "data": {
      "text/plain": [
       "68"
      ]
     },
     "execution_count": 25,
     "metadata": {},
     "output_type": "execute_result"
    }
   ],
   "source": [
    "cols = ['10006', '10024', '10031', '10048', '10052',\n",
    "       '10057', '10059', '10063', '10067', '10074', '10075', '10076', '10077',\n",
    "       '10079', '10083', '10093', '10102', '10110', '10111', '10114', '10115',\n",
    "       '10116', '10117', '10118', '10120', '10123', '10125', '10126', '10127',\n",
    "       '10129', '10130', '10131', '10133', '10138', '10140', '10142', '10145',\n",
    "       '10146', '10147', '10148', '10149', '10684', '11092', '11278', '11379',\n",
    "       '11423', '11512', '11576', '11632', '11680', '11724', '11944', '13042',\n",
    "       '13403', '13496', '13678', '13776', '13800', '13866', '13874', '14273',\n",
    "       '15398', '16593', '16617', '16661', '16706', '16751', '16753']\n",
    "len(cols)"
   ]
  },
  {
   "cell_type": "code",
   "execution_count": 26,
   "metadata": {},
   "outputs": [
    {
     "data": {
      "text/plain": [
       "68"
      ]
     },
     "execution_count": 26,
     "metadata": {},
     "output_type": "execute_result"
    }
   ],
   "source": [
    "cols_ = ['usertag_10006', 'usertag_10024', 'usertag_10031',\n",
    "       'usertag_10048', 'usertag_10052', 'usertag_10057', 'usertag_10059',\n",
    "       'usertag_10063', 'usertag_10067', 'usertag_10074', 'usertag_10075',\n",
    "       'usertag_10076', 'usertag_10077', 'usertag_10079', 'usertag_10083',\n",
    "       'usertag_10093', 'usertag_10102', 'usertag_10110', 'usertag_10111',\n",
    "       'usertag_10114', 'usertag_10115', 'usertag_10116', 'usertag_10117',\n",
    "       'usertag_10118', 'usertag_10120', 'usertag_10123', 'usertag_10125',\n",
    "       'usertag_10126', 'usertag_10127', 'usertag_10129', 'usertag_10130',\n",
    "       'usertag_10131', 'usertag_10133', 'usertag_10138', 'usertag_10140',\n",
    "       'usertag_10142', 'usertag_10145', 'usertag_10146', 'usertag_10147',\n",
    "       'usertag_10148', 'usertag_10149', 'usertag_10684', 'usertag_11092',\n",
    "       'usertag_11278', 'usertag_11379', 'usertag_11423', 'usertag_11512',\n",
    "       'usertag_11576', 'usertag_11632', 'usertag_11680', 'usertag_11724',\n",
    "       'usertag_11944', 'usertag_13042', 'usertag_13403', 'usertag_13496',\n",
    "       'usertag_13678', 'usertag_13776', 'usertag_13800', 'usertag_13866',\n",
    "       'usertag_13874', 'usertag_14273', 'usertag_15398', 'usertag_16593',\n",
    "       'usertag_16617', 'usertag_16661', 'usertag_16706', 'usertag_16751',\n",
    "       'usertag_16753']\n",
    "len(cols_)"
   ]
  },
  {
   "cell_type": "code",
   "execution_count": 38,
   "metadata": {
    "collapsed": true
   },
   "outputs": [],
   "source": [
    "X_train = pd.concat([X_train, df_tags_train], axis=1)"
   ]
  },
  {
   "cell_type": "code",
   "execution_count": 41,
   "metadata": {
    "collapsed": true
   },
   "outputs": [],
   "source": [
    "X_val = pd.concat([X_val, df_tags_validation], axis=1)"
   ]
  },
  {
   "cell_type": "code",
   "execution_count": 63,
   "metadata": {},
   "outputs": [
    {
     "data": {
      "text/plain": [
       "(2430981, 219)"
      ]
     },
     "execution_count": 63,
     "metadata": {},
     "output_type": "execute_result"
    }
   ],
   "source": [
    "X_train.shape"
   ]
  },
  {
   "cell_type": "code",
   "execution_count": 64,
   "metadata": {},
   "outputs": [
    {
     "data": {
      "text/plain": [
       "(303925, 219)"
      ]
     },
     "execution_count": 64,
     "metadata": {},
     "output_type": "execute_result"
    }
   ],
   "source": [
    "X_val.shape"
   ]
  },
  {
   "cell_type": "code",
   "execution_count": 79,
   "metadata": {},
   "outputs": [
    {
     "data": {
      "text/plain": [
       "(303375, 219)"
      ]
     },
     "execution_count": 79,
     "metadata": {},
     "output_type": "execute_result"
    }
   ],
   "source": [
    "X_test.shape"
   ]
  },
  {
   "cell_type": "code",
   "execution_count": 54,
   "metadata": {},
   "outputs": [
    {
     "data": {
      "text/plain": [
       "Index(['city', 'usertag', 'day_0', 'day_1', 'day_2', 'day_3', 'day_4', 'day_5',\n",
       "       'day_6', 'hour_0',\n",
       "       ...\n",
       "       'usertag_13866', 'usertag_13874', 'usertag_14273', 'usertag_15398',\n",
       "       'usertag_16593', 'usertag_16617', 'usertag_16661', 'usertag_16706',\n",
       "       'usertag_16751', 'usertag_16753'],\n",
       "      dtype='object', length=220)"
      ]
     },
     "execution_count": 54,
     "metadata": {},
     "output_type": "execute_result"
    }
   ],
   "source": [
    "X_train.columns"
   ]
  },
  {
   "cell_type": "code",
   "execution_count": 76,
   "metadata": {},
   "outputs": [
    {
     "data": {
      "text/plain": [
       "Index(['city', 'day_0', 'day_1', 'day_2', 'day_3', 'day_4', 'day_5', 'day_6',\n",
       "       'hour_0', 'hour_1',\n",
       "       ...\n",
       "       'usertag_13874', 'usertag_14273', 'usertag_15398', 'usertag_16593',\n",
       "       'usertag_16617', 'usertag_16661', 'usertag_16706', 'usertag_16751',\n",
       "       'usertag_16753', 'usertag_null'],\n",
       "      dtype='object', length=220)"
      ]
     },
     "execution_count": 76,
     "metadata": {},
     "output_type": "execute_result"
    }
   ],
   "source": [
    "X_test.columns"
   ]
  },
  {
   "cell_type": "code",
   "execution_count": 46,
   "metadata": {
    "collapsed": true
   },
   "outputs": [],
   "source": [
    "X_train.to_csv('kama_train.csv')\n",
    "X_val.to_csv('kama_val.csv')\n",
    "X_test.to_csv('kama_test.csv')"
   ]
  },
  {
   "cell_type": "code",
   "execution_count": 61,
   "metadata": {
    "collapsed": true
   },
   "outputs": [],
   "source": [
    "X_train.drop('usertag', axis=1, inplace=True)\n",
    "X_val.drop('usertag', axis=1, inplace=True)\n"
   ]
  },
  {
   "cell_type": "code",
   "execution_count": 78,
   "metadata": {
    "collapsed": true
   },
   "outputs": [],
   "source": [
    "X_test.drop('usertag_null', axis=1, inplace=True)"
   ]
  },
  {
   "cell_type": "markdown",
   "metadata": {},
   "source": [
    "# 1. pCTR estimation \n",
    "# Logistic Regression --> Said"
   ]
  },
  {
   "cell_type": "code",
   "execution_count": null,
   "metadata": {
    "collapsed": true
   },
   "outputs": [],
   "source": [
    "# Hyperparameter tuning\n",
    "# Model ~ Logistic Regression\n",
    "from sklearn.model_selection import StratifiedKFold, cross_val_score, GridSearchCV\n",
    "from sklearn.metrics import auc,roc_curve\n",
    "\n",
    "def tune_logreg():\n",
    "    params = {'C' :[0.001,0.01,0.1,1.0,10.0]}\n",
    "    lr = LogisticRegression(class_weight='balanced')    \n",
    "    strk = StratifiedKFold(3, random_state=2048, shuffle=True)\n",
    "    \n",
    "    gr = GridSearchCV(lr, params, scoring='roc_auc', cv=strk, verbose=3)\n",
    "    gr.fit(X_train, y_train)\n",
    "    return gr.cv_results_\n",
    "\n",
    "# Switch to True to tune\n",
    "if True:\n",
    "    lr_results = tune_logreg()\n"
   ]
  },
  {
   "cell_type": "code",
   "execution_count": null,
   "metadata": {
    "collapsed": true
   },
   "outputs": [],
   "source": [
    "# Best params\n",
    "min_idx = np.argmax(lr_results['mean_test_score'])\n",
    "lr_results['params'][min_idx]"
   ]
  },
  {
   "cell_type": "code",
   "execution_count": 146,
   "metadata": {},
   "outputs": [
    {
     "data": {
      "text/html": [
       "<div>\n",
       "<table border=\"1\" class=\"dataframe\">\n",
       "  <thead>\n",
       "    <tr style=\"text-align: right;\">\n",
       "      <th></th>\n",
       "      <th>rank</th>\n",
       "      <th>C</th>\n",
       "      <th>mean time</th>\n",
       "      <th>std time</th>\n",
       "      <th>mean AUC</th>\n",
       "      <th>std AUC</th>\n",
       "    </tr>\n",
       "  </thead>\n",
       "  <tbody>\n",
       "    <tr>\n",
       "      <th>0</th>\n",
       "      <td>1</td>\n",
       "      <td>0.001</td>\n",
       "      <td>60.332912</td>\n",
       "      <td>2.825690</td>\n",
       "      <td>0.829984</td>\n",
       "      <td>0.001177</td>\n",
       "    </tr>\n",
       "    <tr>\n",
       "      <th>1</th>\n",
       "      <td>2</td>\n",
       "      <td>0.01</td>\n",
       "      <td>117.853973</td>\n",
       "      <td>7.627416</td>\n",
       "      <td>0.829016</td>\n",
       "      <td>0.000698</td>\n",
       "    </tr>\n",
       "    <tr>\n",
       "      <th>2</th>\n",
       "      <td>3</td>\n",
       "      <td>0.1</td>\n",
       "      <td>177.978387</td>\n",
       "      <td>54.880737</td>\n",
       "      <td>0.826775</td>\n",
       "      <td>0.001130</td>\n",
       "    </tr>\n",
       "    <tr>\n",
       "      <th>3</th>\n",
       "      <td>4</td>\n",
       "      <td>1</td>\n",
       "      <td>318.417584</td>\n",
       "      <td>25.438356</td>\n",
       "      <td>0.825664</td>\n",
       "      <td>0.001370</td>\n",
       "    </tr>\n",
       "    <tr>\n",
       "      <th>4</th>\n",
       "      <td>5</td>\n",
       "      <td>10</td>\n",
       "      <td>543.256229</td>\n",
       "      <td>55.809014</td>\n",
       "      <td>0.825096</td>\n",
       "      <td>0.001132</td>\n",
       "    </tr>\n",
       "  </tbody>\n",
       "</table>\n",
       "</div>"
      ],
      "text/plain": [
       "   rank      C   mean time   std time  mean AUC   std AUC\n",
       "0     1  0.001   60.332912   2.825690  0.829984  0.001177\n",
       "1     2   0.01  117.853973   7.627416  0.829016  0.000698\n",
       "2     3    0.1  177.978387  54.880737  0.826775  0.001130\n",
       "3     4      1  318.417584  25.438356  0.825664  0.001370\n",
       "4     5     10  543.256229  55.809014  0.825096  0.001132"
      ]
     },
     "execution_count": 146,
     "metadata": {},
     "output_type": "execute_result"
    }
   ],
   "source": [
    "tuning_lr_df = pd.DataFrame(lr_results)\n",
    "tuning_lr_df = tuning_lr_df[['rank_test_score','param_C','mean_fit_time','std_fit_time','mean_test_score','std_test_score']]\n",
    "tuning_lr_df.columns = ['rank','C','mean time','std time','mean AUC','std AUC']\n",
    "tuning_lr_df"
   ]
  },
  {
   "cell_type": "code",
   "execution_count": 80,
   "metadata": {
    "collapsed": true
   },
   "outputs": [],
   "source": [
    "# Fit the classification model and predict on val\n",
    "# Uses balanced class weights to resolve data imbalance\n",
    "clf_l2_LR = LogisticRegression(class_weight='balanced', C = 0.001)\n",
    "y_pred = clf_l2_LR.fit(X_train, y_train).predict(X_val)"
   ]
  },
  {
   "cell_type": "code",
   "execution_count": 81,
   "metadata": {
    "collapsed": true
   },
   "outputs": [],
   "source": [
    "# Fit the classification model and predict on test\n",
    "# Uses balanced class weights to resolve data imbalance\n",
    "clf_l2_LR_test = LogisticRegression(class_weight='balanced', C = 0.001)\n",
    "y_pred_test = clf_l2_LR_test.fit(X_train, y_train).predict(X_test)"
   ]
  },
  {
   "cell_type": "code",
   "execution_count": 82,
   "metadata": {
    "collapsed": true
   },
   "outputs": [],
   "source": [
    "# pCTR test Values\n",
    "predprobs_test = clf_l2_LR_test.predict_proba(X_test)\n",
    "pCTR_test = pd.DataFrame(predprobs_test)"
   ]
  },
  {
   "cell_type": "code",
   "execution_count": 85,
   "metadata": {
    "collapsed": true
   },
   "outputs": [],
   "source": [
    "import pickle\n",
    "pickle.dump(clf_l2_LR, open('kama_lr.pickle.dat', \"wb\"))"
   ]
  },
  {
   "cell_type": "code",
   "execution_count": 86,
   "metadata": {
    "collapsed": true
   },
   "outputs": [],
   "source": [
    "# pCTR val Values\n",
    "predprobs = clf_l2_LR.predict_proba(X_val)\n",
    "pCTR = pd.DataFrame(predprobs)"
   ]
  },
  {
   "cell_type": "code",
   "execution_count": 87,
   "metadata": {},
   "outputs": [
    {
     "data": {
      "text/plain": [
       "0    0.209687\n",
       "1    0.129264\n",
       "2    0.094812\n",
       "3    0.161409\n",
       "4    0.145902\n",
       "Name: 1, dtype: float64"
      ]
     },
     "execution_count": 87,
     "metadata": {},
     "output_type": "execute_result"
    }
   ],
   "source": [
    "# Before recalibration\n",
    "pCTR[1][:5]"
   ]
  },
  {
   "cell_type": "code",
   "execution_count": 88,
   "metadata": {
    "collapsed": true
   },
   "outputs": [],
   "source": [
    "# re calibrated predictions\n",
    "# q = p / (p + (1-p) / w\n",
    "\n",
    "pred =[]\n",
    "pred_test=[]\n",
    "\n",
    "a = len(train) / 2 * np.bincount(train.click)\n",
    "w = a[1] / a[0]\n",
    "\n",
    "for p in pCTR[1]:\n",
    "    pred.append( p / (p + ((1-p)/w)))\n",
    "\n",
    "for p in pCTR_test[1]:\n",
    "    pred_test.append( p / (p + ((1-p)/w)))"
   ]
  },
  {
   "cell_type": "code",
   "execution_count": 108,
   "metadata": {},
   "outputs": [
    {
     "data": {
      "text/plain": [
       "0.00073810672537489891"
      ]
     },
     "execution_count": 108,
     "metadata": {},
     "output_type": "execute_result"
    }
   ],
   "source": [
    "w"
   ]
  },
  {
   "cell_type": "code",
   "execution_count": 92,
   "metadata": {},
   "outputs": [
    {
     "name": "stdout",
     "output_type": "stream",
     "text": [
      "AUC accuracy: 0.853957185063\n"
     ]
    }
   ],
   "source": [
    "# Model AUC score\n",
    "from sklearn import metrics\n",
    "fpr, tpr, thresholds = metrics.roc_curve([click for click in validation.click], pred)\n",
    "print('AUC accuracy:',metrics.auc(fpr, tpr))"
   ]
  },
  {
   "cell_type": "code",
   "execution_count": 93,
   "metadata": {},
   "outputs": [
    {
     "data": {
      "text/plain": [
       "<matplotlib.axes._subplots.AxesSubplot at 0x1043febe0>"
      ]
     },
     "execution_count": 93,
     "metadata": {},
     "output_type": "execute_result"
    },
    {
     "data": {
      "image/png": "[encoded data removed]",
      "text/plain": [
       "<matplotlib.figure.Figure at 0x111d67390>"
      ]
     },
     "metadata": {},
     "output_type": "display_data"
    }
   ],
   "source": [
    "# Feature importances\n",
    "from sklearn.ensemble import RandomForestClassifier\n",
    "rf = RandomForestClassifier()\n",
    "importances = rf.fit(X_train, y_train).feature_importances_\n",
    "std = np.std([tree.feature_importances_ for tree in rf.estimators_], axis=0)\n",
    "indices = np.argsort(importances)[::-1]\n",
    "\n",
    "important = list()\n",
    "for f in range(X_train.shape[1]):\n",
    "        important.append([indices[f],importances[indices[f]]])\n",
    "        \n",
    "important_df = pd.DataFrame(important)\n",
    "important_df.columns = ['Feature no','Importance']\n",
    "fig, axes = plt.subplots(nrows=1, ncols=2, figsize=(12,4))\n",
    "important_df[:20].plot(kind='bar', x='Feature no', color='g',ax=axes[0], title='Top 10 Feature Importance', legend=False)\n",
    "important_df[200:].plot(kind='bar', x='Feature no', color='b',ax=axes[1], title='Bottom 10 Feature Importance', legend=False)"
   ]
  },
  {
   "cell_type": "code",
   "execution_count": 94,
   "metadata": {},
   "outputs": [
    {
     "data": {
      "text/html": [
       "<div>\n",
       "<style>\n",
       "    .dataframe thead tr:only-child th {\n",
       "        text-align: right;\n",
       "    }\n",
       "\n",
       "    .dataframe thead th {\n",
       "        text-align: left;\n",
       "    }\n",
       "\n",
       "    .dataframe tbody tr th {\n",
       "        vertical-align: top;\n",
       "    }\n",
       "</style>\n",
       "<table border=\"1\" class=\"dataframe\">\n",
       "  <thead>\n",
       "    <tr style=\"text-align: right;\">\n",
       "      <th></th>\n",
       "      <th>Feature names</th>\n",
       "      <th>Importance</th>\n",
       "    </tr>\n",
       "  </thead>\n",
       "  <tbody>\n",
       "    <tr>\n",
       "      <th>214</th>\n",
       "      <td>slotheight_100</td>\n",
       "      <td>0.0</td>\n",
       "    </tr>\n",
       "    <tr>\n",
       "      <th>215</th>\n",
       "      <td>slotheight_150</td>\n",
       "      <td>0.0</td>\n",
       "    </tr>\n",
       "    <tr>\n",
       "      <th>216</th>\n",
       "      <td>slotheight_230</td>\n",
       "      <td>0.0</td>\n",
       "    </tr>\n",
       "    <tr>\n",
       "      <th>217</th>\n",
       "      <td>usertag_10130</td>\n",
       "      <td>0.0</td>\n",
       "    </tr>\n",
       "    <tr>\n",
       "      <th>218</th>\n",
       "      <td>slotwidth_760</td>\n",
       "      <td>0.0</td>\n",
       "    </tr>\n",
       "  </tbody>\n",
       "</table>\n",
       "</div>"
      ],
      "text/plain": [
       "      Feature names  Importance\n",
       "214  slotheight_100         0.0\n",
       "215  slotheight_150         0.0\n",
       "216  slotheight_230         0.0\n",
       "217   usertag_10130         0.0\n",
       "218   slotwidth_760         0.0"
      ]
     },
     "execution_count": 94,
     "metadata": {},
     "output_type": "execute_result"
    }
   ],
   "source": [
    "# Insignificant features\n",
    "least_impdf = pd.DataFrame(important_df[214:])\n",
    "least_impdf['Feature names'] = X_train.columns[[important_df[214:]['Feature no']]]\n",
    "least_impdf[['Feature names','Importance']]"
   ]
  },
  {
   "cell_type": "code",
   "execution_count": 95,
   "metadata": {},
   "outputs": [
    {
     "name": "stdout",
     "output_type": "stream",
     "text": [
      "AUC accuracy after feature selection: 0.853917593881\n"
     ]
    }
   ],
   "source": [
    "# Fit the classification model on feature subset 还不如原来。。。\n",
    "X_train_1 = X_train.drop(X_train.columns[[important_df[214:]['Feature no']]], axis=1)\n",
    "X_val_1 = X_val.drop(X_val.columns[[important_df[214:]['Feature no']]], axis=1)\n",
    "\n",
    "clf_l2_LR_1 = LogisticRegression(class_weight='balanced', C = 0.001)\n",
    "y_pred_1 = clf_l2_LR.fit(X_train_1, y_train).predict(X_val_1)\n",
    "predprobs_1 = clf_l2_LR.predict_proba(X_val_1)\n",
    "pCTR_1 = pd.DataFrame(predprobs_1)\n",
    "pred_1 =[]\n",
    "\n",
    "a = len(train) / 2 * np.bincount(train.click)\n",
    "w = a[1] / a[0]\n",
    "\n",
    "for p in pCTR_1[1]:\n",
    "    pred_1.append( p / (p + ((1-p)/w)))\n",
    "    \n",
    "fpr_1, tpr_1, thresholds_1 = metrics.roc_curve([click for click in validation.click], pred_1)\n",
    "print('AUC accuracy after feature selection:',metrics.auc(fpr_1, tpr_1))"
   ]
  },
  {
   "cell_type": "markdown",
   "metadata": {},
   "source": [
    "# SVM"
   ]
  },
  {
   "cell_type": "code",
   "execution_count": 132,
   "metadata": {
    "collapsed": true
   },
   "outputs": [],
   "source": [
    "from sklearn.svm import SVR\n",
    "from sklearn.tree import DecisionTreeRegressor\n",
    "svr_rbf = SVR(kernel='rbf',C = 1e3,max_iter = 3000)"
   ]
  },
  {
   "cell_type": "code",
   "execution_count": 133,
   "metadata": {},
   "outputs": [
    {
     "name": "stderr",
     "output_type": "stream",
     "text": [
      "/Users/liuce/anaconda3/lib/python3.6/site-packages/sklearn/svm/base.py:218: ConvergenceWarning: Solver terminated early (max_iter=3000).  Consider pre-processing your data with StandardScaler or MinMaxScaler.\n",
      "  % self.max_iter, ConvergenceWarning)\n"
     ]
    },
    {
     "data": {
      "text/plain": [
       "SVR(C=1000.0, cache_size=200, coef0=0.0, degree=3, epsilon=0.1, gamma='auto',\n",
       "  kernel='rbf', max_iter=3000, shrinking=True, tol=0.001, verbose=False)"
      ]
     },
     "execution_count": 133,
     "metadata": {},
     "output_type": "execute_result"
    }
   ],
   "source": [
    "svr_rbf.fit(x_train_array, y_train)"
   ]
  },
  {
   "cell_type": "code",
   "execution_count": 134,
   "metadata": {
    "collapsed": true
   },
   "outputs": [],
   "source": [
    "import pickle\n",
    "pickle.dump(svr_rbf, open(\"svr_rbf_model_kama.pickle.dat\", \"wb\"))"
   ]
  },
  {
   "cell_type": "code",
   "execution_count": null,
   "metadata": {
    "collapsed": true
   },
   "outputs": [],
   "source": [
    "valBid = svr_rbf.predict(X_val)"
   ]
  },
  {
   "cell_type": "code",
   "execution_count": null,
   "metadata": {
    "collapsed": true
   },
   "outputs": [],
   "source": [
    "# Model AUC score\n",
    "from sklearn import metrics\n",
    "fpr, tpr, thresholds = metrics.roc_curve([click for click in validation.click], valBid)\n",
    "print('AUC accuracy:',metrics.auc(fpr, tpr))\n",
    "# AUC accuracy: 0.565963333969\n"
   ]
  }
 ],
 "metadata": {
  "anaconda-cloud": {},
  "kernelspec": {
   "display_name": "Python 3",
   "language": "python",
   "name": "python3"
  },
  "language_info": {
   "codemirror_mode": {
    "name": "ipython",
    "version": 3
   },
   "file_extension": ".py",
   "mimetype": "text/x-python",
   "name": "python",
   "nbconvert_exporter": "python",
   "pygments_lexer": "ipython3",
   "version": "3.6.3"
  }
 },
 "nbformat": 4,
 "nbformat_minor": 1
}
